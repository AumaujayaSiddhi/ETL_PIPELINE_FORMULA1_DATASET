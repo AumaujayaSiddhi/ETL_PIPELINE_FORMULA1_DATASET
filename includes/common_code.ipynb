{
 "cells": [
  {
   "cell_type": "code",
   "execution_count": 0,
   "metadata": {
    "application/vnd.databricks.v1+cell": {
     "cellMetadata": {
      "byteLimit": 2048000,
      "rowLimit": 10000
     },
     "inputWidgets": {},
     "nuid": "da617703-c7dc-4e68-81be-a5a55da1e14d",
     "showTitle": false,
     "tableResultSettingsMap": {},
     "title": ""
    }
   },
   "outputs": [],
   "source": [
    "raw_container_path = \"dbfs:/mnt/formula1dlsiddhi/raw\"\n",
    "processed_container_path = \"dbfs:/mnt/formula1dlsiddhi/processed\"\n",
    "presentation_container_path = \"dbfs:/mnt/formula1dlsiddhi/presentation\""
   ]
  },
  {
   "cell_type": "code",
   "execution_count": 0,
   "metadata": {
    "application/vnd.databricks.v1+cell": {
     "cellMetadata": {
      "byteLimit": 2048000,
      "rowLimit": 10000
     },
     "inputWidgets": {},
     "nuid": "0fc5e292-3125-4ec9-8074-8bb3927ae4f7",
     "showTitle": false,
     "tableResultSettingsMap": {},
     "title": ""
    }
   },
   "outputs": [],
   "source": [
    "from pyspark.sql.functions import current_timestamp\n",
    "def ingest_current_timestamp(input_df):\n",
    "    return input_df.withColumn(\"ingest_date\", current_timestamp())"
   ]
  },
  {
   "cell_type": "code",
   "execution_count": 0,
   "metadata": {
    "application/vnd.databricks.v1+cell": {
     "cellMetadata": {
      "byteLimit": 2048000,
      "rowLimit": 10000
     },
     "inputWidgets": {},
     "nuid": "f51fb043-cfec-453f-a22d-60e8368879df",
     "showTitle": false,
     "tableResultSettingsMap": {},
     "title": ""
    }
   },
   "outputs": [],
   "source": [
    "def rearrange_partition_column(input_df, partition_column):\n",
    "    column_list = []\n",
    "    for column_name in input_df.schema.names:\n",
    "        if column_name != partition_column:\n",
    "            column_list.append(column_name)\n",
    "    column_list.append(partition_column)\n",
    "    output_df = input_df.select(column_list)\n",
    "    return output_df"
   ]
  },
  {
   "cell_type": "code",
   "execution_count": 0,
   "metadata": {
    "application/vnd.databricks.v1+cell": {
     "cellMetadata": {
      "byteLimit": 2048000,
      "rowLimit": 10000
     },
     "inputWidgets": {},
     "nuid": "998458fa-3ab8-4b74-a5d4-fd305aa788cf",
     "showTitle": false,
     "tableResultSettingsMap": {},
     "title": ""
    }
   },
   "outputs": [],
   "source": [
    "def overwrite_partition(input_df, db_name, table_name, partition_column):\n",
    "    output_df = rearrange_partition_column(input_df, partition_column)\n",
    "\n",
    "    spark.conf.set(\"spark.sql.sources.partitionOverwriteMode\", \"dynamic\")\n",
    "    if spark._jsparkSession.catalog().tableExists(f\"{db_name}.{table_name}\"):\n",
    "        output_df.write.mode(\"overwrite\").insertInto(f\"{db_name}.{table_name}\")\n",
    "    else:\n",
    "        output_df.write.mode(\"overwrite\").format(\"parquet\").partitionBy(f\"{partition_column}\").saveAsTable(f\"{db_name}.{table_name}\")\n"
   ]
  },
  {
   "cell_type": "code",
   "execution_count": 0,
   "metadata": {
    "application/vnd.databricks.v1+cell": {
     "cellMetadata": {},
     "inputWidgets": {},
     "nuid": "01770087-1411-4dfb-9ef0-21d05620621b",
     "showTitle": false,
     "tableResultSettingsMap": {},
     "title": ""
    }
   },
   "outputs": [],
   "source": [
    "from delta.tables import DeltaTable\n",
    "def mergeTable(input_df, db_name, table_name, merge_condition, partition_column):\n",
    "    if spark._jsparkSession.catalog().tableExists(f\"{db_name}.{table_name}\"):\n",
    "        deltaTable = DeltaTable.forName(spark, f\"{db_name}.{table_name}\")\n",
    "        deltaTable.alias(\"target\").merge(\n",
    "            input_df.alias(\"source\"),\n",
    "            merge_condition) \\\n",
    "        .whenMatchedUpdateAll() \\\n",
    "        .whenNotMatchedInsertAll() \\\n",
    "        .execute()\n",
    "    else:\n",
    "        input_df.write.mode(\"overwrite\").format(\"delta\").partitionBy(f\"{partition_column}\").saveAsTable(f\"{db_name}.{table_name}\")"
   ]
  },
  {
   "cell_type": "code",
   "execution_count": 0,
   "metadata": {
    "application/vnd.databricks.v1+cell": {
     "cellMetadata": {
      "byteLimit": 2048000,
      "rowLimit": 10000
     },
     "inputWidgets": {},
     "nuid": "1e318832-f3eb-447f-ac7c-4c1c9faa4615",
     "showTitle": false,
     "tableResultSettingsMap": {},
     "title": ""
    }
   },
   "outputs": [],
   "source": [
    "dbutils.notebook.exit(\"success...\")"
   ]
  },
  {
   "cell_type": "code",
   "execution_count": 0,
   "metadata": {
    "application/vnd.databricks.v1+cell": {
     "cellMetadata": {},
     "inputWidgets": {},
     "nuid": "f833b4d2-3bd2-4b3f-9b6a-b0633b1acf9a",
     "showTitle": false,
     "tableResultSettingsMap": {},
     "title": ""
    }
   },
   "outputs": [],
   "source": []
  }
 ],
 "metadata": {
  "application/vnd.databricks.v1+notebook": {
   "computePreferences": null,
   "dashboards": [],
   "environmentMetadata": {
    "base_environment": "",
    "environment_version": "2"
   },
   "inputWidgetPreferences": null,
   "language": "python",
   "notebookMetadata": {
    "pythonIndentUnit": 4
   },
   "notebookName": "common_code",
   "widgets": {}
  },
  "language_info": {
   "name": "python"
  }
 },
 "nbformat": 4,
 "nbformat_minor": 0
}
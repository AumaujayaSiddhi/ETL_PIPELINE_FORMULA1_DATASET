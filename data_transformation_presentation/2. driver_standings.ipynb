{
 "cells": [
  {
   "cell_type": "code",
   "execution_count": 0,
   "metadata": {
    "application/vnd.databricks.v1+cell": {
     "cellMetadata": {
      "byteLimit": 2048000,
      "rowLimit": 10000
     },
     "inputWidgets": {},
     "nuid": "9027987e-1b3d-42b7-8d01-83a77e27f419",
     "showTitle": false,
     "tableResultSettingsMap": {},
     "title": ""
    }
   },
   "outputs": [],
   "source": [
    "%run \"../includes/common_code\""
   ]
  },
  {
   "cell_type": "markdown",
   "metadata": {
    "application/vnd.databricks.v1+cell": {
     "cellMetadata": {
      "byteLimit": 2048000,
      "rowLimit": 10000
     },
     "inputWidgets": {},
     "nuid": "e5f0c7b7-b7bc-4ddf-9214-22da71147afe",
     "showTitle": false,
     "tableResultSettingsMap": {},
     "title": ""
    }
   },
   "source": [
    "Using race_results from presentation layer to get driver standings"
   ]
  },
  {
   "cell_type": "code",
   "execution_count": 0,
   "metadata": {
    "application/vnd.databricks.v1+cell": {
     "cellMetadata": {
      "byteLimit": 2048000,
      "rowLimit": 10000
     },
     "inputWidgets": {},
     "nuid": "a6595b46-d8a6-48c9-9c76-3d65cac41701",
     "showTitle": false,
     "tableResultSettingsMap": {},
     "title": ""
    }
   },
   "outputs": [],
   "source": [
    "race_results_df = spark.read.parquet(f\"{presentation_container_path}/race_results\")"
   ]
  },
  {
   "cell_type": "code",
   "execution_count": 0,
   "metadata": {
    "application/vnd.databricks.v1+cell": {
     "cellMetadata": {
      "byteLimit": 2048000,
      "rowLimit": 10000
     },
     "inputWidgets": {},
     "nuid": "c486d54c-e7a1-438a-a708-4f53d38636b6",
     "showTitle": false,
     "tableResultSettingsMap": {},
     "title": ""
    }
   },
   "outputs": [],
   "source": [
    "from pyspark.sql.functions import col, when, count, sum, desc, asc"
   ]
  },
  {
   "cell_type": "markdown",
   "metadata": {
    "application/vnd.databricks.v1+cell": {
     "cellMetadata": {
      "byteLimit": 2048000,
      "rowLimit": 10000
     },
     "inputWidgets": {},
     "nuid": "895826ac-f774-419d-83c6-e4d6feb37712",
     "showTitle": false,
     "tableResultSettingsMap": {},
     "title": ""
    }
   },
   "source": [
    "First way to get driver standings but this don't has rank column but shows the correct order"
   ]
  },
  {
   "cell_type": "code",
   "execution_count": 0,
   "metadata": {
    "application/vnd.databricks.v1+cell": {
     "cellMetadata": {
      "byteLimit": 2048000,
      "rowLimit": 10000
     },
     "inputWidgets": {},
     "nuid": "d1d1cf55-f65c-4739-ae20-4a67acd689ab",
     "showTitle": false,
     "tableResultSettingsMap": {},
     "title": ""
    }
   },
   "outputs": [],
   "source": [
    "driver_standings_1 = race_results_df \\\n",
    "    .groupBy(race_results_df.race_year, race_results_df.nationality, race_results_df.driver_name, race_results_df.team_name) \\\n",
    "        .agg(sum(col('points')).alias('points'), count(when(col('position') == 1, True)).alias('Wins')) \\\n",
    "            .orderBy(desc(col('points')), desc(col('Wins')))"
   ]
  },
  {
   "cell_type": "code",
   "execution_count": 0,
   "metadata": {
    "application/vnd.databricks.v1+cell": {
     "cellMetadata": {
      "byteLimit": 2048000,
      "rowLimit": 10000
     },
     "inputWidgets": {},
     "nuid": "39d25ecd-cebc-4fab-8b59-7ca97ba351d6",
     "showTitle": false,
     "tableResultSettingsMap": {},
     "title": ""
    }
   },
   "outputs": [
    {
     "output_type": "display_data",
     "data": {
      "text/html": [
       "<style scoped>\n",
       "  .table-result-container {\n",
       "    max-height: 300px;\n",
       "    overflow: auto;\n",
       "  }\n",
       "  table, th, td {\n",
       "    border: 1px solid black;\n",
       "    border-collapse: collapse;\n",
       "  }\n",
       "  th, td {\n",
       "    padding: 5px;\n",
       "  }\n",
       "  th {\n",
       "    text-align: left;\n",
       "  }\n",
       "</style><div class='table-result-container'><table class='table-result'><thead style='background-color: white'><tr><th>race_year</th><th>nationality</th><th>driver_name</th><th>team_name</th><th>points</th><th>Wins</th></tr></thead><tbody><tr><td>2020</td><td>British</td><td>Lewis Hamilton</td><td>Mercedes</td><td>347.0</td><td>11</td></tr><tr><td>2020</td><td>Finnish</td><td>Valtteri Bottas</td><td>Mercedes</td><td>223.0</td><td>2</td></tr><tr><td>2020</td><td>Dutch</td><td>Max Verstappen</td><td>Red Bull</td><td>214.0</td><td>2</td></tr><tr><td>2020</td><td>Mexican</td><td>Sergio Pérez</td><td>Racing Point</td><td>125.0</td><td>1</td></tr><tr><td>2020</td><td>Australian</td><td>Daniel Ricciardo</td><td>Renault</td><td>119.0</td><td>0</td></tr><tr><td>2020</td><td>Thai</td><td>Alexander Albon</td><td>Red Bull</td><td>105.0</td><td>0</td></tr><tr><td>2020</td><td>Spanish</td><td>Carlos Sainz</td><td>McLaren</td><td>105.0</td><td>0</td></tr><tr><td>2020</td><td>Monegasque</td><td>Charles Leclerc</td><td>Ferrari</td><td>98.0</td><td>0</td></tr><tr><td>2020</td><td>British</td><td>Lando Norris</td><td>McLaren</td><td>97.0</td><td>0</td></tr><tr><td>2020</td><td>French</td><td>Pierre Gasly</td><td>AlphaTauri</td><td>75.0</td><td>1</td></tr><tr><td>2020</td><td>Canadian</td><td>Lance Stroll</td><td>Racing Point</td><td>75.0</td><td>0</td></tr><tr><td>2020</td><td>French</td><td>Esteban Ocon</td><td>Renault</td><td>62.0</td><td>0</td></tr><tr><td>2020</td><td>German</td><td>Sebastian Vettel</td><td>Ferrari</td><td>33.0</td><td>0</td></tr><tr><td>2020</td><td>Russian</td><td>Daniil Kvyat</td><td>AlphaTauri</td><td>32.0</td><td>0</td></tr><tr><td>2020</td><td>German</td><td>Nico Hülkenberg</td><td>Racing Point</td><td>10.0</td><td>0</td></tr><tr><td>2020</td><td>Finnish</td><td>Kimi Räikkönen</td><td>Alfa Romeo</td><td>4.0</td><td>0</td></tr><tr><td>2020</td><td>Italian</td><td>Antonio Giovinazzi</td><td>Alfa Romeo</td><td>4.0</td><td>0</td></tr><tr><td>2020</td><td>British</td><td>George Russell</td><td>Mercedes</td><td>3.0</td><td>0</td></tr><tr><td>2020</td><td>French</td><td>Romain Grosjean</td><td>Haas F1 Team</td><td>2.0</td><td>0</td></tr><tr><td>2020</td><td>Danish</td><td>Kevin Magnussen</td><td>Haas F1 Team</td><td>1.0</td><td>0</td></tr><tr><td>2020</td><td>British</td><td>George Russell</td><td>Williams</td><td>0.0</td><td>0</td></tr><tr><td>2020</td><td>Brazilian</td><td>Pietro Fittipaldi</td><td>Haas F1 Team</td><td>0.0</td><td>0</td></tr><tr><td>2020</td><td>British</td><td>Jack Aitken</td><td>Williams</td><td>0.0</td><td>0</td></tr><tr><td>2020</td><td>Canadian</td><td>Nicholas Latifi</td><td>Williams</td><td>0.0</td><td>0</td></tr></tbody></table></div>"
      ]
     },
     "metadata": {
      "application/vnd.databricks.v1+output": {
       "addedWidgets": {},
       "aggData": [],
       "aggError": "",
       "aggOverflow": false,
       "aggSchema": [],
       "aggSeriesLimitReached": false,
       "aggType": "",
       "arguments": {},
       "columnCustomDisplayInfos": {},
       "data": [
        [
         2020,
         "British",
         "Lewis Hamilton",
         "Mercedes",
         347.0,
         11
        ],
        [
         2020,
         "Finnish",
         "Valtteri Bottas",
         "Mercedes",
         223.0,
         2
        ],
        [
         2020,
         "Dutch",
         "Max Verstappen",
         "Red Bull",
         214.0,
         2
        ],
        [
         2020,
         "Mexican",
         "Sergio Pérez",
         "Racing Point",
         125.0,
         1
        ],
        [
         2020,
         "Australian",
         "Daniel Ricciardo",
         "Renault",
         119.0,
         0
        ],
        [
         2020,
         "Thai",
         "Alexander Albon",
         "Red Bull",
         105.0,
         0
        ],
        [
         2020,
         "Spanish",
         "Carlos Sainz",
         "McLaren",
         105.0,
         0
        ],
        [
         2020,
         "Monegasque",
         "Charles Leclerc",
         "Ferrari",
         98.0,
         0
        ],
        [
         2020,
         "British",
         "Lando Norris",
         "McLaren",
         97.0,
         0
        ],
        [
         2020,
         "French",
         "Pierre Gasly",
         "AlphaTauri",
         75.0,
         1
        ],
        [
         2020,
         "Canadian",
         "Lance Stroll",
         "Racing Point",
         75.0,
         0
        ],
        [
         2020,
         "French",
         "Esteban Ocon",
         "Renault",
         62.0,
         0
        ],
        [
         2020,
         "German",
         "Sebastian Vettel",
         "Ferrari",
         33.0,
         0
        ],
        [
         2020,
         "Russian",
         "Daniil Kvyat",
         "AlphaTauri",
         32.0,
         0
        ],
        [
         2020,
         "German",
         "Nico Hülkenberg",
         "Racing Point",
         10.0,
         0
        ],
        [
         2020,
         "Finnish",
         "Kimi Räikkönen",
         "Alfa Romeo",
         4.0,
         0
        ],
        [
         2020,
         "Italian",
         "Antonio Giovinazzi",
         "Alfa Romeo",
         4.0,
         0
        ],
        [
         2020,
         "British",
         "George Russell",
         "Mercedes",
         3.0,
         0
        ],
        [
         2020,
         "French",
         "Romain Grosjean",
         "Haas F1 Team",
         2.0,
         0
        ],
        [
         2020,
         "Danish",
         "Kevin Magnussen",
         "Haas F1 Team",
         1.0,
         0
        ],
        [
         2020,
         "British",
         "George Russell",
         "Williams",
         0.0,
         0
        ],
        [
         2020,
         "Brazilian",
         "Pietro Fittipaldi",
         "Haas F1 Team",
         0.0,
         0
        ],
        [
         2020,
         "British",
         "Jack Aitken",
         "Williams",
         0.0,
         0
        ],
        [
         2020,
         "Canadian",
         "Nicholas Latifi",
         "Williams",
         0.0,
         0
        ]
       ],
       "datasetInfos": [],
       "dbfsResultPath": null,
       "isJsonSchema": true,
       "metadata": {},
       "overflow": false,
       "plotOptions": {
        "customPlotOptions": {},
        "displayType": "table",
        "pivotAggregation": null,
        "pivotColumns": null,
        "xColumns": null,
        "yColumns": null
       },
       "removedWidgets": [],
       "schema": [
        {
         "metadata": "{}",
         "name": "race_year",
         "type": "\"integer\""
        },
        {
         "metadata": "{}",
         "name": "nationality",
         "type": "\"string\""
        },
        {
         "metadata": "{}",
         "name": "driver_name",
         "type": "\"string\""
        },
        {
         "metadata": "{}",
         "name": "team_name",
         "type": "\"string\""
        },
        {
         "metadata": "{}",
         "name": "points",
         "type": "\"double\""
        },
        {
         "metadata": "{}",
         "name": "Wins",
         "type": "\"long\""
        }
       ],
       "type": "table"
      }
     },
     "output_type": "display_data"
    }
   ],
   "source": [
    "display(driver_standings_1.filter(driver_standings_1.race_year == 2020))"
   ]
  },
  {
   "cell_type": "markdown",
   "metadata": {
    "application/vnd.databricks.v1+cell": {
     "cellMetadata": {
      "byteLimit": 2048000,
      "rowLimit": 10000
     },
     "inputWidgets": {},
     "nuid": "87bab645-446d-49ce-a90b-2fbe42c28c15",
     "showTitle": false,
     "tableResultSettingsMap": {},
     "title": ""
    }
   },
   "source": [
    "Lets do it using window functions, with this you can get rank"
   ]
  },
  {
   "cell_type": "code",
   "execution_count": 0,
   "metadata": {
    "application/vnd.databricks.v1+cell": {
     "cellMetadata": {
      "byteLimit": 2048000,
      "rowLimit": 10000
     },
     "inputWidgets": {},
     "nuid": "e5da7aea-10cd-4101-a5cb-761b388a1736",
     "showTitle": false,
     "tableResultSettingsMap": {},
     "title": ""
    }
   },
   "outputs": [],
   "source": [
    "from pyspark.sql import Window\n",
    "from pyspark.sql.functions import rank"
   ]
  },
  {
   "cell_type": "code",
   "execution_count": 0,
   "metadata": {
    "application/vnd.databricks.v1+cell": {
     "cellMetadata": {
      "byteLimit": 2048000,
      "rowLimit": 10000
     },
     "inputWidgets": {},
     "nuid": "ea1d1c6d-9436-44bb-b357-84aa54536585",
     "showTitle": false,
     "tableResultSettingsMap": {},
     "title": ""
    }
   },
   "outputs": [],
   "source": [
    "driver_standings_2 = race_results_df \\\n",
    "    .groupBy(race_results_df.race_year, race_results_df.nationality, race_results_df.driver_name, race_results_df.team_name) \\\n",
    "        .agg(sum(col('points')).alias('points'), count(when(col('position') == 1, True)).alias('Wins'))"
   ]
  },
  {
   "cell_type": "code",
   "execution_count": 0,
   "metadata": {
    "application/vnd.databricks.v1+cell": {
     "cellMetadata": {
      "byteLimit": 2048000,
      "rowLimit": 10000
     },
     "inputWidgets": {},
     "nuid": "23ba0e58-00db-43a0-848f-fe2767d83091",
     "showTitle": false,
     "tableResultSettingsMap": {},
     "title": ""
    }
   },
   "outputs": [],
   "source": [
    "driver_rank = Window.partitionBy('race_year').orderBy(desc(col('points')), desc(col('Wins')))\n",
    "driver_standings_2 = driver_standings_2.withColumn('rank', rank().over(driver_rank))"
   ]
  },
  {
   "cell_type": "code",
   "execution_count": 0,
   "metadata": {
    "application/vnd.databricks.v1+cell": {
     "cellMetadata": {
      "byteLimit": 2048000,
      "rowLimit": 10000
     },
     "inputWidgets": {},
     "nuid": "6c143894-6665-494d-a913-1965c11e8319",
     "showTitle": false,
     "tableResultSettingsMap": {},
     "title": ""
    }
   },
   "outputs": [],
   "source": [
    "# Lets reorder according to the BBC driver standings page\n",
    "driver_standings_final = driver_standings_2.select(driver_standings_2.rank, driver_standings_2.nationality, driver_standings_2.driver_name, driver_standings_2.team_name, driver_standings_2.Wins, driver_standings_2.points, driver_standings_2.race_year)"
   ]
  },
  {
   "cell_type": "code",
   "execution_count": 0,
   "metadata": {
    "application/vnd.databricks.v1+cell": {
     "cellMetadata": {
      "byteLimit": 2048000,
      "rowLimit": 10000
     },
     "inputWidgets": {},
     "nuid": "a121ffa9-ef59-4c8e-b6f5-017061ab8337",
     "showTitle": false,
     "tableResultSettingsMap": {},
     "title": ""
    }
   },
   "outputs": [
    {
     "output_type": "display_data",
     "data": {
      "text/html": [
       "<style scoped>\n",
       "  .table-result-container {\n",
       "    max-height: 300px;\n",
       "    overflow: auto;\n",
       "  }\n",
       "  table, th, td {\n",
       "    border: 1px solid black;\n",
       "    border-collapse: collapse;\n",
       "  }\n",
       "  th, td {\n",
       "    padding: 5px;\n",
       "  }\n",
       "  th {\n",
       "    text-align: left;\n",
       "  }\n",
       "</style><div class='table-result-container'><table class='table-result'><thead style='background-color: white'><tr><th>rank</th><th>nationality</th><th>driver_name</th><th>team_name</th><th>Wins</th><th>points</th><th>race_year</th></tr></thead><tbody><tr><td>1</td><td>British</td><td>Lewis Hamilton</td><td>Mercedes</td><td>11</td><td>347.0</td><td>2020</td></tr><tr><td>2</td><td>Finnish</td><td>Valtteri Bottas</td><td>Mercedes</td><td>2</td><td>223.0</td><td>2020</td></tr><tr><td>3</td><td>Dutch</td><td>Max Verstappen</td><td>Red Bull</td><td>2</td><td>214.0</td><td>2020</td></tr><tr><td>4</td><td>Mexican</td><td>Sergio Pérez</td><td>Racing Point</td><td>1</td><td>125.0</td><td>2020</td></tr><tr><td>5</td><td>Australian</td><td>Daniel Ricciardo</td><td>Renault</td><td>0</td><td>119.0</td><td>2020</td></tr><tr><td>6</td><td>Thai</td><td>Alexander Albon</td><td>Red Bull</td><td>0</td><td>105.0</td><td>2020</td></tr><tr><td>6</td><td>Spanish</td><td>Carlos Sainz</td><td>McLaren</td><td>0</td><td>105.0</td><td>2020</td></tr><tr><td>8</td><td>Monegasque</td><td>Charles Leclerc</td><td>Ferrari</td><td>0</td><td>98.0</td><td>2020</td></tr><tr><td>9</td><td>British</td><td>Lando Norris</td><td>McLaren</td><td>0</td><td>97.0</td><td>2020</td></tr><tr><td>10</td><td>French</td><td>Pierre Gasly</td><td>AlphaTauri</td><td>1</td><td>75.0</td><td>2020</td></tr><tr><td>11</td><td>Canadian</td><td>Lance Stroll</td><td>Racing Point</td><td>0</td><td>75.0</td><td>2020</td></tr><tr><td>12</td><td>French</td><td>Esteban Ocon</td><td>Renault</td><td>0</td><td>62.0</td><td>2020</td></tr><tr><td>13</td><td>German</td><td>Sebastian Vettel</td><td>Ferrari</td><td>0</td><td>33.0</td><td>2020</td></tr><tr><td>14</td><td>Russian</td><td>Daniil Kvyat</td><td>AlphaTauri</td><td>0</td><td>32.0</td><td>2020</td></tr><tr><td>15</td><td>German</td><td>Nico Hülkenberg</td><td>Racing Point</td><td>0</td><td>10.0</td><td>2020</td></tr><tr><td>16</td><td>Finnish</td><td>Kimi Räikkönen</td><td>Alfa Romeo</td><td>0</td><td>4.0</td><td>2020</td></tr><tr><td>16</td><td>Italian</td><td>Antonio Giovinazzi</td><td>Alfa Romeo</td><td>0</td><td>4.0</td><td>2020</td></tr><tr><td>18</td><td>British</td><td>George Russell</td><td>Mercedes</td><td>0</td><td>3.0</td><td>2020</td></tr><tr><td>19</td><td>French</td><td>Romain Grosjean</td><td>Haas F1 Team</td><td>0</td><td>2.0</td><td>2020</td></tr><tr><td>20</td><td>Danish</td><td>Kevin Magnussen</td><td>Haas F1 Team</td><td>0</td><td>1.0</td><td>2020</td></tr><tr><td>21</td><td>British</td><td>George Russell</td><td>Williams</td><td>0</td><td>0.0</td><td>2020</td></tr><tr><td>21</td><td>Brazilian</td><td>Pietro Fittipaldi</td><td>Haas F1 Team</td><td>0</td><td>0.0</td><td>2020</td></tr><tr><td>21</td><td>British</td><td>Jack Aitken</td><td>Williams</td><td>0</td><td>0.0</td><td>2020</td></tr><tr><td>21</td><td>Canadian</td><td>Nicholas Latifi</td><td>Williams</td><td>0</td><td>0.0</td><td>2020</td></tr></tbody></table></div>"
      ]
     },
     "metadata": {
      "application/vnd.databricks.v1+output": {
       "addedWidgets": {},
       "aggData": [],
       "aggError": "",
       "aggOverflow": false,
       "aggSchema": [],
       "aggSeriesLimitReached": false,
       "aggType": "",
       "arguments": {},
       "columnCustomDisplayInfos": {},
       "data": [
        [
         1,
         "British",
         "Lewis Hamilton",
         "Mercedes",
         11,
         347.0,
         2020
        ],
        [
         2,
         "Finnish",
         "Valtteri Bottas",
         "Mercedes",
         2,
         223.0,
         2020
        ],
        [
         3,
         "Dutch",
         "Max Verstappen",
         "Red Bull",
         2,
         214.0,
         2020
        ],
        [
         4,
         "Mexican",
         "Sergio Pérez",
         "Racing Point",
         1,
         125.0,
         2020
        ],
        [
         5,
         "Australian",
         "Daniel Ricciardo",
         "Renault",
         0,
         119.0,
         2020
        ],
        [
         6,
         "Thai",
         "Alexander Albon",
         "Red Bull",
         0,
         105.0,
         2020
        ],
        [
         6,
         "Spanish",
         "Carlos Sainz",
         "McLaren",
         0,
         105.0,
         2020
        ],
        [
         8,
         "Monegasque",
         "Charles Leclerc",
         "Ferrari",
         0,
         98.0,
         2020
        ],
        [
         9,
         "British",
         "Lando Norris",
         "McLaren",
         0,
         97.0,
         2020
        ],
        [
         10,
         "French",
         "Pierre Gasly",
         "AlphaTauri",
         1,
         75.0,
         2020
        ],
        [
         11,
         "Canadian",
         "Lance Stroll",
         "Racing Point",
         0,
         75.0,
         2020
        ],
        [
         12,
         "French",
         "Esteban Ocon",
         "Renault",
         0,
         62.0,
         2020
        ],
        [
         13,
         "German",
         "Sebastian Vettel",
         "Ferrari",
         0,
         33.0,
         2020
        ],
        [
         14,
         "Russian",
         "Daniil Kvyat",
         "AlphaTauri",
         0,
         32.0,
         2020
        ],
        [
         15,
         "German",
         "Nico Hülkenberg",
         "Racing Point",
         0,
         10.0,
         2020
        ],
        [
         16,
         "Finnish",
         "Kimi Räikkönen",
         "Alfa Romeo",
         0,
         4.0,
         2020
        ],
        [
         16,
         "Italian",
         "Antonio Giovinazzi",
         "Alfa Romeo",
         0,
         4.0,
         2020
        ],
        [
         18,
         "British",
         "George Russell",
         "Mercedes",
         0,
         3.0,
         2020
        ],
        [
         19,
         "French",
         "Romain Grosjean",
         "Haas F1 Team",
         0,
         2.0,
         2020
        ],
        [
         20,
         "Danish",
         "Kevin Magnussen",
         "Haas F1 Team",
         0,
         1.0,
         2020
        ],
        [
         21,
         "British",
         "George Russell",
         "Williams",
         0,
         0.0,
         2020
        ],
        [
         21,
         "Brazilian",
         "Pietro Fittipaldi",
         "Haas F1 Team",
         0,
         0.0,
         2020
        ],
        [
         21,
         "British",
         "Jack Aitken",
         "Williams",
         0,
         0.0,
         2020
        ],
        [
         21,
         "Canadian",
         "Nicholas Latifi",
         "Williams",
         0,
         0.0,
         2020
        ]
       ],
       "datasetInfos": [],
       "dbfsResultPath": null,
       "isJsonSchema": true,
       "metadata": {},
       "overflow": false,
       "plotOptions": {
        "customPlotOptions": {},
        "displayType": "table",
        "pivotAggregation": null,
        "pivotColumns": null,
        "xColumns": null,
        "yColumns": null
       },
       "removedWidgets": [],
       "schema": [
        {
         "metadata": "{}",
         "name": "rank",
         "type": "\"integer\""
        },
        {
         "metadata": "{}",
         "name": "nationality",
         "type": "\"string\""
        },
        {
         "metadata": "{}",
         "name": "driver_name",
         "type": "\"string\""
        },
        {
         "metadata": "{}",
         "name": "team_name",
         "type": "\"string\""
        },
        {
         "metadata": "{}",
         "name": "Wins",
         "type": "\"long\""
        },
        {
         "metadata": "{}",
         "name": "points",
         "type": "\"double\""
        },
        {
         "metadata": "{}",
         "name": "race_year",
         "type": "\"integer\""
        }
       ],
       "type": "table"
      }
     },
     "output_type": "display_data"
    }
   ],
   "source": [
    "display(driver_standings_final.filter(driver_standings_final.race_year == 2020))"
   ]
  },
  {
   "cell_type": "code",
   "execution_count": 0,
   "metadata": {
    "application/vnd.databricks.v1+cell": {
     "cellMetadata": {
      "byteLimit": 2048000,
      "rowLimit": 10000
     },
     "inputWidgets": {},
     "nuid": "b7994389-8542-432d-96df-7813a2ca26dc",
     "showTitle": false,
     "tableResultSettingsMap": {},
     "title": ""
    }
   },
   "outputs": [],
   "source": [
    "# Lets write this into presentation layer\n",
    "driver_standings_final.write.mode(\"overwrite\").parquet(f\"{presentation_container_path}/driver_standings\")"
   ]
  },
  {
   "cell_type": "code",
   "execution_count": 0,
   "metadata": {
    "application/vnd.databricks.v1+cell": {
     "cellMetadata": {
      "byteLimit": 2048000,
      "rowLimit": 10000
     },
     "inputWidgets": {},
     "nuid": "22795439-4029-43b9-b370-36c39e1459cd",
     "showTitle": false,
     "tableResultSettingsMap": {},
     "title": ""
    }
   },
   "outputs": [],
   "source": [
    "dbutils.notebook.exit(\"success\")"
   ]
  },
  {
   "cell_type": "code",
   "execution_count": 0,
   "metadata": {
    "application/vnd.databricks.v1+cell": {
     "cellMetadata": {
      "byteLimit": 2048000,
      "rowLimit": 10000
     },
     "inputWidgets": {},
     "nuid": "d7abc8dd-d210-4713-95cd-033afe084c04",
     "showTitle": false,
     "tableResultSettingsMap": {},
     "title": ""
    }
   },
   "outputs": [],
   "source": []
  }
 ],
 "metadata": {
  "application/vnd.databricks.v1+notebook": {
   "computePreferences": null,
   "dashboards": [],
   "environmentMetadata": {
    "base_environment": "",
    "environment_version": "2"
   },
   "inputWidgetPreferences": null,
   "language": "python",
   "notebookMetadata": {
    "pythonIndentUnit": 4
   },
   "notebookName": "2. driver_standings",
   "widgets": {}
  },
  "language_info": {
   "name": "python"
  }
 },
 "nbformat": 4,
 "nbformat_minor": 0
}
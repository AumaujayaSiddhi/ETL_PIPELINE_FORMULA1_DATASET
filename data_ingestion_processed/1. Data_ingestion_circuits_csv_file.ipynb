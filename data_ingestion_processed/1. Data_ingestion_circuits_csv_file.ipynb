{
 "cells": [
  {
   "cell_type": "code",
   "execution_count": 0,
   "metadata": {
    "application/vnd.databricks.v1+cell": {
     "cellMetadata": {
      "byteLimit": 2048000,
      "rowLimit": 10000
     },
     "inputWidgets": {},
     "nuid": "9c7245d4-4648-4e44-8c8f-2d89bf515b8d",
     "showTitle": false,
     "tableResultSettingsMap": {},
     "title": ""
    }
   },
   "outputs": [],
   "source": [
    "dbutils.widgets.text(\"v_file_date\", \"2021-03-21\")\n",
    "v_file_date = dbutils.widgets.get(\"v_file_date\")"
   ]
  },
  {
   "cell_type": "code",
   "execution_count": 0,
   "metadata": {
    "application/vnd.databricks.v1+cell": {
     "cellMetadata": {
      "byteLimit": 2048000,
      "rowLimit": 10000
     },
     "inputWidgets": {},
     "nuid": "a35cc446-95e3-489a-8079-43519f8b5092",
     "showTitle": false,
     "tableResultSettingsMap": {},
     "title": ""
    }
   },
   "outputs": [],
   "source": [
    "%run \"../includes/common_code\""
   ]
  },
  {
   "cell_type": "markdown",
   "metadata": {
    "application/vnd.databricks.v1+cell": {
     "cellMetadata": {
      "byteLimit": 2048000,
      "rowLimit": 10000
     },
     "inputWidgets": {},
     "nuid": "ef28ca78-71e9-4ce6-a137-5eed85df6058",
     "showTitle": false,
     "tableResultSettingsMap": {},
     "title": ""
    }
   },
   "source": [
    "### Ingestion circuits.csv\n",
    "1. Read circuits.csv file from raw container using Dataframe reader API\n",
    "2. Select only the required columns or drop the unwanted columns\n",
    "3. Rename few columns to the suitable name\n",
    "4. Add audit column which specifies the ingestion date/time/timestamp\n",
    "5. Write the final transformed data into processsed container"
   ]
  },
  {
   "cell_type": "code",
   "execution_count": 0,
   "metadata": {
    "application/vnd.databricks.v1+cell": {
     "cellMetadata": {
      "byteLimit": 2048000,
      "rowLimit": 10000
     },
     "inputWidgets": {},
     "nuid": "c873a4ed-8d9d-4bfc-9d93-9c3166049500",
     "showTitle": false,
     "tableResultSettingsMap": {},
     "title": ""
    }
   },
   "outputs": [
    {
     "output_type": "display_data",
     "data": {
      "text/html": [
       "<style scoped>\n",
       "  .table-result-container {\n",
       "    max-height: 300px;\n",
       "    overflow: auto;\n",
       "  }\n",
       "  table, th, td {\n",
       "    border: 1px solid black;\n",
       "    border-collapse: collapse;\n",
       "  }\n",
       "  th, td {\n",
       "    padding: 5px;\n",
       "  }\n",
       "  th {\n",
       "    text-align: left;\n",
       "  }\n",
       "</style><div class='table-result-container'><table class='table-result'><thead style='background-color: white'><tr><th>mountPoint</th><th>source</th><th>encryptionType</th></tr></thead><tbody><tr><td>/databricks-datasets</td><td>databricks-datasets</td><td></td></tr><tr><td>/mnt/formula1dl-demo</td><td>abfss://demo@formula1dlsiddhi.dfs.core.windows.net/</td><td></td></tr><tr><td>/mnt/formula1dlsiddhi/processed</td><td>abfss://processed@formula1dlsiddhi.dfs.core.windows.net/</td><td></td></tr><tr><td>/Volumes</td><td>UnityCatalogVolumes</td><td></td></tr><tr><td>/mnt/formula1dlsiddhi/demo</td><td>abfss://demo@formula1dlsiddhi.dfs.core.windows.net/</td><td></td></tr><tr><td>/databricks/mlflow-tracking</td><td>databricks/mlflow-tracking</td><td></td></tr><tr><td>/databricks-results</td><td>databricks-results</td><td></td></tr><tr><td>/mnt/formula1dlsiddhi/raw</td><td>abfss://raw@formula1dlsiddhi.dfs.core.windows.net/</td><td></td></tr><tr><td>/databricks/mlflow-registry</td><td>databricks/mlflow-registry</td><td></td></tr><tr><td>/Volume</td><td>DbfsReserved</td><td></td></tr><tr><td>/mnt/formula1dlsiddhi/presentation</td><td>abfss://presentation@formula1dlsiddhi.dfs.core.windows.net/</td><td></td></tr><tr><td>/volumes</td><td>DbfsReserved</td><td></td></tr><tr><td>/</td><td>DatabricksRoot</td><td></td></tr><tr><td>/volume</td><td>DbfsReserved</td><td></td></tr></tbody></table></div>"
      ]
     },
     "metadata": {
      "application/vnd.databricks.v1+output": {
       "addedWidgets": {},
       "aggData": [],
       "aggError": "",
       "aggOverflow": false,
       "aggSchema": [],
       "aggSeriesLimitReached": false,
       "aggType": "",
       "arguments": {},
       "columnCustomDisplayInfos": {},
       "data": [
        [
         "/databricks-datasets",
         "databricks-datasets",
         ""
        ],
        [
         "/mnt/formula1dl-demo",
         "abfss://demo@formula1dlsiddhi.dfs.core.windows.net/",
         ""
        ],
        [
         "/mnt/formula1dlsiddhi/processed",
         "abfss://processed@formula1dlsiddhi.dfs.core.windows.net/",
         ""
        ],
        [
         "/Volumes",
         "UnityCatalogVolumes",
         ""
        ],
        [
         "/mnt/formula1dlsiddhi/demo",
         "abfss://demo@formula1dlsiddhi.dfs.core.windows.net/",
         ""
        ],
        [
         "/databricks/mlflow-tracking",
         "databricks/mlflow-tracking",
         ""
        ],
        [
         "/databricks-results",
         "databricks-results",
         ""
        ],
        [
         "/mnt/formula1dlsiddhi/raw",
         "abfss://raw@formula1dlsiddhi.dfs.core.windows.net/",
         ""
        ],
        [
         "/databricks/mlflow-registry",
         "databricks/mlflow-registry",
         ""
        ],
        [
         "/Volume",
         "DbfsReserved",
         ""
        ],
        [
         "/mnt/formula1dlsiddhi/presentation",
         "abfss://presentation@formula1dlsiddhi.dfs.core.windows.net/",
         ""
        ],
        [
         "/volumes",
         "DbfsReserved",
         ""
        ],
        [
         "/",
         "DatabricksRoot",
         ""
        ],
        [
         "/volume",
         "DbfsReserved",
         ""
        ]
       ],
       "datasetInfos": [],
       "dbfsResultPath": null,
       "isJsonSchema": true,
       "metadata": {},
       "overflow": false,
       "plotOptions": {
        "customPlotOptions": {},
        "displayType": "table",
        "pivotAggregation": null,
        "pivotColumns": null,
        "xColumns": null,
        "yColumns": null
       },
       "removedWidgets": [],
       "schema": [
        {
         "metadata": "{}",
         "name": "mountPoint",
         "type": "\"string\""
        },
        {
         "metadata": "{}",
         "name": "source",
         "type": "\"string\""
        },
        {
         "metadata": "{}",
         "name": "encryptionType",
         "type": "\"string\""
        }
       ],
       "type": "table"
      }
     },
     "output_type": "display_data"
    }
   ],
   "source": [
    "# listing all the mounts\n",
    "display(dbutils.fs.mounts())"
   ]
  },
  {
   "cell_type": "code",
   "execution_count": 0,
   "metadata": {
    "application/vnd.databricks.v1+cell": {
     "cellMetadata": {
      "byteLimit": 2048000,
      "rowLimit": 10000
     },
     "inputWidgets": {},
     "nuid": "94fba9f3-1c67-4a0e-a71d-82da6711f019",
     "showTitle": false,
     "tableResultSettingsMap": {},
     "title": ""
    }
   },
   "outputs": [
    {
     "output_type": "display_data",
     "data": {
      "text/html": [
       "<style scoped>\n",
       "  .table-result-container {\n",
       "    max-height: 300px;\n",
       "    overflow: auto;\n",
       "  }\n",
       "  table, th, td {\n",
       "    border: 1px solid black;\n",
       "    border-collapse: collapse;\n",
       "  }\n",
       "  th, td {\n",
       "    padding: 5px;\n",
       "  }\n",
       "  th {\n",
       "    text-align: left;\n",
       "  }\n",
       "</style><div class='table-result-container'><table class='table-result'><thead style='background-color: white'><tr><th>path</th><th>name</th><th>size</th><th>modificationTime</th></tr></thead><tbody><tr><td>dbfs:/mnt/formula1dlsiddhi/raw/2021-03-21/</td><td>2021-03-21/</td><td>0</td><td>1744679356000</td></tr><tr><td>dbfs:/mnt/formula1dlsiddhi/raw/2021-03-28/</td><td>2021-03-28/</td><td>0</td><td>1744679367000</td></tr><tr><td>dbfs:/mnt/formula1dlsiddhi/raw/2021-04-18/</td><td>2021-04-18/</td><td>0</td><td>1744679375000</td></tr></tbody></table></div>"
      ]
     },
     "metadata": {
      "application/vnd.databricks.v1+output": {
       "addedWidgets": {},
       "aggData": [],
       "aggError": "",
       "aggOverflow": false,
       "aggSchema": [],
       "aggSeriesLimitReached": false,
       "aggType": "",
       "arguments": {},
       "columnCustomDisplayInfos": {},
       "data": [
        [
         "dbfs:/mnt/formula1dlsiddhi/raw/2021-03-21/",
         "2021-03-21/",
         0,
         1744679356000
        ],
        [
         "dbfs:/mnt/formula1dlsiddhi/raw/2021-03-28/",
         "2021-03-28/",
         0,
         1744679367000
        ],
        [
         "dbfs:/mnt/formula1dlsiddhi/raw/2021-04-18/",
         "2021-04-18/",
         0,
         1744679375000
        ]
       ],
       "datasetInfos": [],
       "dbfsResultPath": null,
       "isJsonSchema": true,
       "metadata": {},
       "overflow": false,
       "plotOptions": {
        "customPlotOptions": {},
        "displayType": "table",
        "pivotAggregation": null,
        "pivotColumns": null,
        "xColumns": null,
        "yColumns": null
       },
       "removedWidgets": [],
       "schema": [
        {
         "metadata": "{}",
         "name": "path",
         "type": "\"string\""
        },
        {
         "metadata": "{}",
         "name": "name",
         "type": "\"string\""
        },
        {
         "metadata": "{}",
         "name": "size",
         "type": "\"long\""
        },
        {
         "metadata": "{}",
         "name": "modificationTime",
         "type": "\"long\""
        }
       ],
       "type": "table"
      }
     },
     "output_type": "display_data"
    }
   ],
   "source": [
    "# listing all the files in raw container\n",
    "# display(dbutils.fs.ls(\"/mnt/formula1dlsiddhi/raw\"))\n",
    "display(dbutils.fs.ls(raw_container_path))"
   ]
  },
  {
   "cell_type": "markdown",
   "metadata": {
    "application/vnd.databricks.v1+cell": {
     "cellMetadata": {
      "byteLimit": 2048000,
      "rowLimit": 10000
     },
     "inputWidgets": {},
     "nuid": "62cbb58b-a3f6-4ad8-90d3-f4c27f0be90d",
     "showTitle": false,
     "tableResultSettingsMap": {},
     "title": ""
    }
   },
   "source": [
    "Visit [spark_documentation](https://spark.apache.org/docs/latest/api/python/reference/pyspark.pandas/api/pyspark.pandas.read_csv.html#pyspark.pandas.read_csv) for read_csv()"
   ]
  },
  {
   "cell_type": "code",
   "execution_count": 0,
   "metadata": {
    "application/vnd.databricks.v1+cell": {
     "cellMetadata": {
      "byteLimit": 2048000,
      "rowLimit": 10000
     },
     "inputWidgets": {},
     "nuid": "72f72af4-18ef-4a5c-83ae-c35a0a987895",
     "showTitle": false,
     "tableResultSettingsMap": {},
     "title": ""
    }
   },
   "outputs": [],
   "source": [
    "from pyspark.sql.types import StructType, StructField, StringType, IntegerType, DoubleType, TimestampType"
   ]
  },
  {
   "cell_type": "markdown",
   "metadata": {
    "application/vnd.databricks.v1+cell": {
     "cellMetadata": {
      "byteLimit": 2048000,
      "rowLimit": 10000
     },
     "inputWidgets": {},
     "nuid": "85ac222d-c161-47cd-b093-daf4375f876c",
     "showTitle": false,
     "tableResultSettingsMap": {},
     "title": ""
    }
   },
   "source": [
    "#### Defining the schema manually\n",
    "1. Visit [spark documentation](https://spark.apache.org/docs/latest/api/python/reference/pyspark.sql/api/pyspark.sql.types.StructType.html) for Struct_Type"
   ]
  },
  {
   "cell_type": "code",
   "execution_count": 0,
   "metadata": {
    "application/vnd.databricks.v1+cell": {
     "cellMetadata": {
      "byteLimit": 2048000,
      "rowLimit": 10000
     },
     "inputWidgets": {},
     "nuid": "0a8e01e0-5803-4ead-88c0-52424720bae7",
     "showTitle": false,
     "tableResultSettingsMap": {},
     "title": ""
    }
   },
   "outputs": [],
   "source": [
    "circuits_schema = StructType([ StructField(\"circuitId\", IntegerType(), True),\n",
    "                               StructField(\"circuitRef\", StringType(), True),\n",
    "                               StructField(\"name\", StringType(), True),\n",
    "                               StructField(\"location\", StringType(), True),\n",
    "                               StructField(\"country\", StringType(), True),\n",
    "                               StructField(\"lat\", DoubleType(), True),\n",
    "                               StructField(\"lng\", DoubleType(), True),\n",
    "                               StructField(\"alt\", IntegerType(), True),\n",
    "                               StructField(\"url\", StringType(), True)\n",
    "                            ])"
   ]
  },
  {
   "cell_type": "code",
   "execution_count": 0,
   "metadata": {
    "application/vnd.databricks.v1+cell": {
     "cellMetadata": {
      "byteLimit": 2048000,
      "rowLimit": 10000
     },
     "inputWidgets": {},
     "nuid": "40364350-e993-4ffd-923c-8643fce24125",
     "showTitle": false,
     "tableResultSettingsMap": {},
     "title": ""
    }
   },
   "outputs": [],
   "source": [
    "circuits_df = spark.read.schema(circuits_schema) \\\n",
    "                        .option(\"header\", \"true\") \\\n",
    "                        .csv(f\"{raw_container_path}/{v_file_date}/circuits.csv\")"
   ]
  },
  {
   "cell_type": "code",
   "execution_count": 0,
   "metadata": {
    "application/vnd.databricks.v1+cell": {
     "cellMetadata": {
      "byteLimit": 2048000,
      "rowLimit": 10000
     },
     "inputWidgets": {},
     "nuid": "92d80f4b-5c93-4400-b911-9f0de0ccd900",
     "showTitle": false,
     "tableResultSettingsMap": {},
     "title": ""
    }
   },
   "outputs": [
    {
     "output_type": "stream",
     "name": "stdout",
     "output_type": "stream",
     "text": [
      "root\n |-- circuitId: integer (nullable = true)\n |-- circuitRef: string (nullable = true)\n |-- name: string (nullable = true)\n |-- location: string (nullable = true)\n |-- country: string (nullable = true)\n |-- lat: double (nullable = true)\n |-- lng: double (nullable = true)\n |-- alt: integer (nullable = true)\n |-- url: string (nullable = true)\n\n"
     ]
    }
   ],
   "source": [
    "# printing schema\n",
    "circuits_df.printSchema()"
   ]
  },
  {
   "cell_type": "code",
   "execution_count": 0,
   "metadata": {
    "application/vnd.databricks.v1+cell": {
     "cellMetadata": {
      "byteLimit": 2048000,
      "rowLimit": 10000
     },
     "inputWidgets": {},
     "nuid": "91b14896-bb1c-4bfe-99bd-f5de09bed5a6",
     "showTitle": false,
     "tableResultSettingsMap": {},
     "title": ""
    }
   },
   "outputs": [
    {
     "output_type": "display_data",
     "data": {
      "text/html": [
       "<style scoped>\n",
       "  .table-result-container {\n",
       "    max-height: 300px;\n",
       "    overflow: auto;\n",
       "  }\n",
       "  table, th, td {\n",
       "    border: 1px solid black;\n",
       "    border-collapse: collapse;\n",
       "  }\n",
       "  th, td {\n",
       "    padding: 5px;\n",
       "  }\n",
       "  th {\n",
       "    text-align: left;\n",
       "  }\n",
       "</style><div class='table-result-container'><table class='table-result'><thead style='background-color: white'><tr><th>circuitId</th><th>circuitRef</th><th>name</th><th>location</th><th>country</th><th>lat</th><th>lng</th><th>alt</th><th>url</th></tr></thead><tbody><tr><td>1</td><td>albert_park</td><td>Albert Park Grand Prix Circuit</td><td>Melbourne</td><td>Australia</td><td>-37.8497</td><td>144.968</td><td>10</td><td>http://en.wikipedia.org/wiki/Melbourne_Grand_Prix_Circuit</td></tr><tr><td>2</td><td>sepang</td><td>Sepang International Circuit</td><td>Kuala Lumpur</td><td>Malaysia</td><td>2.76083</td><td>101.738</td><td>18</td><td>http://en.wikipedia.org/wiki/Sepang_International_Circuit</td></tr><tr><td>3</td><td>bahrain</td><td>Bahrain International Circuit</td><td>Sakhir</td><td>Bahrain</td><td>26.0325</td><td>50.5106</td><td>7</td><td>http://en.wikipedia.org/wiki/Bahrain_International_Circuit</td></tr><tr><td>4</td><td>catalunya</td><td>Circuit de Barcelona-Catalunya</td><td>Montmeló</td><td>Spain</td><td>41.57</td><td>2.26111</td><td>109</td><td>http://en.wikipedia.org/wiki/Circuit_de_Barcelona-Catalunya</td></tr><tr><td>5</td><td>istanbul</td><td>Istanbul Park</td><td>Istanbul</td><td>Turkey</td><td>40.9517</td><td>29.405</td><td>130</td><td>http://en.wikipedia.org/wiki/Istanbul_Park</td></tr><tr><td>6</td><td>monaco</td><td>Circuit de Monaco</td><td>Monte-Carlo</td><td>Monaco</td><td>43.7347</td><td>7.42056</td><td>7</td><td>http://en.wikipedia.org/wiki/Circuit_de_Monaco</td></tr><tr><td>7</td><td>villeneuve</td><td>Circuit Gilles Villeneuve</td><td>Montreal</td><td>Canada</td><td>45.5</td><td>-73.5228</td><td>13</td><td>http://en.wikipedia.org/wiki/Circuit_Gilles_Villeneuve</td></tr><tr><td>8</td><td>magny_cours</td><td>Circuit de Nevers Magny-Cours</td><td>Magny Cours</td><td>France</td><td>46.8642</td><td>3.16361</td><td>228</td><td>http://en.wikipedia.org/wiki/Circuit_de_Nevers_Magny-Cours</td></tr><tr><td>9</td><td>silverstone</td><td>Silverstone Circuit</td><td>Silverstone</td><td>UK</td><td>52.0786</td><td>-1.01694</td><td>153</td><td>http://en.wikipedia.org/wiki/Silverstone_Circuit</td></tr><tr><td>10</td><td>hockenheimring</td><td>Hockenheimring</td><td>Hockenheim</td><td>Germany</td><td>49.3278</td><td>8.56583</td><td>103</td><td>http://en.wikipedia.org/wiki/Hockenheimring</td></tr><tr><td>11</td><td>hungaroring</td><td>Hungaroring</td><td>Budapest</td><td>Hungary</td><td>47.5789</td><td>19.2486</td><td>264</td><td>http://en.wikipedia.org/wiki/Hungaroring</td></tr><tr><td>12</td><td>valencia</td><td>Valencia Street Circuit</td><td>Valencia</td><td>Spain</td><td>39.4589</td><td>-0.331667</td><td>4</td><td>http://en.wikipedia.org/wiki/Valencia_Street_Circuit</td></tr><tr><td>13</td><td>spa</td><td>Circuit de Spa-Francorchamps</td><td>Spa</td><td>Belgium</td><td>50.4372</td><td>5.97139</td><td>401</td><td>http://en.wikipedia.org/wiki/Circuit_de_Spa-Francorchamps</td></tr><tr><td>14</td><td>monza</td><td>Autodromo Nazionale di Monza</td><td>Monza</td><td>Italy</td><td>45.6156</td><td>9.28111</td><td>162</td><td>http://en.wikipedia.org/wiki/Autodromo_Nazionale_Monza</td></tr><tr><td>15</td><td>marina_bay</td><td>Marina Bay Street Circuit</td><td>Marina Bay</td><td>Singapore</td><td>1.2914</td><td>103.864</td><td>18</td><td>http://en.wikipedia.org/wiki/Marina_Bay_Street_Circuit</td></tr><tr><td>16</td><td>fuji</td><td>Fuji Speedway</td><td>Oyama</td><td>Japan</td><td>35.3717</td><td>138.927</td><td>583</td><td>http://en.wikipedia.org/wiki/Fuji_Speedway</td></tr><tr><td>17</td><td>shanghai</td><td>Shanghai International Circuit</td><td>Shanghai</td><td>China</td><td>31.3389</td><td>121.22</td><td>5</td><td>http://en.wikipedia.org/wiki/Shanghai_International_Circuit</td></tr><tr><td>18</td><td>interlagos</td><td>Autódromo José Carlos Pace</td><td>São Paulo</td><td>Brazil</td><td>-23.7036</td><td>-46.6997</td><td>785</td><td>http://en.wikipedia.org/wiki/Aut%C3%B3dromo_Jos%C3%A9_Carlos_Pace</td></tr><tr><td>19</td><td>indianapolis</td><td>Indianapolis Motor Speedway</td><td>Indianapolis</td><td>USA</td><td>39.795</td><td>-86.2347</td><td>223</td><td>http://en.wikipedia.org/wiki/Indianapolis_Motor_Speedway</td></tr><tr><td>20</td><td>nurburgring</td><td>Nürburgring</td><td>Nürburg</td><td>Germany</td><td>50.3356</td><td>6.9475</td><td>578</td><td>http://en.wikipedia.org/wiki/N%C3%BCrburgring</td></tr><tr><td>21</td><td>imola</td><td>Autodromo Enzo e Dino Ferrari</td><td>Imola</td><td>Italy</td><td>44.3439</td><td>11.7167</td><td>37</td><td>http://en.wikipedia.org/wiki/Autodromo_Enzo_e_Dino_Ferrari</td></tr><tr><td>22</td><td>suzuka</td><td>Suzuka Circuit</td><td>Suzuka</td><td>Japan</td><td>34.8431</td><td>136.541</td><td>45</td><td>http://en.wikipedia.org/wiki/Suzuka_Circuit</td></tr><tr><td>23</td><td>osterreichring</td><td>A1-Ring</td><td>Spielburg</td><td>Austria</td><td>47.2197</td><td>14.7647</td><td>678</td><td>http://en.wikipedia.org/wiki/A1-Ring</td></tr><tr><td>24</td><td>yas_marina</td><td>Yas Marina Circuit</td><td>Abu Dhabi</td><td>UAE</td><td>24.4672</td><td>54.6031</td><td>3</td><td>http://en.wikipedia.org/wiki/Yas_Marina_Circuit</td></tr><tr><td>25</td><td>galvez</td><td>Autódromo Juan y Oscar Gálvez</td><td>Buenos Aires</td><td>Argentina</td><td>-34.6943</td><td>-58.4593</td><td>8</td><td>http://en.wikipedia.org/wiki/Aut%C3%B3dromo_Oscar_Alfredo_G%C3%A1lvez</td></tr><tr><td>26</td><td>jerez</td><td>Circuito de Jerez</td><td>Jerez de la Frontera</td><td>Spain</td><td>36.7083</td><td>-6.03417</td><td>37</td><td>http://en.wikipedia.org/wiki/Circuito_Permanente_de_Jerez</td></tr><tr><td>27</td><td>estoril</td><td>Autódromo do Estoril</td><td>Estoril</td><td>Portugal</td><td>38.7506</td><td>-9.39417</td><td>130</td><td>http://en.wikipedia.org/wiki/Aut%C3%B3dromo_do_Estoril</td></tr><tr><td>28</td><td>okayama</td><td>Okayama International Circuit</td><td>Okayama</td><td>Japan</td><td>34.915</td><td>134.221</td><td>266</td><td>http://en.wikipedia.org/wiki/TI_Circuit</td></tr><tr><td>29</td><td>adelaide</td><td>Adelaide Street Circuit</td><td>Adelaide</td><td>Australia</td><td>-34.9272</td><td>138.617</td><td>58</td><td>http://en.wikipedia.org/wiki/Adelaide_Street_Circuit</td></tr><tr><td>30</td><td>kyalami</td><td>Kyalami</td><td>Midrand</td><td>South Africa</td><td>-25.9894</td><td>28.0767</td><td>1460</td><td>http://en.wikipedia.org/wiki/Kyalami</td></tr><tr><td>31</td><td>donington</td><td>Donington Park</td><td>Castle Donington</td><td>UK</td><td>52.8306</td><td>-1.37528</td><td>88</td><td>http://en.wikipedia.org/wiki/Donington_Park</td></tr><tr><td>32</td><td>rodriguez</td><td>Autódromo Hermanos Rodríguez</td><td>Mexico City</td><td>Mexico</td><td>19.4042</td><td>-99.0907</td><td>2227</td><td>http://en.wikipedia.org/wiki/Aut%C3%B3dromo_Hermanos_Rodr%C3%ADguez</td></tr><tr><td>33</td><td>phoenix</td><td>Phoenix street circuit</td><td>Phoenix</td><td>USA</td><td>33.4479</td><td>-112.075</td><td>345</td><td>http://en.wikipedia.org/wiki/Phoenix_street_circuit</td></tr><tr><td>34</td><td>ricard</td><td>Circuit Paul Ricard</td><td>Le Castellet</td><td>France</td><td>43.2506</td><td>5.79167</td><td>432</td><td>http://en.wikipedia.org/wiki/Paul_Ricard_Circuit</td></tr><tr><td>35</td><td>yeongam</td><td>Korean International Circuit</td><td>Yeongam County</td><td>Korea</td><td>34.7333</td><td>126.417</td><td>0</td><td>http://en.wikipedia.org/wiki/Korean_International_Circuit</td></tr><tr><td>36</td><td>jacarepagua</td><td>Autódromo Internacional Nelson Piquet</td><td>Rio de Janeiro</td><td>Brazil</td><td>-22.9756</td><td>-43.395</td><td>1126</td><td>http://en.wikipedia.org/wiki/Aut%C3%B3dromo_Internacional_Nelson_Piquet</td></tr><tr><td>37</td><td>detroit</td><td>Detroit Street Circuit</td><td>Detroit</td><td>USA</td><td>42.3298</td><td>-83.0401</td><td>177</td><td>http://en.wikipedia.org/wiki/Detroit_street_circuit</td></tr><tr><td>38</td><td>brands_hatch</td><td>Brands Hatch</td><td>Kent</td><td>UK</td><td>51.3569</td><td>0.263056</td><td>145</td><td>http://en.wikipedia.org/wiki/Brands_Hatch</td></tr><tr><td>39</td><td>zandvoort</td><td>Circuit Park Zandvoort</td><td>Zandvoort</td><td>Netherlands</td><td>52.3888</td><td>4.54092</td><td>6</td><td>http://en.wikipedia.org/wiki/Circuit_Zandvoort</td></tr><tr><td>40</td><td>zolder</td><td>Zolder</td><td>Heusden-Zolder</td><td>Belgium</td><td>50.9894</td><td>5.25694</td><td>36</td><td>http://en.wikipedia.org/wiki/Zolder</td></tr><tr><td>41</td><td>dijon</td><td>Dijon-Prenois</td><td>Dijon</td><td>France</td><td>47.3625</td><td>4.89913</td><td>484</td><td>http://en.wikipedia.org/wiki/Dijon-Prenois</td></tr><tr><td>42</td><td>dallas</td><td>Fair Park</td><td>Dallas</td><td>USA</td><td>32.7774</td><td>-96.7587</td><td>139</td><td>http://en.wikipedia.org/wiki/Fair_Park</td></tr><tr><td>43</td><td>long_beach</td><td>Long Beach</td><td>California</td><td>USA</td><td>33.7651</td><td>-118.189</td><td>12</td><td>http://en.wikipedia.org/wiki/Long_Beach,_California</td></tr><tr><td>44</td><td>las_vegas</td><td>Las Vegas Street Circuit</td><td>Nevada</td><td>USA</td><td>36.1162</td><td>-115.174</td><td>639</td><td>http://en.wikipedia.org/wiki/Las_Vegas,_Nevada</td></tr><tr><td>45</td><td>jarama</td><td>Jarama</td><td>Madrid</td><td>Spain</td><td>40.6171</td><td>-3.58558</td><td>609</td><td>http://en.wikipedia.org/wiki/Circuito_Permanente_Del_Jarama</td></tr><tr><td>46</td><td>watkins_glen</td><td>Watkins Glen</td><td>New York State</td><td>USA</td><td>42.3369</td><td>-76.9272</td><td>485</td><td>http://en.wikipedia.org/wiki/Watkins_Glen_International</td></tr><tr><td>47</td><td>anderstorp</td><td>Scandinavian Raceway</td><td>Anderstorp</td><td>Sweden</td><td>57.2653</td><td>13.6042</td><td>153</td><td>http://en.wikipedia.org/wiki/Scandinavian_Raceway</td></tr><tr><td>48</td><td>mosport</td><td>Mosport International Raceway</td><td>Ontario</td><td>Canada</td><td>44.0481</td><td>-78.6756</td><td>332</td><td>http://en.wikipedia.org/wiki/Mosport</td></tr><tr><td>49</td><td>montjuic</td><td>Montjuïc</td><td>Barcelona</td><td>Spain</td><td>41.3664</td><td>2.15167</td><td>79</td><td>http://en.wikipedia.org/wiki/Montju%C3%AFc_circuit</td></tr><tr><td>50</td><td>nivelles</td><td>Nivelles-Baulers</td><td>Brussels</td><td>Belgium</td><td>50.6211</td><td>4.32694</td><td>139</td><td>http://en.wikipedia.org/wiki/Nivelles-Baulers</td></tr><tr><td>51</td><td>charade</td><td>Charade Circuit</td><td>Clermont-Ferrand</td><td>France</td><td>45.7472</td><td>3.03889</td><td>790</td><td>http://en.wikipedia.org/wiki/Charade_Circuit</td></tr><tr><td>52</td><td>tremblant</td><td>Circuit Mont-Tremblant</td><td>Quebec</td><td>Canada</td><td>46.1877</td><td>-74.6099</td><td>214</td><td>http://en.wikipedia.org/wiki/Circuit_Mont-Tremblant</td></tr><tr><td>53</td><td>essarts</td><td>Rouen-Les-Essarts</td><td>Rouen</td><td>France</td><td>49.3306</td><td>1.00458</td><td>81</td><td>http://en.wikipedia.org/wiki/Rouen-Les-Essarts</td></tr><tr><td>54</td><td>lemans</td><td>Le Mans</td><td>Le Mans</td><td>France</td><td>47.95</td><td>0.224231</td><td>67</td><td>http://en.wikipedia.org/wiki/Circuit_de_la_Sarthe#Bugatti_Circuit</td></tr><tr><td>55</td><td>reims</td><td>Reims-Gueux</td><td>Reims</td><td>France</td><td>49.2542</td><td>3.93083</td><td>88</td><td>http://en.wikipedia.org/wiki/Reims-Gueux</td></tr><tr><td>56</td><td>george</td><td>Prince George Circuit</td><td>Eastern Cape Province</td><td>South Africa</td><td>-33.0486</td><td>27.8736</td><td>15</td><td>http://en.wikipedia.org/wiki/Prince_George_Circuit</td></tr><tr><td>57</td><td>zeltweg</td><td>Zeltweg</td><td>Styria</td><td>Austria</td><td>47.2039</td><td>14.7478</td><td>676</td><td>http://en.wikipedia.org/wiki/Zeltweg_Airfield</td></tr><tr><td>58</td><td>aintree</td><td>Aintree</td><td>Liverpool</td><td>UK</td><td>53.4769</td><td>-2.94056</td><td>20</td><td>http://en.wikipedia.org/wiki/Aintree_Motor_Racing_Circuit</td></tr><tr><td>59</td><td>boavista</td><td>Circuito da Boavista</td><td>Oporto</td><td>Portugal</td><td>41.1705</td><td>-8.67325</td><td>28</td><td>http://en.wikipedia.org/wiki/Circuito_da_Boavista</td></tr><tr><td>60</td><td>riverside</td><td>Riverside International Raceway</td><td>California</td><td>USA</td><td>33.937</td><td>-117.273</td><td>470</td><td>http://en.wikipedia.org/wiki/Riverside_International_Raceway</td></tr><tr><td>61</td><td>avus</td><td>AVUS</td><td>Berlin</td><td>Germany</td><td>52.4806</td><td>13.2514</td><td>53</td><td>http://en.wikipedia.org/wiki/AVUS</td></tr><tr><td>62</td><td>monsanto</td><td>Monsanto Park Circuit</td><td>Lisbon</td><td>Portugal</td><td>38.7197</td><td>-9.20306</td><td>158</td><td>http://en.wikipedia.org/wiki/Monsanto_Park_Circuit</td></tr><tr><td>63</td><td>sebring</td><td>Sebring International Raceway</td><td>Florida</td><td>USA</td><td>27.4547</td><td>-81.3483</td><td>18</td><td>http://en.wikipedia.org/wiki/Sebring_Raceway</td></tr><tr><td>64</td><td>ain-diab</td><td>Ain Diab</td><td>Casablanca</td><td>Morocco</td><td>33.5786</td><td>-7.6875</td><td>19</td><td>http://en.wikipedia.org/wiki/Ain-Diab_Circuit</td></tr><tr><td>65</td><td>pescara</td><td>Pescara Circuit</td><td>Pescara</td><td>Italy</td><td>42.475</td><td>14.1508</td><td>129</td><td>http://en.wikipedia.org/wiki/Pescara_Circuit</td></tr><tr><td>66</td><td>bremgarten</td><td>Circuit Bremgarten</td><td>Bern</td><td>Switzerland</td><td>46.9589</td><td>7.40194</td><td>551</td><td>http://en.wikipedia.org/wiki/Circuit_Bremgarten</td></tr><tr><td>67</td><td>pedralbes</td><td>Circuit de Pedralbes</td><td>Barcelona</td><td>Spain</td><td>41.3903</td><td>2.11667</td><td>85</td><td>http://en.wikipedia.org/wiki/Pedralbes_Circuit</td></tr><tr><td>68</td><td>buddh</td><td>Buddh International Circuit</td><td>Uttar Pradesh</td><td>India</td><td>28.3487</td><td>77.5331</td><td>194</td><td>http://en.wikipedia.org/wiki/Buddh_International_Circuit</td></tr><tr><td>69</td><td>americas</td><td>Circuit of the Americas</td><td>Austin</td><td>USA</td><td>30.1328</td><td>-97.6411</td><td>161</td><td>http://en.wikipedia.org/wiki/Circuit_of_the_Americas</td></tr><tr><td>70</td><td>red_bull_ring</td><td>Red Bull Ring</td><td>Spielburg</td><td>Austria</td><td>47.2197</td><td>14.7647</td><td>678</td><td>http://en.wikipedia.org/wiki/Red_Bull_Ring</td></tr><tr><td>71</td><td>sochi</td><td>Sochi Autodrom</td><td>Sochi</td><td>Russia</td><td>43.4057</td><td>39.9578</td><td>2</td><td>http://en.wikipedia.org/wiki/Sochi_Autodrom</td></tr><tr><td>72</td><td>port_imperial</td><td>Port Imperial Street Circuit</td><td>New Jersey</td><td>USA</td><td>40.7769</td><td>-74.0111</td><td>4</td><td>http://en.wikipedia.org/wiki/Port_Imperial_Street_Circuit</td></tr><tr><td>73</td><td>BAK</td><td>Baku City Circuit</td><td>Baku</td><td>Azerbaijan</td><td>40.3725</td><td>49.8533</td><td>-7</td><td>http://en.wikipedia.org/wiki/Baku_City_Circuit</td></tr><tr><td>74</td><td>hanoi</td><td>Hanoi Street Circuit</td><td>Hanoi</td><td>Vietnam</td><td>21.0166</td><td>105.766</td><td>9</td><td>http://en.wikipedia.org/wiki/Hanoi_Street_Circuit</td></tr><tr><td>75</td><td>portimao</td><td>Autódromo Internacional do Algarve</td><td>Portimão</td><td>Portugal</td><td>37.227</td><td>-8.6267</td><td>108</td><td>http://en.wikipedia.org/wiki/Algarve_International_Circuit</td></tr><tr><td>76</td><td>mugello</td><td>Autodromo Internazionale del Mugello</td><td>Mugello</td><td>Italy</td><td>43.9975</td><td>11.3719</td><td>255</td><td>http://en.wikipedia.org/wiki/Mugello_Circuit</td></tr><tr><td>77</td><td>jeddah</td><td>Jeddah Street Circuit</td><td>Jeddah</td><td>Saudi Arabia</td><td>21.5433</td><td>39.1728</td><td>15</td><td>http://en.wikipedia.org/wiki/Jeddah_Street_Circuit</td></tr></tbody></table></div>"
      ]
     },
     "metadata": {
      "application/vnd.databricks.v1+output": {
       "addedWidgets": {},
       "aggData": [],
       "aggError": "",
       "aggOverflow": false,
       "aggSchema": [],
       "aggSeriesLimitReached": false,
       "aggType": "",
       "arguments": {},
       "columnCustomDisplayInfos": {},
       "data": [
        [
         1,
         "albert_park",
         "Albert Park Grand Prix Circuit",
         "Melbourne",
         "Australia",
         -37.8497,
         144.968,
         10,
         "http://en.wikipedia.org/wiki/Melbourne_Grand_Prix_Circuit"
        ],
        [
         2,
         "sepang",
         "Sepang International Circuit",
         "Kuala Lumpur",
         "Malaysia",
         2.76083,
         101.738,
         18,
         "http://en.wikipedia.org/wiki/Sepang_International_Circuit"
        ],
        [
         3,
         "bahrain",
         "Bahrain International Circuit",
         "Sakhir",
         "Bahrain",
         26.0325,
         50.5106,
         7,
         "http://en.wikipedia.org/wiki/Bahrain_International_Circuit"
        ],
        [
         4,
         "catalunya",
         "Circuit de Barcelona-Catalunya",
         "Montmeló",
         "Spain",
         41.57,
         2.26111,
         109,
         "http://en.wikipedia.org/wiki/Circuit_de_Barcelona-Catalunya"
        ],
        [
         5,
         "istanbul",
         "Istanbul Park",
         "Istanbul",
         "Turkey",
         40.9517,
         29.405,
         130,
         "http://en.wikipedia.org/wiki/Istanbul_Park"
        ],
        [
         6,
         "monaco",
         "Circuit de Monaco",
         "Monte-Carlo",
         "Monaco",
         43.7347,
         7.42056,
         7,
         "http://en.wikipedia.org/wiki/Circuit_de_Monaco"
        ],
        [
         7,
         "villeneuve",
         "Circuit Gilles Villeneuve",
         "Montreal",
         "Canada",
         45.5,
         -73.5228,
         13,
         "http://en.wikipedia.org/wiki/Circuit_Gilles_Villeneuve"
        ],
        [
         8,
         "magny_cours",
         "Circuit de Nevers Magny-Cours",
         "Magny Cours",
         "France",
         46.8642,
         3.16361,
         228,
         "http://en.wikipedia.org/wiki/Circuit_de_Nevers_Magny-Cours"
        ],
        [
         9,
         "silverstone",
         "Silverstone Circuit",
         "Silverstone",
         "UK",
         52.0786,
         -1.01694,
         153,
         "http://en.wikipedia.org/wiki/Silverstone_Circuit"
        ],
        [
         10,
         "hockenheimring",
         "Hockenheimring",
         "Hockenheim",
         "Germany",
         49.3278,
         8.56583,
         103,
         "http://en.wikipedia.org/wiki/Hockenheimring"
        ],
        [
         11,
         "hungaroring",
         "Hungaroring",
         "Budapest",
         "Hungary",
         47.5789,
         19.2486,
         264,
         "http://en.wikipedia.org/wiki/Hungaroring"
        ],
        [
         12,
         "valencia",
         "Valencia Street Circuit",
         "Valencia",
         "Spain",
         39.4589,
         -0.331667,
         4,
         "http://en.wikipedia.org/wiki/Valencia_Street_Circuit"
        ],
        [
         13,
         "spa",
         "Circuit de Spa-Francorchamps",
         "Spa",
         "Belgium",
         50.4372,
         5.97139,
         401,
         "http://en.wikipedia.org/wiki/Circuit_de_Spa-Francorchamps"
        ],
        [
         14,
         "monza",
         "Autodromo Nazionale di Monza",
         "Monza",
         "Italy",
         45.6156,
         9.28111,
         162,
         "http://en.wikipedia.org/wiki/Autodromo_Nazionale_Monza"
        ],
        [
         15,
         "marina_bay",
         "Marina Bay Street Circuit",
         "Marina Bay",
         "Singapore",
         1.2914,
         103.864,
         18,
         "http://en.wikipedia.org/wiki/Marina_Bay_Street_Circuit"
        ],
        [
         16,
         "fuji",
         "Fuji Speedway",
         "Oyama",
         "Japan",
         35.3717,
         138.927,
         583,
         "http://en.wikipedia.org/wiki/Fuji_Speedway"
        ],
        [
         17,
         "shanghai",
         "Shanghai International Circuit",
         "Shanghai",
         "China",
         31.3389,
         121.22,
         5,
         "http://en.wikipedia.org/wiki/Shanghai_International_Circuit"
        ],
        [
         18,
         "interlagos",
         "Autódromo José Carlos Pace",
         "São Paulo",
         "Brazil",
         -23.7036,
         -46.6997,
         785,
         "http://en.wikipedia.org/wiki/Aut%C3%B3dromo_Jos%C3%A9_Carlos_Pace"
        ],
        [
         19,
         "indianapolis",
         "Indianapolis Motor Speedway",
         "Indianapolis",
         "USA",
         39.795,
         -86.2347,
         223,
         "http://en.wikipedia.org/wiki/Indianapolis_Motor_Speedway"
        ],
        [
         20,
         "nurburgring",
         "Nürburgring",
         "Nürburg",
         "Germany",
         50.3356,
         6.9475,
         578,
         "http://en.wikipedia.org/wiki/N%C3%BCrburgring"
        ],
        [
         21,
         "imola",
         "Autodromo Enzo e Dino Ferrari",
         "Imola",
         "Italy",
         44.3439,
         11.7167,
         37,
         "http://en.wikipedia.org/wiki/Autodromo_Enzo_e_Dino_Ferrari"
        ],
        [
         22,
         "suzuka",
         "Suzuka Circuit",
         "Suzuka",
         "Japan",
         34.8431,
         136.541,
         45,
         "http://en.wikipedia.org/wiki/Suzuka_Circuit"
        ],
        [
         23,
         "osterreichring",
         "A1-Ring",
         "Spielburg",
         "Austria",
         47.2197,
         14.7647,
         678,
         "http://en.wikipedia.org/wiki/A1-Ring"
        ],
        [
         24,
         "yas_marina",
         "Yas Marina Circuit",
         "Abu Dhabi",
         "UAE",
         24.4672,
         54.6031,
         3,
         "http://en.wikipedia.org/wiki/Yas_Marina_Circuit"
        ],
        [
         25,
         "galvez",
         "Autódromo Juan y Oscar Gálvez",
         "Buenos Aires",
         "Argentina",
         -34.6943,
         -58.4593,
         8,
         "http://en.wikipedia.org/wiki/Aut%C3%B3dromo_Oscar_Alfredo_G%C3%A1lvez"
        ],
        [
         26,
         "jerez",
         "Circuito de Jerez",
         "Jerez de la Frontera",
         "Spain",
         36.7083,
         -6.03417,
         37,
         "http://en.wikipedia.org/wiki/Circuito_Permanente_de_Jerez"
        ],
        [
         27,
         "estoril",
         "Autódromo do Estoril",
         "Estoril",
         "Portugal",
         38.7506,
         -9.39417,
         130,
         "http://en.wikipedia.org/wiki/Aut%C3%B3dromo_do_Estoril"
        ],
        [
         28,
         "okayama",
         "Okayama International Circuit",
         "Okayama",
         "Japan",
         34.915,
         134.221,
         266,
         "http://en.wikipedia.org/wiki/TI_Circuit"
        ],
        [
         29,
         "adelaide",
         "Adelaide Street Circuit",
         "Adelaide",
         "Australia",
         -34.9272,
         138.617,
         58,
         "http://en.wikipedia.org/wiki/Adelaide_Street_Circuit"
        ],
        [
         30,
         "kyalami",
         "Kyalami",
         "Midrand",
         "South Africa",
         -25.9894,
         28.0767,
         1460,
         "http://en.wikipedia.org/wiki/Kyalami"
        ],
        [
         31,
         "donington",
         "Donington Park",
         "Castle Donington",
         "UK",
         52.8306,
         -1.37528,
         88,
         "http://en.wikipedia.org/wiki/Donington_Park"
        ],
        [
         32,
         "rodriguez",
         "Autódromo Hermanos Rodríguez",
         "Mexico City",
         "Mexico",
         19.4042,
         -99.0907,
         2227,
         "http://en.wikipedia.org/wiki/Aut%C3%B3dromo_Hermanos_Rodr%C3%ADguez"
        ],
        [
         33,
         "phoenix",
         "Phoenix street circuit",
         "Phoenix",
         "USA",
         33.4479,
         -112.075,
         345,
         "http://en.wikipedia.org/wiki/Phoenix_street_circuit"
        ],
        [
         34,
         "ricard",
         "Circuit Paul Ricard",
         "Le Castellet",
         "France",
         43.2506,
         5.79167,
         432,
         "http://en.wikipedia.org/wiki/Paul_Ricard_Circuit"
        ],
        [
         35,
         "yeongam",
         "Korean International Circuit",
         "Yeongam County",
         "Korea",
         34.7333,
         126.417,
         0,
         "http://en.wikipedia.org/wiki/Korean_International_Circuit"
        ],
        [
         36,
         "jacarepagua",
         "Autódromo Internacional Nelson Piquet",
         "Rio de Janeiro",
         "Brazil",
         -22.9756,
         -43.395,
         1126,
         "http://en.wikipedia.org/wiki/Aut%C3%B3dromo_Internacional_Nelson_Piquet"
        ],
        [
         37,
         "detroit",
         "Detroit Street Circuit",
         "Detroit",
         "USA",
         42.3298,
         -83.0401,
         177,
         "http://en.wikipedia.org/wiki/Detroit_street_circuit"
        ],
        [
         38,
         "brands_hatch",
         "Brands Hatch",
         "Kent",
         "UK",
         51.3569,
         0.263056,
         145,
         "http://en.wikipedia.org/wiki/Brands_Hatch"
        ],
        [
         39,
         "zandvoort",
         "Circuit Park Zandvoort",
         "Zandvoort",
         "Netherlands",
         52.3888,
         4.54092,
         6,
         "http://en.wikipedia.org/wiki/Circuit_Zandvoort"
        ],
        [
         40,
         "zolder",
         "Zolder",
         "Heusden-Zolder",
         "Belgium",
         50.9894,
         5.25694,
         36,
         "http://en.wikipedia.org/wiki/Zolder"
        ],
        [
         41,
         "dijon",
         "Dijon-Prenois",
         "Dijon",
         "France",
         47.3625,
         4.89913,
         484,
         "http://en.wikipedia.org/wiki/Dijon-Prenois"
        ],
        [
         42,
         "dallas",
         "Fair Park",
         "Dallas",
         "USA",
         32.7774,
         -96.7587,
         139,
         "http://en.wikipedia.org/wiki/Fair_Park"
        ],
        [
         43,
         "long_beach",
         "Long Beach",
         "California",
         "USA",
         33.7651,
         -118.189,
         12,
         "http://en.wikipedia.org/wiki/Long_Beach,_California"
        ],
        [
         44,
         "las_vegas",
         "Las Vegas Street Circuit",
         "Nevada",
         "USA",
         36.1162,
         -115.174,
         639,
         "http://en.wikipedia.org/wiki/Las_Vegas,_Nevada"
        ],
        [
         45,
         "jarama",
         "Jarama",
         "Madrid",
         "Spain",
         40.6171,
         -3.58558,
         609,
         "http://en.wikipedia.org/wiki/Circuito_Permanente_Del_Jarama"
        ],
        [
         46,
         "watkins_glen",
         "Watkins Glen",
         "New York State",
         "USA",
         42.3369,
         -76.9272,
         485,
         "http://en.wikipedia.org/wiki/Watkins_Glen_International"
        ],
        [
         47,
         "anderstorp",
         "Scandinavian Raceway",
         "Anderstorp",
         "Sweden",
         57.2653,
         13.6042,
         153,
         "http://en.wikipedia.org/wiki/Scandinavian_Raceway"
        ],
        [
         48,
         "mosport",
         "Mosport International Raceway",
         "Ontario",
         "Canada",
         44.0481,
         -78.6756,
         332,
         "http://en.wikipedia.org/wiki/Mosport"
        ],
        [
         49,
         "montjuic",
         "Montjuïc",
         "Barcelona",
         "Spain",
         41.3664,
         2.15167,
         79,
         "http://en.wikipedia.org/wiki/Montju%C3%AFc_circuit"
        ],
        [
         50,
         "nivelles",
         "Nivelles-Baulers",
         "Brussels",
         "Belgium",
         50.6211,
         4.32694,
         139,
         "http://en.wikipedia.org/wiki/Nivelles-Baulers"
        ],
        [
         51,
         "charade",
         "Charade Circuit",
         "Clermont-Ferrand",
         "France",
         45.7472,
         3.03889,
         790,
         "http://en.wikipedia.org/wiki/Charade_Circuit"
        ],
        [
         52,
         "tremblant",
         "Circuit Mont-Tremblant",
         "Quebec",
         "Canada",
         46.1877,
         -74.6099,
         214,
         "http://en.wikipedia.org/wiki/Circuit_Mont-Tremblant"
        ],
        [
         53,
         "essarts",
         "Rouen-Les-Essarts",
         "Rouen",
         "France",
         49.3306,
         1.00458,
         81,
         "http://en.wikipedia.org/wiki/Rouen-Les-Essarts"
        ],
        [
         54,
         "lemans",
         "Le Mans",
         "Le Mans",
         "France",
         47.95,
         0.224231,
         67,
         "http://en.wikipedia.org/wiki/Circuit_de_la_Sarthe#Bugatti_Circuit"
        ],
        [
         55,
         "reims",
         "Reims-Gueux",
         "Reims",
         "France",
         49.2542,
         3.93083,
         88,
         "http://en.wikipedia.org/wiki/Reims-Gueux"
        ],
        [
         56,
         "george",
         "Prince George Circuit",
         "Eastern Cape Province",
         "South Africa",
         -33.0486,
         27.8736,
         15,
         "http://en.wikipedia.org/wiki/Prince_George_Circuit"
        ],
        [
         57,
         "zeltweg",
         "Zeltweg",
         "Styria",
         "Austria",
         47.2039,
         14.7478,
         676,
         "http://en.wikipedia.org/wiki/Zeltweg_Airfield"
        ],
        [
         58,
         "aintree",
         "Aintree",
         "Liverpool",
         "UK",
         53.4769,
         -2.94056,
         20,
         "http://en.wikipedia.org/wiki/Aintree_Motor_Racing_Circuit"
        ],
        [
         59,
         "boavista",
         "Circuito da Boavista",
         "Oporto",
         "Portugal",
         41.1705,
         -8.67325,
         28,
         "http://en.wikipedia.org/wiki/Circuito_da_Boavista"
        ],
        [
         60,
         "riverside",
         "Riverside International Raceway",
         "California",
         "USA",
         33.937,
         -117.273,
         470,
         "http://en.wikipedia.org/wiki/Riverside_International_Raceway"
        ],
        [
         61,
         "avus",
         "AVUS",
         "Berlin",
         "Germany",
         52.4806,
         13.2514,
         53,
         "http://en.wikipedia.org/wiki/AVUS"
        ],
        [
         62,
         "monsanto",
         "Monsanto Park Circuit",
         "Lisbon",
         "Portugal",
         38.7197,
         -9.20306,
         158,
         "http://en.wikipedia.org/wiki/Monsanto_Park_Circuit"
        ],
        [
         63,
         "sebring",
         "Sebring International Raceway",
         "Florida",
         "USA",
         27.4547,
         -81.3483,
         18,
         "http://en.wikipedia.org/wiki/Sebring_Raceway"
        ],
        [
         64,
         "ain-diab",
         "Ain Diab",
         "Casablanca",
         "Morocco",
         33.5786,
         -7.6875,
         19,
         "http://en.wikipedia.org/wiki/Ain-Diab_Circuit"
        ],
        [
         65,
         "pescara",
         "Pescara Circuit",
         "Pescara",
         "Italy",
         42.475,
         14.1508,
         129,
         "http://en.wikipedia.org/wiki/Pescara_Circuit"
        ],
        [
         66,
         "bremgarten",
         "Circuit Bremgarten",
         "Bern",
         "Switzerland",
         46.9589,
         7.40194,
         551,
         "http://en.wikipedia.org/wiki/Circuit_Bremgarten"
        ],
        [
         67,
         "pedralbes",
         "Circuit de Pedralbes",
         "Barcelona",
         "Spain",
         41.3903,
         2.11667,
         85,
         "http://en.wikipedia.org/wiki/Pedralbes_Circuit"
        ],
        [
         68,
         "buddh",
         "Buddh International Circuit",
         "Uttar Pradesh",
         "India",
         28.3487,
         77.5331,
         194,
         "http://en.wikipedia.org/wiki/Buddh_International_Circuit"
        ],
        [
         69,
         "americas",
         "Circuit of the Americas",
         "Austin",
         "USA",
         30.1328,
         -97.6411,
         161,
         "http://en.wikipedia.org/wiki/Circuit_of_the_Americas"
        ],
        [
         70,
         "red_bull_ring",
         "Red Bull Ring",
         "Spielburg",
         "Austria",
         47.2197,
         14.7647,
         678,
         "http://en.wikipedia.org/wiki/Red_Bull_Ring"
        ],
        [
         71,
         "sochi",
         "Sochi Autodrom",
         "Sochi",
         "Russia",
         43.4057,
         39.9578,
         2,
         "http://en.wikipedia.org/wiki/Sochi_Autodrom"
        ],
        [
         72,
         "port_imperial",
         "Port Imperial Street Circuit",
         "New Jersey",
         "USA",
         40.7769,
         -74.0111,
         4,
         "http://en.wikipedia.org/wiki/Port_Imperial_Street_Circuit"
        ],
        [
         73,
         "BAK",
         "Baku City Circuit",
         "Baku",
         "Azerbaijan",
         40.3725,
         49.8533,
         -7,
         "http://en.wikipedia.org/wiki/Baku_City_Circuit"
        ],
        [
         74,
         "hanoi",
         "Hanoi Street Circuit",
         "Hanoi",
         "Vietnam",
         21.0166,
         105.766,
         9,
         "http://en.wikipedia.org/wiki/Hanoi_Street_Circuit"
        ],
        [
         75,
         "portimao",
         "Autódromo Internacional do Algarve",
         "Portimão",
         "Portugal",
         37.227,
         -8.6267,
         108,
         "http://en.wikipedia.org/wiki/Algarve_International_Circuit"
        ],
        [
         76,
         "mugello",
         "Autodromo Internazionale del Mugello",
         "Mugello",
         "Italy",
         43.9975,
         11.3719,
         255,
         "http://en.wikipedia.org/wiki/Mugello_Circuit"
        ],
        [
         77,
         "jeddah",
         "Jeddah Street Circuit",
         "Jeddah",
         "Saudi Arabia",
         21.5433,
         39.1728,
         15,
         "http://en.wikipedia.org/wiki/Jeddah_Street_Circuit"
        ]
       ],
       "datasetInfos": [],
       "dbfsResultPath": null,
       "isJsonSchema": true,
       "metadata": {},
       "overflow": false,
       "plotOptions": {
        "customPlotOptions": {},
        "displayType": "table",
        "pivotAggregation": null,
        "pivotColumns": null,
        "xColumns": null,
        "yColumns": null
       },
       "removedWidgets": [],
       "schema": [
        {
         "metadata": "{}",
         "name": "circuitId",
         "type": "\"integer\""
        },
        {
         "metadata": "{}",
         "name": "circuitRef",
         "type": "\"string\""
        },
        {
         "metadata": "{}",
         "name": "name",
         "type": "\"string\""
        },
        {
         "metadata": "{}",
         "name": "location",
         "type": "\"string\""
        },
        {
         "metadata": "{}",
         "name": "country",
         "type": "\"string\""
        },
        {
         "metadata": "{}",
         "name": "lat",
         "type": "\"double\""
        },
        {
         "metadata": "{}",
         "name": "lng",
         "type": "\"double\""
        },
        {
         "metadata": "{}",
         "name": "alt",
         "type": "\"integer\""
        },
        {
         "metadata": "{}",
         "name": "url",
         "type": "\"string\""
        }
       ],
       "type": "table"
      }
     },
     "output_type": "display_data"
    }
   ],
   "source": [
    "display(circuits_df)"
   ]
  },
  {
   "cell_type": "markdown",
   "metadata": {
    "application/vnd.databricks.v1+cell": {
     "cellMetadata": {
      "byteLimit": 2048000,
      "rowLimit": 10000
     },
     "inputWidgets": {},
     "nuid": "190f5e8e-8015-4261-95f8-de1fc7ad9ffb",
     "showTitle": false,
     "tableResultSettingsMap": {},
     "title": ""
    }
   },
   "source": [
    "#### Further processing 1\n",
    "1. From the above dataframe we don't need URL, so either select only the required columns or drop the unwanted column url\n",
    "2. Rename the following columns\n",
    "  - circuitId ---> circuit_id\n",
    "  - circuitRef ---> circuit_ref\n",
    "  - name ---> circuit_name\n",
    "  - location ---> circuit_location\n",
    "  - country ---> circuit_country\n",
    "  - lat ---> circuit_latitude\n",
    "  - long ---> circuit_longitude\n",
    "  - alt ---> circuit_altitude\n",
    "3. Add the audit column ingestion_date"
   ]
  },
  {
   "cell_type": "code",
   "execution_count": 0,
   "metadata": {
    "application/vnd.databricks.v1+cell": {
     "cellMetadata": {
      "byteLimit": 2048000,
      "rowLimit": 10000
     },
     "inputWidgets": {},
     "nuid": "a380cdf5-9d13-47e9-a250-ab1c77578683",
     "showTitle": false,
     "tableResultSettingsMap": {},
     "title": ""
    }
   },
   "outputs": [],
   "source": [
    "from pyspark.sql.functions import col, lit"
   ]
  },
  {
   "cell_type": "code",
   "execution_count": 0,
   "metadata": {
    "application/vnd.databricks.v1+cell": {
     "cellMetadata": {
      "byteLimit": 2048000,
      "rowLimit": 10000
     },
     "inputWidgets": {},
     "nuid": "1df6c40d-ea3f-4f87-b17c-b6cb41a7cbf4",
     "showTitle": false,
     "tableResultSettingsMap": {},
     "title": ""
    }
   },
   "outputs": [],
   "source": [
    "# you can col, dataframe.col() to select columns here I used the simple method\n",
    "# Can be used like this as well\n",
    "# circuits_df_selected = circuits_df.select(col(\"circuitId\").alias(\"circuit_id\"), col(\"circuitRef\").alias(\"circuit_ref\"), col(\"name\").alias(\"circuit_name\"), col(\"location\").alias(\"circuit_location\"), col(\"country\").alias(\"circuit_country\"), col(\"lat\").alias(\"circuit_lat\"), col(\"lng\").alias(\"circuit_lng\"), col(\"alt\").alias(\"circuit_alt\"))\n",
    "# Can be used like this as well\n",
    "# circuits_df_selected = circuits_df.select(circuits_df.circuitId.alias(\"circuit_id\"), ......)\n",
    "circuits_df_selected = circuits_df.select(\"circuitId\", \"circuitRef\", \"name\", \"location\", \"country\", \"lat\", \"lng\", \"alt\").withColumn(\"file_date\", lit(v_file_date))\n"
   ]
  },
  {
   "cell_type": "code",
   "execution_count": 0,
   "metadata": {
    "application/vnd.databricks.v1+cell": {
     "cellMetadata": {
      "byteLimit": 2048000,
      "rowLimit": 10000
     },
     "inputWidgets": {},
     "nuid": "7a0ebf4f-2fe2-4e7c-9bae-72d3cc62e401",
     "showTitle": false,
     "tableResultSettingsMap": {},
     "title": ""
    }
   },
   "outputs": [
    {
     "output_type": "display_data",
     "data": {
      "text/html": [
       "<style scoped>\n",
       "  .table-result-container {\n",
       "    max-height: 300px;\n",
       "    overflow: auto;\n",
       "  }\n",
       "  table, th, td {\n",
       "    border: 1px solid black;\n",
       "    border-collapse: collapse;\n",
       "  }\n",
       "  th, td {\n",
       "    padding: 5px;\n",
       "  }\n",
       "  th {\n",
       "    text-align: left;\n",
       "  }\n",
       "</style><div class='table-result-container'><table class='table-result'><thead style='background-color: white'><tr><th>circuitId</th><th>circuitRef</th><th>name</th><th>location</th><th>country</th><th>lat</th><th>lng</th><th>alt</th><th>file_date</th></tr></thead><tbody><tr><td>1</td><td>albert_park</td><td>Albert Park Grand Prix Circuit</td><td>Melbourne</td><td>Australia</td><td>-37.8497</td><td>144.968</td><td>10</td><td>2021-03-21</td></tr><tr><td>2</td><td>sepang</td><td>Sepang International Circuit</td><td>Kuala Lumpur</td><td>Malaysia</td><td>2.76083</td><td>101.738</td><td>18</td><td>2021-03-21</td></tr><tr><td>3</td><td>bahrain</td><td>Bahrain International Circuit</td><td>Sakhir</td><td>Bahrain</td><td>26.0325</td><td>50.5106</td><td>7</td><td>2021-03-21</td></tr><tr><td>4</td><td>catalunya</td><td>Circuit de Barcelona-Catalunya</td><td>Montmeló</td><td>Spain</td><td>41.57</td><td>2.26111</td><td>109</td><td>2021-03-21</td></tr><tr><td>5</td><td>istanbul</td><td>Istanbul Park</td><td>Istanbul</td><td>Turkey</td><td>40.9517</td><td>29.405</td><td>130</td><td>2021-03-21</td></tr><tr><td>6</td><td>monaco</td><td>Circuit de Monaco</td><td>Monte-Carlo</td><td>Monaco</td><td>43.7347</td><td>7.42056</td><td>7</td><td>2021-03-21</td></tr><tr><td>7</td><td>villeneuve</td><td>Circuit Gilles Villeneuve</td><td>Montreal</td><td>Canada</td><td>45.5</td><td>-73.5228</td><td>13</td><td>2021-03-21</td></tr><tr><td>8</td><td>magny_cours</td><td>Circuit de Nevers Magny-Cours</td><td>Magny Cours</td><td>France</td><td>46.8642</td><td>3.16361</td><td>228</td><td>2021-03-21</td></tr><tr><td>9</td><td>silverstone</td><td>Silverstone Circuit</td><td>Silverstone</td><td>UK</td><td>52.0786</td><td>-1.01694</td><td>153</td><td>2021-03-21</td></tr><tr><td>10</td><td>hockenheimring</td><td>Hockenheimring</td><td>Hockenheim</td><td>Germany</td><td>49.3278</td><td>8.56583</td><td>103</td><td>2021-03-21</td></tr><tr><td>11</td><td>hungaroring</td><td>Hungaroring</td><td>Budapest</td><td>Hungary</td><td>47.5789</td><td>19.2486</td><td>264</td><td>2021-03-21</td></tr><tr><td>12</td><td>valencia</td><td>Valencia Street Circuit</td><td>Valencia</td><td>Spain</td><td>39.4589</td><td>-0.331667</td><td>4</td><td>2021-03-21</td></tr><tr><td>13</td><td>spa</td><td>Circuit de Spa-Francorchamps</td><td>Spa</td><td>Belgium</td><td>50.4372</td><td>5.97139</td><td>401</td><td>2021-03-21</td></tr><tr><td>14</td><td>monza</td><td>Autodromo Nazionale di Monza</td><td>Monza</td><td>Italy</td><td>45.6156</td><td>9.28111</td><td>162</td><td>2021-03-21</td></tr><tr><td>15</td><td>marina_bay</td><td>Marina Bay Street Circuit</td><td>Marina Bay</td><td>Singapore</td><td>1.2914</td><td>103.864</td><td>18</td><td>2021-03-21</td></tr><tr><td>16</td><td>fuji</td><td>Fuji Speedway</td><td>Oyama</td><td>Japan</td><td>35.3717</td><td>138.927</td><td>583</td><td>2021-03-21</td></tr><tr><td>17</td><td>shanghai</td><td>Shanghai International Circuit</td><td>Shanghai</td><td>China</td><td>31.3389</td><td>121.22</td><td>5</td><td>2021-03-21</td></tr><tr><td>18</td><td>interlagos</td><td>Autódromo José Carlos Pace</td><td>São Paulo</td><td>Brazil</td><td>-23.7036</td><td>-46.6997</td><td>785</td><td>2021-03-21</td></tr><tr><td>19</td><td>indianapolis</td><td>Indianapolis Motor Speedway</td><td>Indianapolis</td><td>USA</td><td>39.795</td><td>-86.2347</td><td>223</td><td>2021-03-21</td></tr><tr><td>20</td><td>nurburgring</td><td>Nürburgring</td><td>Nürburg</td><td>Germany</td><td>50.3356</td><td>6.9475</td><td>578</td><td>2021-03-21</td></tr><tr><td>21</td><td>imola</td><td>Autodromo Enzo e Dino Ferrari</td><td>Imola</td><td>Italy</td><td>44.3439</td><td>11.7167</td><td>37</td><td>2021-03-21</td></tr><tr><td>22</td><td>suzuka</td><td>Suzuka Circuit</td><td>Suzuka</td><td>Japan</td><td>34.8431</td><td>136.541</td><td>45</td><td>2021-03-21</td></tr><tr><td>23</td><td>osterreichring</td><td>A1-Ring</td><td>Spielburg</td><td>Austria</td><td>47.2197</td><td>14.7647</td><td>678</td><td>2021-03-21</td></tr><tr><td>24</td><td>yas_marina</td><td>Yas Marina Circuit</td><td>Abu Dhabi</td><td>UAE</td><td>24.4672</td><td>54.6031</td><td>3</td><td>2021-03-21</td></tr><tr><td>25</td><td>galvez</td><td>Autódromo Juan y Oscar Gálvez</td><td>Buenos Aires</td><td>Argentina</td><td>-34.6943</td><td>-58.4593</td><td>8</td><td>2021-03-21</td></tr><tr><td>26</td><td>jerez</td><td>Circuito de Jerez</td><td>Jerez de la Frontera</td><td>Spain</td><td>36.7083</td><td>-6.03417</td><td>37</td><td>2021-03-21</td></tr><tr><td>27</td><td>estoril</td><td>Autódromo do Estoril</td><td>Estoril</td><td>Portugal</td><td>38.7506</td><td>-9.39417</td><td>130</td><td>2021-03-21</td></tr><tr><td>28</td><td>okayama</td><td>Okayama International Circuit</td><td>Okayama</td><td>Japan</td><td>34.915</td><td>134.221</td><td>266</td><td>2021-03-21</td></tr><tr><td>29</td><td>adelaide</td><td>Adelaide Street Circuit</td><td>Adelaide</td><td>Australia</td><td>-34.9272</td><td>138.617</td><td>58</td><td>2021-03-21</td></tr><tr><td>30</td><td>kyalami</td><td>Kyalami</td><td>Midrand</td><td>South Africa</td><td>-25.9894</td><td>28.0767</td><td>1460</td><td>2021-03-21</td></tr><tr><td>31</td><td>donington</td><td>Donington Park</td><td>Castle Donington</td><td>UK</td><td>52.8306</td><td>-1.37528</td><td>88</td><td>2021-03-21</td></tr><tr><td>32</td><td>rodriguez</td><td>Autódromo Hermanos Rodríguez</td><td>Mexico City</td><td>Mexico</td><td>19.4042</td><td>-99.0907</td><td>2227</td><td>2021-03-21</td></tr><tr><td>33</td><td>phoenix</td><td>Phoenix street circuit</td><td>Phoenix</td><td>USA</td><td>33.4479</td><td>-112.075</td><td>345</td><td>2021-03-21</td></tr><tr><td>34</td><td>ricard</td><td>Circuit Paul Ricard</td><td>Le Castellet</td><td>France</td><td>43.2506</td><td>5.79167</td><td>432</td><td>2021-03-21</td></tr><tr><td>35</td><td>yeongam</td><td>Korean International Circuit</td><td>Yeongam County</td><td>Korea</td><td>34.7333</td><td>126.417</td><td>0</td><td>2021-03-21</td></tr><tr><td>36</td><td>jacarepagua</td><td>Autódromo Internacional Nelson Piquet</td><td>Rio de Janeiro</td><td>Brazil</td><td>-22.9756</td><td>-43.395</td><td>1126</td><td>2021-03-21</td></tr><tr><td>37</td><td>detroit</td><td>Detroit Street Circuit</td><td>Detroit</td><td>USA</td><td>42.3298</td><td>-83.0401</td><td>177</td><td>2021-03-21</td></tr><tr><td>38</td><td>brands_hatch</td><td>Brands Hatch</td><td>Kent</td><td>UK</td><td>51.3569</td><td>0.263056</td><td>145</td><td>2021-03-21</td></tr><tr><td>39</td><td>zandvoort</td><td>Circuit Park Zandvoort</td><td>Zandvoort</td><td>Netherlands</td><td>52.3888</td><td>4.54092</td><td>6</td><td>2021-03-21</td></tr><tr><td>40</td><td>zolder</td><td>Zolder</td><td>Heusden-Zolder</td><td>Belgium</td><td>50.9894</td><td>5.25694</td><td>36</td><td>2021-03-21</td></tr><tr><td>41</td><td>dijon</td><td>Dijon-Prenois</td><td>Dijon</td><td>France</td><td>47.3625</td><td>4.89913</td><td>484</td><td>2021-03-21</td></tr><tr><td>42</td><td>dallas</td><td>Fair Park</td><td>Dallas</td><td>USA</td><td>32.7774</td><td>-96.7587</td><td>139</td><td>2021-03-21</td></tr><tr><td>43</td><td>long_beach</td><td>Long Beach</td><td>California</td><td>USA</td><td>33.7651</td><td>-118.189</td><td>12</td><td>2021-03-21</td></tr><tr><td>44</td><td>las_vegas</td><td>Las Vegas Street Circuit</td><td>Nevada</td><td>USA</td><td>36.1162</td><td>-115.174</td><td>639</td><td>2021-03-21</td></tr><tr><td>45</td><td>jarama</td><td>Jarama</td><td>Madrid</td><td>Spain</td><td>40.6171</td><td>-3.58558</td><td>609</td><td>2021-03-21</td></tr><tr><td>46</td><td>watkins_glen</td><td>Watkins Glen</td><td>New York State</td><td>USA</td><td>42.3369</td><td>-76.9272</td><td>485</td><td>2021-03-21</td></tr><tr><td>47</td><td>anderstorp</td><td>Scandinavian Raceway</td><td>Anderstorp</td><td>Sweden</td><td>57.2653</td><td>13.6042</td><td>153</td><td>2021-03-21</td></tr><tr><td>48</td><td>mosport</td><td>Mosport International Raceway</td><td>Ontario</td><td>Canada</td><td>44.0481</td><td>-78.6756</td><td>332</td><td>2021-03-21</td></tr><tr><td>49</td><td>montjuic</td><td>Montjuïc</td><td>Barcelona</td><td>Spain</td><td>41.3664</td><td>2.15167</td><td>79</td><td>2021-03-21</td></tr><tr><td>50</td><td>nivelles</td><td>Nivelles-Baulers</td><td>Brussels</td><td>Belgium</td><td>50.6211</td><td>4.32694</td><td>139</td><td>2021-03-21</td></tr><tr><td>51</td><td>charade</td><td>Charade Circuit</td><td>Clermont-Ferrand</td><td>France</td><td>45.7472</td><td>3.03889</td><td>790</td><td>2021-03-21</td></tr><tr><td>52</td><td>tremblant</td><td>Circuit Mont-Tremblant</td><td>Quebec</td><td>Canada</td><td>46.1877</td><td>-74.6099</td><td>214</td><td>2021-03-21</td></tr><tr><td>53</td><td>essarts</td><td>Rouen-Les-Essarts</td><td>Rouen</td><td>France</td><td>49.3306</td><td>1.00458</td><td>81</td><td>2021-03-21</td></tr><tr><td>54</td><td>lemans</td><td>Le Mans</td><td>Le Mans</td><td>France</td><td>47.95</td><td>0.224231</td><td>67</td><td>2021-03-21</td></tr><tr><td>55</td><td>reims</td><td>Reims-Gueux</td><td>Reims</td><td>France</td><td>49.2542</td><td>3.93083</td><td>88</td><td>2021-03-21</td></tr><tr><td>56</td><td>george</td><td>Prince George Circuit</td><td>Eastern Cape Province</td><td>South Africa</td><td>-33.0486</td><td>27.8736</td><td>15</td><td>2021-03-21</td></tr><tr><td>57</td><td>zeltweg</td><td>Zeltweg</td><td>Styria</td><td>Austria</td><td>47.2039</td><td>14.7478</td><td>676</td><td>2021-03-21</td></tr><tr><td>58</td><td>aintree</td><td>Aintree</td><td>Liverpool</td><td>UK</td><td>53.4769</td><td>-2.94056</td><td>20</td><td>2021-03-21</td></tr><tr><td>59</td><td>boavista</td><td>Circuito da Boavista</td><td>Oporto</td><td>Portugal</td><td>41.1705</td><td>-8.67325</td><td>28</td><td>2021-03-21</td></tr><tr><td>60</td><td>riverside</td><td>Riverside International Raceway</td><td>California</td><td>USA</td><td>33.937</td><td>-117.273</td><td>470</td><td>2021-03-21</td></tr><tr><td>61</td><td>avus</td><td>AVUS</td><td>Berlin</td><td>Germany</td><td>52.4806</td><td>13.2514</td><td>53</td><td>2021-03-21</td></tr><tr><td>62</td><td>monsanto</td><td>Monsanto Park Circuit</td><td>Lisbon</td><td>Portugal</td><td>38.7197</td><td>-9.20306</td><td>158</td><td>2021-03-21</td></tr><tr><td>63</td><td>sebring</td><td>Sebring International Raceway</td><td>Florida</td><td>USA</td><td>27.4547</td><td>-81.3483</td><td>18</td><td>2021-03-21</td></tr><tr><td>64</td><td>ain-diab</td><td>Ain Diab</td><td>Casablanca</td><td>Morocco</td><td>33.5786</td><td>-7.6875</td><td>19</td><td>2021-03-21</td></tr><tr><td>65</td><td>pescara</td><td>Pescara Circuit</td><td>Pescara</td><td>Italy</td><td>42.475</td><td>14.1508</td><td>129</td><td>2021-03-21</td></tr><tr><td>66</td><td>bremgarten</td><td>Circuit Bremgarten</td><td>Bern</td><td>Switzerland</td><td>46.9589</td><td>7.40194</td><td>551</td><td>2021-03-21</td></tr><tr><td>67</td><td>pedralbes</td><td>Circuit de Pedralbes</td><td>Barcelona</td><td>Spain</td><td>41.3903</td><td>2.11667</td><td>85</td><td>2021-03-21</td></tr><tr><td>68</td><td>buddh</td><td>Buddh International Circuit</td><td>Uttar Pradesh</td><td>India</td><td>28.3487</td><td>77.5331</td><td>194</td><td>2021-03-21</td></tr><tr><td>69</td><td>americas</td><td>Circuit of the Americas</td><td>Austin</td><td>USA</td><td>30.1328</td><td>-97.6411</td><td>161</td><td>2021-03-21</td></tr><tr><td>70</td><td>red_bull_ring</td><td>Red Bull Ring</td><td>Spielburg</td><td>Austria</td><td>47.2197</td><td>14.7647</td><td>678</td><td>2021-03-21</td></tr><tr><td>71</td><td>sochi</td><td>Sochi Autodrom</td><td>Sochi</td><td>Russia</td><td>43.4057</td><td>39.9578</td><td>2</td><td>2021-03-21</td></tr><tr><td>72</td><td>port_imperial</td><td>Port Imperial Street Circuit</td><td>New Jersey</td><td>USA</td><td>40.7769</td><td>-74.0111</td><td>4</td><td>2021-03-21</td></tr><tr><td>73</td><td>BAK</td><td>Baku City Circuit</td><td>Baku</td><td>Azerbaijan</td><td>40.3725</td><td>49.8533</td><td>-7</td><td>2021-03-21</td></tr><tr><td>74</td><td>hanoi</td><td>Hanoi Street Circuit</td><td>Hanoi</td><td>Vietnam</td><td>21.0166</td><td>105.766</td><td>9</td><td>2021-03-21</td></tr><tr><td>75</td><td>portimao</td><td>Autódromo Internacional do Algarve</td><td>Portimão</td><td>Portugal</td><td>37.227</td><td>-8.6267</td><td>108</td><td>2021-03-21</td></tr><tr><td>76</td><td>mugello</td><td>Autodromo Internazionale del Mugello</td><td>Mugello</td><td>Italy</td><td>43.9975</td><td>11.3719</td><td>255</td><td>2021-03-21</td></tr><tr><td>77</td><td>jeddah</td><td>Jeddah Street Circuit</td><td>Jeddah</td><td>Saudi Arabia</td><td>21.5433</td><td>39.1728</td><td>15</td><td>2021-03-21</td></tr></tbody></table></div>"
      ]
     },
     "metadata": {
      "application/vnd.databricks.v1+output": {
       "addedWidgets": {},
       "aggData": [],
       "aggError": "",
       "aggOverflow": false,
       "aggSchema": [],
       "aggSeriesLimitReached": false,
       "aggType": "",
       "arguments": {},
       "columnCustomDisplayInfos": {},
       "data": [
        [
         1,
         "albert_park",
         "Albert Park Grand Prix Circuit",
         "Melbourne",
         "Australia",
         -37.8497,
         144.968,
         10,
         "2021-03-21"
        ],
        [
         2,
         "sepang",
         "Sepang International Circuit",
         "Kuala Lumpur",
         "Malaysia",
         2.76083,
         101.738,
         18,
         "2021-03-21"
        ],
        [
         3,
         "bahrain",
         "Bahrain International Circuit",
         "Sakhir",
         "Bahrain",
         26.0325,
         50.5106,
         7,
         "2021-03-21"
        ],
        [
         4,
         "catalunya",
         "Circuit de Barcelona-Catalunya",
         "Montmeló",
         "Spain",
         41.57,
         2.26111,
         109,
         "2021-03-21"
        ],
        [
         5,
         "istanbul",
         "Istanbul Park",
         "Istanbul",
         "Turkey",
         40.9517,
         29.405,
         130,
         "2021-03-21"
        ],
        [
         6,
         "monaco",
         "Circuit de Monaco",
         "Monte-Carlo",
         "Monaco",
         43.7347,
         7.42056,
         7,
         "2021-03-21"
        ],
        [
         7,
         "villeneuve",
         "Circuit Gilles Villeneuve",
         "Montreal",
         "Canada",
         45.5,
         -73.5228,
         13,
         "2021-03-21"
        ],
        [
         8,
         "magny_cours",
         "Circuit de Nevers Magny-Cours",
         "Magny Cours",
         "France",
         46.8642,
         3.16361,
         228,
         "2021-03-21"
        ],
        [
         9,
         "silverstone",
         "Silverstone Circuit",
         "Silverstone",
         "UK",
         52.0786,
         -1.01694,
         153,
         "2021-03-21"
        ],
        [
         10,
         "hockenheimring",
         "Hockenheimring",
         "Hockenheim",
         "Germany",
         49.3278,
         8.56583,
         103,
         "2021-03-21"
        ],
        [
         11,
         "hungaroring",
         "Hungaroring",
         "Budapest",
         "Hungary",
         47.5789,
         19.2486,
         264,
         "2021-03-21"
        ],
        [
         12,
         "valencia",
         "Valencia Street Circuit",
         "Valencia",
         "Spain",
         39.4589,
         -0.331667,
         4,
         "2021-03-21"
        ],
        [
         13,
         "spa",
         "Circuit de Spa-Francorchamps",
         "Spa",
         "Belgium",
         50.4372,
         5.97139,
         401,
         "2021-03-21"
        ],
        [
         14,
         "monza",
         "Autodromo Nazionale di Monza",
         "Monza",
         "Italy",
         45.6156,
         9.28111,
         162,
         "2021-03-21"
        ],
        [
         15,
         "marina_bay",
         "Marina Bay Street Circuit",
         "Marina Bay",
         "Singapore",
         1.2914,
         103.864,
         18,
         "2021-03-21"
        ],
        [
         16,
         "fuji",
         "Fuji Speedway",
         "Oyama",
         "Japan",
         35.3717,
         138.927,
         583,
         "2021-03-21"
        ],
        [
         17,
         "shanghai",
         "Shanghai International Circuit",
         "Shanghai",
         "China",
         31.3389,
         121.22,
         5,
         "2021-03-21"
        ],
        [
         18,
         "interlagos",
         "Autódromo José Carlos Pace",
         "São Paulo",
         "Brazil",
         -23.7036,
         -46.6997,
         785,
         "2021-03-21"
        ],
        [
         19,
         "indianapolis",
         "Indianapolis Motor Speedway",
         "Indianapolis",
         "USA",
         39.795,
         -86.2347,
         223,
         "2021-03-21"
        ],
        [
         20,
         "nurburgring",
         "Nürburgring",
         "Nürburg",
         "Germany",
         50.3356,
         6.9475,
         578,
         "2021-03-21"
        ],
        [
         21,
         "imola",
         "Autodromo Enzo e Dino Ferrari",
         "Imola",
         "Italy",
         44.3439,
         11.7167,
         37,
         "2021-03-21"
        ],
        [
         22,
         "suzuka",
         "Suzuka Circuit",
         "Suzuka",
         "Japan",
         34.8431,
         136.541,
         45,
         "2021-03-21"
        ],
        [
         23,
         "osterreichring",
         "A1-Ring",
         "Spielburg",
         "Austria",
         47.2197,
         14.7647,
         678,
         "2021-03-21"
        ],
        [
         24,
         "yas_marina",
         "Yas Marina Circuit",
         "Abu Dhabi",
         "UAE",
         24.4672,
         54.6031,
         3,
         "2021-03-21"
        ],
        [
         25,
         "galvez",
         "Autódromo Juan y Oscar Gálvez",
         "Buenos Aires",
         "Argentina",
         -34.6943,
         -58.4593,
         8,
         "2021-03-21"
        ],
        [
         26,
         "jerez",
         "Circuito de Jerez",
         "Jerez de la Frontera",
         "Spain",
         36.7083,
         -6.03417,
         37,
         "2021-03-21"
        ],
        [
         27,
         "estoril",
         "Autódromo do Estoril",
         "Estoril",
         "Portugal",
         38.7506,
         -9.39417,
         130,
         "2021-03-21"
        ],
        [
         28,
         "okayama",
         "Okayama International Circuit",
         "Okayama",
         "Japan",
         34.915,
         134.221,
         266,
         "2021-03-21"
        ],
        [
         29,
         "adelaide",
         "Adelaide Street Circuit",
         "Adelaide",
         "Australia",
         -34.9272,
         138.617,
         58,
         "2021-03-21"
        ],
        [
         30,
         "kyalami",
         "Kyalami",
         "Midrand",
         "South Africa",
         -25.9894,
         28.0767,
         1460,
         "2021-03-21"
        ],
        [
         31,
         "donington",
         "Donington Park",
         "Castle Donington",
         "UK",
         52.8306,
         -1.37528,
         88,
         "2021-03-21"
        ],
        [
         32,
         "rodriguez",
         "Autódromo Hermanos Rodríguez",
         "Mexico City",
         "Mexico",
         19.4042,
         -99.0907,
         2227,
         "2021-03-21"
        ],
        [
         33,
         "phoenix",
         "Phoenix street circuit",
         "Phoenix",
         "USA",
         33.4479,
         -112.075,
         345,
         "2021-03-21"
        ],
        [
         34,
         "ricard",
         "Circuit Paul Ricard",
         "Le Castellet",
         "France",
         43.2506,
         5.79167,
         432,
         "2021-03-21"
        ],
        [
         35,
         "yeongam",
         "Korean International Circuit",
         "Yeongam County",
         "Korea",
         34.7333,
         126.417,
         0,
         "2021-03-21"
        ],
        [
         36,
         "jacarepagua",
         "Autódromo Internacional Nelson Piquet",
         "Rio de Janeiro",
         "Brazil",
         -22.9756,
         -43.395,
         1126,
         "2021-03-21"
        ],
        [
         37,
         "detroit",
         "Detroit Street Circuit",
         "Detroit",
         "USA",
         42.3298,
         -83.0401,
         177,
         "2021-03-21"
        ],
        [
         38,
         "brands_hatch",
         "Brands Hatch",
         "Kent",
         "UK",
         51.3569,
         0.263056,
         145,
         "2021-03-21"
        ],
        [
         39,
         "zandvoort",
         "Circuit Park Zandvoort",
         "Zandvoort",
         "Netherlands",
         52.3888,
         4.54092,
         6,
         "2021-03-21"
        ],
        [
         40,
         "zolder",
         "Zolder",
         "Heusden-Zolder",
         "Belgium",
         50.9894,
         5.25694,
         36,
         "2021-03-21"
        ],
        [
         41,
         "dijon",
         "Dijon-Prenois",
         "Dijon",
         "France",
         47.3625,
         4.89913,
         484,
         "2021-03-21"
        ],
        [
         42,
         "dallas",
         "Fair Park",
         "Dallas",
         "USA",
         32.7774,
         -96.7587,
         139,
         "2021-03-21"
        ],
        [
         43,
         "long_beach",
         "Long Beach",
         "California",
         "USA",
         33.7651,
         -118.189,
         12,
         "2021-03-21"
        ],
        [
         44,
         "las_vegas",
         "Las Vegas Street Circuit",
         "Nevada",
         "USA",
         36.1162,
         -115.174,
         639,
         "2021-03-21"
        ],
        [
         45,
         "jarama",
         "Jarama",
         "Madrid",
         "Spain",
         40.6171,
         -3.58558,
         609,
         "2021-03-21"
        ],
        [
         46,
         "watkins_glen",
         "Watkins Glen",
         "New York State",
         "USA",
         42.3369,
         -76.9272,
         485,
         "2021-03-21"
        ],
        [
         47,
         "anderstorp",
         "Scandinavian Raceway",
         "Anderstorp",
         "Sweden",
         57.2653,
         13.6042,
         153,
         "2021-03-21"
        ],
        [
         48,
         "mosport",
         "Mosport International Raceway",
         "Ontario",
         "Canada",
         44.0481,
         -78.6756,
         332,
         "2021-03-21"
        ],
        [
         49,
         "montjuic",
         "Montjuïc",
         "Barcelona",
         "Spain",
         41.3664,
         2.15167,
         79,
         "2021-03-21"
        ],
        [
         50,
         "nivelles",
         "Nivelles-Baulers",
         "Brussels",
         "Belgium",
         50.6211,
         4.32694,
         139,
         "2021-03-21"
        ],
        [
         51,
         "charade",
         "Charade Circuit",
         "Clermont-Ferrand",
         "France",
         45.7472,
         3.03889,
         790,
         "2021-03-21"
        ],
        [
         52,
         "tremblant",
         "Circuit Mont-Tremblant",
         "Quebec",
         "Canada",
         46.1877,
         -74.6099,
         214,
         "2021-03-21"
        ],
        [
         53,
         "essarts",
         "Rouen-Les-Essarts",
         "Rouen",
         "France",
         49.3306,
         1.00458,
         81,
         "2021-03-21"
        ],
        [
         54,
         "lemans",
         "Le Mans",
         "Le Mans",
         "France",
         47.95,
         0.224231,
         67,
         "2021-03-21"
        ],
        [
         55,
         "reims",
         "Reims-Gueux",
         "Reims",
         "France",
         49.2542,
         3.93083,
         88,
         "2021-03-21"
        ],
        [
         56,
         "george",
         "Prince George Circuit",
         "Eastern Cape Province",
         "South Africa",
         -33.0486,
         27.8736,
         15,
         "2021-03-21"
        ],
        [
         57,
         "zeltweg",
         "Zeltweg",
         "Styria",
         "Austria",
         47.2039,
         14.7478,
         676,
         "2021-03-21"
        ],
        [
         58,
         "aintree",
         "Aintree",
         "Liverpool",
         "UK",
         53.4769,
         -2.94056,
         20,
         "2021-03-21"
        ],
        [
         59,
         "boavista",
         "Circuito da Boavista",
         "Oporto",
         "Portugal",
         41.1705,
         -8.67325,
         28,
         "2021-03-21"
        ],
        [
         60,
         "riverside",
         "Riverside International Raceway",
         "California",
         "USA",
         33.937,
         -117.273,
         470,
         "2021-03-21"
        ],
        [
         61,
         "avus",
         "AVUS",
         "Berlin",
         "Germany",
         52.4806,
         13.2514,
         53,
         "2021-03-21"
        ],
        [
         62,
         "monsanto",
         "Monsanto Park Circuit",
         "Lisbon",
         "Portugal",
         38.7197,
         -9.20306,
         158,
         "2021-03-21"
        ],
        [
         63,
         "sebring",
         "Sebring International Raceway",
         "Florida",
         "USA",
         27.4547,
         -81.3483,
         18,
         "2021-03-21"
        ],
        [
         64,
         "ain-diab",
         "Ain Diab",
         "Casablanca",
         "Morocco",
         33.5786,
         -7.6875,
         19,
         "2021-03-21"
        ],
        [
         65,
         "pescara",
         "Pescara Circuit",
         "Pescara",
         "Italy",
         42.475,
         14.1508,
         129,
         "2021-03-21"
        ],
        [
         66,
         "bremgarten",
         "Circuit Bremgarten",
         "Bern",
         "Switzerland",
         46.9589,
         7.40194,
         551,
         "2021-03-21"
        ],
        [
         67,
         "pedralbes",
         "Circuit de Pedralbes",
         "Barcelona",
         "Spain",
         41.3903,
         2.11667,
         85,
         "2021-03-21"
        ],
        [
         68,
         "buddh",
         "Buddh International Circuit",
         "Uttar Pradesh",
         "India",
         28.3487,
         77.5331,
         194,
         "2021-03-21"
        ],
        [
         69,
         "americas",
         "Circuit of the Americas",
         "Austin",
         "USA",
         30.1328,
         -97.6411,
         161,
         "2021-03-21"
        ],
        [
         70,
         "red_bull_ring",
         "Red Bull Ring",
         "Spielburg",
         "Austria",
         47.2197,
         14.7647,
         678,
         "2021-03-21"
        ],
        [
         71,
         "sochi",
         "Sochi Autodrom",
         "Sochi",
         "Russia",
         43.4057,
         39.9578,
         2,
         "2021-03-21"
        ],
        [
         72,
         "port_imperial",
         "Port Imperial Street Circuit",
         "New Jersey",
         "USA",
         40.7769,
         -74.0111,
         4,
         "2021-03-21"
        ],
        [
         73,
         "BAK",
         "Baku City Circuit",
         "Baku",
         "Azerbaijan",
         40.3725,
         49.8533,
         -7,
         "2021-03-21"
        ],
        [
         74,
         "hanoi",
         "Hanoi Street Circuit",
         "Hanoi",
         "Vietnam",
         21.0166,
         105.766,
         9,
         "2021-03-21"
        ],
        [
         75,
         "portimao",
         "Autódromo Internacional do Algarve",
         "Portimão",
         "Portugal",
         37.227,
         -8.6267,
         108,
         "2021-03-21"
        ],
        [
         76,
         "mugello",
         "Autodromo Internazionale del Mugello",
         "Mugello",
         "Italy",
         43.9975,
         11.3719,
         255,
         "2021-03-21"
        ],
        [
         77,
         "jeddah",
         "Jeddah Street Circuit",
         "Jeddah",
         "Saudi Arabia",
         21.5433,
         39.1728,
         15,
         "2021-03-21"
        ]
       ],
       "datasetInfos": [],
       "dbfsResultPath": null,
       "isJsonSchema": true,
       "metadata": {},
       "overflow": false,
       "plotOptions": {
        "customPlotOptions": {},
        "displayType": "table",
        "pivotAggregation": null,
        "pivotColumns": null,
        "xColumns": null,
        "yColumns": null
       },
       "removedWidgets": [],
       "schema": [
        {
         "metadata": "{}",
         "name": "circuitId",
         "type": "\"integer\""
        },
        {
         "metadata": "{}",
         "name": "circuitRef",
         "type": "\"string\""
        },
        {
         "metadata": "{}",
         "name": "name",
         "type": "\"string\""
        },
        {
         "metadata": "{}",
         "name": "location",
         "type": "\"string\""
        },
        {
         "metadata": "{}",
         "name": "country",
         "type": "\"string\""
        },
        {
         "metadata": "{}",
         "name": "lat",
         "type": "\"double\""
        },
        {
         "metadata": "{}",
         "name": "lng",
         "type": "\"double\""
        },
        {
         "metadata": "{}",
         "name": "alt",
         "type": "\"integer\""
        },
        {
         "metadata": "{}",
         "name": "file_date",
         "type": "\"string\""
        }
       ],
       "type": "table"
      }
     },
     "output_type": "display_data"
    }
   ],
   "source": [
    "display(circuits_df_selected)"
   ]
  },
  {
   "cell_type": "code",
   "execution_count": 0,
   "metadata": {
    "application/vnd.databricks.v1+cell": {
     "cellMetadata": {
      "byteLimit": 2048000,
      "rowLimit": 10000
     },
     "inputWidgets": {},
     "nuid": "d6b0f150-83fe-437c-a882-e1f86d279f3c",
     "showTitle": false,
     "tableResultSettingsMap": {},
     "title": ""
    }
   },
   "outputs": [
    {
     "output_type": "display_data",
     "data": {
      "text/html": [
       "<style scoped>\n",
       "  .table-result-container {\n",
       "    max-height: 300px;\n",
       "    overflow: auto;\n",
       "  }\n",
       "  table, th, td {\n",
       "    border: 1px solid black;\n",
       "    border-collapse: collapse;\n",
       "  }\n",
       "  th, td {\n",
       "    padding: 5px;\n",
       "  }\n",
       "  th {\n",
       "    text-align: left;\n",
       "  }\n",
       "</style><div class='table-result-container'><table class='table-result'><thead style='background-color: white'><tr><th>circuit_id</th><th>circuit_ref</th><th>circuit_name</th><th>circuit_location</th><th>circuit_country</th><th>circuit_lat</th><th>circuit_lng</th><th>circuit_altitude</th><th>file_date</th></tr></thead><tbody><tr><td>1</td><td>albert_park</td><td>Albert Park Grand Prix Circuit</td><td>Melbourne</td><td>Australia</td><td>-37.8497</td><td>144.968</td><td>10</td><td>2021-03-21</td></tr><tr><td>2</td><td>sepang</td><td>Sepang International Circuit</td><td>Kuala Lumpur</td><td>Malaysia</td><td>2.76083</td><td>101.738</td><td>18</td><td>2021-03-21</td></tr><tr><td>3</td><td>bahrain</td><td>Bahrain International Circuit</td><td>Sakhir</td><td>Bahrain</td><td>26.0325</td><td>50.5106</td><td>7</td><td>2021-03-21</td></tr><tr><td>4</td><td>catalunya</td><td>Circuit de Barcelona-Catalunya</td><td>Montmeló</td><td>Spain</td><td>41.57</td><td>2.26111</td><td>109</td><td>2021-03-21</td></tr><tr><td>5</td><td>istanbul</td><td>Istanbul Park</td><td>Istanbul</td><td>Turkey</td><td>40.9517</td><td>29.405</td><td>130</td><td>2021-03-21</td></tr><tr><td>6</td><td>monaco</td><td>Circuit de Monaco</td><td>Monte-Carlo</td><td>Monaco</td><td>43.7347</td><td>7.42056</td><td>7</td><td>2021-03-21</td></tr><tr><td>7</td><td>villeneuve</td><td>Circuit Gilles Villeneuve</td><td>Montreal</td><td>Canada</td><td>45.5</td><td>-73.5228</td><td>13</td><td>2021-03-21</td></tr><tr><td>8</td><td>magny_cours</td><td>Circuit de Nevers Magny-Cours</td><td>Magny Cours</td><td>France</td><td>46.8642</td><td>3.16361</td><td>228</td><td>2021-03-21</td></tr><tr><td>9</td><td>silverstone</td><td>Silverstone Circuit</td><td>Silverstone</td><td>UK</td><td>52.0786</td><td>-1.01694</td><td>153</td><td>2021-03-21</td></tr><tr><td>10</td><td>hockenheimring</td><td>Hockenheimring</td><td>Hockenheim</td><td>Germany</td><td>49.3278</td><td>8.56583</td><td>103</td><td>2021-03-21</td></tr><tr><td>11</td><td>hungaroring</td><td>Hungaroring</td><td>Budapest</td><td>Hungary</td><td>47.5789</td><td>19.2486</td><td>264</td><td>2021-03-21</td></tr><tr><td>12</td><td>valencia</td><td>Valencia Street Circuit</td><td>Valencia</td><td>Spain</td><td>39.4589</td><td>-0.331667</td><td>4</td><td>2021-03-21</td></tr><tr><td>13</td><td>spa</td><td>Circuit de Spa-Francorchamps</td><td>Spa</td><td>Belgium</td><td>50.4372</td><td>5.97139</td><td>401</td><td>2021-03-21</td></tr><tr><td>14</td><td>monza</td><td>Autodromo Nazionale di Monza</td><td>Monza</td><td>Italy</td><td>45.6156</td><td>9.28111</td><td>162</td><td>2021-03-21</td></tr><tr><td>15</td><td>marina_bay</td><td>Marina Bay Street Circuit</td><td>Marina Bay</td><td>Singapore</td><td>1.2914</td><td>103.864</td><td>18</td><td>2021-03-21</td></tr><tr><td>16</td><td>fuji</td><td>Fuji Speedway</td><td>Oyama</td><td>Japan</td><td>35.3717</td><td>138.927</td><td>583</td><td>2021-03-21</td></tr><tr><td>17</td><td>shanghai</td><td>Shanghai International Circuit</td><td>Shanghai</td><td>China</td><td>31.3389</td><td>121.22</td><td>5</td><td>2021-03-21</td></tr><tr><td>18</td><td>interlagos</td><td>Autódromo José Carlos Pace</td><td>São Paulo</td><td>Brazil</td><td>-23.7036</td><td>-46.6997</td><td>785</td><td>2021-03-21</td></tr><tr><td>19</td><td>indianapolis</td><td>Indianapolis Motor Speedway</td><td>Indianapolis</td><td>USA</td><td>39.795</td><td>-86.2347</td><td>223</td><td>2021-03-21</td></tr><tr><td>20</td><td>nurburgring</td><td>Nürburgring</td><td>Nürburg</td><td>Germany</td><td>50.3356</td><td>6.9475</td><td>578</td><td>2021-03-21</td></tr><tr><td>21</td><td>imola</td><td>Autodromo Enzo e Dino Ferrari</td><td>Imola</td><td>Italy</td><td>44.3439</td><td>11.7167</td><td>37</td><td>2021-03-21</td></tr><tr><td>22</td><td>suzuka</td><td>Suzuka Circuit</td><td>Suzuka</td><td>Japan</td><td>34.8431</td><td>136.541</td><td>45</td><td>2021-03-21</td></tr><tr><td>23</td><td>osterreichring</td><td>A1-Ring</td><td>Spielburg</td><td>Austria</td><td>47.2197</td><td>14.7647</td><td>678</td><td>2021-03-21</td></tr><tr><td>24</td><td>yas_marina</td><td>Yas Marina Circuit</td><td>Abu Dhabi</td><td>UAE</td><td>24.4672</td><td>54.6031</td><td>3</td><td>2021-03-21</td></tr><tr><td>25</td><td>galvez</td><td>Autódromo Juan y Oscar Gálvez</td><td>Buenos Aires</td><td>Argentina</td><td>-34.6943</td><td>-58.4593</td><td>8</td><td>2021-03-21</td></tr><tr><td>26</td><td>jerez</td><td>Circuito de Jerez</td><td>Jerez de la Frontera</td><td>Spain</td><td>36.7083</td><td>-6.03417</td><td>37</td><td>2021-03-21</td></tr><tr><td>27</td><td>estoril</td><td>Autódromo do Estoril</td><td>Estoril</td><td>Portugal</td><td>38.7506</td><td>-9.39417</td><td>130</td><td>2021-03-21</td></tr><tr><td>28</td><td>okayama</td><td>Okayama International Circuit</td><td>Okayama</td><td>Japan</td><td>34.915</td><td>134.221</td><td>266</td><td>2021-03-21</td></tr><tr><td>29</td><td>adelaide</td><td>Adelaide Street Circuit</td><td>Adelaide</td><td>Australia</td><td>-34.9272</td><td>138.617</td><td>58</td><td>2021-03-21</td></tr><tr><td>30</td><td>kyalami</td><td>Kyalami</td><td>Midrand</td><td>South Africa</td><td>-25.9894</td><td>28.0767</td><td>1460</td><td>2021-03-21</td></tr><tr><td>31</td><td>donington</td><td>Donington Park</td><td>Castle Donington</td><td>UK</td><td>52.8306</td><td>-1.37528</td><td>88</td><td>2021-03-21</td></tr><tr><td>32</td><td>rodriguez</td><td>Autódromo Hermanos Rodríguez</td><td>Mexico City</td><td>Mexico</td><td>19.4042</td><td>-99.0907</td><td>2227</td><td>2021-03-21</td></tr><tr><td>33</td><td>phoenix</td><td>Phoenix street circuit</td><td>Phoenix</td><td>USA</td><td>33.4479</td><td>-112.075</td><td>345</td><td>2021-03-21</td></tr><tr><td>34</td><td>ricard</td><td>Circuit Paul Ricard</td><td>Le Castellet</td><td>France</td><td>43.2506</td><td>5.79167</td><td>432</td><td>2021-03-21</td></tr><tr><td>35</td><td>yeongam</td><td>Korean International Circuit</td><td>Yeongam County</td><td>Korea</td><td>34.7333</td><td>126.417</td><td>0</td><td>2021-03-21</td></tr><tr><td>36</td><td>jacarepagua</td><td>Autódromo Internacional Nelson Piquet</td><td>Rio de Janeiro</td><td>Brazil</td><td>-22.9756</td><td>-43.395</td><td>1126</td><td>2021-03-21</td></tr><tr><td>37</td><td>detroit</td><td>Detroit Street Circuit</td><td>Detroit</td><td>USA</td><td>42.3298</td><td>-83.0401</td><td>177</td><td>2021-03-21</td></tr><tr><td>38</td><td>brands_hatch</td><td>Brands Hatch</td><td>Kent</td><td>UK</td><td>51.3569</td><td>0.263056</td><td>145</td><td>2021-03-21</td></tr><tr><td>39</td><td>zandvoort</td><td>Circuit Park Zandvoort</td><td>Zandvoort</td><td>Netherlands</td><td>52.3888</td><td>4.54092</td><td>6</td><td>2021-03-21</td></tr><tr><td>40</td><td>zolder</td><td>Zolder</td><td>Heusden-Zolder</td><td>Belgium</td><td>50.9894</td><td>5.25694</td><td>36</td><td>2021-03-21</td></tr><tr><td>41</td><td>dijon</td><td>Dijon-Prenois</td><td>Dijon</td><td>France</td><td>47.3625</td><td>4.89913</td><td>484</td><td>2021-03-21</td></tr><tr><td>42</td><td>dallas</td><td>Fair Park</td><td>Dallas</td><td>USA</td><td>32.7774</td><td>-96.7587</td><td>139</td><td>2021-03-21</td></tr><tr><td>43</td><td>long_beach</td><td>Long Beach</td><td>California</td><td>USA</td><td>33.7651</td><td>-118.189</td><td>12</td><td>2021-03-21</td></tr><tr><td>44</td><td>las_vegas</td><td>Las Vegas Street Circuit</td><td>Nevada</td><td>USA</td><td>36.1162</td><td>-115.174</td><td>639</td><td>2021-03-21</td></tr><tr><td>45</td><td>jarama</td><td>Jarama</td><td>Madrid</td><td>Spain</td><td>40.6171</td><td>-3.58558</td><td>609</td><td>2021-03-21</td></tr><tr><td>46</td><td>watkins_glen</td><td>Watkins Glen</td><td>New York State</td><td>USA</td><td>42.3369</td><td>-76.9272</td><td>485</td><td>2021-03-21</td></tr><tr><td>47</td><td>anderstorp</td><td>Scandinavian Raceway</td><td>Anderstorp</td><td>Sweden</td><td>57.2653</td><td>13.6042</td><td>153</td><td>2021-03-21</td></tr><tr><td>48</td><td>mosport</td><td>Mosport International Raceway</td><td>Ontario</td><td>Canada</td><td>44.0481</td><td>-78.6756</td><td>332</td><td>2021-03-21</td></tr><tr><td>49</td><td>montjuic</td><td>Montjuïc</td><td>Barcelona</td><td>Spain</td><td>41.3664</td><td>2.15167</td><td>79</td><td>2021-03-21</td></tr><tr><td>50</td><td>nivelles</td><td>Nivelles-Baulers</td><td>Brussels</td><td>Belgium</td><td>50.6211</td><td>4.32694</td><td>139</td><td>2021-03-21</td></tr><tr><td>51</td><td>charade</td><td>Charade Circuit</td><td>Clermont-Ferrand</td><td>France</td><td>45.7472</td><td>3.03889</td><td>790</td><td>2021-03-21</td></tr><tr><td>52</td><td>tremblant</td><td>Circuit Mont-Tremblant</td><td>Quebec</td><td>Canada</td><td>46.1877</td><td>-74.6099</td><td>214</td><td>2021-03-21</td></tr><tr><td>53</td><td>essarts</td><td>Rouen-Les-Essarts</td><td>Rouen</td><td>France</td><td>49.3306</td><td>1.00458</td><td>81</td><td>2021-03-21</td></tr><tr><td>54</td><td>lemans</td><td>Le Mans</td><td>Le Mans</td><td>France</td><td>47.95</td><td>0.224231</td><td>67</td><td>2021-03-21</td></tr><tr><td>55</td><td>reims</td><td>Reims-Gueux</td><td>Reims</td><td>France</td><td>49.2542</td><td>3.93083</td><td>88</td><td>2021-03-21</td></tr><tr><td>56</td><td>george</td><td>Prince George Circuit</td><td>Eastern Cape Province</td><td>South Africa</td><td>-33.0486</td><td>27.8736</td><td>15</td><td>2021-03-21</td></tr><tr><td>57</td><td>zeltweg</td><td>Zeltweg</td><td>Styria</td><td>Austria</td><td>47.2039</td><td>14.7478</td><td>676</td><td>2021-03-21</td></tr><tr><td>58</td><td>aintree</td><td>Aintree</td><td>Liverpool</td><td>UK</td><td>53.4769</td><td>-2.94056</td><td>20</td><td>2021-03-21</td></tr><tr><td>59</td><td>boavista</td><td>Circuito da Boavista</td><td>Oporto</td><td>Portugal</td><td>41.1705</td><td>-8.67325</td><td>28</td><td>2021-03-21</td></tr><tr><td>60</td><td>riverside</td><td>Riverside International Raceway</td><td>California</td><td>USA</td><td>33.937</td><td>-117.273</td><td>470</td><td>2021-03-21</td></tr><tr><td>61</td><td>avus</td><td>AVUS</td><td>Berlin</td><td>Germany</td><td>52.4806</td><td>13.2514</td><td>53</td><td>2021-03-21</td></tr><tr><td>62</td><td>monsanto</td><td>Monsanto Park Circuit</td><td>Lisbon</td><td>Portugal</td><td>38.7197</td><td>-9.20306</td><td>158</td><td>2021-03-21</td></tr><tr><td>63</td><td>sebring</td><td>Sebring International Raceway</td><td>Florida</td><td>USA</td><td>27.4547</td><td>-81.3483</td><td>18</td><td>2021-03-21</td></tr><tr><td>64</td><td>ain-diab</td><td>Ain Diab</td><td>Casablanca</td><td>Morocco</td><td>33.5786</td><td>-7.6875</td><td>19</td><td>2021-03-21</td></tr><tr><td>65</td><td>pescara</td><td>Pescara Circuit</td><td>Pescara</td><td>Italy</td><td>42.475</td><td>14.1508</td><td>129</td><td>2021-03-21</td></tr><tr><td>66</td><td>bremgarten</td><td>Circuit Bremgarten</td><td>Bern</td><td>Switzerland</td><td>46.9589</td><td>7.40194</td><td>551</td><td>2021-03-21</td></tr><tr><td>67</td><td>pedralbes</td><td>Circuit de Pedralbes</td><td>Barcelona</td><td>Spain</td><td>41.3903</td><td>2.11667</td><td>85</td><td>2021-03-21</td></tr><tr><td>68</td><td>buddh</td><td>Buddh International Circuit</td><td>Uttar Pradesh</td><td>India</td><td>28.3487</td><td>77.5331</td><td>194</td><td>2021-03-21</td></tr><tr><td>69</td><td>americas</td><td>Circuit of the Americas</td><td>Austin</td><td>USA</td><td>30.1328</td><td>-97.6411</td><td>161</td><td>2021-03-21</td></tr><tr><td>70</td><td>red_bull_ring</td><td>Red Bull Ring</td><td>Spielburg</td><td>Austria</td><td>47.2197</td><td>14.7647</td><td>678</td><td>2021-03-21</td></tr><tr><td>71</td><td>sochi</td><td>Sochi Autodrom</td><td>Sochi</td><td>Russia</td><td>43.4057</td><td>39.9578</td><td>2</td><td>2021-03-21</td></tr><tr><td>72</td><td>port_imperial</td><td>Port Imperial Street Circuit</td><td>New Jersey</td><td>USA</td><td>40.7769</td><td>-74.0111</td><td>4</td><td>2021-03-21</td></tr><tr><td>73</td><td>BAK</td><td>Baku City Circuit</td><td>Baku</td><td>Azerbaijan</td><td>40.3725</td><td>49.8533</td><td>-7</td><td>2021-03-21</td></tr><tr><td>74</td><td>hanoi</td><td>Hanoi Street Circuit</td><td>Hanoi</td><td>Vietnam</td><td>21.0166</td><td>105.766</td><td>9</td><td>2021-03-21</td></tr><tr><td>75</td><td>portimao</td><td>Autódromo Internacional do Algarve</td><td>Portimão</td><td>Portugal</td><td>37.227</td><td>-8.6267</td><td>108</td><td>2021-03-21</td></tr><tr><td>76</td><td>mugello</td><td>Autodromo Internazionale del Mugello</td><td>Mugello</td><td>Italy</td><td>43.9975</td><td>11.3719</td><td>255</td><td>2021-03-21</td></tr><tr><td>77</td><td>jeddah</td><td>Jeddah Street Circuit</td><td>Jeddah</td><td>Saudi Arabia</td><td>21.5433</td><td>39.1728</td><td>15</td><td>2021-03-21</td></tr></tbody></table></div>"
      ]
     },
     "metadata": {
      "application/vnd.databricks.v1+output": {
       "addedWidgets": {},
       "aggData": [],
       "aggError": "",
       "aggOverflow": false,
       "aggSchema": [],
       "aggSeriesLimitReached": false,
       "aggType": "",
       "arguments": {},
       "columnCustomDisplayInfos": {},
       "data": [
        [
         1,
         "albert_park",
         "Albert Park Grand Prix Circuit",
         "Melbourne",
         "Australia",
         -37.8497,
         144.968,
         10,
         "2021-03-21"
        ],
        [
         2,
         "sepang",
         "Sepang International Circuit",
         "Kuala Lumpur",
         "Malaysia",
         2.76083,
         101.738,
         18,
         "2021-03-21"
        ],
        [
         3,
         "bahrain",
         "Bahrain International Circuit",
         "Sakhir",
         "Bahrain",
         26.0325,
         50.5106,
         7,
         "2021-03-21"
        ],
        [
         4,
         "catalunya",
         "Circuit de Barcelona-Catalunya",
         "Montmeló",
         "Spain",
         41.57,
         2.26111,
         109,
         "2021-03-21"
        ],
        [
         5,
         "istanbul",
         "Istanbul Park",
         "Istanbul",
         "Turkey",
         40.9517,
         29.405,
         130,
         "2021-03-21"
        ],
        [
         6,
         "monaco",
         "Circuit de Monaco",
         "Monte-Carlo",
         "Monaco",
         43.7347,
         7.42056,
         7,
         "2021-03-21"
        ],
        [
         7,
         "villeneuve",
         "Circuit Gilles Villeneuve",
         "Montreal",
         "Canada",
         45.5,
         -73.5228,
         13,
         "2021-03-21"
        ],
        [
         8,
         "magny_cours",
         "Circuit de Nevers Magny-Cours",
         "Magny Cours",
         "France",
         46.8642,
         3.16361,
         228,
         "2021-03-21"
        ],
        [
         9,
         "silverstone",
         "Silverstone Circuit",
         "Silverstone",
         "UK",
         52.0786,
         -1.01694,
         153,
         "2021-03-21"
        ],
        [
         10,
         "hockenheimring",
         "Hockenheimring",
         "Hockenheim",
         "Germany",
         49.3278,
         8.56583,
         103,
         "2021-03-21"
        ],
        [
         11,
         "hungaroring",
         "Hungaroring",
         "Budapest",
         "Hungary",
         47.5789,
         19.2486,
         264,
         "2021-03-21"
        ],
        [
         12,
         "valencia",
         "Valencia Street Circuit",
         "Valencia",
         "Spain",
         39.4589,
         -0.331667,
         4,
         "2021-03-21"
        ],
        [
         13,
         "spa",
         "Circuit de Spa-Francorchamps",
         "Spa",
         "Belgium",
         50.4372,
         5.97139,
         401,
         "2021-03-21"
        ],
        [
         14,
         "monza",
         "Autodromo Nazionale di Monza",
         "Monza",
         "Italy",
         45.6156,
         9.28111,
         162,
         "2021-03-21"
        ],
        [
         15,
         "marina_bay",
         "Marina Bay Street Circuit",
         "Marina Bay",
         "Singapore",
         1.2914,
         103.864,
         18,
         "2021-03-21"
        ],
        [
         16,
         "fuji",
         "Fuji Speedway",
         "Oyama",
         "Japan",
         35.3717,
         138.927,
         583,
         "2021-03-21"
        ],
        [
         17,
         "shanghai",
         "Shanghai International Circuit",
         "Shanghai",
         "China",
         31.3389,
         121.22,
         5,
         "2021-03-21"
        ],
        [
         18,
         "interlagos",
         "Autódromo José Carlos Pace",
         "São Paulo",
         "Brazil",
         -23.7036,
         -46.6997,
         785,
         "2021-03-21"
        ],
        [
         19,
         "indianapolis",
         "Indianapolis Motor Speedway",
         "Indianapolis",
         "USA",
         39.795,
         -86.2347,
         223,
         "2021-03-21"
        ],
        [
         20,
         "nurburgring",
         "Nürburgring",
         "Nürburg",
         "Germany",
         50.3356,
         6.9475,
         578,
         "2021-03-21"
        ],
        [
         21,
         "imola",
         "Autodromo Enzo e Dino Ferrari",
         "Imola",
         "Italy",
         44.3439,
         11.7167,
         37,
         "2021-03-21"
        ],
        [
         22,
         "suzuka",
         "Suzuka Circuit",
         "Suzuka",
         "Japan",
         34.8431,
         136.541,
         45,
         "2021-03-21"
        ],
        [
         23,
         "osterreichring",
         "A1-Ring",
         "Spielburg",
         "Austria",
         47.2197,
         14.7647,
         678,
         "2021-03-21"
        ],
        [
         24,
         "yas_marina",
         "Yas Marina Circuit",
         "Abu Dhabi",
         "UAE",
         24.4672,
         54.6031,
         3,
         "2021-03-21"
        ],
        [
         25,
         "galvez",
         "Autódromo Juan y Oscar Gálvez",
         "Buenos Aires",
         "Argentina",
         -34.6943,
         -58.4593,
         8,
         "2021-03-21"
        ],
        [
         26,
         "jerez",
         "Circuito de Jerez",
         "Jerez de la Frontera",
         "Spain",
         36.7083,
         -6.03417,
         37,
         "2021-03-21"
        ],
        [
         27,
         "estoril",
         "Autódromo do Estoril",
         "Estoril",
         "Portugal",
         38.7506,
         -9.39417,
         130,
         "2021-03-21"
        ],
        [
         28,
         "okayama",
         "Okayama International Circuit",
         "Okayama",
         "Japan",
         34.915,
         134.221,
         266,
         "2021-03-21"
        ],
        [
         29,
         "adelaide",
         "Adelaide Street Circuit",
         "Adelaide",
         "Australia",
         -34.9272,
         138.617,
         58,
         "2021-03-21"
        ],
        [
         30,
         "kyalami",
         "Kyalami",
         "Midrand",
         "South Africa",
         -25.9894,
         28.0767,
         1460,
         "2021-03-21"
        ],
        [
         31,
         "donington",
         "Donington Park",
         "Castle Donington",
         "UK",
         52.8306,
         -1.37528,
         88,
         "2021-03-21"
        ],
        [
         32,
         "rodriguez",
         "Autódromo Hermanos Rodríguez",
         "Mexico City",
         "Mexico",
         19.4042,
         -99.0907,
         2227,
         "2021-03-21"
        ],
        [
         33,
         "phoenix",
         "Phoenix street circuit",
         "Phoenix",
         "USA",
         33.4479,
         -112.075,
         345,
         "2021-03-21"
        ],
        [
         34,
         "ricard",
         "Circuit Paul Ricard",
         "Le Castellet",
         "France",
         43.2506,
         5.79167,
         432,
         "2021-03-21"
        ],
        [
         35,
         "yeongam",
         "Korean International Circuit",
         "Yeongam County",
         "Korea",
         34.7333,
         126.417,
         0,
         "2021-03-21"
        ],
        [
         36,
         "jacarepagua",
         "Autódromo Internacional Nelson Piquet",
         "Rio de Janeiro",
         "Brazil",
         -22.9756,
         -43.395,
         1126,
         "2021-03-21"
        ],
        [
         37,
         "detroit",
         "Detroit Street Circuit",
         "Detroit",
         "USA",
         42.3298,
         -83.0401,
         177,
         "2021-03-21"
        ],
        [
         38,
         "brands_hatch",
         "Brands Hatch",
         "Kent",
         "UK",
         51.3569,
         0.263056,
         145,
         "2021-03-21"
        ],
        [
         39,
         "zandvoort",
         "Circuit Park Zandvoort",
         "Zandvoort",
         "Netherlands",
         52.3888,
         4.54092,
         6,
         "2021-03-21"
        ],
        [
         40,
         "zolder",
         "Zolder",
         "Heusden-Zolder",
         "Belgium",
         50.9894,
         5.25694,
         36,
         "2021-03-21"
        ],
        [
         41,
         "dijon",
         "Dijon-Prenois",
         "Dijon",
         "France",
         47.3625,
         4.89913,
         484,
         "2021-03-21"
        ],
        [
         42,
         "dallas",
         "Fair Park",
         "Dallas",
         "USA",
         32.7774,
         -96.7587,
         139,
         "2021-03-21"
        ],
        [
         43,
         "long_beach",
         "Long Beach",
         "California",
         "USA",
         33.7651,
         -118.189,
         12,
         "2021-03-21"
        ],
        [
         44,
         "las_vegas",
         "Las Vegas Street Circuit",
         "Nevada",
         "USA",
         36.1162,
         -115.174,
         639,
         "2021-03-21"
        ],
        [
         45,
         "jarama",
         "Jarama",
         "Madrid",
         "Spain",
         40.6171,
         -3.58558,
         609,
         "2021-03-21"
        ],
        [
         46,
         "watkins_glen",
         "Watkins Glen",
         "New York State",
         "USA",
         42.3369,
         -76.9272,
         485,
         "2021-03-21"
        ],
        [
         47,
         "anderstorp",
         "Scandinavian Raceway",
         "Anderstorp",
         "Sweden",
         57.2653,
         13.6042,
         153,
         "2021-03-21"
        ],
        [
         48,
         "mosport",
         "Mosport International Raceway",
         "Ontario",
         "Canada",
         44.0481,
         -78.6756,
         332,
         "2021-03-21"
        ],
        [
         49,
         "montjuic",
         "Montjuïc",
         "Barcelona",
         "Spain",
         41.3664,
         2.15167,
         79,
         "2021-03-21"
        ],
        [
         50,
         "nivelles",
         "Nivelles-Baulers",
         "Brussels",
         "Belgium",
         50.6211,
         4.32694,
         139,
         "2021-03-21"
        ],
        [
         51,
         "charade",
         "Charade Circuit",
         "Clermont-Ferrand",
         "France",
         45.7472,
         3.03889,
         790,
         "2021-03-21"
        ],
        [
         52,
         "tremblant",
         "Circuit Mont-Tremblant",
         "Quebec",
         "Canada",
         46.1877,
         -74.6099,
         214,
         "2021-03-21"
        ],
        [
         53,
         "essarts",
         "Rouen-Les-Essarts",
         "Rouen",
         "France",
         49.3306,
         1.00458,
         81,
         "2021-03-21"
        ],
        [
         54,
         "lemans",
         "Le Mans",
         "Le Mans",
         "France",
         47.95,
         0.224231,
         67,
         "2021-03-21"
        ],
        [
         55,
         "reims",
         "Reims-Gueux",
         "Reims",
         "France",
         49.2542,
         3.93083,
         88,
         "2021-03-21"
        ],
        [
         56,
         "george",
         "Prince George Circuit",
         "Eastern Cape Province",
         "South Africa",
         -33.0486,
         27.8736,
         15,
         "2021-03-21"
        ],
        [
         57,
         "zeltweg",
         "Zeltweg",
         "Styria",
         "Austria",
         47.2039,
         14.7478,
         676,
         "2021-03-21"
        ],
        [
         58,
         "aintree",
         "Aintree",
         "Liverpool",
         "UK",
         53.4769,
         -2.94056,
         20,
         "2021-03-21"
        ],
        [
         59,
         "boavista",
         "Circuito da Boavista",
         "Oporto",
         "Portugal",
         41.1705,
         -8.67325,
         28,
         "2021-03-21"
        ],
        [
         60,
         "riverside",
         "Riverside International Raceway",
         "California",
         "USA",
         33.937,
         -117.273,
         470,
         "2021-03-21"
        ],
        [
         61,
         "avus",
         "AVUS",
         "Berlin",
         "Germany",
         52.4806,
         13.2514,
         53,
         "2021-03-21"
        ],
        [
         62,
         "monsanto",
         "Monsanto Park Circuit",
         "Lisbon",
         "Portugal",
         38.7197,
         -9.20306,
         158,
         "2021-03-21"
        ],
        [
         63,
         "sebring",
         "Sebring International Raceway",
         "Florida",
         "USA",
         27.4547,
         -81.3483,
         18,
         "2021-03-21"
        ],
        [
         64,
         "ain-diab",
         "Ain Diab",
         "Casablanca",
         "Morocco",
         33.5786,
         -7.6875,
         19,
         "2021-03-21"
        ],
        [
         65,
         "pescara",
         "Pescara Circuit",
         "Pescara",
         "Italy",
         42.475,
         14.1508,
         129,
         "2021-03-21"
        ],
        [
         66,
         "bremgarten",
         "Circuit Bremgarten",
         "Bern",
         "Switzerland",
         46.9589,
         7.40194,
         551,
         "2021-03-21"
        ],
        [
         67,
         "pedralbes",
         "Circuit de Pedralbes",
         "Barcelona",
         "Spain",
         41.3903,
         2.11667,
         85,
         "2021-03-21"
        ],
        [
         68,
         "buddh",
         "Buddh International Circuit",
         "Uttar Pradesh",
         "India",
         28.3487,
         77.5331,
         194,
         "2021-03-21"
        ],
        [
         69,
         "americas",
         "Circuit of the Americas",
         "Austin",
         "USA",
         30.1328,
         -97.6411,
         161,
         "2021-03-21"
        ],
        [
         70,
         "red_bull_ring",
         "Red Bull Ring",
         "Spielburg",
         "Austria",
         47.2197,
         14.7647,
         678,
         "2021-03-21"
        ],
        [
         71,
         "sochi",
         "Sochi Autodrom",
         "Sochi",
         "Russia",
         43.4057,
         39.9578,
         2,
         "2021-03-21"
        ],
        [
         72,
         "port_imperial",
         "Port Imperial Street Circuit",
         "New Jersey",
         "USA",
         40.7769,
         -74.0111,
         4,
         "2021-03-21"
        ],
        [
         73,
         "BAK",
         "Baku City Circuit",
         "Baku",
         "Azerbaijan",
         40.3725,
         49.8533,
         -7,
         "2021-03-21"
        ],
        [
         74,
         "hanoi",
         "Hanoi Street Circuit",
         "Hanoi",
         "Vietnam",
         21.0166,
         105.766,
         9,
         "2021-03-21"
        ],
        [
         75,
         "portimao",
         "Autódromo Internacional do Algarve",
         "Portimão",
         "Portugal",
         37.227,
         -8.6267,
         108,
         "2021-03-21"
        ],
        [
         76,
         "mugello",
         "Autodromo Internazionale del Mugello",
         "Mugello",
         "Italy",
         43.9975,
         11.3719,
         255,
         "2021-03-21"
        ],
        [
         77,
         "jeddah",
         "Jeddah Street Circuit",
         "Jeddah",
         "Saudi Arabia",
         21.5433,
         39.1728,
         15,
         "2021-03-21"
        ]
       ],
       "datasetInfos": [],
       "dbfsResultPath": null,
       "isJsonSchema": true,
       "metadata": {},
       "overflow": false,
       "plotOptions": {
        "customPlotOptions": {},
        "displayType": "table",
        "pivotAggregation": null,
        "pivotColumns": null,
        "xColumns": null,
        "yColumns": null
       },
       "removedWidgets": [],
       "schema": [
        {
         "metadata": "{}",
         "name": "circuit_id",
         "type": "\"integer\""
        },
        {
         "metadata": "{}",
         "name": "circuit_ref",
         "type": "\"string\""
        },
        {
         "metadata": "{}",
         "name": "circuit_name",
         "type": "\"string\""
        },
        {
         "metadata": "{}",
         "name": "circuit_location",
         "type": "\"string\""
        },
        {
         "metadata": "{}",
         "name": "circuit_country",
         "type": "\"string\""
        },
        {
         "metadata": "{}",
         "name": "circuit_lat",
         "type": "\"double\""
        },
        {
         "metadata": "{}",
         "name": "circuit_lng",
         "type": "\"double\""
        },
        {
         "metadata": "{}",
         "name": "circuit_altitude",
         "type": "\"integer\""
        },
        {
         "metadata": "{}",
         "name": "file_date",
         "type": "\"string\""
        }
       ],
       "type": "table"
      }
     },
     "output_type": "display_data"
    }
   ],
   "source": [
    "circuits_df_columns_renamed = circuits_df_selected.withColumnRenamed(\"circuitId\", \"circuit_id\") \\\n",
    "                                                  .withColumnRenamed(\"circuitRef\", \"circuit_ref\") \\\n",
    "                                                  .withColumnRenamed(\"name\", \"circuit_name\") \\\n",
    "                                                  .withColumnRenamed(\"location\", \"circuit_location\") \\\n",
    "                                                  .withColumnRenamed(\"country\", \"circuit_country\") \\\n",
    "                                                  .withColumnRenamed(\"lat\", \"circuit_lat\") \\\n",
    "                                                  .withColumnRenamed(\"lng\", \"circuit_lng\") \\\n",
    "                                                  .withColumnRenamed(\"alt\", \"circuit_altitude\")\n",
    "display(circuits_df_columns_renamed)"
   ]
  },
  {
   "cell_type": "code",
   "execution_count": 0,
   "metadata": {
    "application/vnd.databricks.v1+cell": {
     "cellMetadata": {
      "byteLimit": 2048000,
      "rowLimit": 10000
     },
     "inputWidgets": {},
     "nuid": "af836a9d-2b91-42f3-8681-6754bb1d54de",
     "showTitle": false,
     "tableResultSettingsMap": {},
     "title": ""
    }
   },
   "outputs": [],
   "source": [
    "from pyspark.sql.functions import current_timestamp"
   ]
  },
  {
   "cell_type": "code",
   "execution_count": 0,
   "metadata": {
    "application/vnd.databricks.v1+cell": {
     "cellMetadata": {
      "byteLimit": 2048000,
      "rowLimit": 10000
     },
     "inputWidgets": {},
     "nuid": "05a66306-9782-4788-8035-e810f0d048b0",
     "showTitle": false,
     "tableResultSettingsMap": {},
     "title": ""
    }
   },
   "outputs": [
    {
     "output_type": "display_data",
     "data": {
      "text/html": [
       "<style scoped>\n",
       "  .table-result-container {\n",
       "    max-height: 300px;\n",
       "    overflow: auto;\n",
       "  }\n",
       "  table, th, td {\n",
       "    border: 1px solid black;\n",
       "    border-collapse: collapse;\n",
       "  }\n",
       "  th, td {\n",
       "    padding: 5px;\n",
       "  }\n",
       "  th {\n",
       "    text-align: left;\n",
       "  }\n",
       "</style><div class='table-result-container'><table class='table-result'><thead style='background-color: white'><tr><th>circuit_id</th><th>circuit_ref</th><th>circuit_name</th><th>circuit_location</th><th>circuit_country</th><th>circuit_lat</th><th>circuit_lng</th><th>circuit_altitude</th><th>file_date</th><th>ingest_date</th></tr></thead><tbody><tr><td>1</td><td>albert_park</td><td>Albert Park Grand Prix Circuit</td><td>Melbourne</td><td>Australia</td><td>-37.8497</td><td>144.968</td><td>10</td><td>2021-03-21</td><td>2025-04-17T15:58:48.653Z</td></tr><tr><td>2</td><td>sepang</td><td>Sepang International Circuit</td><td>Kuala Lumpur</td><td>Malaysia</td><td>2.76083</td><td>101.738</td><td>18</td><td>2021-03-21</td><td>2025-04-17T15:58:48.653Z</td></tr><tr><td>3</td><td>bahrain</td><td>Bahrain International Circuit</td><td>Sakhir</td><td>Bahrain</td><td>26.0325</td><td>50.5106</td><td>7</td><td>2021-03-21</td><td>2025-04-17T15:58:48.653Z</td></tr><tr><td>4</td><td>catalunya</td><td>Circuit de Barcelona-Catalunya</td><td>Montmeló</td><td>Spain</td><td>41.57</td><td>2.26111</td><td>109</td><td>2021-03-21</td><td>2025-04-17T15:58:48.653Z</td></tr><tr><td>5</td><td>istanbul</td><td>Istanbul Park</td><td>Istanbul</td><td>Turkey</td><td>40.9517</td><td>29.405</td><td>130</td><td>2021-03-21</td><td>2025-04-17T15:58:48.653Z</td></tr><tr><td>6</td><td>monaco</td><td>Circuit de Monaco</td><td>Monte-Carlo</td><td>Monaco</td><td>43.7347</td><td>7.42056</td><td>7</td><td>2021-03-21</td><td>2025-04-17T15:58:48.653Z</td></tr><tr><td>7</td><td>villeneuve</td><td>Circuit Gilles Villeneuve</td><td>Montreal</td><td>Canada</td><td>45.5</td><td>-73.5228</td><td>13</td><td>2021-03-21</td><td>2025-04-17T15:58:48.653Z</td></tr><tr><td>8</td><td>magny_cours</td><td>Circuit de Nevers Magny-Cours</td><td>Magny Cours</td><td>France</td><td>46.8642</td><td>3.16361</td><td>228</td><td>2021-03-21</td><td>2025-04-17T15:58:48.653Z</td></tr><tr><td>9</td><td>silverstone</td><td>Silverstone Circuit</td><td>Silverstone</td><td>UK</td><td>52.0786</td><td>-1.01694</td><td>153</td><td>2021-03-21</td><td>2025-04-17T15:58:48.653Z</td></tr><tr><td>10</td><td>hockenheimring</td><td>Hockenheimring</td><td>Hockenheim</td><td>Germany</td><td>49.3278</td><td>8.56583</td><td>103</td><td>2021-03-21</td><td>2025-04-17T15:58:48.653Z</td></tr><tr><td>11</td><td>hungaroring</td><td>Hungaroring</td><td>Budapest</td><td>Hungary</td><td>47.5789</td><td>19.2486</td><td>264</td><td>2021-03-21</td><td>2025-04-17T15:58:48.653Z</td></tr><tr><td>12</td><td>valencia</td><td>Valencia Street Circuit</td><td>Valencia</td><td>Spain</td><td>39.4589</td><td>-0.331667</td><td>4</td><td>2021-03-21</td><td>2025-04-17T15:58:48.653Z</td></tr><tr><td>13</td><td>spa</td><td>Circuit de Spa-Francorchamps</td><td>Spa</td><td>Belgium</td><td>50.4372</td><td>5.97139</td><td>401</td><td>2021-03-21</td><td>2025-04-17T15:58:48.653Z</td></tr><tr><td>14</td><td>monza</td><td>Autodromo Nazionale di Monza</td><td>Monza</td><td>Italy</td><td>45.6156</td><td>9.28111</td><td>162</td><td>2021-03-21</td><td>2025-04-17T15:58:48.653Z</td></tr><tr><td>15</td><td>marina_bay</td><td>Marina Bay Street Circuit</td><td>Marina Bay</td><td>Singapore</td><td>1.2914</td><td>103.864</td><td>18</td><td>2021-03-21</td><td>2025-04-17T15:58:48.653Z</td></tr><tr><td>16</td><td>fuji</td><td>Fuji Speedway</td><td>Oyama</td><td>Japan</td><td>35.3717</td><td>138.927</td><td>583</td><td>2021-03-21</td><td>2025-04-17T15:58:48.653Z</td></tr><tr><td>17</td><td>shanghai</td><td>Shanghai International Circuit</td><td>Shanghai</td><td>China</td><td>31.3389</td><td>121.22</td><td>5</td><td>2021-03-21</td><td>2025-04-17T15:58:48.653Z</td></tr><tr><td>18</td><td>interlagos</td><td>Autódromo José Carlos Pace</td><td>São Paulo</td><td>Brazil</td><td>-23.7036</td><td>-46.6997</td><td>785</td><td>2021-03-21</td><td>2025-04-17T15:58:48.653Z</td></tr><tr><td>19</td><td>indianapolis</td><td>Indianapolis Motor Speedway</td><td>Indianapolis</td><td>USA</td><td>39.795</td><td>-86.2347</td><td>223</td><td>2021-03-21</td><td>2025-04-17T15:58:48.653Z</td></tr><tr><td>20</td><td>nurburgring</td><td>Nürburgring</td><td>Nürburg</td><td>Germany</td><td>50.3356</td><td>6.9475</td><td>578</td><td>2021-03-21</td><td>2025-04-17T15:58:48.653Z</td></tr><tr><td>21</td><td>imola</td><td>Autodromo Enzo e Dino Ferrari</td><td>Imola</td><td>Italy</td><td>44.3439</td><td>11.7167</td><td>37</td><td>2021-03-21</td><td>2025-04-17T15:58:48.653Z</td></tr><tr><td>22</td><td>suzuka</td><td>Suzuka Circuit</td><td>Suzuka</td><td>Japan</td><td>34.8431</td><td>136.541</td><td>45</td><td>2021-03-21</td><td>2025-04-17T15:58:48.653Z</td></tr><tr><td>23</td><td>osterreichring</td><td>A1-Ring</td><td>Spielburg</td><td>Austria</td><td>47.2197</td><td>14.7647</td><td>678</td><td>2021-03-21</td><td>2025-04-17T15:58:48.653Z</td></tr><tr><td>24</td><td>yas_marina</td><td>Yas Marina Circuit</td><td>Abu Dhabi</td><td>UAE</td><td>24.4672</td><td>54.6031</td><td>3</td><td>2021-03-21</td><td>2025-04-17T15:58:48.653Z</td></tr><tr><td>25</td><td>galvez</td><td>Autódromo Juan y Oscar Gálvez</td><td>Buenos Aires</td><td>Argentina</td><td>-34.6943</td><td>-58.4593</td><td>8</td><td>2021-03-21</td><td>2025-04-17T15:58:48.653Z</td></tr><tr><td>26</td><td>jerez</td><td>Circuito de Jerez</td><td>Jerez de la Frontera</td><td>Spain</td><td>36.7083</td><td>-6.03417</td><td>37</td><td>2021-03-21</td><td>2025-04-17T15:58:48.653Z</td></tr><tr><td>27</td><td>estoril</td><td>Autódromo do Estoril</td><td>Estoril</td><td>Portugal</td><td>38.7506</td><td>-9.39417</td><td>130</td><td>2021-03-21</td><td>2025-04-17T15:58:48.653Z</td></tr><tr><td>28</td><td>okayama</td><td>Okayama International Circuit</td><td>Okayama</td><td>Japan</td><td>34.915</td><td>134.221</td><td>266</td><td>2021-03-21</td><td>2025-04-17T15:58:48.653Z</td></tr><tr><td>29</td><td>adelaide</td><td>Adelaide Street Circuit</td><td>Adelaide</td><td>Australia</td><td>-34.9272</td><td>138.617</td><td>58</td><td>2021-03-21</td><td>2025-04-17T15:58:48.653Z</td></tr><tr><td>30</td><td>kyalami</td><td>Kyalami</td><td>Midrand</td><td>South Africa</td><td>-25.9894</td><td>28.0767</td><td>1460</td><td>2021-03-21</td><td>2025-04-17T15:58:48.653Z</td></tr><tr><td>31</td><td>donington</td><td>Donington Park</td><td>Castle Donington</td><td>UK</td><td>52.8306</td><td>-1.37528</td><td>88</td><td>2021-03-21</td><td>2025-04-17T15:58:48.653Z</td></tr><tr><td>32</td><td>rodriguez</td><td>Autódromo Hermanos Rodríguez</td><td>Mexico City</td><td>Mexico</td><td>19.4042</td><td>-99.0907</td><td>2227</td><td>2021-03-21</td><td>2025-04-17T15:58:48.653Z</td></tr><tr><td>33</td><td>phoenix</td><td>Phoenix street circuit</td><td>Phoenix</td><td>USA</td><td>33.4479</td><td>-112.075</td><td>345</td><td>2021-03-21</td><td>2025-04-17T15:58:48.653Z</td></tr><tr><td>34</td><td>ricard</td><td>Circuit Paul Ricard</td><td>Le Castellet</td><td>France</td><td>43.2506</td><td>5.79167</td><td>432</td><td>2021-03-21</td><td>2025-04-17T15:58:48.653Z</td></tr><tr><td>35</td><td>yeongam</td><td>Korean International Circuit</td><td>Yeongam County</td><td>Korea</td><td>34.7333</td><td>126.417</td><td>0</td><td>2021-03-21</td><td>2025-04-17T15:58:48.653Z</td></tr><tr><td>36</td><td>jacarepagua</td><td>Autódromo Internacional Nelson Piquet</td><td>Rio de Janeiro</td><td>Brazil</td><td>-22.9756</td><td>-43.395</td><td>1126</td><td>2021-03-21</td><td>2025-04-17T15:58:48.653Z</td></tr><tr><td>37</td><td>detroit</td><td>Detroit Street Circuit</td><td>Detroit</td><td>USA</td><td>42.3298</td><td>-83.0401</td><td>177</td><td>2021-03-21</td><td>2025-04-17T15:58:48.653Z</td></tr><tr><td>38</td><td>brands_hatch</td><td>Brands Hatch</td><td>Kent</td><td>UK</td><td>51.3569</td><td>0.263056</td><td>145</td><td>2021-03-21</td><td>2025-04-17T15:58:48.653Z</td></tr><tr><td>39</td><td>zandvoort</td><td>Circuit Park Zandvoort</td><td>Zandvoort</td><td>Netherlands</td><td>52.3888</td><td>4.54092</td><td>6</td><td>2021-03-21</td><td>2025-04-17T15:58:48.653Z</td></tr><tr><td>40</td><td>zolder</td><td>Zolder</td><td>Heusden-Zolder</td><td>Belgium</td><td>50.9894</td><td>5.25694</td><td>36</td><td>2021-03-21</td><td>2025-04-17T15:58:48.653Z</td></tr><tr><td>41</td><td>dijon</td><td>Dijon-Prenois</td><td>Dijon</td><td>France</td><td>47.3625</td><td>4.89913</td><td>484</td><td>2021-03-21</td><td>2025-04-17T15:58:48.653Z</td></tr><tr><td>42</td><td>dallas</td><td>Fair Park</td><td>Dallas</td><td>USA</td><td>32.7774</td><td>-96.7587</td><td>139</td><td>2021-03-21</td><td>2025-04-17T15:58:48.653Z</td></tr><tr><td>43</td><td>long_beach</td><td>Long Beach</td><td>California</td><td>USA</td><td>33.7651</td><td>-118.189</td><td>12</td><td>2021-03-21</td><td>2025-04-17T15:58:48.653Z</td></tr><tr><td>44</td><td>las_vegas</td><td>Las Vegas Street Circuit</td><td>Nevada</td><td>USA</td><td>36.1162</td><td>-115.174</td><td>639</td><td>2021-03-21</td><td>2025-04-17T15:58:48.653Z</td></tr><tr><td>45</td><td>jarama</td><td>Jarama</td><td>Madrid</td><td>Spain</td><td>40.6171</td><td>-3.58558</td><td>609</td><td>2021-03-21</td><td>2025-04-17T15:58:48.653Z</td></tr><tr><td>46</td><td>watkins_glen</td><td>Watkins Glen</td><td>New York State</td><td>USA</td><td>42.3369</td><td>-76.9272</td><td>485</td><td>2021-03-21</td><td>2025-04-17T15:58:48.653Z</td></tr><tr><td>47</td><td>anderstorp</td><td>Scandinavian Raceway</td><td>Anderstorp</td><td>Sweden</td><td>57.2653</td><td>13.6042</td><td>153</td><td>2021-03-21</td><td>2025-04-17T15:58:48.653Z</td></tr><tr><td>48</td><td>mosport</td><td>Mosport International Raceway</td><td>Ontario</td><td>Canada</td><td>44.0481</td><td>-78.6756</td><td>332</td><td>2021-03-21</td><td>2025-04-17T15:58:48.653Z</td></tr><tr><td>49</td><td>montjuic</td><td>Montjuïc</td><td>Barcelona</td><td>Spain</td><td>41.3664</td><td>2.15167</td><td>79</td><td>2021-03-21</td><td>2025-04-17T15:58:48.653Z</td></tr><tr><td>50</td><td>nivelles</td><td>Nivelles-Baulers</td><td>Brussels</td><td>Belgium</td><td>50.6211</td><td>4.32694</td><td>139</td><td>2021-03-21</td><td>2025-04-17T15:58:48.653Z</td></tr><tr><td>51</td><td>charade</td><td>Charade Circuit</td><td>Clermont-Ferrand</td><td>France</td><td>45.7472</td><td>3.03889</td><td>790</td><td>2021-03-21</td><td>2025-04-17T15:58:48.653Z</td></tr><tr><td>52</td><td>tremblant</td><td>Circuit Mont-Tremblant</td><td>Quebec</td><td>Canada</td><td>46.1877</td><td>-74.6099</td><td>214</td><td>2021-03-21</td><td>2025-04-17T15:58:48.653Z</td></tr><tr><td>53</td><td>essarts</td><td>Rouen-Les-Essarts</td><td>Rouen</td><td>France</td><td>49.3306</td><td>1.00458</td><td>81</td><td>2021-03-21</td><td>2025-04-17T15:58:48.653Z</td></tr><tr><td>54</td><td>lemans</td><td>Le Mans</td><td>Le Mans</td><td>France</td><td>47.95</td><td>0.224231</td><td>67</td><td>2021-03-21</td><td>2025-04-17T15:58:48.653Z</td></tr><tr><td>55</td><td>reims</td><td>Reims-Gueux</td><td>Reims</td><td>France</td><td>49.2542</td><td>3.93083</td><td>88</td><td>2021-03-21</td><td>2025-04-17T15:58:48.653Z</td></tr><tr><td>56</td><td>george</td><td>Prince George Circuit</td><td>Eastern Cape Province</td><td>South Africa</td><td>-33.0486</td><td>27.8736</td><td>15</td><td>2021-03-21</td><td>2025-04-17T15:58:48.653Z</td></tr><tr><td>57</td><td>zeltweg</td><td>Zeltweg</td><td>Styria</td><td>Austria</td><td>47.2039</td><td>14.7478</td><td>676</td><td>2021-03-21</td><td>2025-04-17T15:58:48.653Z</td></tr><tr><td>58</td><td>aintree</td><td>Aintree</td><td>Liverpool</td><td>UK</td><td>53.4769</td><td>-2.94056</td><td>20</td><td>2021-03-21</td><td>2025-04-17T15:58:48.653Z</td></tr><tr><td>59</td><td>boavista</td><td>Circuito da Boavista</td><td>Oporto</td><td>Portugal</td><td>41.1705</td><td>-8.67325</td><td>28</td><td>2021-03-21</td><td>2025-04-17T15:58:48.653Z</td></tr><tr><td>60</td><td>riverside</td><td>Riverside International Raceway</td><td>California</td><td>USA</td><td>33.937</td><td>-117.273</td><td>470</td><td>2021-03-21</td><td>2025-04-17T15:58:48.653Z</td></tr><tr><td>61</td><td>avus</td><td>AVUS</td><td>Berlin</td><td>Germany</td><td>52.4806</td><td>13.2514</td><td>53</td><td>2021-03-21</td><td>2025-04-17T15:58:48.653Z</td></tr><tr><td>62</td><td>monsanto</td><td>Monsanto Park Circuit</td><td>Lisbon</td><td>Portugal</td><td>38.7197</td><td>-9.20306</td><td>158</td><td>2021-03-21</td><td>2025-04-17T15:58:48.653Z</td></tr><tr><td>63</td><td>sebring</td><td>Sebring International Raceway</td><td>Florida</td><td>USA</td><td>27.4547</td><td>-81.3483</td><td>18</td><td>2021-03-21</td><td>2025-04-17T15:58:48.653Z</td></tr><tr><td>64</td><td>ain-diab</td><td>Ain Diab</td><td>Casablanca</td><td>Morocco</td><td>33.5786</td><td>-7.6875</td><td>19</td><td>2021-03-21</td><td>2025-04-17T15:58:48.653Z</td></tr><tr><td>65</td><td>pescara</td><td>Pescara Circuit</td><td>Pescara</td><td>Italy</td><td>42.475</td><td>14.1508</td><td>129</td><td>2021-03-21</td><td>2025-04-17T15:58:48.653Z</td></tr><tr><td>66</td><td>bremgarten</td><td>Circuit Bremgarten</td><td>Bern</td><td>Switzerland</td><td>46.9589</td><td>7.40194</td><td>551</td><td>2021-03-21</td><td>2025-04-17T15:58:48.653Z</td></tr><tr><td>67</td><td>pedralbes</td><td>Circuit de Pedralbes</td><td>Barcelona</td><td>Spain</td><td>41.3903</td><td>2.11667</td><td>85</td><td>2021-03-21</td><td>2025-04-17T15:58:48.653Z</td></tr><tr><td>68</td><td>buddh</td><td>Buddh International Circuit</td><td>Uttar Pradesh</td><td>India</td><td>28.3487</td><td>77.5331</td><td>194</td><td>2021-03-21</td><td>2025-04-17T15:58:48.653Z</td></tr><tr><td>69</td><td>americas</td><td>Circuit of the Americas</td><td>Austin</td><td>USA</td><td>30.1328</td><td>-97.6411</td><td>161</td><td>2021-03-21</td><td>2025-04-17T15:58:48.653Z</td></tr><tr><td>70</td><td>red_bull_ring</td><td>Red Bull Ring</td><td>Spielburg</td><td>Austria</td><td>47.2197</td><td>14.7647</td><td>678</td><td>2021-03-21</td><td>2025-04-17T15:58:48.653Z</td></tr><tr><td>71</td><td>sochi</td><td>Sochi Autodrom</td><td>Sochi</td><td>Russia</td><td>43.4057</td><td>39.9578</td><td>2</td><td>2021-03-21</td><td>2025-04-17T15:58:48.653Z</td></tr><tr><td>72</td><td>port_imperial</td><td>Port Imperial Street Circuit</td><td>New Jersey</td><td>USA</td><td>40.7769</td><td>-74.0111</td><td>4</td><td>2021-03-21</td><td>2025-04-17T15:58:48.653Z</td></tr><tr><td>73</td><td>BAK</td><td>Baku City Circuit</td><td>Baku</td><td>Azerbaijan</td><td>40.3725</td><td>49.8533</td><td>-7</td><td>2021-03-21</td><td>2025-04-17T15:58:48.653Z</td></tr><tr><td>74</td><td>hanoi</td><td>Hanoi Street Circuit</td><td>Hanoi</td><td>Vietnam</td><td>21.0166</td><td>105.766</td><td>9</td><td>2021-03-21</td><td>2025-04-17T15:58:48.653Z</td></tr><tr><td>75</td><td>portimao</td><td>Autódromo Internacional do Algarve</td><td>Portimão</td><td>Portugal</td><td>37.227</td><td>-8.6267</td><td>108</td><td>2021-03-21</td><td>2025-04-17T15:58:48.653Z</td></tr><tr><td>76</td><td>mugello</td><td>Autodromo Internazionale del Mugello</td><td>Mugello</td><td>Italy</td><td>43.9975</td><td>11.3719</td><td>255</td><td>2021-03-21</td><td>2025-04-17T15:58:48.653Z</td></tr><tr><td>77</td><td>jeddah</td><td>Jeddah Street Circuit</td><td>Jeddah</td><td>Saudi Arabia</td><td>21.5433</td><td>39.1728</td><td>15</td><td>2021-03-21</td><td>2025-04-17T15:58:48.653Z</td></tr></tbody></table></div>"
      ]
     },
     "metadata": {
      "application/vnd.databricks.v1+output": {
       "addedWidgets": {},
       "aggData": [],
       "aggError": "",
       "aggOverflow": false,
       "aggSchema": [],
       "aggSeriesLimitReached": false,
       "aggType": "",
       "arguments": {},
       "columnCustomDisplayInfos": {},
       "data": [
        [
         1,
         "albert_park",
         "Albert Park Grand Prix Circuit",
         "Melbourne",
         "Australia",
         -37.8497,
         144.968,
         10,
         "2021-03-21",
         "2025-04-17T15:58:48.653Z"
        ],
        [
         2,
         "sepang",
         "Sepang International Circuit",
         "Kuala Lumpur",
         "Malaysia",
         2.76083,
         101.738,
         18,
         "2021-03-21",
         "2025-04-17T15:58:48.653Z"
        ],
        [
         3,
         "bahrain",
         "Bahrain International Circuit",
         "Sakhir",
         "Bahrain",
         26.0325,
         50.5106,
         7,
         "2021-03-21",
         "2025-04-17T15:58:48.653Z"
        ],
        [
         4,
         "catalunya",
         "Circuit de Barcelona-Catalunya",
         "Montmeló",
         "Spain",
         41.57,
         2.26111,
         109,
         "2021-03-21",
         "2025-04-17T15:58:48.653Z"
        ],
        [
         5,
         "istanbul",
         "Istanbul Park",
         "Istanbul",
         "Turkey",
         40.9517,
         29.405,
         130,
         "2021-03-21",
         "2025-04-17T15:58:48.653Z"
        ],
        [
         6,
         "monaco",
         "Circuit de Monaco",
         "Monte-Carlo",
         "Monaco",
         43.7347,
         7.42056,
         7,
         "2021-03-21",
         "2025-04-17T15:58:48.653Z"
        ],
        [
         7,
         "villeneuve",
         "Circuit Gilles Villeneuve",
         "Montreal",
         "Canada",
         45.5,
         -73.5228,
         13,
         "2021-03-21",
         "2025-04-17T15:58:48.653Z"
        ],
        [
         8,
         "magny_cours",
         "Circuit de Nevers Magny-Cours",
         "Magny Cours",
         "France",
         46.8642,
         3.16361,
         228,
         "2021-03-21",
         "2025-04-17T15:58:48.653Z"
        ],
        [
         9,
         "silverstone",
         "Silverstone Circuit",
         "Silverstone",
         "UK",
         52.0786,
         -1.01694,
         153,
         "2021-03-21",
         "2025-04-17T15:58:48.653Z"
        ],
        [
         10,
         "hockenheimring",
         "Hockenheimring",
         "Hockenheim",
         "Germany",
         49.3278,
         8.56583,
         103,
         "2021-03-21",
         "2025-04-17T15:58:48.653Z"
        ],
        [
         11,
         "hungaroring",
         "Hungaroring",
         "Budapest",
         "Hungary",
         47.5789,
         19.2486,
         264,
         "2021-03-21",
         "2025-04-17T15:58:48.653Z"
        ],
        [
         12,
         "valencia",
         "Valencia Street Circuit",
         "Valencia",
         "Spain",
         39.4589,
         -0.331667,
         4,
         "2021-03-21",
         "2025-04-17T15:58:48.653Z"
        ],
        [
         13,
         "spa",
         "Circuit de Spa-Francorchamps",
         "Spa",
         "Belgium",
         50.4372,
         5.97139,
         401,
         "2021-03-21",
         "2025-04-17T15:58:48.653Z"
        ],
        [
         14,
         "monza",
         "Autodromo Nazionale di Monza",
         "Monza",
         "Italy",
         45.6156,
         9.28111,
         162,
         "2021-03-21",
         "2025-04-17T15:58:48.653Z"
        ],
        [
         15,
         "marina_bay",
         "Marina Bay Street Circuit",
         "Marina Bay",
         "Singapore",
         1.2914,
         103.864,
         18,
         "2021-03-21",
         "2025-04-17T15:58:48.653Z"
        ],
        [
         16,
         "fuji",
         "Fuji Speedway",
         "Oyama",
         "Japan",
         35.3717,
         138.927,
         583,
         "2021-03-21",
         "2025-04-17T15:58:48.653Z"
        ],
        [
         17,
         "shanghai",
         "Shanghai International Circuit",
         "Shanghai",
         "China",
         31.3389,
         121.22,
         5,
         "2021-03-21",
         "2025-04-17T15:58:48.653Z"
        ],
        [
         18,
         "interlagos",
         "Autódromo José Carlos Pace",
         "São Paulo",
         "Brazil",
         -23.7036,
         -46.6997,
         785,
         "2021-03-21",
         "2025-04-17T15:58:48.653Z"
        ],
        [
         19,
         "indianapolis",
         "Indianapolis Motor Speedway",
         "Indianapolis",
         "USA",
         39.795,
         -86.2347,
         223,
         "2021-03-21",
         "2025-04-17T15:58:48.653Z"
        ],
        [
         20,
         "nurburgring",
         "Nürburgring",
         "Nürburg",
         "Germany",
         50.3356,
         6.9475,
         578,
         "2021-03-21",
         "2025-04-17T15:58:48.653Z"
        ],
        [
         21,
         "imola",
         "Autodromo Enzo e Dino Ferrari",
         "Imola",
         "Italy",
         44.3439,
         11.7167,
         37,
         "2021-03-21",
         "2025-04-17T15:58:48.653Z"
        ],
        [
         22,
         "suzuka",
         "Suzuka Circuit",
         "Suzuka",
         "Japan",
         34.8431,
         136.541,
         45,
         "2021-03-21",
         "2025-04-17T15:58:48.653Z"
        ],
        [
         23,
         "osterreichring",
         "A1-Ring",
         "Spielburg",
         "Austria",
         47.2197,
         14.7647,
         678,
         "2021-03-21",
         "2025-04-17T15:58:48.653Z"
        ],
        [
         24,
         "yas_marina",
         "Yas Marina Circuit",
         "Abu Dhabi",
         "UAE",
         24.4672,
         54.6031,
         3,
         "2021-03-21",
         "2025-04-17T15:58:48.653Z"
        ],
        [
         25,
         "galvez",
         "Autódromo Juan y Oscar Gálvez",
         "Buenos Aires",
         "Argentina",
         -34.6943,
         -58.4593,
         8,
         "2021-03-21",
         "2025-04-17T15:58:48.653Z"
        ],
        [
         26,
         "jerez",
         "Circuito de Jerez",
         "Jerez de la Frontera",
         "Spain",
         36.7083,
         -6.03417,
         37,
         "2021-03-21",
         "2025-04-17T15:58:48.653Z"
        ],
        [
         27,
         "estoril",
         "Autódromo do Estoril",
         "Estoril",
         "Portugal",
         38.7506,
         -9.39417,
         130,
         "2021-03-21",
         "2025-04-17T15:58:48.653Z"
        ],
        [
         28,
         "okayama",
         "Okayama International Circuit",
         "Okayama",
         "Japan",
         34.915,
         134.221,
         266,
         "2021-03-21",
         "2025-04-17T15:58:48.653Z"
        ],
        [
         29,
         "adelaide",
         "Adelaide Street Circuit",
         "Adelaide",
         "Australia",
         -34.9272,
         138.617,
         58,
         "2021-03-21",
         "2025-04-17T15:58:48.653Z"
        ],
        [
         30,
         "kyalami",
         "Kyalami",
         "Midrand",
         "South Africa",
         -25.9894,
         28.0767,
         1460,
         "2021-03-21",
         "2025-04-17T15:58:48.653Z"
        ],
        [
         31,
         "donington",
         "Donington Park",
         "Castle Donington",
         "UK",
         52.8306,
         -1.37528,
         88,
         "2021-03-21",
         "2025-04-17T15:58:48.653Z"
        ],
        [
         32,
         "rodriguez",
         "Autódromo Hermanos Rodríguez",
         "Mexico City",
         "Mexico",
         19.4042,
         -99.0907,
         2227,
         "2021-03-21",
         "2025-04-17T15:58:48.653Z"
        ],
        [
         33,
         "phoenix",
         "Phoenix street circuit",
         "Phoenix",
         "USA",
         33.4479,
         -112.075,
         345,
         "2021-03-21",
         "2025-04-17T15:58:48.653Z"
        ],
        [
         34,
         "ricard",
         "Circuit Paul Ricard",
         "Le Castellet",
         "France",
         43.2506,
         5.79167,
         432,
         "2021-03-21",
         "2025-04-17T15:58:48.653Z"
        ],
        [
         35,
         "yeongam",
         "Korean International Circuit",
         "Yeongam County",
         "Korea",
         34.7333,
         126.417,
         0,
         "2021-03-21",
         "2025-04-17T15:58:48.653Z"
        ],
        [
         36,
         "jacarepagua",
         "Autódromo Internacional Nelson Piquet",
         "Rio de Janeiro",
         "Brazil",
         -22.9756,
         -43.395,
         1126,
         "2021-03-21",
         "2025-04-17T15:58:48.653Z"
        ],
        [
         37,
         "detroit",
         "Detroit Street Circuit",
         "Detroit",
         "USA",
         42.3298,
         -83.0401,
         177,
         "2021-03-21",
         "2025-04-17T15:58:48.653Z"
        ],
        [
         38,
         "brands_hatch",
         "Brands Hatch",
         "Kent",
         "UK",
         51.3569,
         0.263056,
         145,
         "2021-03-21",
         "2025-04-17T15:58:48.653Z"
        ],
        [
         39,
         "zandvoort",
         "Circuit Park Zandvoort",
         "Zandvoort",
         "Netherlands",
         52.3888,
         4.54092,
         6,
         "2021-03-21",
         "2025-04-17T15:58:48.653Z"
        ],
        [
         40,
         "zolder",
         "Zolder",
         "Heusden-Zolder",
         "Belgium",
         50.9894,
         5.25694,
         36,
         "2021-03-21",
         "2025-04-17T15:58:48.653Z"
        ],
        [
         41,
         "dijon",
         "Dijon-Prenois",
         "Dijon",
         "France",
         47.3625,
         4.89913,
         484,
         "2021-03-21",
         "2025-04-17T15:58:48.653Z"
        ],
        [
         42,
         "dallas",
         "Fair Park",
         "Dallas",
         "USA",
         32.7774,
         -96.7587,
         139,
         "2021-03-21",
         "2025-04-17T15:58:48.653Z"
        ],
        [
         43,
         "long_beach",
         "Long Beach",
         "California",
         "USA",
         33.7651,
         -118.189,
         12,
         "2021-03-21",
         "2025-04-17T15:58:48.653Z"
        ],
        [
         44,
         "las_vegas",
         "Las Vegas Street Circuit",
         "Nevada",
         "USA",
         36.1162,
         -115.174,
         639,
         "2021-03-21",
         "2025-04-17T15:58:48.653Z"
        ],
        [
         45,
         "jarama",
         "Jarama",
         "Madrid",
         "Spain",
         40.6171,
         -3.58558,
         609,
         "2021-03-21",
         "2025-04-17T15:58:48.653Z"
        ],
        [
         46,
         "watkins_glen",
         "Watkins Glen",
         "New York State",
         "USA",
         42.3369,
         -76.9272,
         485,
         "2021-03-21",
         "2025-04-17T15:58:48.653Z"
        ],
        [
         47,
         "anderstorp",
         "Scandinavian Raceway",
         "Anderstorp",
         "Sweden",
         57.2653,
         13.6042,
         153,
         "2021-03-21",
         "2025-04-17T15:58:48.653Z"
        ],
        [
         48,
         "mosport",
         "Mosport International Raceway",
         "Ontario",
         "Canada",
         44.0481,
         -78.6756,
         332,
         "2021-03-21",
         "2025-04-17T15:58:48.653Z"
        ],
        [
         49,
         "montjuic",
         "Montjuïc",
         "Barcelona",
         "Spain",
         41.3664,
         2.15167,
         79,
         "2021-03-21",
         "2025-04-17T15:58:48.653Z"
        ],
        [
         50,
         "nivelles",
         "Nivelles-Baulers",
         "Brussels",
         "Belgium",
         50.6211,
         4.32694,
         139,
         "2021-03-21",
         "2025-04-17T15:58:48.653Z"
        ],
        [
         51,
         "charade",
         "Charade Circuit",
         "Clermont-Ferrand",
         "France",
         45.7472,
         3.03889,
         790,
         "2021-03-21",
         "2025-04-17T15:58:48.653Z"
        ],
        [
         52,
         "tremblant",
         "Circuit Mont-Tremblant",
         "Quebec",
         "Canada",
         46.1877,
         -74.6099,
         214,
         "2021-03-21",
         "2025-04-17T15:58:48.653Z"
        ],
        [
         53,
         "essarts",
         "Rouen-Les-Essarts",
         "Rouen",
         "France",
         49.3306,
         1.00458,
         81,
         "2021-03-21",
         "2025-04-17T15:58:48.653Z"
        ],
        [
         54,
         "lemans",
         "Le Mans",
         "Le Mans",
         "France",
         47.95,
         0.224231,
         67,
         "2021-03-21",
         "2025-04-17T15:58:48.653Z"
        ],
        [
         55,
         "reims",
         "Reims-Gueux",
         "Reims",
         "France",
         49.2542,
         3.93083,
         88,
         "2021-03-21",
         "2025-04-17T15:58:48.653Z"
        ],
        [
         56,
         "george",
         "Prince George Circuit",
         "Eastern Cape Province",
         "South Africa",
         -33.0486,
         27.8736,
         15,
         "2021-03-21",
         "2025-04-17T15:58:48.653Z"
        ],
        [
         57,
         "zeltweg",
         "Zeltweg",
         "Styria",
         "Austria",
         47.2039,
         14.7478,
         676,
         "2021-03-21",
         "2025-04-17T15:58:48.653Z"
        ],
        [
         58,
         "aintree",
         "Aintree",
         "Liverpool",
         "UK",
         53.4769,
         -2.94056,
         20,
         "2021-03-21",
         "2025-04-17T15:58:48.653Z"
        ],
        [
         59,
         "boavista",
         "Circuito da Boavista",
         "Oporto",
         "Portugal",
         41.1705,
         -8.67325,
         28,
         "2021-03-21",
         "2025-04-17T15:58:48.653Z"
        ],
        [
         60,
         "riverside",
         "Riverside International Raceway",
         "California",
         "USA",
         33.937,
         -117.273,
         470,
         "2021-03-21",
         "2025-04-17T15:58:48.653Z"
        ],
        [
         61,
         "avus",
         "AVUS",
         "Berlin",
         "Germany",
         52.4806,
         13.2514,
         53,
         "2021-03-21",
         "2025-04-17T15:58:48.653Z"
        ],
        [
         62,
         "monsanto",
         "Monsanto Park Circuit",
         "Lisbon",
         "Portugal",
         38.7197,
         -9.20306,
         158,
         "2021-03-21",
         "2025-04-17T15:58:48.653Z"
        ],
        [
         63,
         "sebring",
         "Sebring International Raceway",
         "Florida",
         "USA",
         27.4547,
         -81.3483,
         18,
         "2021-03-21",
         "2025-04-17T15:58:48.653Z"
        ],
        [
         64,
         "ain-diab",
         "Ain Diab",
         "Casablanca",
         "Morocco",
         33.5786,
         -7.6875,
         19,
         "2021-03-21",
         "2025-04-17T15:58:48.653Z"
        ],
        [
         65,
         "pescara",
         "Pescara Circuit",
         "Pescara",
         "Italy",
         42.475,
         14.1508,
         129,
         "2021-03-21",
         "2025-04-17T15:58:48.653Z"
        ],
        [
         66,
         "bremgarten",
         "Circuit Bremgarten",
         "Bern",
         "Switzerland",
         46.9589,
         7.40194,
         551,
         "2021-03-21",
         "2025-04-17T15:58:48.653Z"
        ],
        [
         67,
         "pedralbes",
         "Circuit de Pedralbes",
         "Barcelona",
         "Spain",
         41.3903,
         2.11667,
         85,
         "2021-03-21",
         "2025-04-17T15:58:48.653Z"
        ],
        [
         68,
         "buddh",
         "Buddh International Circuit",
         "Uttar Pradesh",
         "India",
         28.3487,
         77.5331,
         194,
         "2021-03-21",
         "2025-04-17T15:58:48.653Z"
        ],
        [
         69,
         "americas",
         "Circuit of the Americas",
         "Austin",
         "USA",
         30.1328,
         -97.6411,
         161,
         "2021-03-21",
         "2025-04-17T15:58:48.653Z"
        ],
        [
         70,
         "red_bull_ring",
         "Red Bull Ring",
         "Spielburg",
         "Austria",
         47.2197,
         14.7647,
         678,
         "2021-03-21",
         "2025-04-17T15:58:48.653Z"
        ],
        [
         71,
         "sochi",
         "Sochi Autodrom",
         "Sochi",
         "Russia",
         43.4057,
         39.9578,
         2,
         "2021-03-21",
         "2025-04-17T15:58:48.653Z"
        ],
        [
         72,
         "port_imperial",
         "Port Imperial Street Circuit",
         "New Jersey",
         "USA",
         40.7769,
         -74.0111,
         4,
         "2021-03-21",
         "2025-04-17T15:58:48.653Z"
        ],
        [
         73,
         "BAK",
         "Baku City Circuit",
         "Baku",
         "Azerbaijan",
         40.3725,
         49.8533,
         -7,
         "2021-03-21",
         "2025-04-17T15:58:48.653Z"
        ],
        [
         74,
         "hanoi",
         "Hanoi Street Circuit",
         "Hanoi",
         "Vietnam",
         21.0166,
         105.766,
         9,
         "2021-03-21",
         "2025-04-17T15:58:48.653Z"
        ],
        [
         75,
         "portimao",
         "Autódromo Internacional do Algarve",
         "Portimão",
         "Portugal",
         37.227,
         -8.6267,
         108,
         "2021-03-21",
         "2025-04-17T15:58:48.653Z"
        ],
        [
         76,
         "mugello",
         "Autodromo Internazionale del Mugello",
         "Mugello",
         "Italy",
         43.9975,
         11.3719,
         255,
         "2021-03-21",
         "2025-04-17T15:58:48.653Z"
        ],
        [
         77,
         "jeddah",
         "Jeddah Street Circuit",
         "Jeddah",
         "Saudi Arabia",
         21.5433,
         39.1728,
         15,
         "2021-03-21",
         "2025-04-17T15:58:48.653Z"
        ]
       ],
       "datasetInfos": [],
       "dbfsResultPath": null,
       "isJsonSchema": true,
       "metadata": {},
       "overflow": false,
       "plotOptions": {
        "customPlotOptions": {},
        "displayType": "table",
        "pivotAggregation": null,
        "pivotColumns": null,
        "xColumns": null,
        "yColumns": null
       },
       "removedWidgets": [],
       "schema": [
        {
         "metadata": "{}",
         "name": "circuit_id",
         "type": "\"integer\""
        },
        {
         "metadata": "{}",
         "name": "circuit_ref",
         "type": "\"string\""
        },
        {
         "metadata": "{}",
         "name": "circuit_name",
         "type": "\"string\""
        },
        {
         "metadata": "{}",
         "name": "circuit_location",
         "type": "\"string\""
        },
        {
         "metadata": "{}",
         "name": "circuit_country",
         "type": "\"string\""
        },
        {
         "metadata": "{}",
         "name": "circuit_lat",
         "type": "\"double\""
        },
        {
         "metadata": "{}",
         "name": "circuit_lng",
         "type": "\"double\""
        },
        {
         "metadata": "{}",
         "name": "circuit_altitude",
         "type": "\"integer\""
        },
        {
         "metadata": "{}",
         "name": "file_date",
         "type": "\"string\""
        },
        {
         "metadata": "{}",
         "name": "ingest_date",
         "type": "\"timestamp\""
        }
       ],
       "type": "table"
      }
     },
     "output_type": "display_data"
    }
   ],
   "source": [
    "circuits_df_add_audit_column = ingest_current_timestamp(circuits_df_columns_renamed)\n",
    "display(circuits_df_add_audit_column)"
   ]
  },
  {
   "cell_type": "code",
   "execution_count": 0,
   "metadata": {
    "application/vnd.databricks.v1+cell": {
     "cellMetadata": {
      "byteLimit": 2048000,
      "rowLimit": 10000
     },
     "inputWidgets": {},
     "nuid": "f10b6105-814c-44f8-ad7c-99c58df26e9b",
     "showTitle": false,
     "tableResultSettingsMap": {},
     "title": ""
    }
   },
   "outputs": [
    {
     "output_type": "display_data",
     "data": {
      "text/html": [
       "<style scoped>\n",
       "  .table-result-container {\n",
       "    max-height: 300px;\n",
       "    overflow: auto;\n",
       "  }\n",
       "  table, th, td {\n",
       "    border: 1px solid black;\n",
       "    border-collapse: collapse;\n",
       "  }\n",
       "  th, td {\n",
       "    padding: 5px;\n",
       "  }\n",
       "  th {\n",
       "    text-align: left;\n",
       "  }\n",
       "</style><div class='table-result-container'><table class='table-result'><thead style='background-color: white'><tr><th>circuit_id</th><th>circuit_ref</th><th>circuit_name</th><th>circuit_location</th><th>circuit_country</th><th>circuit_lat</th><th>circuit_lng</th><th>circuit_altitude</th><th>file_date</th><th>ingest_date</th></tr></thead><tbody><tr><td>1</td><td>albert_park</td><td>Albert Park Grand Prix Circuit</td><td>Melbourne</td><td>Australia</td><td>-37.8497</td><td>144.968</td><td>10</td><td>2021-03-21</td><td>2025-04-17T15:58:49.012Z</td></tr><tr><td>2</td><td>sepang</td><td>Sepang International Circuit</td><td>Kuala Lumpur</td><td>Malaysia</td><td>2.76083</td><td>101.738</td><td>18</td><td>2021-03-21</td><td>2025-04-17T15:58:49.012Z</td></tr><tr><td>3</td><td>bahrain</td><td>Bahrain International Circuit</td><td>Sakhir</td><td>Bahrain</td><td>26.0325</td><td>50.5106</td><td>7</td><td>2021-03-21</td><td>2025-04-17T15:58:49.012Z</td></tr><tr><td>4</td><td>catalunya</td><td>Circuit de Barcelona-Catalunya</td><td>Montmeló</td><td>Spain</td><td>41.57</td><td>2.26111</td><td>109</td><td>2021-03-21</td><td>2025-04-17T15:58:49.012Z</td></tr><tr><td>5</td><td>istanbul</td><td>Istanbul Park</td><td>Istanbul</td><td>Turkey</td><td>40.9517</td><td>29.405</td><td>130</td><td>2021-03-21</td><td>2025-04-17T15:58:49.012Z</td></tr><tr><td>6</td><td>monaco</td><td>Circuit de Monaco</td><td>Monte-Carlo</td><td>Monaco</td><td>43.7347</td><td>7.42056</td><td>7</td><td>2021-03-21</td><td>2025-04-17T15:58:49.012Z</td></tr><tr><td>7</td><td>villeneuve</td><td>Circuit Gilles Villeneuve</td><td>Montreal</td><td>Canada</td><td>45.5</td><td>-73.5228</td><td>13</td><td>2021-03-21</td><td>2025-04-17T15:58:49.012Z</td></tr><tr><td>8</td><td>magny_cours</td><td>Circuit de Nevers Magny-Cours</td><td>Magny Cours</td><td>France</td><td>46.8642</td><td>3.16361</td><td>228</td><td>2021-03-21</td><td>2025-04-17T15:58:49.012Z</td></tr><tr><td>9</td><td>silverstone</td><td>Silverstone Circuit</td><td>Silverstone</td><td>UK</td><td>52.0786</td><td>-1.01694</td><td>153</td><td>2021-03-21</td><td>2025-04-17T15:58:49.012Z</td></tr><tr><td>10</td><td>hockenheimring</td><td>Hockenheimring</td><td>Hockenheim</td><td>Germany</td><td>49.3278</td><td>8.56583</td><td>103</td><td>2021-03-21</td><td>2025-04-17T15:58:49.012Z</td></tr><tr><td>11</td><td>hungaroring</td><td>Hungaroring</td><td>Budapest</td><td>Hungary</td><td>47.5789</td><td>19.2486</td><td>264</td><td>2021-03-21</td><td>2025-04-17T15:58:49.012Z</td></tr><tr><td>12</td><td>valencia</td><td>Valencia Street Circuit</td><td>Valencia</td><td>Spain</td><td>39.4589</td><td>-0.331667</td><td>4</td><td>2021-03-21</td><td>2025-04-17T15:58:49.012Z</td></tr><tr><td>13</td><td>spa</td><td>Circuit de Spa-Francorchamps</td><td>Spa</td><td>Belgium</td><td>50.4372</td><td>5.97139</td><td>401</td><td>2021-03-21</td><td>2025-04-17T15:58:49.012Z</td></tr><tr><td>14</td><td>monza</td><td>Autodromo Nazionale di Monza</td><td>Monza</td><td>Italy</td><td>45.6156</td><td>9.28111</td><td>162</td><td>2021-03-21</td><td>2025-04-17T15:58:49.012Z</td></tr><tr><td>15</td><td>marina_bay</td><td>Marina Bay Street Circuit</td><td>Marina Bay</td><td>Singapore</td><td>1.2914</td><td>103.864</td><td>18</td><td>2021-03-21</td><td>2025-04-17T15:58:49.012Z</td></tr><tr><td>16</td><td>fuji</td><td>Fuji Speedway</td><td>Oyama</td><td>Japan</td><td>35.3717</td><td>138.927</td><td>583</td><td>2021-03-21</td><td>2025-04-17T15:58:49.012Z</td></tr><tr><td>17</td><td>shanghai</td><td>Shanghai International Circuit</td><td>Shanghai</td><td>China</td><td>31.3389</td><td>121.22</td><td>5</td><td>2021-03-21</td><td>2025-04-17T15:58:49.012Z</td></tr><tr><td>18</td><td>interlagos</td><td>Autódromo José Carlos Pace</td><td>São Paulo</td><td>Brazil</td><td>-23.7036</td><td>-46.6997</td><td>785</td><td>2021-03-21</td><td>2025-04-17T15:58:49.012Z</td></tr><tr><td>19</td><td>indianapolis</td><td>Indianapolis Motor Speedway</td><td>Indianapolis</td><td>USA</td><td>39.795</td><td>-86.2347</td><td>223</td><td>2021-03-21</td><td>2025-04-17T15:58:49.012Z</td></tr><tr><td>20</td><td>nurburgring</td><td>Nürburgring</td><td>Nürburg</td><td>Germany</td><td>50.3356</td><td>6.9475</td><td>578</td><td>2021-03-21</td><td>2025-04-17T15:58:49.012Z</td></tr><tr><td>21</td><td>imola</td><td>Autodromo Enzo e Dino Ferrari</td><td>Imola</td><td>Italy</td><td>44.3439</td><td>11.7167</td><td>37</td><td>2021-03-21</td><td>2025-04-17T15:58:49.012Z</td></tr><tr><td>22</td><td>suzuka</td><td>Suzuka Circuit</td><td>Suzuka</td><td>Japan</td><td>34.8431</td><td>136.541</td><td>45</td><td>2021-03-21</td><td>2025-04-17T15:58:49.012Z</td></tr><tr><td>23</td><td>osterreichring</td><td>A1-Ring</td><td>Spielburg</td><td>Austria</td><td>47.2197</td><td>14.7647</td><td>678</td><td>2021-03-21</td><td>2025-04-17T15:58:49.012Z</td></tr><tr><td>24</td><td>yas_marina</td><td>Yas Marina Circuit</td><td>Abu Dhabi</td><td>UAE</td><td>24.4672</td><td>54.6031</td><td>3</td><td>2021-03-21</td><td>2025-04-17T15:58:49.012Z</td></tr><tr><td>25</td><td>galvez</td><td>Autódromo Juan y Oscar Gálvez</td><td>Buenos Aires</td><td>Argentina</td><td>-34.6943</td><td>-58.4593</td><td>8</td><td>2021-03-21</td><td>2025-04-17T15:58:49.012Z</td></tr><tr><td>26</td><td>jerez</td><td>Circuito de Jerez</td><td>Jerez de la Frontera</td><td>Spain</td><td>36.7083</td><td>-6.03417</td><td>37</td><td>2021-03-21</td><td>2025-04-17T15:58:49.012Z</td></tr><tr><td>27</td><td>estoril</td><td>Autódromo do Estoril</td><td>Estoril</td><td>Portugal</td><td>38.7506</td><td>-9.39417</td><td>130</td><td>2021-03-21</td><td>2025-04-17T15:58:49.012Z</td></tr><tr><td>28</td><td>okayama</td><td>Okayama International Circuit</td><td>Okayama</td><td>Japan</td><td>34.915</td><td>134.221</td><td>266</td><td>2021-03-21</td><td>2025-04-17T15:58:49.012Z</td></tr><tr><td>29</td><td>adelaide</td><td>Adelaide Street Circuit</td><td>Adelaide</td><td>Australia</td><td>-34.9272</td><td>138.617</td><td>58</td><td>2021-03-21</td><td>2025-04-17T15:58:49.012Z</td></tr><tr><td>30</td><td>kyalami</td><td>Kyalami</td><td>Midrand</td><td>South Africa</td><td>-25.9894</td><td>28.0767</td><td>1460</td><td>2021-03-21</td><td>2025-04-17T15:58:49.012Z</td></tr><tr><td>31</td><td>donington</td><td>Donington Park</td><td>Castle Donington</td><td>UK</td><td>52.8306</td><td>-1.37528</td><td>88</td><td>2021-03-21</td><td>2025-04-17T15:58:49.012Z</td></tr><tr><td>32</td><td>rodriguez</td><td>Autódromo Hermanos Rodríguez</td><td>Mexico City</td><td>Mexico</td><td>19.4042</td><td>-99.0907</td><td>2227</td><td>2021-03-21</td><td>2025-04-17T15:58:49.012Z</td></tr><tr><td>33</td><td>phoenix</td><td>Phoenix street circuit</td><td>Phoenix</td><td>USA</td><td>33.4479</td><td>-112.075</td><td>345</td><td>2021-03-21</td><td>2025-04-17T15:58:49.012Z</td></tr><tr><td>34</td><td>ricard</td><td>Circuit Paul Ricard</td><td>Le Castellet</td><td>France</td><td>43.2506</td><td>5.79167</td><td>432</td><td>2021-03-21</td><td>2025-04-17T15:58:49.012Z</td></tr><tr><td>35</td><td>yeongam</td><td>Korean International Circuit</td><td>Yeongam County</td><td>Korea</td><td>34.7333</td><td>126.417</td><td>0</td><td>2021-03-21</td><td>2025-04-17T15:58:49.012Z</td></tr><tr><td>36</td><td>jacarepagua</td><td>Autódromo Internacional Nelson Piquet</td><td>Rio de Janeiro</td><td>Brazil</td><td>-22.9756</td><td>-43.395</td><td>1126</td><td>2021-03-21</td><td>2025-04-17T15:58:49.012Z</td></tr><tr><td>37</td><td>detroit</td><td>Detroit Street Circuit</td><td>Detroit</td><td>USA</td><td>42.3298</td><td>-83.0401</td><td>177</td><td>2021-03-21</td><td>2025-04-17T15:58:49.012Z</td></tr><tr><td>38</td><td>brands_hatch</td><td>Brands Hatch</td><td>Kent</td><td>UK</td><td>51.3569</td><td>0.263056</td><td>145</td><td>2021-03-21</td><td>2025-04-17T15:58:49.012Z</td></tr><tr><td>39</td><td>zandvoort</td><td>Circuit Park Zandvoort</td><td>Zandvoort</td><td>Netherlands</td><td>52.3888</td><td>4.54092</td><td>6</td><td>2021-03-21</td><td>2025-04-17T15:58:49.012Z</td></tr><tr><td>40</td><td>zolder</td><td>Zolder</td><td>Heusden-Zolder</td><td>Belgium</td><td>50.9894</td><td>5.25694</td><td>36</td><td>2021-03-21</td><td>2025-04-17T15:58:49.012Z</td></tr><tr><td>41</td><td>dijon</td><td>Dijon-Prenois</td><td>Dijon</td><td>France</td><td>47.3625</td><td>4.89913</td><td>484</td><td>2021-03-21</td><td>2025-04-17T15:58:49.012Z</td></tr><tr><td>42</td><td>dallas</td><td>Fair Park</td><td>Dallas</td><td>USA</td><td>32.7774</td><td>-96.7587</td><td>139</td><td>2021-03-21</td><td>2025-04-17T15:58:49.012Z</td></tr><tr><td>43</td><td>long_beach</td><td>Long Beach</td><td>California</td><td>USA</td><td>33.7651</td><td>-118.189</td><td>12</td><td>2021-03-21</td><td>2025-04-17T15:58:49.012Z</td></tr><tr><td>44</td><td>las_vegas</td><td>Las Vegas Street Circuit</td><td>Nevada</td><td>USA</td><td>36.1162</td><td>-115.174</td><td>639</td><td>2021-03-21</td><td>2025-04-17T15:58:49.012Z</td></tr><tr><td>45</td><td>jarama</td><td>Jarama</td><td>Madrid</td><td>Spain</td><td>40.6171</td><td>-3.58558</td><td>609</td><td>2021-03-21</td><td>2025-04-17T15:58:49.012Z</td></tr><tr><td>46</td><td>watkins_glen</td><td>Watkins Glen</td><td>New York State</td><td>USA</td><td>42.3369</td><td>-76.9272</td><td>485</td><td>2021-03-21</td><td>2025-04-17T15:58:49.012Z</td></tr><tr><td>47</td><td>anderstorp</td><td>Scandinavian Raceway</td><td>Anderstorp</td><td>Sweden</td><td>57.2653</td><td>13.6042</td><td>153</td><td>2021-03-21</td><td>2025-04-17T15:58:49.012Z</td></tr><tr><td>48</td><td>mosport</td><td>Mosport International Raceway</td><td>Ontario</td><td>Canada</td><td>44.0481</td><td>-78.6756</td><td>332</td><td>2021-03-21</td><td>2025-04-17T15:58:49.012Z</td></tr><tr><td>49</td><td>montjuic</td><td>Montjuïc</td><td>Barcelona</td><td>Spain</td><td>41.3664</td><td>2.15167</td><td>79</td><td>2021-03-21</td><td>2025-04-17T15:58:49.012Z</td></tr><tr><td>50</td><td>nivelles</td><td>Nivelles-Baulers</td><td>Brussels</td><td>Belgium</td><td>50.6211</td><td>4.32694</td><td>139</td><td>2021-03-21</td><td>2025-04-17T15:58:49.012Z</td></tr><tr><td>51</td><td>charade</td><td>Charade Circuit</td><td>Clermont-Ferrand</td><td>France</td><td>45.7472</td><td>3.03889</td><td>790</td><td>2021-03-21</td><td>2025-04-17T15:58:49.012Z</td></tr><tr><td>52</td><td>tremblant</td><td>Circuit Mont-Tremblant</td><td>Quebec</td><td>Canada</td><td>46.1877</td><td>-74.6099</td><td>214</td><td>2021-03-21</td><td>2025-04-17T15:58:49.012Z</td></tr><tr><td>53</td><td>essarts</td><td>Rouen-Les-Essarts</td><td>Rouen</td><td>France</td><td>49.3306</td><td>1.00458</td><td>81</td><td>2021-03-21</td><td>2025-04-17T15:58:49.012Z</td></tr><tr><td>54</td><td>lemans</td><td>Le Mans</td><td>Le Mans</td><td>France</td><td>47.95</td><td>0.224231</td><td>67</td><td>2021-03-21</td><td>2025-04-17T15:58:49.012Z</td></tr><tr><td>55</td><td>reims</td><td>Reims-Gueux</td><td>Reims</td><td>France</td><td>49.2542</td><td>3.93083</td><td>88</td><td>2021-03-21</td><td>2025-04-17T15:58:49.012Z</td></tr><tr><td>56</td><td>george</td><td>Prince George Circuit</td><td>Eastern Cape Province</td><td>South Africa</td><td>-33.0486</td><td>27.8736</td><td>15</td><td>2021-03-21</td><td>2025-04-17T15:58:49.012Z</td></tr><tr><td>57</td><td>zeltweg</td><td>Zeltweg</td><td>Styria</td><td>Austria</td><td>47.2039</td><td>14.7478</td><td>676</td><td>2021-03-21</td><td>2025-04-17T15:58:49.012Z</td></tr><tr><td>58</td><td>aintree</td><td>Aintree</td><td>Liverpool</td><td>UK</td><td>53.4769</td><td>-2.94056</td><td>20</td><td>2021-03-21</td><td>2025-04-17T15:58:49.012Z</td></tr><tr><td>59</td><td>boavista</td><td>Circuito da Boavista</td><td>Oporto</td><td>Portugal</td><td>41.1705</td><td>-8.67325</td><td>28</td><td>2021-03-21</td><td>2025-04-17T15:58:49.012Z</td></tr><tr><td>60</td><td>riverside</td><td>Riverside International Raceway</td><td>California</td><td>USA</td><td>33.937</td><td>-117.273</td><td>470</td><td>2021-03-21</td><td>2025-04-17T15:58:49.012Z</td></tr><tr><td>61</td><td>avus</td><td>AVUS</td><td>Berlin</td><td>Germany</td><td>52.4806</td><td>13.2514</td><td>53</td><td>2021-03-21</td><td>2025-04-17T15:58:49.012Z</td></tr><tr><td>62</td><td>monsanto</td><td>Monsanto Park Circuit</td><td>Lisbon</td><td>Portugal</td><td>38.7197</td><td>-9.20306</td><td>158</td><td>2021-03-21</td><td>2025-04-17T15:58:49.012Z</td></tr><tr><td>63</td><td>sebring</td><td>Sebring International Raceway</td><td>Florida</td><td>USA</td><td>27.4547</td><td>-81.3483</td><td>18</td><td>2021-03-21</td><td>2025-04-17T15:58:49.012Z</td></tr><tr><td>64</td><td>ain-diab</td><td>Ain Diab</td><td>Casablanca</td><td>Morocco</td><td>33.5786</td><td>-7.6875</td><td>19</td><td>2021-03-21</td><td>2025-04-17T15:58:49.012Z</td></tr><tr><td>65</td><td>pescara</td><td>Pescara Circuit</td><td>Pescara</td><td>Italy</td><td>42.475</td><td>14.1508</td><td>129</td><td>2021-03-21</td><td>2025-04-17T15:58:49.012Z</td></tr><tr><td>66</td><td>bremgarten</td><td>Circuit Bremgarten</td><td>Bern</td><td>Switzerland</td><td>46.9589</td><td>7.40194</td><td>551</td><td>2021-03-21</td><td>2025-04-17T15:58:49.012Z</td></tr><tr><td>67</td><td>pedralbes</td><td>Circuit de Pedralbes</td><td>Barcelona</td><td>Spain</td><td>41.3903</td><td>2.11667</td><td>85</td><td>2021-03-21</td><td>2025-04-17T15:58:49.012Z</td></tr><tr><td>68</td><td>buddh</td><td>Buddh International Circuit</td><td>Uttar Pradesh</td><td>India</td><td>28.3487</td><td>77.5331</td><td>194</td><td>2021-03-21</td><td>2025-04-17T15:58:49.012Z</td></tr><tr><td>69</td><td>americas</td><td>Circuit of the Americas</td><td>Austin</td><td>USA</td><td>30.1328</td><td>-97.6411</td><td>161</td><td>2021-03-21</td><td>2025-04-17T15:58:49.012Z</td></tr><tr><td>70</td><td>red_bull_ring</td><td>Red Bull Ring</td><td>Spielburg</td><td>Austria</td><td>47.2197</td><td>14.7647</td><td>678</td><td>2021-03-21</td><td>2025-04-17T15:58:49.012Z</td></tr><tr><td>71</td><td>sochi</td><td>Sochi Autodrom</td><td>Sochi</td><td>Russia</td><td>43.4057</td><td>39.9578</td><td>2</td><td>2021-03-21</td><td>2025-04-17T15:58:49.012Z</td></tr><tr><td>72</td><td>port_imperial</td><td>Port Imperial Street Circuit</td><td>New Jersey</td><td>USA</td><td>40.7769</td><td>-74.0111</td><td>4</td><td>2021-03-21</td><td>2025-04-17T15:58:49.012Z</td></tr><tr><td>73</td><td>BAK</td><td>Baku City Circuit</td><td>Baku</td><td>Azerbaijan</td><td>40.3725</td><td>49.8533</td><td>-7</td><td>2021-03-21</td><td>2025-04-17T15:58:49.012Z</td></tr><tr><td>74</td><td>hanoi</td><td>Hanoi Street Circuit</td><td>Hanoi</td><td>Vietnam</td><td>21.0166</td><td>105.766</td><td>9</td><td>2021-03-21</td><td>2025-04-17T15:58:49.012Z</td></tr><tr><td>75</td><td>portimao</td><td>Autódromo Internacional do Algarve</td><td>Portimão</td><td>Portugal</td><td>37.227</td><td>-8.6267</td><td>108</td><td>2021-03-21</td><td>2025-04-17T15:58:49.012Z</td></tr><tr><td>76</td><td>mugello</td><td>Autodromo Internazionale del Mugello</td><td>Mugello</td><td>Italy</td><td>43.9975</td><td>11.3719</td><td>255</td><td>2021-03-21</td><td>2025-04-17T15:58:49.012Z</td></tr><tr><td>77</td><td>jeddah</td><td>Jeddah Street Circuit</td><td>Jeddah</td><td>Saudi Arabia</td><td>21.5433</td><td>39.1728</td><td>15</td><td>2021-03-21</td><td>2025-04-17T15:58:49.012Z</td></tr></tbody></table></div>"
      ]
     },
     "metadata": {
      "application/vnd.databricks.v1+output": {
       "addedWidgets": {},
       "aggData": [],
       "aggError": "",
       "aggOverflow": false,
       "aggSchema": [],
       "aggSeriesLimitReached": false,
       "aggType": "",
       "arguments": {},
       "columnCustomDisplayInfos": {},
       "data": [
        [
         1,
         "albert_park",
         "Albert Park Grand Prix Circuit",
         "Melbourne",
         "Australia",
         -37.8497,
         144.968,
         10,
         "2021-03-21",
         "2025-04-17T15:58:49.012Z"
        ],
        [
         2,
         "sepang",
         "Sepang International Circuit",
         "Kuala Lumpur",
         "Malaysia",
         2.76083,
         101.738,
         18,
         "2021-03-21",
         "2025-04-17T15:58:49.012Z"
        ],
        [
         3,
         "bahrain",
         "Bahrain International Circuit",
         "Sakhir",
         "Bahrain",
         26.0325,
         50.5106,
         7,
         "2021-03-21",
         "2025-04-17T15:58:49.012Z"
        ],
        [
         4,
         "catalunya",
         "Circuit de Barcelona-Catalunya",
         "Montmeló",
         "Spain",
         41.57,
         2.26111,
         109,
         "2021-03-21",
         "2025-04-17T15:58:49.012Z"
        ],
        [
         5,
         "istanbul",
         "Istanbul Park",
         "Istanbul",
         "Turkey",
         40.9517,
         29.405,
         130,
         "2021-03-21",
         "2025-04-17T15:58:49.012Z"
        ],
        [
         6,
         "monaco",
         "Circuit de Monaco",
         "Monte-Carlo",
         "Monaco",
         43.7347,
         7.42056,
         7,
         "2021-03-21",
         "2025-04-17T15:58:49.012Z"
        ],
        [
         7,
         "villeneuve",
         "Circuit Gilles Villeneuve",
         "Montreal",
         "Canada",
         45.5,
         -73.5228,
         13,
         "2021-03-21",
         "2025-04-17T15:58:49.012Z"
        ],
        [
         8,
         "magny_cours",
         "Circuit de Nevers Magny-Cours",
         "Magny Cours",
         "France",
         46.8642,
         3.16361,
         228,
         "2021-03-21",
         "2025-04-17T15:58:49.012Z"
        ],
        [
         9,
         "silverstone",
         "Silverstone Circuit",
         "Silverstone",
         "UK",
         52.0786,
         -1.01694,
         153,
         "2021-03-21",
         "2025-04-17T15:58:49.012Z"
        ],
        [
         10,
         "hockenheimring",
         "Hockenheimring",
         "Hockenheim",
         "Germany",
         49.3278,
         8.56583,
         103,
         "2021-03-21",
         "2025-04-17T15:58:49.012Z"
        ],
        [
         11,
         "hungaroring",
         "Hungaroring",
         "Budapest",
         "Hungary",
         47.5789,
         19.2486,
         264,
         "2021-03-21",
         "2025-04-17T15:58:49.012Z"
        ],
        [
         12,
         "valencia",
         "Valencia Street Circuit",
         "Valencia",
         "Spain",
         39.4589,
         -0.331667,
         4,
         "2021-03-21",
         "2025-04-17T15:58:49.012Z"
        ],
        [
         13,
         "spa",
         "Circuit de Spa-Francorchamps",
         "Spa",
         "Belgium",
         50.4372,
         5.97139,
         401,
         "2021-03-21",
         "2025-04-17T15:58:49.012Z"
        ],
        [
         14,
         "monza",
         "Autodromo Nazionale di Monza",
         "Monza",
         "Italy",
         45.6156,
         9.28111,
         162,
         "2021-03-21",
         "2025-04-17T15:58:49.012Z"
        ],
        [
         15,
         "marina_bay",
         "Marina Bay Street Circuit",
         "Marina Bay",
         "Singapore",
         1.2914,
         103.864,
         18,
         "2021-03-21",
         "2025-04-17T15:58:49.012Z"
        ],
        [
         16,
         "fuji",
         "Fuji Speedway",
         "Oyama",
         "Japan",
         35.3717,
         138.927,
         583,
         "2021-03-21",
         "2025-04-17T15:58:49.012Z"
        ],
        [
         17,
         "shanghai",
         "Shanghai International Circuit",
         "Shanghai",
         "China",
         31.3389,
         121.22,
         5,
         "2021-03-21",
         "2025-04-17T15:58:49.012Z"
        ],
        [
         18,
         "interlagos",
         "Autódromo José Carlos Pace",
         "São Paulo",
         "Brazil",
         -23.7036,
         -46.6997,
         785,
         "2021-03-21",
         "2025-04-17T15:58:49.012Z"
        ],
        [
         19,
         "indianapolis",
         "Indianapolis Motor Speedway",
         "Indianapolis",
         "USA",
         39.795,
         -86.2347,
         223,
         "2021-03-21",
         "2025-04-17T15:58:49.012Z"
        ],
        [
         20,
         "nurburgring",
         "Nürburgring",
         "Nürburg",
         "Germany",
         50.3356,
         6.9475,
         578,
         "2021-03-21",
         "2025-04-17T15:58:49.012Z"
        ],
        [
         21,
         "imola",
         "Autodromo Enzo e Dino Ferrari",
         "Imola",
         "Italy",
         44.3439,
         11.7167,
         37,
         "2021-03-21",
         "2025-04-17T15:58:49.012Z"
        ],
        [
         22,
         "suzuka",
         "Suzuka Circuit",
         "Suzuka",
         "Japan",
         34.8431,
         136.541,
         45,
         "2021-03-21",
         "2025-04-17T15:58:49.012Z"
        ],
        [
         23,
         "osterreichring",
         "A1-Ring",
         "Spielburg",
         "Austria",
         47.2197,
         14.7647,
         678,
         "2021-03-21",
         "2025-04-17T15:58:49.012Z"
        ],
        [
         24,
         "yas_marina",
         "Yas Marina Circuit",
         "Abu Dhabi",
         "UAE",
         24.4672,
         54.6031,
         3,
         "2021-03-21",
         "2025-04-17T15:58:49.012Z"
        ],
        [
         25,
         "galvez",
         "Autódromo Juan y Oscar Gálvez",
         "Buenos Aires",
         "Argentina",
         -34.6943,
         -58.4593,
         8,
         "2021-03-21",
         "2025-04-17T15:58:49.012Z"
        ],
        [
         26,
         "jerez",
         "Circuito de Jerez",
         "Jerez de la Frontera",
         "Spain",
         36.7083,
         -6.03417,
         37,
         "2021-03-21",
         "2025-04-17T15:58:49.012Z"
        ],
        [
         27,
         "estoril",
         "Autódromo do Estoril",
         "Estoril",
         "Portugal",
         38.7506,
         -9.39417,
         130,
         "2021-03-21",
         "2025-04-17T15:58:49.012Z"
        ],
        [
         28,
         "okayama",
         "Okayama International Circuit",
         "Okayama",
         "Japan",
         34.915,
         134.221,
         266,
         "2021-03-21",
         "2025-04-17T15:58:49.012Z"
        ],
        [
         29,
         "adelaide",
         "Adelaide Street Circuit",
         "Adelaide",
         "Australia",
         -34.9272,
         138.617,
         58,
         "2021-03-21",
         "2025-04-17T15:58:49.012Z"
        ],
        [
         30,
         "kyalami",
         "Kyalami",
         "Midrand",
         "South Africa",
         -25.9894,
         28.0767,
         1460,
         "2021-03-21",
         "2025-04-17T15:58:49.012Z"
        ],
        [
         31,
         "donington",
         "Donington Park",
         "Castle Donington",
         "UK",
         52.8306,
         -1.37528,
         88,
         "2021-03-21",
         "2025-04-17T15:58:49.012Z"
        ],
        [
         32,
         "rodriguez",
         "Autódromo Hermanos Rodríguez",
         "Mexico City",
         "Mexico",
         19.4042,
         -99.0907,
         2227,
         "2021-03-21",
         "2025-04-17T15:58:49.012Z"
        ],
        [
         33,
         "phoenix",
         "Phoenix street circuit",
         "Phoenix",
         "USA",
         33.4479,
         -112.075,
         345,
         "2021-03-21",
         "2025-04-17T15:58:49.012Z"
        ],
        [
         34,
         "ricard",
         "Circuit Paul Ricard",
         "Le Castellet",
         "France",
         43.2506,
         5.79167,
         432,
         "2021-03-21",
         "2025-04-17T15:58:49.012Z"
        ],
        [
         35,
         "yeongam",
         "Korean International Circuit",
         "Yeongam County",
         "Korea",
         34.7333,
         126.417,
         0,
         "2021-03-21",
         "2025-04-17T15:58:49.012Z"
        ],
        [
         36,
         "jacarepagua",
         "Autódromo Internacional Nelson Piquet",
         "Rio de Janeiro",
         "Brazil",
         -22.9756,
         -43.395,
         1126,
         "2021-03-21",
         "2025-04-17T15:58:49.012Z"
        ],
        [
         37,
         "detroit",
         "Detroit Street Circuit",
         "Detroit",
         "USA",
         42.3298,
         -83.0401,
         177,
         "2021-03-21",
         "2025-04-17T15:58:49.012Z"
        ],
        [
         38,
         "brands_hatch",
         "Brands Hatch",
         "Kent",
         "UK",
         51.3569,
         0.263056,
         145,
         "2021-03-21",
         "2025-04-17T15:58:49.012Z"
        ],
        [
         39,
         "zandvoort",
         "Circuit Park Zandvoort",
         "Zandvoort",
         "Netherlands",
         52.3888,
         4.54092,
         6,
         "2021-03-21",
         "2025-04-17T15:58:49.012Z"
        ],
        [
         40,
         "zolder",
         "Zolder",
         "Heusden-Zolder",
         "Belgium",
         50.9894,
         5.25694,
         36,
         "2021-03-21",
         "2025-04-17T15:58:49.012Z"
        ],
        [
         41,
         "dijon",
         "Dijon-Prenois",
         "Dijon",
         "France",
         47.3625,
         4.89913,
         484,
         "2021-03-21",
         "2025-04-17T15:58:49.012Z"
        ],
        [
         42,
         "dallas",
         "Fair Park",
         "Dallas",
         "USA",
         32.7774,
         -96.7587,
         139,
         "2021-03-21",
         "2025-04-17T15:58:49.012Z"
        ],
        [
         43,
         "long_beach",
         "Long Beach",
         "California",
         "USA",
         33.7651,
         -118.189,
         12,
         "2021-03-21",
         "2025-04-17T15:58:49.012Z"
        ],
        [
         44,
         "las_vegas",
         "Las Vegas Street Circuit",
         "Nevada",
         "USA",
         36.1162,
         -115.174,
         639,
         "2021-03-21",
         "2025-04-17T15:58:49.012Z"
        ],
        [
         45,
         "jarama",
         "Jarama",
         "Madrid",
         "Spain",
         40.6171,
         -3.58558,
         609,
         "2021-03-21",
         "2025-04-17T15:58:49.012Z"
        ],
        [
         46,
         "watkins_glen",
         "Watkins Glen",
         "New York State",
         "USA",
         42.3369,
         -76.9272,
         485,
         "2021-03-21",
         "2025-04-17T15:58:49.012Z"
        ],
        [
         47,
         "anderstorp",
         "Scandinavian Raceway",
         "Anderstorp",
         "Sweden",
         57.2653,
         13.6042,
         153,
         "2021-03-21",
         "2025-04-17T15:58:49.012Z"
        ],
        [
         48,
         "mosport",
         "Mosport International Raceway",
         "Ontario",
         "Canada",
         44.0481,
         -78.6756,
         332,
         "2021-03-21",
         "2025-04-17T15:58:49.012Z"
        ],
        [
         49,
         "montjuic",
         "Montjuïc",
         "Barcelona",
         "Spain",
         41.3664,
         2.15167,
         79,
         "2021-03-21",
         "2025-04-17T15:58:49.012Z"
        ],
        [
         50,
         "nivelles",
         "Nivelles-Baulers",
         "Brussels",
         "Belgium",
         50.6211,
         4.32694,
         139,
         "2021-03-21",
         "2025-04-17T15:58:49.012Z"
        ],
        [
         51,
         "charade",
         "Charade Circuit",
         "Clermont-Ferrand",
         "France",
         45.7472,
         3.03889,
         790,
         "2021-03-21",
         "2025-04-17T15:58:49.012Z"
        ],
        [
         52,
         "tremblant",
         "Circuit Mont-Tremblant",
         "Quebec",
         "Canada",
         46.1877,
         -74.6099,
         214,
         "2021-03-21",
         "2025-04-17T15:58:49.012Z"
        ],
        [
         53,
         "essarts",
         "Rouen-Les-Essarts",
         "Rouen",
         "France",
         49.3306,
         1.00458,
         81,
         "2021-03-21",
         "2025-04-17T15:58:49.012Z"
        ],
        [
         54,
         "lemans",
         "Le Mans",
         "Le Mans",
         "France",
         47.95,
         0.224231,
         67,
         "2021-03-21",
         "2025-04-17T15:58:49.012Z"
        ],
        [
         55,
         "reims",
         "Reims-Gueux",
         "Reims",
         "France",
         49.2542,
         3.93083,
         88,
         "2021-03-21",
         "2025-04-17T15:58:49.012Z"
        ],
        [
         56,
         "george",
         "Prince George Circuit",
         "Eastern Cape Province",
         "South Africa",
         -33.0486,
         27.8736,
         15,
         "2021-03-21",
         "2025-04-17T15:58:49.012Z"
        ],
        [
         57,
         "zeltweg",
         "Zeltweg",
         "Styria",
         "Austria",
         47.2039,
         14.7478,
         676,
         "2021-03-21",
         "2025-04-17T15:58:49.012Z"
        ],
        [
         58,
         "aintree",
         "Aintree",
         "Liverpool",
         "UK",
         53.4769,
         -2.94056,
         20,
         "2021-03-21",
         "2025-04-17T15:58:49.012Z"
        ],
        [
         59,
         "boavista",
         "Circuito da Boavista",
         "Oporto",
         "Portugal",
         41.1705,
         -8.67325,
         28,
         "2021-03-21",
         "2025-04-17T15:58:49.012Z"
        ],
        [
         60,
         "riverside",
         "Riverside International Raceway",
         "California",
         "USA",
         33.937,
         -117.273,
         470,
         "2021-03-21",
         "2025-04-17T15:58:49.012Z"
        ],
        [
         61,
         "avus",
         "AVUS",
         "Berlin",
         "Germany",
         52.4806,
         13.2514,
         53,
         "2021-03-21",
         "2025-04-17T15:58:49.012Z"
        ],
        [
         62,
         "monsanto",
         "Monsanto Park Circuit",
         "Lisbon",
         "Portugal",
         38.7197,
         -9.20306,
         158,
         "2021-03-21",
         "2025-04-17T15:58:49.012Z"
        ],
        [
         63,
         "sebring",
         "Sebring International Raceway",
         "Florida",
         "USA",
         27.4547,
         -81.3483,
         18,
         "2021-03-21",
         "2025-04-17T15:58:49.012Z"
        ],
        [
         64,
         "ain-diab",
         "Ain Diab",
         "Casablanca",
         "Morocco",
         33.5786,
         -7.6875,
         19,
         "2021-03-21",
         "2025-04-17T15:58:49.012Z"
        ],
        [
         65,
         "pescara",
         "Pescara Circuit",
         "Pescara",
         "Italy",
         42.475,
         14.1508,
         129,
         "2021-03-21",
         "2025-04-17T15:58:49.012Z"
        ],
        [
         66,
         "bremgarten",
         "Circuit Bremgarten",
         "Bern",
         "Switzerland",
         46.9589,
         7.40194,
         551,
         "2021-03-21",
         "2025-04-17T15:58:49.012Z"
        ],
        [
         67,
         "pedralbes",
         "Circuit de Pedralbes",
         "Barcelona",
         "Spain",
         41.3903,
         2.11667,
         85,
         "2021-03-21",
         "2025-04-17T15:58:49.012Z"
        ],
        [
         68,
         "buddh",
         "Buddh International Circuit",
         "Uttar Pradesh",
         "India",
         28.3487,
         77.5331,
         194,
         "2021-03-21",
         "2025-04-17T15:58:49.012Z"
        ],
        [
         69,
         "americas",
         "Circuit of the Americas",
         "Austin",
         "USA",
         30.1328,
         -97.6411,
         161,
         "2021-03-21",
         "2025-04-17T15:58:49.012Z"
        ],
        [
         70,
         "red_bull_ring",
         "Red Bull Ring",
         "Spielburg",
         "Austria",
         47.2197,
         14.7647,
         678,
         "2021-03-21",
         "2025-04-17T15:58:49.012Z"
        ],
        [
         71,
         "sochi",
         "Sochi Autodrom",
         "Sochi",
         "Russia",
         43.4057,
         39.9578,
         2,
         "2021-03-21",
         "2025-04-17T15:58:49.012Z"
        ],
        [
         72,
         "port_imperial",
         "Port Imperial Street Circuit",
         "New Jersey",
         "USA",
         40.7769,
         -74.0111,
         4,
         "2021-03-21",
         "2025-04-17T15:58:49.012Z"
        ],
        [
         73,
         "BAK",
         "Baku City Circuit",
         "Baku",
         "Azerbaijan",
         40.3725,
         49.8533,
         -7,
         "2021-03-21",
         "2025-04-17T15:58:49.012Z"
        ],
        [
         74,
         "hanoi",
         "Hanoi Street Circuit",
         "Hanoi",
         "Vietnam",
         21.0166,
         105.766,
         9,
         "2021-03-21",
         "2025-04-17T15:58:49.012Z"
        ],
        [
         75,
         "portimao",
         "Autódromo Internacional do Algarve",
         "Portimão",
         "Portugal",
         37.227,
         -8.6267,
         108,
         "2021-03-21",
         "2025-04-17T15:58:49.012Z"
        ],
        [
         76,
         "mugello",
         "Autodromo Internazionale del Mugello",
         "Mugello",
         "Italy",
         43.9975,
         11.3719,
         255,
         "2021-03-21",
         "2025-04-17T15:58:49.012Z"
        ],
        [
         77,
         "jeddah",
         "Jeddah Street Circuit",
         "Jeddah",
         "Saudi Arabia",
         21.5433,
         39.1728,
         15,
         "2021-03-21",
         "2025-04-17T15:58:49.012Z"
        ]
       ],
       "datasetInfos": [],
       "dbfsResultPath": null,
       "isJsonSchema": true,
       "metadata": {},
       "overflow": false,
       "plotOptions": {
        "customPlotOptions": {},
        "displayType": "table",
        "pivotAggregation": null,
        "pivotColumns": null,
        "xColumns": null,
        "yColumns": null
       },
       "removedWidgets": [],
       "schema": [
        {
         "metadata": "{}",
         "name": "circuit_id",
         "type": "\"integer\""
        },
        {
         "metadata": "{}",
         "name": "circuit_ref",
         "type": "\"string\""
        },
        {
         "metadata": "{}",
         "name": "circuit_name",
         "type": "\"string\""
        },
        {
         "metadata": "{}",
         "name": "circuit_location",
         "type": "\"string\""
        },
        {
         "metadata": "{}",
         "name": "circuit_country",
         "type": "\"string\""
        },
        {
         "metadata": "{}",
         "name": "circuit_lat",
         "type": "\"double\""
        },
        {
         "metadata": "{}",
         "name": "circuit_lng",
         "type": "\"double\""
        },
        {
         "metadata": "{}",
         "name": "circuit_altitude",
         "type": "\"integer\""
        },
        {
         "metadata": "{}",
         "name": "file_date",
         "type": "\"string\""
        },
        {
         "metadata": "{}",
         "name": "ingest_date",
         "type": "\"timestamp\""
        }
       ],
       "type": "table"
      }
     },
     "output_type": "display_data"
    }
   ],
   "source": [
    "# For naming conventions copy the circuits_df_add_audit_column DataFrame to a new DataFrame with the name circuits_df_final\n",
    "circuits_df_final = circuits_df_add_audit_column\n",
    "display(circuits_df_final)"
   ]
  },
  {
   "cell_type": "markdown",
   "metadata": {
    "application/vnd.databricks.v1+cell": {
     "cellMetadata": {
      "byteLimit": 2048000,
      "rowLimit": 10000
     },
     "inputWidgets": {},
     "nuid": "abec69ea-690a-47db-8aa8-61dbfae66f40",
     "showTitle": false,
     "tableResultSettingsMap": {},
     "title": ""
    }
   },
   "source": [
    "#### Write the final data into processed folder\n",
    "1. Visit [spark documentation](https://spark.apache.org/docs/latest/api/python/reference/pyspark.sql/api/pyspark.sql.DataFrame.write.html?highlight=write) for write()"
   ]
  },
  {
   "cell_type": "code",
   "execution_count": 0,
   "metadata": {
    "application/vnd.databricks.v1+cell": {
     "cellMetadata": {
      "byteLimit": 2048000,
      "rowLimit": 10000
     },
     "inputWidgets": {},
     "nuid": "f24f2d86-56b3-4768-a972-fabf87c33359",
     "showTitle": false,
     "tableResultSettingsMap": {},
     "title": ""
    }
   },
   "outputs": [],
   "source": [
    "# circuits_df_final.write.mode(\"overwrite\").parquet(f\"{processed_container_path}/circuits\")\n",
    "circuits_df_final.write.mode(\"overwrite\").format(\"parquet\").saveAsTable(\"f1_processed.circuits\")"
   ]
  },
  {
   "cell_type": "code",
   "execution_count": 0,
   "metadata": {
    "application/vnd.databricks.v1+cell": {
     "cellMetadata": {
      "byteLimit": 2048000,
      "rowLimit": 10000
     },
     "inputWidgets": {},
     "nuid": "9d7a8c97-4819-40bc-8735-a2fd60cb9ece",
     "showTitle": false,
     "tableResultSettingsMap": {},
     "title": ""
    }
   },
   "outputs": [
    {
     "output_type": "display_data",
     "data": {
      "text/html": [
       "<style scoped>\n",
       "  .table-result-container {\n",
       "    max-height: 300px;\n",
       "    overflow: auto;\n",
       "  }\n",
       "  table, th, td {\n",
       "    border: 1px solid black;\n",
       "    border-collapse: collapse;\n",
       "  }\n",
       "  th, td {\n",
       "    padding: 5px;\n",
       "  }\n",
       "  th {\n",
       "    text-align: left;\n",
       "  }\n",
       "</style><div class='table-result-container'><table class='table-result'><thead style='background-color: white'><tr><th>circuit_id</th><th>circuit_ref</th><th>circuit_name</th><th>circuit_location</th><th>circuit_country</th><th>circuit_lat</th><th>circuit_lng</th><th>circuit_altitude</th><th>file_date</th><th>ingest_date</th></tr></thead><tbody><tr><td>1</td><td>albert_park</td><td>Albert Park Grand Prix Circuit</td><td>Melbourne</td><td>Australia</td><td>-37.8497</td><td>144.968</td><td>10</td><td>2021-03-21</td><td>2025-04-17T15:58:49.979Z</td></tr><tr><td>2</td><td>sepang</td><td>Sepang International Circuit</td><td>Kuala Lumpur</td><td>Malaysia</td><td>2.76083</td><td>101.738</td><td>18</td><td>2021-03-21</td><td>2025-04-17T15:58:49.979Z</td></tr><tr><td>3</td><td>bahrain</td><td>Bahrain International Circuit</td><td>Sakhir</td><td>Bahrain</td><td>26.0325</td><td>50.5106</td><td>7</td><td>2021-03-21</td><td>2025-04-17T15:58:49.979Z</td></tr><tr><td>4</td><td>catalunya</td><td>Circuit de Barcelona-Catalunya</td><td>Montmeló</td><td>Spain</td><td>41.57</td><td>2.26111</td><td>109</td><td>2021-03-21</td><td>2025-04-17T15:58:49.979Z</td></tr><tr><td>5</td><td>istanbul</td><td>Istanbul Park</td><td>Istanbul</td><td>Turkey</td><td>40.9517</td><td>29.405</td><td>130</td><td>2021-03-21</td><td>2025-04-17T15:58:49.979Z</td></tr><tr><td>6</td><td>monaco</td><td>Circuit de Monaco</td><td>Monte-Carlo</td><td>Monaco</td><td>43.7347</td><td>7.42056</td><td>7</td><td>2021-03-21</td><td>2025-04-17T15:58:49.979Z</td></tr><tr><td>7</td><td>villeneuve</td><td>Circuit Gilles Villeneuve</td><td>Montreal</td><td>Canada</td><td>45.5</td><td>-73.5228</td><td>13</td><td>2021-03-21</td><td>2025-04-17T15:58:49.979Z</td></tr><tr><td>8</td><td>magny_cours</td><td>Circuit de Nevers Magny-Cours</td><td>Magny Cours</td><td>France</td><td>46.8642</td><td>3.16361</td><td>228</td><td>2021-03-21</td><td>2025-04-17T15:58:49.979Z</td></tr><tr><td>9</td><td>silverstone</td><td>Silverstone Circuit</td><td>Silverstone</td><td>UK</td><td>52.0786</td><td>-1.01694</td><td>153</td><td>2021-03-21</td><td>2025-04-17T15:58:49.979Z</td></tr><tr><td>10</td><td>hockenheimring</td><td>Hockenheimring</td><td>Hockenheim</td><td>Germany</td><td>49.3278</td><td>8.56583</td><td>103</td><td>2021-03-21</td><td>2025-04-17T15:58:49.979Z</td></tr><tr><td>11</td><td>hungaroring</td><td>Hungaroring</td><td>Budapest</td><td>Hungary</td><td>47.5789</td><td>19.2486</td><td>264</td><td>2021-03-21</td><td>2025-04-17T15:58:49.979Z</td></tr><tr><td>12</td><td>valencia</td><td>Valencia Street Circuit</td><td>Valencia</td><td>Spain</td><td>39.4589</td><td>-0.331667</td><td>4</td><td>2021-03-21</td><td>2025-04-17T15:58:49.979Z</td></tr><tr><td>13</td><td>spa</td><td>Circuit de Spa-Francorchamps</td><td>Spa</td><td>Belgium</td><td>50.4372</td><td>5.97139</td><td>401</td><td>2021-03-21</td><td>2025-04-17T15:58:49.979Z</td></tr><tr><td>14</td><td>monza</td><td>Autodromo Nazionale di Monza</td><td>Monza</td><td>Italy</td><td>45.6156</td><td>9.28111</td><td>162</td><td>2021-03-21</td><td>2025-04-17T15:58:49.979Z</td></tr><tr><td>15</td><td>marina_bay</td><td>Marina Bay Street Circuit</td><td>Marina Bay</td><td>Singapore</td><td>1.2914</td><td>103.864</td><td>18</td><td>2021-03-21</td><td>2025-04-17T15:58:49.979Z</td></tr><tr><td>16</td><td>fuji</td><td>Fuji Speedway</td><td>Oyama</td><td>Japan</td><td>35.3717</td><td>138.927</td><td>583</td><td>2021-03-21</td><td>2025-04-17T15:58:49.979Z</td></tr><tr><td>17</td><td>shanghai</td><td>Shanghai International Circuit</td><td>Shanghai</td><td>China</td><td>31.3389</td><td>121.22</td><td>5</td><td>2021-03-21</td><td>2025-04-17T15:58:49.979Z</td></tr><tr><td>18</td><td>interlagos</td><td>Autódromo José Carlos Pace</td><td>São Paulo</td><td>Brazil</td><td>-23.7036</td><td>-46.6997</td><td>785</td><td>2021-03-21</td><td>2025-04-17T15:58:49.979Z</td></tr><tr><td>19</td><td>indianapolis</td><td>Indianapolis Motor Speedway</td><td>Indianapolis</td><td>USA</td><td>39.795</td><td>-86.2347</td><td>223</td><td>2021-03-21</td><td>2025-04-17T15:58:49.979Z</td></tr><tr><td>20</td><td>nurburgring</td><td>Nürburgring</td><td>Nürburg</td><td>Germany</td><td>50.3356</td><td>6.9475</td><td>578</td><td>2021-03-21</td><td>2025-04-17T15:58:49.979Z</td></tr><tr><td>21</td><td>imola</td><td>Autodromo Enzo e Dino Ferrari</td><td>Imola</td><td>Italy</td><td>44.3439</td><td>11.7167</td><td>37</td><td>2021-03-21</td><td>2025-04-17T15:58:49.979Z</td></tr><tr><td>22</td><td>suzuka</td><td>Suzuka Circuit</td><td>Suzuka</td><td>Japan</td><td>34.8431</td><td>136.541</td><td>45</td><td>2021-03-21</td><td>2025-04-17T15:58:49.979Z</td></tr><tr><td>23</td><td>osterreichring</td><td>A1-Ring</td><td>Spielburg</td><td>Austria</td><td>47.2197</td><td>14.7647</td><td>678</td><td>2021-03-21</td><td>2025-04-17T15:58:49.979Z</td></tr><tr><td>24</td><td>yas_marina</td><td>Yas Marina Circuit</td><td>Abu Dhabi</td><td>UAE</td><td>24.4672</td><td>54.6031</td><td>3</td><td>2021-03-21</td><td>2025-04-17T15:58:49.979Z</td></tr><tr><td>25</td><td>galvez</td><td>Autódromo Juan y Oscar Gálvez</td><td>Buenos Aires</td><td>Argentina</td><td>-34.6943</td><td>-58.4593</td><td>8</td><td>2021-03-21</td><td>2025-04-17T15:58:49.979Z</td></tr><tr><td>26</td><td>jerez</td><td>Circuito de Jerez</td><td>Jerez de la Frontera</td><td>Spain</td><td>36.7083</td><td>-6.03417</td><td>37</td><td>2021-03-21</td><td>2025-04-17T15:58:49.979Z</td></tr><tr><td>27</td><td>estoril</td><td>Autódromo do Estoril</td><td>Estoril</td><td>Portugal</td><td>38.7506</td><td>-9.39417</td><td>130</td><td>2021-03-21</td><td>2025-04-17T15:58:49.979Z</td></tr><tr><td>28</td><td>okayama</td><td>Okayama International Circuit</td><td>Okayama</td><td>Japan</td><td>34.915</td><td>134.221</td><td>266</td><td>2021-03-21</td><td>2025-04-17T15:58:49.979Z</td></tr><tr><td>29</td><td>adelaide</td><td>Adelaide Street Circuit</td><td>Adelaide</td><td>Australia</td><td>-34.9272</td><td>138.617</td><td>58</td><td>2021-03-21</td><td>2025-04-17T15:58:49.979Z</td></tr><tr><td>30</td><td>kyalami</td><td>Kyalami</td><td>Midrand</td><td>South Africa</td><td>-25.9894</td><td>28.0767</td><td>1460</td><td>2021-03-21</td><td>2025-04-17T15:58:49.979Z</td></tr><tr><td>31</td><td>donington</td><td>Donington Park</td><td>Castle Donington</td><td>UK</td><td>52.8306</td><td>-1.37528</td><td>88</td><td>2021-03-21</td><td>2025-04-17T15:58:49.979Z</td></tr><tr><td>32</td><td>rodriguez</td><td>Autódromo Hermanos Rodríguez</td><td>Mexico City</td><td>Mexico</td><td>19.4042</td><td>-99.0907</td><td>2227</td><td>2021-03-21</td><td>2025-04-17T15:58:49.979Z</td></tr><tr><td>33</td><td>phoenix</td><td>Phoenix street circuit</td><td>Phoenix</td><td>USA</td><td>33.4479</td><td>-112.075</td><td>345</td><td>2021-03-21</td><td>2025-04-17T15:58:49.979Z</td></tr><tr><td>34</td><td>ricard</td><td>Circuit Paul Ricard</td><td>Le Castellet</td><td>France</td><td>43.2506</td><td>5.79167</td><td>432</td><td>2021-03-21</td><td>2025-04-17T15:58:49.979Z</td></tr><tr><td>35</td><td>yeongam</td><td>Korean International Circuit</td><td>Yeongam County</td><td>Korea</td><td>34.7333</td><td>126.417</td><td>0</td><td>2021-03-21</td><td>2025-04-17T15:58:49.979Z</td></tr><tr><td>36</td><td>jacarepagua</td><td>Autódromo Internacional Nelson Piquet</td><td>Rio de Janeiro</td><td>Brazil</td><td>-22.9756</td><td>-43.395</td><td>1126</td><td>2021-03-21</td><td>2025-04-17T15:58:49.979Z</td></tr><tr><td>37</td><td>detroit</td><td>Detroit Street Circuit</td><td>Detroit</td><td>USA</td><td>42.3298</td><td>-83.0401</td><td>177</td><td>2021-03-21</td><td>2025-04-17T15:58:49.979Z</td></tr><tr><td>38</td><td>brands_hatch</td><td>Brands Hatch</td><td>Kent</td><td>UK</td><td>51.3569</td><td>0.263056</td><td>145</td><td>2021-03-21</td><td>2025-04-17T15:58:49.979Z</td></tr><tr><td>39</td><td>zandvoort</td><td>Circuit Park Zandvoort</td><td>Zandvoort</td><td>Netherlands</td><td>52.3888</td><td>4.54092</td><td>6</td><td>2021-03-21</td><td>2025-04-17T15:58:49.979Z</td></tr><tr><td>40</td><td>zolder</td><td>Zolder</td><td>Heusden-Zolder</td><td>Belgium</td><td>50.9894</td><td>5.25694</td><td>36</td><td>2021-03-21</td><td>2025-04-17T15:58:49.979Z</td></tr><tr><td>41</td><td>dijon</td><td>Dijon-Prenois</td><td>Dijon</td><td>France</td><td>47.3625</td><td>4.89913</td><td>484</td><td>2021-03-21</td><td>2025-04-17T15:58:49.979Z</td></tr><tr><td>42</td><td>dallas</td><td>Fair Park</td><td>Dallas</td><td>USA</td><td>32.7774</td><td>-96.7587</td><td>139</td><td>2021-03-21</td><td>2025-04-17T15:58:49.979Z</td></tr><tr><td>43</td><td>long_beach</td><td>Long Beach</td><td>California</td><td>USA</td><td>33.7651</td><td>-118.189</td><td>12</td><td>2021-03-21</td><td>2025-04-17T15:58:49.979Z</td></tr><tr><td>44</td><td>las_vegas</td><td>Las Vegas Street Circuit</td><td>Nevada</td><td>USA</td><td>36.1162</td><td>-115.174</td><td>639</td><td>2021-03-21</td><td>2025-04-17T15:58:49.979Z</td></tr><tr><td>45</td><td>jarama</td><td>Jarama</td><td>Madrid</td><td>Spain</td><td>40.6171</td><td>-3.58558</td><td>609</td><td>2021-03-21</td><td>2025-04-17T15:58:49.979Z</td></tr><tr><td>46</td><td>watkins_glen</td><td>Watkins Glen</td><td>New York State</td><td>USA</td><td>42.3369</td><td>-76.9272</td><td>485</td><td>2021-03-21</td><td>2025-04-17T15:58:49.979Z</td></tr><tr><td>47</td><td>anderstorp</td><td>Scandinavian Raceway</td><td>Anderstorp</td><td>Sweden</td><td>57.2653</td><td>13.6042</td><td>153</td><td>2021-03-21</td><td>2025-04-17T15:58:49.979Z</td></tr><tr><td>48</td><td>mosport</td><td>Mosport International Raceway</td><td>Ontario</td><td>Canada</td><td>44.0481</td><td>-78.6756</td><td>332</td><td>2021-03-21</td><td>2025-04-17T15:58:49.979Z</td></tr><tr><td>49</td><td>montjuic</td><td>Montjuïc</td><td>Barcelona</td><td>Spain</td><td>41.3664</td><td>2.15167</td><td>79</td><td>2021-03-21</td><td>2025-04-17T15:58:49.979Z</td></tr><tr><td>50</td><td>nivelles</td><td>Nivelles-Baulers</td><td>Brussels</td><td>Belgium</td><td>50.6211</td><td>4.32694</td><td>139</td><td>2021-03-21</td><td>2025-04-17T15:58:49.979Z</td></tr><tr><td>51</td><td>charade</td><td>Charade Circuit</td><td>Clermont-Ferrand</td><td>France</td><td>45.7472</td><td>3.03889</td><td>790</td><td>2021-03-21</td><td>2025-04-17T15:58:49.979Z</td></tr><tr><td>52</td><td>tremblant</td><td>Circuit Mont-Tremblant</td><td>Quebec</td><td>Canada</td><td>46.1877</td><td>-74.6099</td><td>214</td><td>2021-03-21</td><td>2025-04-17T15:58:49.979Z</td></tr><tr><td>53</td><td>essarts</td><td>Rouen-Les-Essarts</td><td>Rouen</td><td>France</td><td>49.3306</td><td>1.00458</td><td>81</td><td>2021-03-21</td><td>2025-04-17T15:58:49.979Z</td></tr><tr><td>54</td><td>lemans</td><td>Le Mans</td><td>Le Mans</td><td>France</td><td>47.95</td><td>0.224231</td><td>67</td><td>2021-03-21</td><td>2025-04-17T15:58:49.979Z</td></tr><tr><td>55</td><td>reims</td><td>Reims-Gueux</td><td>Reims</td><td>France</td><td>49.2542</td><td>3.93083</td><td>88</td><td>2021-03-21</td><td>2025-04-17T15:58:49.979Z</td></tr><tr><td>56</td><td>george</td><td>Prince George Circuit</td><td>Eastern Cape Province</td><td>South Africa</td><td>-33.0486</td><td>27.8736</td><td>15</td><td>2021-03-21</td><td>2025-04-17T15:58:49.979Z</td></tr><tr><td>57</td><td>zeltweg</td><td>Zeltweg</td><td>Styria</td><td>Austria</td><td>47.2039</td><td>14.7478</td><td>676</td><td>2021-03-21</td><td>2025-04-17T15:58:49.979Z</td></tr><tr><td>58</td><td>aintree</td><td>Aintree</td><td>Liverpool</td><td>UK</td><td>53.4769</td><td>-2.94056</td><td>20</td><td>2021-03-21</td><td>2025-04-17T15:58:49.979Z</td></tr><tr><td>59</td><td>boavista</td><td>Circuito da Boavista</td><td>Oporto</td><td>Portugal</td><td>41.1705</td><td>-8.67325</td><td>28</td><td>2021-03-21</td><td>2025-04-17T15:58:49.979Z</td></tr><tr><td>60</td><td>riverside</td><td>Riverside International Raceway</td><td>California</td><td>USA</td><td>33.937</td><td>-117.273</td><td>470</td><td>2021-03-21</td><td>2025-04-17T15:58:49.979Z</td></tr><tr><td>61</td><td>avus</td><td>AVUS</td><td>Berlin</td><td>Germany</td><td>52.4806</td><td>13.2514</td><td>53</td><td>2021-03-21</td><td>2025-04-17T15:58:49.979Z</td></tr><tr><td>62</td><td>monsanto</td><td>Monsanto Park Circuit</td><td>Lisbon</td><td>Portugal</td><td>38.7197</td><td>-9.20306</td><td>158</td><td>2021-03-21</td><td>2025-04-17T15:58:49.979Z</td></tr><tr><td>63</td><td>sebring</td><td>Sebring International Raceway</td><td>Florida</td><td>USA</td><td>27.4547</td><td>-81.3483</td><td>18</td><td>2021-03-21</td><td>2025-04-17T15:58:49.979Z</td></tr><tr><td>64</td><td>ain-diab</td><td>Ain Diab</td><td>Casablanca</td><td>Morocco</td><td>33.5786</td><td>-7.6875</td><td>19</td><td>2021-03-21</td><td>2025-04-17T15:58:49.979Z</td></tr><tr><td>65</td><td>pescara</td><td>Pescara Circuit</td><td>Pescara</td><td>Italy</td><td>42.475</td><td>14.1508</td><td>129</td><td>2021-03-21</td><td>2025-04-17T15:58:49.979Z</td></tr><tr><td>66</td><td>bremgarten</td><td>Circuit Bremgarten</td><td>Bern</td><td>Switzerland</td><td>46.9589</td><td>7.40194</td><td>551</td><td>2021-03-21</td><td>2025-04-17T15:58:49.979Z</td></tr><tr><td>67</td><td>pedralbes</td><td>Circuit de Pedralbes</td><td>Barcelona</td><td>Spain</td><td>41.3903</td><td>2.11667</td><td>85</td><td>2021-03-21</td><td>2025-04-17T15:58:49.979Z</td></tr><tr><td>68</td><td>buddh</td><td>Buddh International Circuit</td><td>Uttar Pradesh</td><td>India</td><td>28.3487</td><td>77.5331</td><td>194</td><td>2021-03-21</td><td>2025-04-17T15:58:49.979Z</td></tr><tr><td>69</td><td>americas</td><td>Circuit of the Americas</td><td>Austin</td><td>USA</td><td>30.1328</td><td>-97.6411</td><td>161</td><td>2021-03-21</td><td>2025-04-17T15:58:49.979Z</td></tr><tr><td>70</td><td>red_bull_ring</td><td>Red Bull Ring</td><td>Spielburg</td><td>Austria</td><td>47.2197</td><td>14.7647</td><td>678</td><td>2021-03-21</td><td>2025-04-17T15:58:49.979Z</td></tr><tr><td>71</td><td>sochi</td><td>Sochi Autodrom</td><td>Sochi</td><td>Russia</td><td>43.4057</td><td>39.9578</td><td>2</td><td>2021-03-21</td><td>2025-04-17T15:58:49.979Z</td></tr><tr><td>72</td><td>port_imperial</td><td>Port Imperial Street Circuit</td><td>New Jersey</td><td>USA</td><td>40.7769</td><td>-74.0111</td><td>4</td><td>2021-03-21</td><td>2025-04-17T15:58:49.979Z</td></tr><tr><td>73</td><td>BAK</td><td>Baku City Circuit</td><td>Baku</td><td>Azerbaijan</td><td>40.3725</td><td>49.8533</td><td>-7</td><td>2021-03-21</td><td>2025-04-17T15:58:49.979Z</td></tr><tr><td>74</td><td>hanoi</td><td>Hanoi Street Circuit</td><td>Hanoi</td><td>Vietnam</td><td>21.0166</td><td>105.766</td><td>9</td><td>2021-03-21</td><td>2025-04-17T15:58:49.979Z</td></tr><tr><td>75</td><td>portimao</td><td>Autódromo Internacional do Algarve</td><td>Portimão</td><td>Portugal</td><td>37.227</td><td>-8.6267</td><td>108</td><td>2021-03-21</td><td>2025-04-17T15:58:49.979Z</td></tr><tr><td>76</td><td>mugello</td><td>Autodromo Internazionale del Mugello</td><td>Mugello</td><td>Italy</td><td>43.9975</td><td>11.3719</td><td>255</td><td>2021-03-21</td><td>2025-04-17T15:58:49.979Z</td></tr><tr><td>77</td><td>jeddah</td><td>Jeddah Street Circuit</td><td>Jeddah</td><td>Saudi Arabia</td><td>21.5433</td><td>39.1728</td><td>15</td><td>2021-03-21</td><td>2025-04-17T15:58:49.979Z</td></tr></tbody></table></div>"
      ]
     },
     "metadata": {
      "application/vnd.databricks.v1+output": {
       "addedWidgets": {},
       "aggData": [],
       "aggError": "",
       "aggOverflow": false,
       "aggSchema": [],
       "aggSeriesLimitReached": false,
       "aggType": "",
       "arguments": {},
       "columnCustomDisplayInfos": {},
       "data": [
        [
         1,
         "albert_park",
         "Albert Park Grand Prix Circuit",
         "Melbourne",
         "Australia",
         -37.8497,
         144.968,
         10,
         "2021-03-21",
         "2025-04-17T15:58:49.979Z"
        ],
        [
         2,
         "sepang",
         "Sepang International Circuit",
         "Kuala Lumpur",
         "Malaysia",
         2.76083,
         101.738,
         18,
         "2021-03-21",
         "2025-04-17T15:58:49.979Z"
        ],
        [
         3,
         "bahrain",
         "Bahrain International Circuit",
         "Sakhir",
         "Bahrain",
         26.0325,
         50.5106,
         7,
         "2021-03-21",
         "2025-04-17T15:58:49.979Z"
        ],
        [
         4,
         "catalunya",
         "Circuit de Barcelona-Catalunya",
         "Montmeló",
         "Spain",
         41.57,
         2.26111,
         109,
         "2021-03-21",
         "2025-04-17T15:58:49.979Z"
        ],
        [
         5,
         "istanbul",
         "Istanbul Park",
         "Istanbul",
         "Turkey",
         40.9517,
         29.405,
         130,
         "2021-03-21",
         "2025-04-17T15:58:49.979Z"
        ],
        [
         6,
         "monaco",
         "Circuit de Monaco",
         "Monte-Carlo",
         "Monaco",
         43.7347,
         7.42056,
         7,
         "2021-03-21",
         "2025-04-17T15:58:49.979Z"
        ],
        [
         7,
         "villeneuve",
         "Circuit Gilles Villeneuve",
         "Montreal",
         "Canada",
         45.5,
         -73.5228,
         13,
         "2021-03-21",
         "2025-04-17T15:58:49.979Z"
        ],
        [
         8,
         "magny_cours",
         "Circuit de Nevers Magny-Cours",
         "Magny Cours",
         "France",
         46.8642,
         3.16361,
         228,
         "2021-03-21",
         "2025-04-17T15:58:49.979Z"
        ],
        [
         9,
         "silverstone",
         "Silverstone Circuit",
         "Silverstone",
         "UK",
         52.0786,
         -1.01694,
         153,
         "2021-03-21",
         "2025-04-17T15:58:49.979Z"
        ],
        [
         10,
         "hockenheimring",
         "Hockenheimring",
         "Hockenheim",
         "Germany",
         49.3278,
         8.56583,
         103,
         "2021-03-21",
         "2025-04-17T15:58:49.979Z"
        ],
        [
         11,
         "hungaroring",
         "Hungaroring",
         "Budapest",
         "Hungary",
         47.5789,
         19.2486,
         264,
         "2021-03-21",
         "2025-04-17T15:58:49.979Z"
        ],
        [
         12,
         "valencia",
         "Valencia Street Circuit",
         "Valencia",
         "Spain",
         39.4589,
         -0.331667,
         4,
         "2021-03-21",
         "2025-04-17T15:58:49.979Z"
        ],
        [
         13,
         "spa",
         "Circuit de Spa-Francorchamps",
         "Spa",
         "Belgium",
         50.4372,
         5.97139,
         401,
         "2021-03-21",
         "2025-04-17T15:58:49.979Z"
        ],
        [
         14,
         "monza",
         "Autodromo Nazionale di Monza",
         "Monza",
         "Italy",
         45.6156,
         9.28111,
         162,
         "2021-03-21",
         "2025-04-17T15:58:49.979Z"
        ],
        [
         15,
         "marina_bay",
         "Marina Bay Street Circuit",
         "Marina Bay",
         "Singapore",
         1.2914,
         103.864,
         18,
         "2021-03-21",
         "2025-04-17T15:58:49.979Z"
        ],
        [
         16,
         "fuji",
         "Fuji Speedway",
         "Oyama",
         "Japan",
         35.3717,
         138.927,
         583,
         "2021-03-21",
         "2025-04-17T15:58:49.979Z"
        ],
        [
         17,
         "shanghai",
         "Shanghai International Circuit",
         "Shanghai",
         "China",
         31.3389,
         121.22,
         5,
         "2021-03-21",
         "2025-04-17T15:58:49.979Z"
        ],
        [
         18,
         "interlagos",
         "Autódromo José Carlos Pace",
         "São Paulo",
         "Brazil",
         -23.7036,
         -46.6997,
         785,
         "2021-03-21",
         "2025-04-17T15:58:49.979Z"
        ],
        [
         19,
         "indianapolis",
         "Indianapolis Motor Speedway",
         "Indianapolis",
         "USA",
         39.795,
         -86.2347,
         223,
         "2021-03-21",
         "2025-04-17T15:58:49.979Z"
        ],
        [
         20,
         "nurburgring",
         "Nürburgring",
         "Nürburg",
         "Germany",
         50.3356,
         6.9475,
         578,
         "2021-03-21",
         "2025-04-17T15:58:49.979Z"
        ],
        [
         21,
         "imola",
         "Autodromo Enzo e Dino Ferrari",
         "Imola",
         "Italy",
         44.3439,
         11.7167,
         37,
         "2021-03-21",
         "2025-04-17T15:58:49.979Z"
        ],
        [
         22,
         "suzuka",
         "Suzuka Circuit",
         "Suzuka",
         "Japan",
         34.8431,
         136.541,
         45,
         "2021-03-21",
         "2025-04-17T15:58:49.979Z"
        ],
        [
         23,
         "osterreichring",
         "A1-Ring",
         "Spielburg",
         "Austria",
         47.2197,
         14.7647,
         678,
         "2021-03-21",
         "2025-04-17T15:58:49.979Z"
        ],
        [
         24,
         "yas_marina",
         "Yas Marina Circuit",
         "Abu Dhabi",
         "UAE",
         24.4672,
         54.6031,
         3,
         "2021-03-21",
         "2025-04-17T15:58:49.979Z"
        ],
        [
         25,
         "galvez",
         "Autódromo Juan y Oscar Gálvez",
         "Buenos Aires",
         "Argentina",
         -34.6943,
         -58.4593,
         8,
         "2021-03-21",
         "2025-04-17T15:58:49.979Z"
        ],
        [
         26,
         "jerez",
         "Circuito de Jerez",
         "Jerez de la Frontera",
         "Spain",
         36.7083,
         -6.03417,
         37,
         "2021-03-21",
         "2025-04-17T15:58:49.979Z"
        ],
        [
         27,
         "estoril",
         "Autódromo do Estoril",
         "Estoril",
         "Portugal",
         38.7506,
         -9.39417,
         130,
         "2021-03-21",
         "2025-04-17T15:58:49.979Z"
        ],
        [
         28,
         "okayama",
         "Okayama International Circuit",
         "Okayama",
         "Japan",
         34.915,
         134.221,
         266,
         "2021-03-21",
         "2025-04-17T15:58:49.979Z"
        ],
        [
         29,
         "adelaide",
         "Adelaide Street Circuit",
         "Adelaide",
         "Australia",
         -34.9272,
         138.617,
         58,
         "2021-03-21",
         "2025-04-17T15:58:49.979Z"
        ],
        [
         30,
         "kyalami",
         "Kyalami",
         "Midrand",
         "South Africa",
         -25.9894,
         28.0767,
         1460,
         "2021-03-21",
         "2025-04-17T15:58:49.979Z"
        ],
        [
         31,
         "donington",
         "Donington Park",
         "Castle Donington",
         "UK",
         52.8306,
         -1.37528,
         88,
         "2021-03-21",
         "2025-04-17T15:58:49.979Z"
        ],
        [
         32,
         "rodriguez",
         "Autódromo Hermanos Rodríguez",
         "Mexico City",
         "Mexico",
         19.4042,
         -99.0907,
         2227,
         "2021-03-21",
         "2025-04-17T15:58:49.979Z"
        ],
        [
         33,
         "phoenix",
         "Phoenix street circuit",
         "Phoenix",
         "USA",
         33.4479,
         -112.075,
         345,
         "2021-03-21",
         "2025-04-17T15:58:49.979Z"
        ],
        [
         34,
         "ricard",
         "Circuit Paul Ricard",
         "Le Castellet",
         "France",
         43.2506,
         5.79167,
         432,
         "2021-03-21",
         "2025-04-17T15:58:49.979Z"
        ],
        [
         35,
         "yeongam",
         "Korean International Circuit",
         "Yeongam County",
         "Korea",
         34.7333,
         126.417,
         0,
         "2021-03-21",
         "2025-04-17T15:58:49.979Z"
        ],
        [
         36,
         "jacarepagua",
         "Autódromo Internacional Nelson Piquet",
         "Rio de Janeiro",
         "Brazil",
         -22.9756,
         -43.395,
         1126,
         "2021-03-21",
         "2025-04-17T15:58:49.979Z"
        ],
        [
         37,
         "detroit",
         "Detroit Street Circuit",
         "Detroit",
         "USA",
         42.3298,
         -83.0401,
         177,
         "2021-03-21",
         "2025-04-17T15:58:49.979Z"
        ],
        [
         38,
         "brands_hatch",
         "Brands Hatch",
         "Kent",
         "UK",
         51.3569,
         0.263056,
         145,
         "2021-03-21",
         "2025-04-17T15:58:49.979Z"
        ],
        [
         39,
         "zandvoort",
         "Circuit Park Zandvoort",
         "Zandvoort",
         "Netherlands",
         52.3888,
         4.54092,
         6,
         "2021-03-21",
         "2025-04-17T15:58:49.979Z"
        ],
        [
         40,
         "zolder",
         "Zolder",
         "Heusden-Zolder",
         "Belgium",
         50.9894,
         5.25694,
         36,
         "2021-03-21",
         "2025-04-17T15:58:49.979Z"
        ],
        [
         41,
         "dijon",
         "Dijon-Prenois",
         "Dijon",
         "France",
         47.3625,
         4.89913,
         484,
         "2021-03-21",
         "2025-04-17T15:58:49.979Z"
        ],
        [
         42,
         "dallas",
         "Fair Park",
         "Dallas",
         "USA",
         32.7774,
         -96.7587,
         139,
         "2021-03-21",
         "2025-04-17T15:58:49.979Z"
        ],
        [
         43,
         "long_beach",
         "Long Beach",
         "California",
         "USA",
         33.7651,
         -118.189,
         12,
         "2021-03-21",
         "2025-04-17T15:58:49.979Z"
        ],
        [
         44,
         "las_vegas",
         "Las Vegas Street Circuit",
         "Nevada",
         "USA",
         36.1162,
         -115.174,
         639,
         "2021-03-21",
         "2025-04-17T15:58:49.979Z"
        ],
        [
         45,
         "jarama",
         "Jarama",
         "Madrid",
         "Spain",
         40.6171,
         -3.58558,
         609,
         "2021-03-21",
         "2025-04-17T15:58:49.979Z"
        ],
        [
         46,
         "watkins_glen",
         "Watkins Glen",
         "New York State",
         "USA",
         42.3369,
         -76.9272,
         485,
         "2021-03-21",
         "2025-04-17T15:58:49.979Z"
        ],
        [
         47,
         "anderstorp",
         "Scandinavian Raceway",
         "Anderstorp",
         "Sweden",
         57.2653,
         13.6042,
         153,
         "2021-03-21",
         "2025-04-17T15:58:49.979Z"
        ],
        [
         48,
         "mosport",
         "Mosport International Raceway",
         "Ontario",
         "Canada",
         44.0481,
         -78.6756,
         332,
         "2021-03-21",
         "2025-04-17T15:58:49.979Z"
        ],
        [
         49,
         "montjuic",
         "Montjuïc",
         "Barcelona",
         "Spain",
         41.3664,
         2.15167,
         79,
         "2021-03-21",
         "2025-04-17T15:58:49.979Z"
        ],
        [
         50,
         "nivelles",
         "Nivelles-Baulers",
         "Brussels",
         "Belgium",
         50.6211,
         4.32694,
         139,
         "2021-03-21",
         "2025-04-17T15:58:49.979Z"
        ],
        [
         51,
         "charade",
         "Charade Circuit",
         "Clermont-Ferrand",
         "France",
         45.7472,
         3.03889,
         790,
         "2021-03-21",
         "2025-04-17T15:58:49.979Z"
        ],
        [
         52,
         "tremblant",
         "Circuit Mont-Tremblant",
         "Quebec",
         "Canada",
         46.1877,
         -74.6099,
         214,
         "2021-03-21",
         "2025-04-17T15:58:49.979Z"
        ],
        [
         53,
         "essarts",
         "Rouen-Les-Essarts",
         "Rouen",
         "France",
         49.3306,
         1.00458,
         81,
         "2021-03-21",
         "2025-04-17T15:58:49.979Z"
        ],
        [
         54,
         "lemans",
         "Le Mans",
         "Le Mans",
         "France",
         47.95,
         0.224231,
         67,
         "2021-03-21",
         "2025-04-17T15:58:49.979Z"
        ],
        [
         55,
         "reims",
         "Reims-Gueux",
         "Reims",
         "France",
         49.2542,
         3.93083,
         88,
         "2021-03-21",
         "2025-04-17T15:58:49.979Z"
        ],
        [
         56,
         "george",
         "Prince George Circuit",
         "Eastern Cape Province",
         "South Africa",
         -33.0486,
         27.8736,
         15,
         "2021-03-21",
         "2025-04-17T15:58:49.979Z"
        ],
        [
         57,
         "zeltweg",
         "Zeltweg",
         "Styria",
         "Austria",
         47.2039,
         14.7478,
         676,
         "2021-03-21",
         "2025-04-17T15:58:49.979Z"
        ],
        [
         58,
         "aintree",
         "Aintree",
         "Liverpool",
         "UK",
         53.4769,
         -2.94056,
         20,
         "2021-03-21",
         "2025-04-17T15:58:49.979Z"
        ],
        [
         59,
         "boavista",
         "Circuito da Boavista",
         "Oporto",
         "Portugal",
         41.1705,
         -8.67325,
         28,
         "2021-03-21",
         "2025-04-17T15:58:49.979Z"
        ],
        [
         60,
         "riverside",
         "Riverside International Raceway",
         "California",
         "USA",
         33.937,
         -117.273,
         470,
         "2021-03-21",
         "2025-04-17T15:58:49.979Z"
        ],
        [
         61,
         "avus",
         "AVUS",
         "Berlin",
         "Germany",
         52.4806,
         13.2514,
         53,
         "2021-03-21",
         "2025-04-17T15:58:49.979Z"
        ],
        [
         62,
         "monsanto",
         "Monsanto Park Circuit",
         "Lisbon",
         "Portugal",
         38.7197,
         -9.20306,
         158,
         "2021-03-21",
         "2025-04-17T15:58:49.979Z"
        ],
        [
         63,
         "sebring",
         "Sebring International Raceway",
         "Florida",
         "USA",
         27.4547,
         -81.3483,
         18,
         "2021-03-21",
         "2025-04-17T15:58:49.979Z"
        ],
        [
         64,
         "ain-diab",
         "Ain Diab",
         "Casablanca",
         "Morocco",
         33.5786,
         -7.6875,
         19,
         "2021-03-21",
         "2025-04-17T15:58:49.979Z"
        ],
        [
         65,
         "pescara",
         "Pescara Circuit",
         "Pescara",
         "Italy",
         42.475,
         14.1508,
         129,
         "2021-03-21",
         "2025-04-17T15:58:49.979Z"
        ],
        [
         66,
         "bremgarten",
         "Circuit Bremgarten",
         "Bern",
         "Switzerland",
         46.9589,
         7.40194,
         551,
         "2021-03-21",
         "2025-04-17T15:58:49.979Z"
        ],
        [
         67,
         "pedralbes",
         "Circuit de Pedralbes",
         "Barcelona",
         "Spain",
         41.3903,
         2.11667,
         85,
         "2021-03-21",
         "2025-04-17T15:58:49.979Z"
        ],
        [
         68,
         "buddh",
         "Buddh International Circuit",
         "Uttar Pradesh",
         "India",
         28.3487,
         77.5331,
         194,
         "2021-03-21",
         "2025-04-17T15:58:49.979Z"
        ],
        [
         69,
         "americas",
         "Circuit of the Americas",
         "Austin",
         "USA",
         30.1328,
         -97.6411,
         161,
         "2021-03-21",
         "2025-04-17T15:58:49.979Z"
        ],
        [
         70,
         "red_bull_ring",
         "Red Bull Ring",
         "Spielburg",
         "Austria",
         47.2197,
         14.7647,
         678,
         "2021-03-21",
         "2025-04-17T15:58:49.979Z"
        ],
        [
         71,
         "sochi",
         "Sochi Autodrom",
         "Sochi",
         "Russia",
         43.4057,
         39.9578,
         2,
         "2021-03-21",
         "2025-04-17T15:58:49.979Z"
        ],
        [
         72,
         "port_imperial",
         "Port Imperial Street Circuit",
         "New Jersey",
         "USA",
         40.7769,
         -74.0111,
         4,
         "2021-03-21",
         "2025-04-17T15:58:49.979Z"
        ],
        [
         73,
         "BAK",
         "Baku City Circuit",
         "Baku",
         "Azerbaijan",
         40.3725,
         49.8533,
         -7,
         "2021-03-21",
         "2025-04-17T15:58:49.979Z"
        ],
        [
         74,
         "hanoi",
         "Hanoi Street Circuit",
         "Hanoi",
         "Vietnam",
         21.0166,
         105.766,
         9,
         "2021-03-21",
         "2025-04-17T15:58:49.979Z"
        ],
        [
         75,
         "portimao",
         "Autódromo Internacional do Algarve",
         "Portimão",
         "Portugal",
         37.227,
         -8.6267,
         108,
         "2021-03-21",
         "2025-04-17T15:58:49.979Z"
        ],
        [
         76,
         "mugello",
         "Autodromo Internazionale del Mugello",
         "Mugello",
         "Italy",
         43.9975,
         11.3719,
         255,
         "2021-03-21",
         "2025-04-17T15:58:49.979Z"
        ],
        [
         77,
         "jeddah",
         "Jeddah Street Circuit",
         "Jeddah",
         "Saudi Arabia",
         21.5433,
         39.1728,
         15,
         "2021-03-21",
         "2025-04-17T15:58:49.979Z"
        ]
       ],
       "datasetInfos": [],
       "dbfsResultPath": null,
       "isJsonSchema": true,
       "metadata": {},
       "overflow": false,
       "plotOptions": {
        "customPlotOptions": {},
        "displayType": "table",
        "pivotAggregation": null,
        "pivotColumns": null,
        "xColumns": null,
        "yColumns": null
       },
       "removedWidgets": [],
       "schema": [
        {
         "metadata": "{}",
         "name": "circuit_id",
         "type": "\"integer\""
        },
        {
         "metadata": "{}",
         "name": "circuit_ref",
         "type": "\"string\""
        },
        {
         "metadata": "{}",
         "name": "circuit_name",
         "type": "\"string\""
        },
        {
         "metadata": "{}",
         "name": "circuit_location",
         "type": "\"string\""
        },
        {
         "metadata": "{}",
         "name": "circuit_country",
         "type": "\"string\""
        },
        {
         "metadata": "{}",
         "name": "circuit_lat",
         "type": "\"double\""
        },
        {
         "metadata": "{}",
         "name": "circuit_lng",
         "type": "\"double\""
        },
        {
         "metadata": "{}",
         "name": "circuit_altitude",
         "type": "\"integer\""
        },
        {
         "metadata": "{}",
         "name": "file_date",
         "type": "\"string\""
        },
        {
         "metadata": "{}",
         "name": "ingest_date",
         "type": "\"timestamp\""
        }
       ],
       "type": "table"
      }
     },
     "output_type": "display_data"
    }
   ],
   "source": [
    "# Verify that the data was written to the parquet file\n",
    "df = spark.read.parquet(f\"{processed_container_path}/circuits\")\n",
    "display(df)"
   ]
  },
  {
   "cell_type": "code",
   "execution_count": 0,
   "metadata": {
    "application/vnd.databricks.v1+cell": {
     "cellMetadata": {
      "byteLimit": 2048000,
      "rowLimit": 10000
     },
     "inputWidgets": {},
     "nuid": "9b508b35-9d80-460f-92fc-3720271f8d94",
     "showTitle": false,
     "tableResultSettingsMap": {},
     "title": ""
    }
   },
   "outputs": [],
   "source": [
    "dbutils.notebook.exit(\"success...\")"
   ]
  },
  {
   "cell_type": "code",
   "execution_count": 0,
   "metadata": {
    "application/vnd.databricks.v1+cell": {
     "cellMetadata": {
      "byteLimit": 2048000,
      "rowLimit": 10000
     },
     "inputWidgets": {},
     "nuid": "049a82ad-0613-49d3-add1-25e73eb8d7db",
     "showTitle": false,
     "tableResultSettingsMap": {},
     "title": ""
    }
   },
   "outputs": [],
   "source": []
  }
 ],
 "metadata": {
  "application/vnd.databricks.v1+notebook": {
   "computePreferences": null,
   "dashboards": [],
   "environmentMetadata": {
    "base_environment": "",
    "environment_version": "2"
   },
   "inputWidgetPreferences": null,
   "language": "python",
   "notebookMetadata": {
    "mostRecentlyExecutedCommandWithImplicitDF": {
     "commandId": 5667346825489952,
     "dataframes": [
      "_sqldf"
     ]
    },
    "pythonIndentUnit": 4
   },
   "notebookName": "1. Data_ingestion_circuits_csv_file",
   "widgets": {
    "v_file_date": {
     "currentValue": "2021-03-21",
     "nuid": "2725291e-b01a-4843-89fa-f89b6ca15bd2",
     "typedWidgetInfo": {
      "autoCreated": false,
      "defaultValue": "2021-03-21",
      "label": null,
      "name": "v_file_date",
      "options": {
       "widgetDisplayType": "Text",
       "validationRegex": null
      },
      "parameterDataType": "String"
     },
     "widgetInfo": {
      "widgetType": "text",
      "defaultValue": "2021-03-21",
      "label": null,
      "name": "v_file_date",
      "options": {
       "widgetType": "text",
       "autoCreated": null,
       "validationRegex": null
      }
     }
    }
   }
  },
  "language_info": {
   "name": "python"
  }
 },
 "nbformat": 4,
 "nbformat_minor": 0
}
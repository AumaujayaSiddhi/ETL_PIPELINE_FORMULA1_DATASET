{
 "cells": [
  {
   "cell_type": "code",
   "execution_count": 0,
   "metadata": {
    "application/vnd.databricks.v1+cell": {
     "cellMetadata": {
      "byteLimit": 2048000,
      "rowLimit": 10000
     },
     "inputWidgets": {},
     "nuid": "ee8f80ac-21b1-43c4-bc66-45e1290bfded",
     "showTitle": false,
     "tableResultSettingsMap": {},
     "title": ""
    }
   },
   "outputs": [],
   "source": [
    "dbutils.widgets.text(\"v_file_date\", \"2021-03-21\")\n",
    "v_file_date = dbutils.widgets.get(\"v_file_date\")"
   ]
  },
  {
   "cell_type": "code",
   "execution_count": 0,
   "metadata": {
    "application/vnd.databricks.v1+cell": {
     "cellMetadata": {
      "byteLimit": 2048000,
      "rowLimit": 10000
     },
     "inputWidgets": {},
     "nuid": "0ceed9f5-01f5-412c-8dc8-79722dd49ef7",
     "showTitle": false,
     "tableResultSettingsMap": {},
     "title": ""
    }
   },
   "outputs": [],
   "source": [
    "%run \"../includes/common_code\""
   ]
  },
  {
   "cell_type": "markdown",
   "metadata": {
    "application/vnd.databricks.v1+cell": {
     "cellMetadata": {
      "byteLimit": 2048000,
      "rowLimit": 10000
     },
     "inputWidgets": {},
     "nuid": "6b7cc319-679f-4ff7-9818-6d711fa43e7d",
     "showTitle": false,
     "tableResultSettingsMap": {},
     "title": ""
    }
   },
   "source": [
    "### Ingestion constructors.csv\n",
    "1. Read constructors.csv file from raw container using Dataframe reader API\n",
    "2. Select only the required columns or drop the unwanted columns\n",
    "3. Rename few columns to the suitable name\n",
    "4. Add audit column which specifies the ingestion date/time/timestamp\n",
    "5. Write the final transformed data into processsed container"
   ]
  },
  {
   "cell_type": "code",
   "execution_count": 0,
   "metadata": {
    "application/vnd.databricks.v1+cell": {
     "cellMetadata": {
      "byteLimit": 2048000,
      "rowLimit": 10000
     },
     "inputWidgets": {},
     "nuid": "c691f1e6-717f-4d0b-99b0-47173ea173bc",
     "showTitle": false,
     "tableResultSettingsMap": {},
     "title": ""
    }
   },
   "outputs": [
    {
     "output_type": "display_data",
     "data": {
      "text/html": [
       "<style scoped>\n",
       "  .table-result-container {\n",
       "    max-height: 300px;\n",
       "    overflow: auto;\n",
       "  }\n",
       "  table, th, td {\n",
       "    border: 1px solid black;\n",
       "    border-collapse: collapse;\n",
       "  }\n",
       "  th, td {\n",
       "    padding: 5px;\n",
       "  }\n",
       "  th {\n",
       "    text-align: left;\n",
       "  }\n",
       "</style><div class='table-result-container'><table class='table-result'><thead style='background-color: white'><tr><th>mountPoint</th><th>source</th><th>encryptionType</th></tr></thead><tbody><tr><td>/databricks-datasets</td><td>databricks-datasets</td><td></td></tr><tr><td>/mnt/formula1dl-demo</td><td>abfss://demo@formula1dlsiddhi.dfs.core.windows.net/</td><td></td></tr><tr><td>/mnt/formula1dlsiddhi/processed</td><td>abfss://processed@formula1dlsiddhi.dfs.core.windows.net/</td><td></td></tr><tr><td>/Volumes</td><td>UnityCatalogVolumes</td><td></td></tr><tr><td>/mnt/formula1dlsiddhi/demo</td><td>abfss://demo@formula1dlsiddhi.dfs.core.windows.net/</td><td></td></tr><tr><td>/databricks/mlflow-tracking</td><td>databricks/mlflow-tracking</td><td></td></tr><tr><td>/databricks-results</td><td>databricks-results</td><td></td></tr><tr><td>/mnt/formula1dlsiddhi/raw</td><td>abfss://raw@formula1dlsiddhi.dfs.core.windows.net/</td><td></td></tr><tr><td>/databricks/mlflow-registry</td><td>databricks/mlflow-registry</td><td></td></tr><tr><td>/Volume</td><td>DbfsReserved</td><td></td></tr><tr><td>/mnt/formula1dlsiddhi/presentation</td><td>abfss://presentation@formula1dlsiddhi.dfs.core.windows.net/</td><td></td></tr><tr><td>/volumes</td><td>DbfsReserved</td><td></td></tr><tr><td>/</td><td>DatabricksRoot</td><td></td></tr><tr><td>/volume</td><td>DbfsReserved</td><td></td></tr></tbody></table></div>"
      ]
     },
     "metadata": {
      "application/vnd.databricks.v1+output": {
       "addedWidgets": {},
       "aggData": [],
       "aggError": "",
       "aggOverflow": false,
       "aggSchema": [],
       "aggSeriesLimitReached": false,
       "aggType": "",
       "arguments": {},
       "columnCustomDisplayInfos": {},
       "data": [
        [
         "/databricks-datasets",
         "databricks-datasets",
         ""
        ],
        [
         "/mnt/formula1dl-demo",
         "abfss://demo@formula1dlsiddhi.dfs.core.windows.net/",
         ""
        ],
        [
         "/mnt/formula1dlsiddhi/processed",
         "abfss://processed@formula1dlsiddhi.dfs.core.windows.net/",
         ""
        ],
        [
         "/Volumes",
         "UnityCatalogVolumes",
         ""
        ],
        [
         "/mnt/formula1dlsiddhi/demo",
         "abfss://demo@formula1dlsiddhi.dfs.core.windows.net/",
         ""
        ],
        [
         "/databricks/mlflow-tracking",
         "databricks/mlflow-tracking",
         ""
        ],
        [
         "/databricks-results",
         "databricks-results",
         ""
        ],
        [
         "/mnt/formula1dlsiddhi/raw",
         "abfss://raw@formula1dlsiddhi.dfs.core.windows.net/",
         ""
        ],
        [
         "/databricks/mlflow-registry",
         "databricks/mlflow-registry",
         ""
        ],
        [
         "/Volume",
         "DbfsReserved",
         ""
        ],
        [
         "/mnt/formula1dlsiddhi/presentation",
         "abfss://presentation@formula1dlsiddhi.dfs.core.windows.net/",
         ""
        ],
        [
         "/volumes",
         "DbfsReserved",
         ""
        ],
        [
         "/",
         "DatabricksRoot",
         ""
        ],
        [
         "/volume",
         "DbfsReserved",
         ""
        ]
       ],
       "datasetInfos": [],
       "dbfsResultPath": null,
       "isJsonSchema": true,
       "metadata": {},
       "overflow": false,
       "plotOptions": {
        "customPlotOptions": {},
        "displayType": "table",
        "pivotAggregation": null,
        "pivotColumns": null,
        "xColumns": null,
        "yColumns": null
       },
       "removedWidgets": [],
       "schema": [
        {
         "metadata": "{}",
         "name": "mountPoint",
         "type": "\"string\""
        },
        {
         "metadata": "{}",
         "name": "source",
         "type": "\"string\""
        },
        {
         "metadata": "{}",
         "name": "encryptionType",
         "type": "\"string\""
        }
       ],
       "type": "table"
      }
     },
     "output_type": "display_data"
    }
   ],
   "source": [
    "# listing all the mounts\n",
    "display(dbutils.fs.mounts())"
   ]
  },
  {
   "cell_type": "code",
   "execution_count": 0,
   "metadata": {
    "application/vnd.databricks.v1+cell": {
     "cellMetadata": {
      "byteLimit": 2048000,
      "rowLimit": 10000
     },
     "inputWidgets": {},
     "nuid": "f99a499c-5f67-486a-bc16-250b7fb83c49",
     "showTitle": false,
     "tableResultSettingsMap": {},
     "title": ""
    }
   },
   "outputs": [
    {
     "output_type": "display_data",
     "data": {
      "text/html": [
       "<style scoped>\n",
       "  .table-result-container {\n",
       "    max-height: 300px;\n",
       "    overflow: auto;\n",
       "  }\n",
       "  table, th, td {\n",
       "    border: 1px solid black;\n",
       "    border-collapse: collapse;\n",
       "  }\n",
       "  th, td {\n",
       "    padding: 5px;\n",
       "  }\n",
       "  th {\n",
       "    text-align: left;\n",
       "  }\n",
       "</style><div class='table-result-container'><table class='table-result'><thead style='background-color: white'><tr><th>path</th><th>name</th><th>size</th><th>modificationTime</th></tr></thead><tbody><tr><td>dbfs:/mnt/formula1dlsiddhi/raw/2021-03-21/</td><td>2021-03-21/</td><td>0</td><td>1744679356000</td></tr><tr><td>dbfs:/mnt/formula1dlsiddhi/raw/2021-03-28/</td><td>2021-03-28/</td><td>0</td><td>1744679367000</td></tr><tr><td>dbfs:/mnt/formula1dlsiddhi/raw/2021-04-18/</td><td>2021-04-18/</td><td>0</td><td>1744679375000</td></tr></tbody></table></div>"
      ]
     },
     "metadata": {
      "application/vnd.databricks.v1+output": {
       "addedWidgets": {},
       "aggData": [],
       "aggError": "",
       "aggOverflow": false,
       "aggSchema": [],
       "aggSeriesLimitReached": false,
       "aggType": "",
       "arguments": {},
       "columnCustomDisplayInfos": {},
       "data": [
        [
         "dbfs:/mnt/formula1dlsiddhi/raw/2021-03-21/",
         "2021-03-21/",
         0,
         1744679356000
        ],
        [
         "dbfs:/mnt/formula1dlsiddhi/raw/2021-03-28/",
         "2021-03-28/",
         0,
         1744679367000
        ],
        [
         "dbfs:/mnt/formula1dlsiddhi/raw/2021-04-18/",
         "2021-04-18/",
         0,
         1744679375000
        ]
       ],
       "datasetInfos": [],
       "dbfsResultPath": null,
       "isJsonSchema": true,
       "metadata": {},
       "overflow": false,
       "plotOptions": {
        "customPlotOptions": {},
        "displayType": "table",
        "pivotAggregation": null,
        "pivotColumns": null,
        "xColumns": null,
        "yColumns": null
       },
       "removedWidgets": [],
       "schema": [
        {
         "metadata": "{}",
         "name": "path",
         "type": "\"string\""
        },
        {
         "metadata": "{}",
         "name": "name",
         "type": "\"string\""
        },
        {
         "metadata": "{}",
         "name": "size",
         "type": "\"long\""
        },
        {
         "metadata": "{}",
         "name": "modificationTime",
         "type": "\"long\""
        }
       ],
       "type": "table"
      }
     },
     "output_type": "display_data"
    }
   ],
   "source": [
    "# listing all the files in raw container\n",
    "display(dbutils.fs.ls(f\"{raw_container_path}\"))"
   ]
  },
  {
   "cell_type": "code",
   "execution_count": 0,
   "metadata": {
    "application/vnd.databricks.v1+cell": {
     "cellMetadata": {
      "byteLimit": 2048000,
      "rowLimit": 10000
     },
     "inputWidgets": {},
     "nuid": "3a2ee591-49b4-4df1-aee5-396b6a513f6d",
     "showTitle": false,
     "tableResultSettingsMap": {},
     "title": ""
    }
   },
   "outputs": [
    {
     "output_type": "execute_result",
     "data": {
      "text/plain": [
       "'\\nconstructors_df = spark.read.option(\"header\", \"true\")                         .option(\"inferSchema\", \"true\")                         .json(\"/mnt/formula1dlsiddhi/raw/constructors.json\")\\n'"
      ]
     },
     "execution_count": 9,
     "metadata": {},
     "output_type": "execute_result"
    }
   ],
   "source": [
    "# Reading the circuits.csv using spark reader API\n",
    "# inferSchema automatically detects the underlying datatype of the data. but this will go through the data to one more scan, so it is not recommended\n",
    "'''\n",
    "constructors_df = spark.read.option(\"header\", \"true\") \\\n",
    "                        .option(\"inferSchema\", \"true\") \\\n",
    "                        .json(\"/mnt/formula1dlsiddhi/raw/constructors.json\")\n",
    "'''"
   ]
  },
  {
   "cell_type": "code",
   "execution_count": 0,
   "metadata": {
    "application/vnd.databricks.v1+cell": {
     "cellMetadata": {
      "byteLimit": 2048000,
      "rowLimit": 10000
     },
     "inputWidgets": {},
     "nuid": "a4633d4a-8a88-467e-ab2a-5ee2251a262a",
     "showTitle": false,
     "tableResultSettingsMap": {},
     "title": ""
    }
   },
   "outputs": [],
   "source": [
    "# Defining schema for constructor dataframe using DDL, Alternately you can use StructType\n",
    "constructors_schema = \"constructorId INT, constructorRef STRING, name STRING, nationality STRING, url STRING\""
   ]
  },
  {
   "cell_type": "code",
   "execution_count": 0,
   "metadata": {
    "application/vnd.databricks.v1+cell": {
     "cellMetadata": {
      "byteLimit": 2048000,
      "rowLimit": 10000
     },
     "inputWidgets": {},
     "nuid": "c41a778b-6ead-419e-b4d7-685eafbb8a6f",
     "showTitle": false,
     "tableResultSettingsMap": {},
     "title": ""
    }
   },
   "outputs": [],
   "source": [
    "constructors_df = spark.read.schema(constructors_schema) \\\n",
    "                            .option(\"header\", \"true\") \\\n",
    "                            .json(f\"{raw_container_path}/{v_file_date}/constructors.json\")"
   ]
  },
  {
   "cell_type": "code",
   "execution_count": 0,
   "metadata": {
    "application/vnd.databricks.v1+cell": {
     "cellMetadata": {
      "byteLimit": 2048000,
      "rowLimit": 10000
     },
     "inputWidgets": {},
     "nuid": "ded2dd90-0ebf-4c00-a78d-1c37cf4cede6",
     "showTitle": false,
     "tableResultSettingsMap": {},
     "title": ""
    }
   },
   "outputs": [
    {
     "output_type": "stream",
     "name": "stdout",
     "output_type": "stream",
     "text": [
      "root\n |-- constructorId: integer (nullable = true)\n |-- constructorRef: string (nullable = true)\n |-- name: string (nullable = true)\n |-- nationality: string (nullable = true)\n |-- url: string (nullable = true)\n\n"
     ]
    }
   ],
   "source": [
    "constructors_df.printSchema()"
   ]
  },
  {
   "cell_type": "code",
   "execution_count": 0,
   "metadata": {
    "application/vnd.databricks.v1+cell": {
     "cellMetadata": {
      "byteLimit": 2048000,
      "rowLimit": 10000
     },
     "inputWidgets": {},
     "nuid": "946705ca-4784-45dc-a2ba-8b4abca9f0b3",
     "showTitle": false,
     "tableResultSettingsMap": {},
     "title": ""
    }
   },
   "outputs": [
    {
     "output_type": "display_data",
     "data": {
      "text/html": [
       "<style scoped>\n",
       "  .table-result-container {\n",
       "    max-height: 300px;\n",
       "    overflow: auto;\n",
       "  }\n",
       "  table, th, td {\n",
       "    border: 1px solid black;\n",
       "    border-collapse: collapse;\n",
       "  }\n",
       "  th, td {\n",
       "    padding: 5px;\n",
       "  }\n",
       "  th {\n",
       "    text-align: left;\n",
       "  }\n",
       "</style><div class='table-result-container'><table class='table-result'><thead style='background-color: white'><tr><th>constructorId</th><th>constructorRef</th><th>name</th><th>nationality</th><th>url</th></tr></thead><tbody><tr><td>1</td><td>mclaren</td><td>McLaren</td><td>British</td><td>http://en.wikipedia.org/wiki/McLaren</td></tr><tr><td>2</td><td>bmw_sauber</td><td>BMW Sauber</td><td>German</td><td>http://en.wikipedia.org/wiki/BMW_Sauber</td></tr><tr><td>3</td><td>williams</td><td>Williams</td><td>British</td><td>http://en.wikipedia.org/wiki/Williams_Grand_Prix_Engineering</td></tr><tr><td>4</td><td>renault</td><td>Renault</td><td>French</td><td>http://en.wikipedia.org/wiki/Renault_in_Formula_One</td></tr><tr><td>5</td><td>toro_rosso</td><td>Toro Rosso</td><td>Italian</td><td>http://en.wikipedia.org/wiki/Scuderia_Toro_Rosso</td></tr><tr><td>6</td><td>ferrari</td><td>Ferrari</td><td>Italian</td><td>http://en.wikipedia.org/wiki/Scuderia_Ferrari</td></tr><tr><td>7</td><td>toyota</td><td>Toyota</td><td>Japanese</td><td>http://en.wikipedia.org/wiki/Toyota_Racing</td></tr><tr><td>8</td><td>super_aguri</td><td>Super Aguri</td><td>Japanese</td><td>http://en.wikipedia.org/wiki/Super_Aguri_F1</td></tr><tr><td>9</td><td>red_bull</td><td>Red Bull</td><td>Austrian</td><td>http://en.wikipedia.org/wiki/Red_Bull_Racing</td></tr><tr><td>10</td><td>force_india</td><td>Force India</td><td>Indian</td><td>http://en.wikipedia.org/wiki/Racing_Point_Force_India</td></tr><tr><td>11</td><td>honda</td><td>Honda</td><td>Japanese</td><td>http://en.wikipedia.org/wiki/Honda_Racing_F1</td></tr><tr><td>12</td><td>spyker</td><td>Spyker</td><td>Dutch</td><td>http://en.wikipedia.org/wiki/Spyker_F1</td></tr><tr><td>13</td><td>mf1</td><td>MF1</td><td>Russian</td><td>http://en.wikipedia.org/wiki/Midland_F1_Racing</td></tr><tr><td>14</td><td>spyker_mf1</td><td>Spyker MF1</td><td>Dutch</td><td>http://en.wikipedia.org/wiki/Midland_F1_Racing</td></tr><tr><td>15</td><td>sauber</td><td>Sauber</td><td>Swiss</td><td>http://en.wikipedia.org/wiki/Sauber</td></tr><tr><td>16</td><td>bar</td><td>BAR</td><td>British</td><td>http://en.wikipedia.org/wiki/British_American_Racing</td></tr><tr><td>17</td><td>jordan</td><td>Jordan</td><td>Irish</td><td>http://en.wikipedia.org/wiki/Jordan_Grand_Prix</td></tr><tr><td>18</td><td>minardi</td><td>Minardi</td><td>Italian</td><td>http://en.wikipedia.org/wiki/Minardi</td></tr><tr><td>19</td><td>jaguar</td><td>Jaguar</td><td>British</td><td>http://en.wikipedia.org/wiki/Jaguar_Racing</td></tr><tr><td>20</td><td>prost</td><td>Prost</td><td>French</td><td>http://en.wikipedia.org/wiki/Prost_Grand_Prix</td></tr><tr><td>21</td><td>arrows</td><td>Arrows</td><td>British</td><td>http://en.wikipedia.org/wiki/Arrows_Grand_Prix_International</td></tr><tr><td>22</td><td>benetton</td><td>Benetton</td><td>Italian</td><td>http://en.wikipedia.org/wiki/Benetton_Formula</td></tr><tr><td>23</td><td>brawn</td><td>Brawn</td><td>British</td><td>http://en.wikipedia.org/wiki/Brawn_GP</td></tr><tr><td>24</td><td>stewart</td><td>Stewart</td><td>British</td><td>http://en.wikipedia.org/wiki/Stewart_Grand_Prix</td></tr><tr><td>25</td><td>tyrrell</td><td>Tyrrell</td><td>British</td><td>http://en.wikipedia.org/wiki/Tyrrell_Racing</td></tr><tr><td>26</td><td>lola</td><td>Lola</td><td>British</td><td>http://en.wikipedia.org/wiki/MasterCard_Lola</td></tr><tr><td>27</td><td>ligier</td><td>Ligier</td><td>French</td><td>http://en.wikipedia.org/wiki/Ligier</td></tr><tr><td>28</td><td>forti</td><td>Forti</td><td>Italian</td><td>http://en.wikipedia.org/wiki/Forti</td></tr><tr><td>29</td><td>footwork</td><td>Footwork</td><td>British</td><td>http://en.wikipedia.org/wiki/Footwork_Arrows</td></tr><tr><td>30</td><td>pacific</td><td>Pacific</td><td>British</td><td>http://en.wikipedia.org/wiki/Pacific_Racing</td></tr><tr><td>31</td><td>simtek</td><td>Simtek</td><td>British</td><td>http://en.wikipedia.org/wiki/Simtek</td></tr><tr><td>32</td><td>team_lotus</td><td>Team Lotus</td><td>British</td><td>http://en.wikipedia.org/wiki/Team_Lotus</td></tr><tr><td>33</td><td>larrousse</td><td>Larrousse</td><td>French</td><td>http://en.wikipedia.org/wiki/Larrousse</td></tr><tr><td>34</td><td>brabham</td><td>Brabham</td><td>British</td><td>http://en.wikipedia.org/wiki/Brabham</td></tr><tr><td>35</td><td>dallara</td><td>Dallara</td><td>Italian</td><td>http://en.wikipedia.org/wiki/Dallara</td></tr><tr><td>36</td><td>fondmetal</td><td>Fondmetal</td><td>Italian</td><td>http://en.wikipedia.org/wiki/Fondmetal</td></tr><tr><td>37</td><td>march</td><td>March</td><td>British</td><td>http://en.wikipedia.org/wiki/March_Engineering</td></tr><tr><td>38</td><td>moda</td><td>Andrea Moda</td><td>Italian</td><td>http://en.wikipedia.org/wiki/Andrea_Moda_Formula</td></tr><tr><td>39</td><td>ags</td><td>AGS</td><td>French</td><td>http://en.wikipedia.org/wiki/Automobiles_Gonfaronnaises_Sportives</td></tr><tr><td>40</td><td>lambo</td><td>Lambo</td><td>Italian</td><td>http://en.wikipedia.org/wiki/Modena_(racing_team)</td></tr><tr><td>41</td><td>leyton</td><td>Leyton House</td><td>British</td><td>http://en.wikipedia.org/wiki/Leyton_House</td></tr><tr><td>42</td><td>coloni</td><td>Coloni</td><td>Italian</td><td>http://en.wikipedia.org/wiki/Enzo_Coloni_Racing_Car_Systems</td></tr><tr><td>44</td><td>eurobrun</td><td>Euro Brun</td><td>Italian</td><td>http://en.wikipedia.org/wiki/Euro_Brun</td></tr><tr><td>45</td><td>osella</td><td>Osella</td><td>Italian</td><td>http://en.wikipedia.org/wiki/Osella</td></tr><tr><td>46</td><td>onyx</td><td>Onyx</td><td>British</td><td>http://en.wikipedia.org/wiki/Onyx_(racing_team)</td></tr><tr><td>47</td><td>life</td><td>Life</td><td>Italian</td><td>http://en.wikipedia.org/wiki/Life_(Racing_Team)</td></tr><tr><td>48</td><td>rial</td><td>Rial</td><td>German</td><td>http://en.wikipedia.org/wiki/Rial_%28racing_team%29</td></tr><tr><td>49</td><td>zakspeed</td><td>Zakspeed</td><td>German</td><td>http://en.wikipedia.org/wiki/Zakspeed</td></tr><tr><td>50</td><td>ram</td><td>RAM</td><td>British</td><td>http://en.wikipedia.org/wiki/RAM_Racing</td></tr><tr><td>51</td><td>alfa</td><td>Alfa Romeo</td><td>Italian</td><td>http://en.wikipedia.org/wiki/Alfa_Romeo_in_Formula_One</td></tr><tr><td>52</td><td>spirit</td><td>Spirit</td><td>British</td><td>http://en.wikipedia.org/wiki/Spirit_(racing_team)</td></tr><tr><td>53</td><td>toleman</td><td>Toleman</td><td>British</td><td>http://en.wikipedia.org/wiki/Toleman</td></tr><tr><td>54</td><td>ats</td><td>ATS</td><td>Italian</td><td>http://en.wikipedia.org/wiki/ATS_(wheels)</td></tr><tr><td>55</td><td>theodore</td><td>Theodore</td><td>Hong Kong</td><td>http://en.wikipedia.org/wiki/Theodore_Racing</td></tr><tr><td>56</td><td>fittipaldi</td><td>Fittipaldi</td><td>Brazilian</td><td>http://en.wikipedia.org/wiki/Fittipaldi_%28constructor%29</td></tr><tr><td>57</td><td>ensign</td><td>Ensign</td><td>British</td><td>http://en.wikipedia.org/wiki/Ensign_%28racing_team%29</td></tr><tr><td>58</td><td>shadow</td><td>Shadow</td><td>British</td><td>http://en.wikipedia.org/wiki/Shadow_Racing_Cars</td></tr><tr><td>59</td><td>wolf</td><td>Wolf</td><td>Canadian</td><td>http://en.wikipedia.org/wiki/Walter_Wolf_Racing</td></tr><tr><td>60</td><td>merzario</td><td>Merzario</td><td>Italian</td><td>http://en.wikipedia.org/wiki/Merzario</td></tr><tr><td>61</td><td>kauhsen</td><td>Kauhsen</td><td>German</td><td>http://en.wikipedia.org/wiki/Kauhsen</td></tr><tr><td>62</td><td>rebaque</td><td>Rebaque</td><td>Mexican</td><td>http://en.wikipedia.org/wiki/Rebaque</td></tr><tr><td>63</td><td>surtees</td><td>Surtees</td><td>British</td><td>http://en.wikipedia.org/wiki/Surtees</td></tr><tr><td>64</td><td>hesketh</td><td>Hesketh</td><td>British</td><td>http://en.wikipedia.org/wiki/Hesketh_Racing</td></tr><tr><td>65</td><td>martini</td><td>Martini</td><td>French</td><td>http://en.wikipedia.org/wiki/Martini_(cars)</td></tr><tr><td>66</td><td>brm</td><td>BRM</td><td>British</td><td>http://en.wikipedia.org/wiki/BRM</td></tr><tr><td>67</td><td>penske</td><td>Penske</td><td>American</td><td>http://en.wikipedia.org/wiki/Penske_Racing</td></tr><tr><td>68</td><td>lec</td><td>LEC</td><td>British</td><td>http://en.wikipedia.org/wiki/LEC_(Formula_One)</td></tr><tr><td>69</td><td>mcguire</td><td>McGuire</td><td>Australian</td><td>http://en.wikipedia.org/wiki/McGuire_(Formula_One)</td></tr><tr><td>70</td><td>boro</td><td>Boro</td><td>Dutch</td><td>http://en.wikipedia.org/wiki/Boro_(Formula_One)</td></tr><tr><td>71</td><td>apollon</td><td>Apollon</td><td>Swiss</td><td>http://en.wikipedia.org/wiki/Apollon_(Formula_One)</td></tr><tr><td>72</td><td>kojima</td><td>Kojima</td><td>Japanese</td><td>http://en.wikipedia.org/wiki/Kojima_Engineering</td></tr><tr><td>73</td><td>parnelli</td><td>Parnelli</td><td>American</td><td>http://en.wikipedia.org/wiki/Parnelli</td></tr><tr><td>74</td><td>maki</td><td>Maki</td><td>Japanese</td><td>http://en.wikipedia.org/wiki/Maki_(cars)</td></tr><tr><td>75</td><td>hill</td><td>Embassy Hill</td><td>British</td><td>http://en.wikipedia.org/wiki/Hill_(constructor)</td></tr><tr><td>76</td><td>lyncar</td><td>Lyncar</td><td>British</td><td>http://en.wikipedia.org/wiki/Lyncar</td></tr><tr><td>77</td><td>trojan</td><td>Trojan</td><td>British</td><td>http://en.wikipedia.org/wiki/Trojan_(Racing_team)</td></tr><tr><td>78</td><td>amon</td><td>Amon</td><td>New Zealand</td><td>http://en.wikipedia.org/wiki/Amon_(Formula_One_team)</td></tr><tr><td>79</td><td>token</td><td>Token</td><td>British</td><td>http://en.wikipedia.org/wiki/Token_(Racing_team)</td></tr><tr><td>80</td><td>iso_marlboro</td><td>Iso Marlboro</td><td>British</td><td>http://en.wikipedia.org/wiki/Iso_Marlboro</td></tr><tr><td>81</td><td>tecno</td><td>Tecno</td><td>Italian</td><td>http://en.wikipedia.org/wiki/Tecno</td></tr><tr><td>82</td><td>matra</td><td>Matra</td><td>French</td><td>http://en.wikipedia.org/wiki/Matra</td></tr><tr><td>83</td><td>politoys</td><td>Politoys</td><td>British</td><td>http://en.wikipedia.org/wiki/Frank_Williams_Racing_Cars</td></tr><tr><td>84</td><td>connew</td><td>Connew</td><td>British</td><td>http://en.wikipedia.org/wiki/Connew</td></tr><tr><td>85</td><td>bellasi</td><td>Bellasi</td><td>Swiss</td><td>http://en.wikipedia.org/wiki/Bellasi</td></tr><tr><td>86</td><td>tomaso</td><td>De Tomaso</td><td>Italian</td><td>http://en.wikipedia.org/wiki/De_Tomaso</td></tr><tr><td>87</td><td>cooper</td><td>Cooper</td><td>British</td><td>http://en.wikipedia.org/wiki/Cooper_Car_Company</td></tr><tr><td>88</td><td>eagle</td><td>Eagle</td><td>American</td><td>http://en.wikipedia.org/wiki/Anglo_American_Racers</td></tr><tr><td>89</td><td>lds</td><td>LDS</td><td>South African</td><td>http://en.wikipedia.org/wiki/LDS_(automobile)</td></tr><tr><td>90</td><td>protos</td><td>Protos</td><td>British</td><td>http://en.wikipedia.org/wiki/Protos_(constructor)</td></tr><tr><td>91</td><td>shannon</td><td>Shannon</td><td>British</td><td>http://en.wikipedia.org/wiki/Shannon_(Formula_One)</td></tr><tr><td>92</td><td>scirocco</td><td>Scirocco</td><td>British</td><td>http://en.wikipedia.org/wiki/Scirocco-Powell</td></tr><tr><td>93</td><td>re</td><td>RE</td><td>Rhodesian</td><td>http://en.wikipedia.org/wiki/RE_%28automobile%29</td></tr><tr><td>94</td><td>brp</td><td>BRP</td><td>British</td><td>http://en.wikipedia.org/wiki/British_Racing_Partnership</td></tr><tr><td>95</td><td>porsche</td><td>Porsche</td><td>German</td><td>http://en.wikipedia.org/wiki/Porsche_in_Formula_One</td></tr><tr><td>96</td><td>derrington</td><td>Derrington</td><td>British</td><td>http://en.wikipedia.org/wiki/Derrington-Francis</td></tr><tr><td>97</td><td>gilby</td><td>Gilby</td><td>British</td><td>http://en.wikipedia.org/wiki/Gilby</td></tr><tr><td>98</td><td>stebro</td><td>Stebro</td><td>Canadian</td><td>http://en.wikipedia.org/wiki/Stebro</td></tr><tr><td>99</td><td>emeryson</td><td>Emeryson</td><td>British</td><td>http://en.wikipedia.org/wiki/Emeryson</td></tr><tr><td>100</td><td>enb</td><td>ENB</td><td>Belgium</td><td>http://en.wikipedia.org/wiki/Ecurie_Nationale_Belge</td></tr><tr><td>101</td><td>jbw</td><td>JBW</td><td>British</td><td>http://en.wikipedia.org/wiki/JBW</td></tr><tr><td>102</td><td>ferguson</td><td>Ferguson</td><td>British</td><td>http://en.wikipedia.org/wiki/Ferguson_Research_Ltd.</td></tr><tr><td>103</td><td>mbm</td><td>MBM</td><td>Swiss</td><td>http://en.wikipedia.org/wiki/Monteverdi_Basel_Motors</td></tr><tr><td>104</td><td>behra-porsche</td><td>Behra-Porsche</td><td>Italian</td><td>http://en.wikipedia.org/wiki/Behra-Porsche</td></tr><tr><td>105</td><td>maserati</td><td>Maserati</td><td>Italian</td><td>http://en.wikipedia.org/wiki/Maserati</td></tr><tr><td>106</td><td>scarab</td><td>Scarab</td><td>American</td><td>http://en.wikipedia.org/wiki/Scarab_(constructor)</td></tr><tr><td>107</td><td>watson</td><td>Watson</td><td>American</td><td>http://en.wikipedia.org/wiki/A.J._Watson</td></tr><tr><td>108</td><td>epperly</td><td>Epperly</td><td>American</td><td>http://en.wikipedia.org/wiki/Epperly</td></tr><tr><td>109</td><td>phillips</td><td>Phillips</td><td>American</td><td>http://en.wikipedia.org/wiki/Phillips_(constructor)</td></tr><tr><td>110</td><td>lesovsky</td><td>Lesovsky</td><td>American</td><td>http://en.wikipedia.org/wiki/Lesovsky</td></tr><tr><td>111</td><td>trevis</td><td>Trevis</td><td>American</td><td>http://en.wikipedia.org/wiki/Trevis</td></tr><tr><td>112</td><td>meskowski</td><td>Meskowski</td><td>American</td><td>http://en.wikipedia.org/wiki/Meskowski</td></tr><tr><td>113</td><td>kurtis_kraft</td><td>Kurtis Kraft</td><td>American</td><td>http://en.wikipedia.org/wiki/Kurtis_Kraft</td></tr><tr><td>114</td><td>kuzma</td><td>Kuzma</td><td>American</td><td>http://en.wikipedia.org/wiki/Kuzma_(constructor)</td></tr><tr><td>115</td><td>vhristensen</td><td>Christensen</td><td>American</td><td>http://en.wikipedia.org/wiki/Christensen_(constructor)</td></tr><tr><td>116</td><td>ewing</td><td>Ewing</td><td>American</td><td>http://en.wikipedia.org/wiki/Ewing_(constructor)</td></tr><tr><td>117</td><td>aston_martin</td><td>Aston Martin</td><td>British</td><td>http://en.wikipedia.org/wiki/Aston_Martin_in_Formula_One</td></tr><tr><td>118</td><td>vanwall</td><td>Vanwall</td><td>British</td><td>http://en.wikipedia.org/wiki/Vanwall</td></tr><tr><td>119</td><td>moore</td><td>Moore</td><td>American</td><td>http://en.wikipedia.org/wiki/Moore_(constructor)</td></tr><tr><td>120</td><td>dunn</td><td>Dunn</td><td>American</td><td>http://en.wikipedia.org/wiki/Dunn_Engineering</td></tr><tr><td>121</td><td>elder</td><td>Elder</td><td>American</td><td>http://en.wikipedia.org/wiki/Elder_(constructor)</td></tr><tr><td>122</td><td>sutton</td><td>Sutton</td><td>American</td><td>http://en.wikipedia.org/wiki/Sutton_(constructor)</td></tr><tr><td>123</td><td>fry</td><td>Fry</td><td>British</td><td>http://en.wikipedia.org/wiki/Fry_(racing_team)</td></tr><tr><td>124</td><td>tec-mec</td><td>Tec-Mec</td><td>Italian</td><td>http://en.wikipedia.org/wiki/Tec-Mec</td></tr><tr><td>125</td><td>connaught</td><td>Connaught</td><td>British</td><td>http://en.wikipedia.org/wiki/Connaught_Engineering</td></tr><tr><td>126</td><td>alta</td><td>Alta</td><td>British</td><td>http://en.wikipedia.org/wiki/Alta_auto_racing_team</td></tr><tr><td>127</td><td>osca</td><td>OSCA</td><td>Italian</td><td>http://en.wikipedia.org/wiki/Officine_Specializate_Costruzione_Automobili</td></tr><tr><td>128</td><td>gordini</td><td>Gordini</td><td>French</td><td>http://en.wikipedia.org/wiki/Gordini</td></tr><tr><td>129</td><td>stevens</td><td>Stevens</td><td>American</td><td>http://en.wikipedia.org/wiki/Stevens_(constructor)</td></tr><tr><td>130</td><td>bugatti</td><td>Bugatti</td><td>French</td><td>http://en.wikipedia.org/wiki/Bugatti</td></tr><tr><td>131</td><td>mercedes</td><td>Mercedes</td><td>German</td><td>http://en.wikipedia.org/wiki/Mercedes-Benz_in_Formula_One</td></tr><tr><td>132</td><td>lancia</td><td>Lancia</td><td>Italian</td><td>http://en.wikipedia.org/wiki/Lancia_in_Formula_One</td></tr><tr><td>133</td><td>hwm</td><td>HWM</td><td>British</td><td>http://en.wikipedia.org/wiki/Hersham_and_Walton_Motors</td></tr><tr><td>134</td><td>schroeder</td><td>Schroeder</td><td>American</td><td>http://en.wikipedia.org/wiki/Schroeder_(constructor)</td></tr><tr><td>135</td><td>pawl</td><td>Pawl</td><td>American</td><td>http://en.wikipedia.org/wiki/Pawl_(constructor)</td></tr><tr><td>136</td><td>pankratz</td><td>Pankratz</td><td>American</td><td>http://en.wikipedia.org/wiki/Pankratz</td></tr><tr><td>137</td><td>arzani-volpini</td><td>Arzani-Volpini</td><td>Italian</td><td>http://en.wikipedia.org/wiki/Arzani-Volpini</td></tr><tr><td>138</td><td>nichels</td><td>Nichels</td><td>American</td><td>http://en.wikipedia.org/wiki/Nichels</td></tr><tr><td>139</td><td>bromme</td><td>Bromme</td><td>American</td><td>http://en.wikipedia.org/wiki/Bromme</td></tr><tr><td>140</td><td>klenk</td><td>Klenk</td><td>German</td><td>http://en.wikipedia.org/wiki/Klenk</td></tr><tr><td>141</td><td>simca</td><td>Simca</td><td>French</td><td>http://en.wikipedia.org/wiki/Simca</td></tr><tr><td>142</td><td>turner</td><td>Turner</td><td>American</td><td>http://en.wikipedia.org/wiki/Turner_(constructor)</td></tr><tr><td>143</td><td>del_roy</td><td>Del Roy</td><td>American</td><td>http://en.wikipedia.org/wiki/Del_Roy</td></tr><tr><td>144</td><td>veritas</td><td>Veritas</td><td>German</td><td>http://en.wikipedia.org/wiki/Veritas_(constructor)</td></tr><tr><td>145</td><td>bmw</td><td>BMW</td><td>German</td><td>http://en.wikipedia.org/wiki/BMW</td></tr><tr><td>146</td><td>emw</td><td>EMW</td><td>East German</td><td>http://en.wikipedia.org/wiki/Eisenacher_Motorenwerk</td></tr><tr><td>147</td><td>afm</td><td>AFM</td><td>German</td><td>http://en.wikipedia.org/wiki/Alex_von_Falkenhausen_Motorenbau</td></tr><tr><td>148</td><td>frazer_nash</td><td>Frazer Nash</td><td>British</td><td>http://en.wikipedia.org/wiki/Frazer_Nash</td></tr><tr><td>149</td><td>sherman</td><td>Sherman</td><td>American</td><td>http://en.wikipedia.org/wiki/Sherman_(constructor)</td></tr><tr><td>150</td><td>deidt</td><td>Deidt</td><td>American</td><td>http://en.wikipedia.org/wiki/Deidt</td></tr><tr><td>151</td><td>era</td><td>ERA</td><td>British</td><td>http://en.wikipedia.org/wiki/English_Racing_Automobiles</td></tr><tr><td>152</td><td>butterworth</td><td>Aston Butterworth</td><td>British</td><td>http://en.wikipedia.org/wiki/Aston_Butterworth</td></tr><tr><td>153</td><td>cisitalia</td><td>Cisitalia</td><td>Italian</td><td>http://en.wikipedia.org/wiki/Cisitalia</td></tr><tr><td>154</td><td>lago</td><td>Talbot-Lago</td><td>French</td><td>http://en.wikipedia.org/wiki/Talbot-Lago</td></tr><tr><td>155</td><td>hall</td><td>Hall</td><td>American</td><td>http://en.wikipedia.org/wiki/Hall_(constructor)</td></tr><tr><td>156</td><td>marchese</td><td>Marchese</td><td>American</td><td>http://en.wikipedia.org/wiki/Marchese_(constructor)</td></tr><tr><td>157</td><td>langley</td><td>Langley</td><td>American</td><td>http://en.wikipedia.org/wiki/Langley_(constructor)</td></tr><tr><td>158</td><td>rae</td><td>Rae</td><td>American</td><td>http://en.wikipedia.org/wiki/Rae_(motorsport)</td></tr><tr><td>159</td><td>olson</td><td>Olson</td><td>American</td><td>http://en.wikipedia.org/wiki/Olson_(constructor)</td></tr><tr><td>160</td><td>wetteroth</td><td>Wetteroth</td><td>American</td><td>http://en.wikipedia.org/wiki/Wetteroth</td></tr><tr><td>161</td><td>adams</td><td>Adams</td><td>American</td><td>http://en.wikipedia.org/wiki/Adams_(constructor)</td></tr><tr><td>162</td><td>snowberger</td><td>Snowberger</td><td>American</td><td>http://en.wikipedia.org/wiki/Snowberger</td></tr><tr><td>163</td><td>milano</td><td>Milano</td><td>Italian</td><td>http://en.wikipedia.org/wiki/Scuderia_Milano</td></tr><tr><td>164</td><td>hrt</td><td>HRT</td><td>Spanish</td><td>http://en.wikipedia.org/wiki/Hispania_Racing</td></tr><tr><td>167</td><td>cooper-maserati</td><td>Cooper-Maserati</td><td>British</td><td>http://en.wikipedia.org/wiki/Cooper_Car_Company</td></tr><tr><td>166</td><td>virgin</td><td>Virgin</td><td>British</td><td>http://en.wikipedia.org/wiki/Virgin_Racing</td></tr><tr><td>168</td><td>cooper-osca</td><td>Cooper-OSCA</td><td>British</td><td>http://en.wikipedia.org/wiki/Cooper_Car_Company</td></tr><tr><td>169</td><td>cooper-borgward</td><td>Cooper-Borgward</td><td>British</td><td>http://en.wikipedia.org/wiki/Cooper_Car_Company</td></tr><tr><td>170</td><td>cooper-climax</td><td>Cooper-Climax</td><td>British</td><td>http://en.wikipedia.org/wiki/Cooper_Car_Company</td></tr><tr><td>171</td><td>cooper-castellotti</td><td>Cooper-Castellotti</td><td>British</td><td>http://en.wikipedia.org/wiki/Cooper_Car_Company</td></tr><tr><td>172</td><td>lotus-climax</td><td>Lotus-Climax</td><td>British</td><td>http://en.wikipedia.org/wiki/Team_Lotus</td></tr><tr><td>173</td><td>lotus-maserati</td><td>Lotus-Maserati</td><td>British</td><td>http://en.wikipedia.org/wiki/Team_Lotus</td></tr><tr><td>174</td><td>de_tomaso-osca</td><td>De Tomaso-Osca</td><td>Italian</td><td>http://en.wikipedia.org/wiki/De_Tomaso</td></tr><tr><td>175</td><td>de_tomaso-alfa_romeo</td><td>De Tomaso-Alfa Romeo</td><td>Italian</td><td>http://en.wikipedia.org/wiki/De_Tomaso</td></tr><tr><td>176</td><td>lotus-brm</td><td>Lotus-BRM</td><td>British</td><td>http://en.wikipedia.org/wiki/Team_Lotus</td></tr><tr><td>177</td><td>lotus-borgward</td><td>Lotus-Borgward</td><td>British</td><td>http://en.wikipedia.org/wiki/Team_Lotus</td></tr><tr><td>178</td><td>cooper-alfa_romeo</td><td>Cooper-Alfa Romeo</td><td>British</td><td>http://en.wikipedia.org/wiki/Cooper_Car_Company</td></tr><tr><td>179</td><td>de_tomaso-ferrari</td><td>De Tomaso-Ferrari</td><td>Italian</td><td>http://en.wikipedia.org/wiki/De_Tomaso</td></tr><tr><td>180</td><td>lotus-ford</td><td>Lotus-Ford</td><td>British</td><td>http://en.wikipedia.org/wiki/Team_Lotus</td></tr><tr><td>181</td><td>brabham-brm</td><td>Brabham-BRM</td><td>British</td><td>http://en.wikipedia.org/wiki/Brabham</td></tr><tr><td>182</td><td>brabham-ford</td><td>Brabham-Ford</td><td>British</td><td>http://en.wikipedia.org/wiki/Brabham</td></tr><tr><td>183</td><td>brabham-climax</td><td>Brabham-Climax</td><td>British</td><td>http://en.wikipedia.org/wiki/Brabham</td></tr><tr><td>184</td><td>lds-climax</td><td>LDS-Climax</td><td>South African</td><td>http://en.wikipedia.org/wiki/LDS_(automobile)</td></tr><tr><td>185</td><td>lds-alfa_romeo</td><td>LDS-Alfa Romeo</td><td>South African</td><td>http://en.wikipedia.org/wiki/LDS_(automobile)</td></tr><tr><td>186</td><td>cooper-ford</td><td>Cooper-Ford</td><td>British</td><td>http://en.wikipedia.org/wiki/Cooper_Car_Company</td></tr><tr><td>187</td><td>mclaren-ford</td><td>McLaren-Ford</td><td>British</td><td>http://en.wikipedia.org/wiki/Team_McLaren</td></tr><tr><td>188</td><td>mclaren-seren</td><td>McLaren-Serenissima</td><td>British</td><td>http://en.wikipedia.org/wiki/Team_McLaren</td></tr><tr><td>189</td><td>eagle-climax</td><td>Eagle-Climax</td><td>American</td><td>http://en.wikipedia.org/wiki/Anglo_American_Racers</td></tr><tr><td>190</td><td>eagle-weslake</td><td>Eagle-Weslake</td><td>American</td><td>http://en.wikipedia.org/wiki/Anglo_American_Racers</td></tr><tr><td>191</td><td>brabham-repco</td><td>Brabham-Repco</td><td>British</td><td>http://en.wikipedia.org/wiki/Brabham</td></tr><tr><td>192</td><td>cooper-ferrari</td><td>Cooper-Ferrari</td><td>British</td><td>http://en.wikipedia.org/wiki/Cooper_Car_Company</td></tr><tr><td>193</td><td>cooper-ats</td><td>Cooper-ATS</td><td>British</td><td>http://en.wikipedia.org/wiki/Cooper_Car_Company</td></tr><tr><td>194</td><td>mclaren-brm</td><td>McLaren-BRM</td><td>British</td><td>http://en.wikipedia.org/wiki/McLaren_(racing)</td></tr><tr><td>195</td><td>cooper-brm</td><td>Cooper-BRM</td><td>British</td><td>http://en.wikipedia.org/wiki/Cooper_Car_Company</td></tr><tr><td>196</td><td>matra-ford</td><td>Matra-Ford</td><td>French</td><td>http://en.wikipedia.org/wiki/Matra</td></tr><tr><td>197</td><td>brm-ford</td><td>BRM-Ford</td><td>British</td><td>http://en.wikipedia.org/wiki/BRM</td></tr><tr><td>198</td><td>mclaren-alfa_romeo</td><td>McLaren-Alfa Romeo</td><td>British</td><td>http://en.wikipedia.org/wiki/McLaren_(racing)</td></tr><tr><td>199</td><td>march-alfa_romeo</td><td>March-Alfa Romeo</td><td>British</td><td>http://en.wikipedia.org/wiki/March_Engineering</td></tr><tr><td>200</td><td>march-ford</td><td>March-Ford</td><td>British</td><td>http://en.wikipedia.org/wiki/March_Engineering</td></tr><tr><td>201</td><td>lotus-pw</td><td>Lotus-Pratt &amp; Whitney</td><td>British</td><td>http://en.wikipedia.org/wiki/Team_Lotus</td></tr><tr><td>202</td><td>shadow-ford</td><td>Shadow-Ford</td><td>British</td><td>http://en.wikipedia.org/wiki/Shadow_Racing_Cars</td></tr><tr><td>203</td><td>shadow-matra</td><td>Shadow-Matra</td><td>British</td><td>http://en.wikipedia.org/wiki/Shadow_Racing_Cars</td></tr><tr><td>204</td><td>brabham-alfa_romeo</td><td>Brabham-Alfa Romeo</td><td>British</td><td>http://en.wikipedia.org/wiki/Brabham</td></tr><tr><td>205</td><td>lotus_racing</td><td>Lotus</td><td>Malaysian</td><td>http://en.wikipedia.org/wiki/Lotus_Racing</td></tr><tr><td>206</td><td>marussia</td><td>Marussia</td><td>Russian</td><td>http://en.wikipedia.org/wiki/Marussia_F1</td></tr><tr><td>207</td><td>caterham</td><td>Caterham</td><td>Malaysian</td><td>http://en.wikipedia.org/wiki/Caterham_F1</td></tr><tr><td>208</td><td>lotus_f1</td><td>Lotus F1</td><td>British</td><td>http://en.wikipedia.org/wiki/Lotus_F1</td></tr><tr><td>209</td><td>manor</td><td>Manor Marussia</td><td>British</td><td>http://en.wikipedia.org/wiki/Manor_Motorsport</td></tr><tr><td>210</td><td>haas</td><td>Haas F1 Team</td><td>American</td><td>http://en.wikipedia.org/wiki/Haas_F1_Team</td></tr><tr><td>211</td><td>racing_point</td><td>Racing Point</td><td>British</td><td>http://en.wikipedia.org/wiki/Racing_Point_F1_Team</td></tr><tr><td>213</td><td>alphatauri</td><td>AlphaTauri</td><td>Italian</td><td>http://en.wikipedia.org/wiki/Scuderia_AlphaTauri</td></tr><tr><td>214</td><td>alpine</td><td>Alpine F1 Team</td><td>French</td><td>http://en.wikipedia.org/wiki/Alpine_F1_Team</td></tr></tbody></table></div>"
      ]
     },
     "metadata": {
      "application/vnd.databricks.v1+output": {
       "addedWidgets": {},
       "aggData": [],
       "aggError": "",
       "aggOverflow": false,
       "aggSchema": [],
       "aggSeriesLimitReached": false,
       "aggType": "",
       "arguments": {},
       "columnCustomDisplayInfos": {},
       "data": [
        [
         1,
         "mclaren",
         "McLaren",
         "British",
         "http://en.wikipedia.org/wiki/McLaren"
        ],
        [
         2,
         "bmw_sauber",
         "BMW Sauber",
         "German",
         "http://en.wikipedia.org/wiki/BMW_Sauber"
        ],
        [
         3,
         "williams",
         "Williams",
         "British",
         "http://en.wikipedia.org/wiki/Williams_Grand_Prix_Engineering"
        ],
        [
         4,
         "renault",
         "Renault",
         "French",
         "http://en.wikipedia.org/wiki/Renault_in_Formula_One"
        ],
        [
         5,
         "toro_rosso",
         "Toro Rosso",
         "Italian",
         "http://en.wikipedia.org/wiki/Scuderia_Toro_Rosso"
        ],
        [
         6,
         "ferrari",
         "Ferrari",
         "Italian",
         "http://en.wikipedia.org/wiki/Scuderia_Ferrari"
        ],
        [
         7,
         "toyota",
         "Toyota",
         "Japanese",
         "http://en.wikipedia.org/wiki/Toyota_Racing"
        ],
        [
         8,
         "super_aguri",
         "Super Aguri",
         "Japanese",
         "http://en.wikipedia.org/wiki/Super_Aguri_F1"
        ],
        [
         9,
         "red_bull",
         "Red Bull",
         "Austrian",
         "http://en.wikipedia.org/wiki/Red_Bull_Racing"
        ],
        [
         10,
         "force_india",
         "Force India",
         "Indian",
         "http://en.wikipedia.org/wiki/Racing_Point_Force_India"
        ],
        [
         11,
         "honda",
         "Honda",
         "Japanese",
         "http://en.wikipedia.org/wiki/Honda_Racing_F1"
        ],
        [
         12,
         "spyker",
         "Spyker",
         "Dutch",
         "http://en.wikipedia.org/wiki/Spyker_F1"
        ],
        [
         13,
         "mf1",
         "MF1",
         "Russian",
         "http://en.wikipedia.org/wiki/Midland_F1_Racing"
        ],
        [
         14,
         "spyker_mf1",
         "Spyker MF1",
         "Dutch",
         "http://en.wikipedia.org/wiki/Midland_F1_Racing"
        ],
        [
         15,
         "sauber",
         "Sauber",
         "Swiss",
         "http://en.wikipedia.org/wiki/Sauber"
        ],
        [
         16,
         "bar",
         "BAR",
         "British",
         "http://en.wikipedia.org/wiki/British_American_Racing"
        ],
        [
         17,
         "jordan",
         "Jordan",
         "Irish",
         "http://en.wikipedia.org/wiki/Jordan_Grand_Prix"
        ],
        [
         18,
         "minardi",
         "Minardi",
         "Italian",
         "http://en.wikipedia.org/wiki/Minardi"
        ],
        [
         19,
         "jaguar",
         "Jaguar",
         "British",
         "http://en.wikipedia.org/wiki/Jaguar_Racing"
        ],
        [
         20,
         "prost",
         "Prost",
         "French",
         "http://en.wikipedia.org/wiki/Prost_Grand_Prix"
        ],
        [
         21,
         "arrows",
         "Arrows",
         "British",
         "http://en.wikipedia.org/wiki/Arrows_Grand_Prix_International"
        ],
        [
         22,
         "benetton",
         "Benetton",
         "Italian",
         "http://en.wikipedia.org/wiki/Benetton_Formula"
        ],
        [
         23,
         "brawn",
         "Brawn",
         "British",
         "http://en.wikipedia.org/wiki/Brawn_GP"
        ],
        [
         24,
         "stewart",
         "Stewart",
         "British",
         "http://en.wikipedia.org/wiki/Stewart_Grand_Prix"
        ],
        [
         25,
         "tyrrell",
         "Tyrrell",
         "British",
         "http://en.wikipedia.org/wiki/Tyrrell_Racing"
        ],
        [
         26,
         "lola",
         "Lola",
         "British",
         "http://en.wikipedia.org/wiki/MasterCard_Lola"
        ],
        [
         27,
         "ligier",
         "Ligier",
         "French",
         "http://en.wikipedia.org/wiki/Ligier"
        ],
        [
         28,
         "forti",
         "Forti",
         "Italian",
         "http://en.wikipedia.org/wiki/Forti"
        ],
        [
         29,
         "footwork",
         "Footwork",
         "British",
         "http://en.wikipedia.org/wiki/Footwork_Arrows"
        ],
        [
         30,
         "pacific",
         "Pacific",
         "British",
         "http://en.wikipedia.org/wiki/Pacific_Racing"
        ],
        [
         31,
         "simtek",
         "Simtek",
         "British",
         "http://en.wikipedia.org/wiki/Simtek"
        ],
        [
         32,
         "team_lotus",
         "Team Lotus",
         "British",
         "http://en.wikipedia.org/wiki/Team_Lotus"
        ],
        [
         33,
         "larrousse",
         "Larrousse",
         "French",
         "http://en.wikipedia.org/wiki/Larrousse"
        ],
        [
         34,
         "brabham",
         "Brabham",
         "British",
         "http://en.wikipedia.org/wiki/Brabham"
        ],
        [
         35,
         "dallara",
         "Dallara",
         "Italian",
         "http://en.wikipedia.org/wiki/Dallara"
        ],
        [
         36,
         "fondmetal",
         "Fondmetal",
         "Italian",
         "http://en.wikipedia.org/wiki/Fondmetal"
        ],
        [
         37,
         "march",
         "March",
         "British",
         "http://en.wikipedia.org/wiki/March_Engineering"
        ],
        [
         38,
         "moda",
         "Andrea Moda",
         "Italian",
         "http://en.wikipedia.org/wiki/Andrea_Moda_Formula"
        ],
        [
         39,
         "ags",
         "AGS",
         "French",
         "http://en.wikipedia.org/wiki/Automobiles_Gonfaronnaises_Sportives"
        ],
        [
         40,
         "lambo",
         "Lambo",
         "Italian",
         "http://en.wikipedia.org/wiki/Modena_(racing_team)"
        ],
        [
         41,
         "leyton",
         "Leyton House",
         "British",
         "http://en.wikipedia.org/wiki/Leyton_House"
        ],
        [
         42,
         "coloni",
         "Coloni",
         "Italian",
         "http://en.wikipedia.org/wiki/Enzo_Coloni_Racing_Car_Systems"
        ],
        [
         44,
         "eurobrun",
         "Euro Brun",
         "Italian",
         "http://en.wikipedia.org/wiki/Euro_Brun"
        ],
        [
         45,
         "osella",
         "Osella",
         "Italian",
         "http://en.wikipedia.org/wiki/Osella"
        ],
        [
         46,
         "onyx",
         "Onyx",
         "British",
         "http://en.wikipedia.org/wiki/Onyx_(racing_team)"
        ],
        [
         47,
         "life",
         "Life",
         "Italian",
         "http://en.wikipedia.org/wiki/Life_(Racing_Team)"
        ],
        [
         48,
         "rial",
         "Rial",
         "German",
         "http://en.wikipedia.org/wiki/Rial_%28racing_team%29"
        ],
        [
         49,
         "zakspeed",
         "Zakspeed",
         "German",
         "http://en.wikipedia.org/wiki/Zakspeed"
        ],
        [
         50,
         "ram",
         "RAM",
         "British",
         "http://en.wikipedia.org/wiki/RAM_Racing"
        ],
        [
         51,
         "alfa",
         "Alfa Romeo",
         "Italian",
         "http://en.wikipedia.org/wiki/Alfa_Romeo_in_Formula_One"
        ],
        [
         52,
         "spirit",
         "Spirit",
         "British",
         "http://en.wikipedia.org/wiki/Spirit_(racing_team)"
        ],
        [
         53,
         "toleman",
         "Toleman",
         "British",
         "http://en.wikipedia.org/wiki/Toleman"
        ],
        [
         54,
         "ats",
         "ATS",
         "Italian",
         "http://en.wikipedia.org/wiki/ATS_(wheels)"
        ],
        [
         55,
         "theodore",
         "Theodore",
         "Hong Kong",
         "http://en.wikipedia.org/wiki/Theodore_Racing"
        ],
        [
         56,
         "fittipaldi",
         "Fittipaldi",
         "Brazilian",
         "http://en.wikipedia.org/wiki/Fittipaldi_%28constructor%29"
        ],
        [
         57,
         "ensign",
         "Ensign",
         "British",
         "http://en.wikipedia.org/wiki/Ensign_%28racing_team%29"
        ],
        [
         58,
         "shadow",
         "Shadow",
         "British",
         "http://en.wikipedia.org/wiki/Shadow_Racing_Cars"
        ],
        [
         59,
         "wolf",
         "Wolf",
         "Canadian",
         "http://en.wikipedia.org/wiki/Walter_Wolf_Racing"
        ],
        [
         60,
         "merzario",
         "Merzario",
         "Italian",
         "http://en.wikipedia.org/wiki/Merzario"
        ],
        [
         61,
         "kauhsen",
         "Kauhsen",
         "German",
         "http://en.wikipedia.org/wiki/Kauhsen"
        ],
        [
         62,
         "rebaque",
         "Rebaque",
         "Mexican",
         "http://en.wikipedia.org/wiki/Rebaque"
        ],
        [
         63,
         "surtees",
         "Surtees",
         "British",
         "http://en.wikipedia.org/wiki/Surtees"
        ],
        [
         64,
         "hesketh",
         "Hesketh",
         "British",
         "http://en.wikipedia.org/wiki/Hesketh_Racing"
        ],
        [
         65,
         "martini",
         "Martini",
         "French",
         "http://en.wikipedia.org/wiki/Martini_(cars)"
        ],
        [
         66,
         "brm",
         "BRM",
         "British",
         "http://en.wikipedia.org/wiki/BRM"
        ],
        [
         67,
         "penske",
         "Penske",
         "American",
         "http://en.wikipedia.org/wiki/Penske_Racing"
        ],
        [
         68,
         "lec",
         "LEC",
         "British",
         "http://en.wikipedia.org/wiki/LEC_(Formula_One)"
        ],
        [
         69,
         "mcguire",
         "McGuire",
         "Australian",
         "http://en.wikipedia.org/wiki/McGuire_(Formula_One)"
        ],
        [
         70,
         "boro",
         "Boro",
         "Dutch",
         "http://en.wikipedia.org/wiki/Boro_(Formula_One)"
        ],
        [
         71,
         "apollon",
         "Apollon",
         "Swiss",
         "http://en.wikipedia.org/wiki/Apollon_(Formula_One)"
        ],
        [
         72,
         "kojima",
         "Kojima",
         "Japanese",
         "http://en.wikipedia.org/wiki/Kojima_Engineering"
        ],
        [
         73,
         "parnelli",
         "Parnelli",
         "American",
         "http://en.wikipedia.org/wiki/Parnelli"
        ],
        [
         74,
         "maki",
         "Maki",
         "Japanese",
         "http://en.wikipedia.org/wiki/Maki_(cars)"
        ],
        [
         75,
         "hill",
         "Embassy Hill",
         "British",
         "http://en.wikipedia.org/wiki/Hill_(constructor)"
        ],
        [
         76,
         "lyncar",
         "Lyncar",
         "British",
         "http://en.wikipedia.org/wiki/Lyncar"
        ],
        [
         77,
         "trojan",
         "Trojan",
         "British",
         "http://en.wikipedia.org/wiki/Trojan_(Racing_team)"
        ],
        [
         78,
         "amon",
         "Amon",
         "New Zealand",
         "http://en.wikipedia.org/wiki/Amon_(Formula_One_team)"
        ],
        [
         79,
         "token",
         "Token",
         "British",
         "http://en.wikipedia.org/wiki/Token_(Racing_team)"
        ],
        [
         80,
         "iso_marlboro",
         "Iso Marlboro",
         "British",
         "http://en.wikipedia.org/wiki/Iso_Marlboro"
        ],
        [
         81,
         "tecno",
         "Tecno",
         "Italian",
         "http://en.wikipedia.org/wiki/Tecno"
        ],
        [
         82,
         "matra",
         "Matra",
         "French",
         "http://en.wikipedia.org/wiki/Matra"
        ],
        [
         83,
         "politoys",
         "Politoys",
         "British",
         "http://en.wikipedia.org/wiki/Frank_Williams_Racing_Cars"
        ],
        [
         84,
         "connew",
         "Connew",
         "British",
         "http://en.wikipedia.org/wiki/Connew"
        ],
        [
         85,
         "bellasi",
         "Bellasi",
         "Swiss",
         "http://en.wikipedia.org/wiki/Bellasi"
        ],
        [
         86,
         "tomaso",
         "De Tomaso",
         "Italian",
         "http://en.wikipedia.org/wiki/De_Tomaso"
        ],
        [
         87,
         "cooper",
         "Cooper",
         "British",
         "http://en.wikipedia.org/wiki/Cooper_Car_Company"
        ],
        [
         88,
         "eagle",
         "Eagle",
         "American",
         "http://en.wikipedia.org/wiki/Anglo_American_Racers"
        ],
        [
         89,
         "lds",
         "LDS",
         "South African",
         "http://en.wikipedia.org/wiki/LDS_(automobile)"
        ],
        [
         90,
         "protos",
         "Protos",
         "British",
         "http://en.wikipedia.org/wiki/Protos_(constructor)"
        ],
        [
         91,
         "shannon",
         "Shannon",
         "British",
         "http://en.wikipedia.org/wiki/Shannon_(Formula_One)"
        ],
        [
         92,
         "scirocco",
         "Scirocco",
         "British",
         "http://en.wikipedia.org/wiki/Scirocco-Powell"
        ],
        [
         93,
         "re",
         "RE",
         "Rhodesian",
         "http://en.wikipedia.org/wiki/RE_%28automobile%29"
        ],
        [
         94,
         "brp",
         "BRP",
         "British",
         "http://en.wikipedia.org/wiki/British_Racing_Partnership"
        ],
        [
         95,
         "porsche",
         "Porsche",
         "German",
         "http://en.wikipedia.org/wiki/Porsche_in_Formula_One"
        ],
        [
         96,
         "derrington",
         "Derrington",
         "British",
         "http://en.wikipedia.org/wiki/Derrington-Francis"
        ],
        [
         97,
         "gilby",
         "Gilby",
         "British",
         "http://en.wikipedia.org/wiki/Gilby"
        ],
        [
         98,
         "stebro",
         "Stebro",
         "Canadian",
         "http://en.wikipedia.org/wiki/Stebro"
        ],
        [
         99,
         "emeryson",
         "Emeryson",
         "British",
         "http://en.wikipedia.org/wiki/Emeryson"
        ],
        [
         100,
         "enb",
         "ENB",
         "Belgium",
         "http://en.wikipedia.org/wiki/Ecurie_Nationale_Belge"
        ],
        [
         101,
         "jbw",
         "JBW",
         "British",
         "http://en.wikipedia.org/wiki/JBW"
        ],
        [
         102,
         "ferguson",
         "Ferguson",
         "British",
         "http://en.wikipedia.org/wiki/Ferguson_Research_Ltd."
        ],
        [
         103,
         "mbm",
         "MBM",
         "Swiss",
         "http://en.wikipedia.org/wiki/Monteverdi_Basel_Motors"
        ],
        [
         104,
         "behra-porsche",
         "Behra-Porsche",
         "Italian",
         "http://en.wikipedia.org/wiki/Behra-Porsche"
        ],
        [
         105,
         "maserati",
         "Maserati",
         "Italian",
         "http://en.wikipedia.org/wiki/Maserati"
        ],
        [
         106,
         "scarab",
         "Scarab",
         "American",
         "http://en.wikipedia.org/wiki/Scarab_(constructor)"
        ],
        [
         107,
         "watson",
         "Watson",
         "American",
         "http://en.wikipedia.org/wiki/A.J._Watson"
        ],
        [
         108,
         "epperly",
         "Epperly",
         "American",
         "http://en.wikipedia.org/wiki/Epperly"
        ],
        [
         109,
         "phillips",
         "Phillips",
         "American",
         "http://en.wikipedia.org/wiki/Phillips_(constructor)"
        ],
        [
         110,
         "lesovsky",
         "Lesovsky",
         "American",
         "http://en.wikipedia.org/wiki/Lesovsky"
        ],
        [
         111,
         "trevis",
         "Trevis",
         "American",
         "http://en.wikipedia.org/wiki/Trevis"
        ],
        [
         112,
         "meskowski",
         "Meskowski",
         "American",
         "http://en.wikipedia.org/wiki/Meskowski"
        ],
        [
         113,
         "kurtis_kraft",
         "Kurtis Kraft",
         "American",
         "http://en.wikipedia.org/wiki/Kurtis_Kraft"
        ],
        [
         114,
         "kuzma",
         "Kuzma",
         "American",
         "http://en.wikipedia.org/wiki/Kuzma_(constructor)"
        ],
        [
         115,
         "vhristensen",
         "Christensen",
         "American",
         "http://en.wikipedia.org/wiki/Christensen_(constructor)"
        ],
        [
         116,
         "ewing",
         "Ewing",
         "American",
         "http://en.wikipedia.org/wiki/Ewing_(constructor)"
        ],
        [
         117,
         "aston_martin",
         "Aston Martin",
         "British",
         "http://en.wikipedia.org/wiki/Aston_Martin_in_Formula_One"
        ],
        [
         118,
         "vanwall",
         "Vanwall",
         "British",
         "http://en.wikipedia.org/wiki/Vanwall"
        ],
        [
         119,
         "moore",
         "Moore",
         "American",
         "http://en.wikipedia.org/wiki/Moore_(constructor)"
        ],
        [
         120,
         "dunn",
         "Dunn",
         "American",
         "http://en.wikipedia.org/wiki/Dunn_Engineering"
        ],
        [
         121,
         "elder",
         "Elder",
         "American",
         "http://en.wikipedia.org/wiki/Elder_(constructor)"
        ],
        [
         122,
         "sutton",
         "Sutton",
         "American",
         "http://en.wikipedia.org/wiki/Sutton_(constructor)"
        ],
        [
         123,
         "fry",
         "Fry",
         "British",
         "http://en.wikipedia.org/wiki/Fry_(racing_team)"
        ],
        [
         124,
         "tec-mec",
         "Tec-Mec",
         "Italian",
         "http://en.wikipedia.org/wiki/Tec-Mec"
        ],
        [
         125,
         "connaught",
         "Connaught",
         "British",
         "http://en.wikipedia.org/wiki/Connaught_Engineering"
        ],
        [
         126,
         "alta",
         "Alta",
         "British",
         "http://en.wikipedia.org/wiki/Alta_auto_racing_team"
        ],
        [
         127,
         "osca",
         "OSCA",
         "Italian",
         "http://en.wikipedia.org/wiki/Officine_Specializate_Costruzione_Automobili"
        ],
        [
         128,
         "gordini",
         "Gordini",
         "French",
         "http://en.wikipedia.org/wiki/Gordini"
        ],
        [
         129,
         "stevens",
         "Stevens",
         "American",
         "http://en.wikipedia.org/wiki/Stevens_(constructor)"
        ],
        [
         130,
         "bugatti",
         "Bugatti",
         "French",
         "http://en.wikipedia.org/wiki/Bugatti"
        ],
        [
         131,
         "mercedes",
         "Mercedes",
         "German",
         "http://en.wikipedia.org/wiki/Mercedes-Benz_in_Formula_One"
        ],
        [
         132,
         "lancia",
         "Lancia",
         "Italian",
         "http://en.wikipedia.org/wiki/Lancia_in_Formula_One"
        ],
        [
         133,
         "hwm",
         "HWM",
         "British",
         "http://en.wikipedia.org/wiki/Hersham_and_Walton_Motors"
        ],
        [
         134,
         "schroeder",
         "Schroeder",
         "American",
         "http://en.wikipedia.org/wiki/Schroeder_(constructor)"
        ],
        [
         135,
         "pawl",
         "Pawl",
         "American",
         "http://en.wikipedia.org/wiki/Pawl_(constructor)"
        ],
        [
         136,
         "pankratz",
         "Pankratz",
         "American",
         "http://en.wikipedia.org/wiki/Pankratz"
        ],
        [
         137,
         "arzani-volpini",
         "Arzani-Volpini",
         "Italian",
         "http://en.wikipedia.org/wiki/Arzani-Volpini"
        ],
        [
         138,
         "nichels",
         "Nichels",
         "American",
         "http://en.wikipedia.org/wiki/Nichels"
        ],
        [
         139,
         "bromme",
         "Bromme",
         "American",
         "http://en.wikipedia.org/wiki/Bromme"
        ],
        [
         140,
         "klenk",
         "Klenk",
         "German",
         "http://en.wikipedia.org/wiki/Klenk"
        ],
        [
         141,
         "simca",
         "Simca",
         "French",
         "http://en.wikipedia.org/wiki/Simca"
        ],
        [
         142,
         "turner",
         "Turner",
         "American",
         "http://en.wikipedia.org/wiki/Turner_(constructor)"
        ],
        [
         143,
         "del_roy",
         "Del Roy",
         "American",
         "http://en.wikipedia.org/wiki/Del_Roy"
        ],
        [
         144,
         "veritas",
         "Veritas",
         "German",
         "http://en.wikipedia.org/wiki/Veritas_(constructor)"
        ],
        [
         145,
         "bmw",
         "BMW",
         "German",
         "http://en.wikipedia.org/wiki/BMW"
        ],
        [
         146,
         "emw",
         "EMW",
         "East German",
         "http://en.wikipedia.org/wiki/Eisenacher_Motorenwerk"
        ],
        [
         147,
         "afm",
         "AFM",
         "German",
         "http://en.wikipedia.org/wiki/Alex_von_Falkenhausen_Motorenbau"
        ],
        [
         148,
         "frazer_nash",
         "Frazer Nash",
         "British",
         "http://en.wikipedia.org/wiki/Frazer_Nash"
        ],
        [
         149,
         "sherman",
         "Sherman",
         "American",
         "http://en.wikipedia.org/wiki/Sherman_(constructor)"
        ],
        [
         150,
         "deidt",
         "Deidt",
         "American",
         "http://en.wikipedia.org/wiki/Deidt"
        ],
        [
         151,
         "era",
         "ERA",
         "British",
         "http://en.wikipedia.org/wiki/English_Racing_Automobiles"
        ],
        [
         152,
         "butterworth",
         "Aston Butterworth",
         "British",
         "http://en.wikipedia.org/wiki/Aston_Butterworth"
        ],
        [
         153,
         "cisitalia",
         "Cisitalia",
         "Italian",
         "http://en.wikipedia.org/wiki/Cisitalia"
        ],
        [
         154,
         "lago",
         "Talbot-Lago",
         "French",
         "http://en.wikipedia.org/wiki/Talbot-Lago"
        ],
        [
         155,
         "hall",
         "Hall",
         "American",
         "http://en.wikipedia.org/wiki/Hall_(constructor)"
        ],
        [
         156,
         "marchese",
         "Marchese",
         "American",
         "http://en.wikipedia.org/wiki/Marchese_(constructor)"
        ],
        [
         157,
         "langley",
         "Langley",
         "American",
         "http://en.wikipedia.org/wiki/Langley_(constructor)"
        ],
        [
         158,
         "rae",
         "Rae",
         "American",
         "http://en.wikipedia.org/wiki/Rae_(motorsport)"
        ],
        [
         159,
         "olson",
         "Olson",
         "American",
         "http://en.wikipedia.org/wiki/Olson_(constructor)"
        ],
        [
         160,
         "wetteroth",
         "Wetteroth",
         "American",
         "http://en.wikipedia.org/wiki/Wetteroth"
        ],
        [
         161,
         "adams",
         "Adams",
         "American",
         "http://en.wikipedia.org/wiki/Adams_(constructor)"
        ],
        [
         162,
         "snowberger",
         "Snowberger",
         "American",
         "http://en.wikipedia.org/wiki/Snowberger"
        ],
        [
         163,
         "milano",
         "Milano",
         "Italian",
         "http://en.wikipedia.org/wiki/Scuderia_Milano"
        ],
        [
         164,
         "hrt",
         "HRT",
         "Spanish",
         "http://en.wikipedia.org/wiki/Hispania_Racing"
        ],
        [
         167,
         "cooper-maserati",
         "Cooper-Maserati",
         "British",
         "http://en.wikipedia.org/wiki/Cooper_Car_Company"
        ],
        [
         166,
         "virgin",
         "Virgin",
         "British",
         "http://en.wikipedia.org/wiki/Virgin_Racing"
        ],
        [
         168,
         "cooper-osca",
         "Cooper-OSCA",
         "British",
         "http://en.wikipedia.org/wiki/Cooper_Car_Company"
        ],
        [
         169,
         "cooper-borgward",
         "Cooper-Borgward",
         "British",
         "http://en.wikipedia.org/wiki/Cooper_Car_Company"
        ],
        [
         170,
         "cooper-climax",
         "Cooper-Climax",
         "British",
         "http://en.wikipedia.org/wiki/Cooper_Car_Company"
        ],
        [
         171,
         "cooper-castellotti",
         "Cooper-Castellotti",
         "British",
         "http://en.wikipedia.org/wiki/Cooper_Car_Company"
        ],
        [
         172,
         "lotus-climax",
         "Lotus-Climax",
         "British",
         "http://en.wikipedia.org/wiki/Team_Lotus"
        ],
        [
         173,
         "lotus-maserati",
         "Lotus-Maserati",
         "British",
         "http://en.wikipedia.org/wiki/Team_Lotus"
        ],
        [
         174,
         "de_tomaso-osca",
         "De Tomaso-Osca",
         "Italian",
         "http://en.wikipedia.org/wiki/De_Tomaso"
        ],
        [
         175,
         "de_tomaso-alfa_romeo",
         "De Tomaso-Alfa Romeo",
         "Italian",
         "http://en.wikipedia.org/wiki/De_Tomaso"
        ],
        [
         176,
         "lotus-brm",
         "Lotus-BRM",
         "British",
         "http://en.wikipedia.org/wiki/Team_Lotus"
        ],
        [
         177,
         "lotus-borgward",
         "Lotus-Borgward",
         "British",
         "http://en.wikipedia.org/wiki/Team_Lotus"
        ],
        [
         178,
         "cooper-alfa_romeo",
         "Cooper-Alfa Romeo",
         "British",
         "http://en.wikipedia.org/wiki/Cooper_Car_Company"
        ],
        [
         179,
         "de_tomaso-ferrari",
         "De Tomaso-Ferrari",
         "Italian",
         "http://en.wikipedia.org/wiki/De_Tomaso"
        ],
        [
         180,
         "lotus-ford",
         "Lotus-Ford",
         "British",
         "http://en.wikipedia.org/wiki/Team_Lotus"
        ],
        [
         181,
         "brabham-brm",
         "Brabham-BRM",
         "British",
         "http://en.wikipedia.org/wiki/Brabham"
        ],
        [
         182,
         "brabham-ford",
         "Brabham-Ford",
         "British",
         "http://en.wikipedia.org/wiki/Brabham"
        ],
        [
         183,
         "brabham-climax",
         "Brabham-Climax",
         "British",
         "http://en.wikipedia.org/wiki/Brabham"
        ],
        [
         184,
         "lds-climax",
         "LDS-Climax",
         "South African",
         "http://en.wikipedia.org/wiki/LDS_(automobile)"
        ],
        [
         185,
         "lds-alfa_romeo",
         "LDS-Alfa Romeo",
         "South African",
         "http://en.wikipedia.org/wiki/LDS_(automobile)"
        ],
        [
         186,
         "cooper-ford",
         "Cooper-Ford",
         "British",
         "http://en.wikipedia.org/wiki/Cooper_Car_Company"
        ],
        [
         187,
         "mclaren-ford",
         "McLaren-Ford",
         "British",
         "http://en.wikipedia.org/wiki/Team_McLaren"
        ],
        [
         188,
         "mclaren-seren",
         "McLaren-Serenissima",
         "British",
         "http://en.wikipedia.org/wiki/Team_McLaren"
        ],
        [
         189,
         "eagle-climax",
         "Eagle-Climax",
         "American",
         "http://en.wikipedia.org/wiki/Anglo_American_Racers"
        ],
        [
         190,
         "eagle-weslake",
         "Eagle-Weslake",
         "American",
         "http://en.wikipedia.org/wiki/Anglo_American_Racers"
        ],
        [
         191,
         "brabham-repco",
         "Brabham-Repco",
         "British",
         "http://en.wikipedia.org/wiki/Brabham"
        ],
        [
         192,
         "cooper-ferrari",
         "Cooper-Ferrari",
         "British",
         "http://en.wikipedia.org/wiki/Cooper_Car_Company"
        ],
        [
         193,
         "cooper-ats",
         "Cooper-ATS",
         "British",
         "http://en.wikipedia.org/wiki/Cooper_Car_Company"
        ],
        [
         194,
         "mclaren-brm",
         "McLaren-BRM",
         "British",
         "http://en.wikipedia.org/wiki/McLaren_(racing)"
        ],
        [
         195,
         "cooper-brm",
         "Cooper-BRM",
         "British",
         "http://en.wikipedia.org/wiki/Cooper_Car_Company"
        ],
        [
         196,
         "matra-ford",
         "Matra-Ford",
         "French",
         "http://en.wikipedia.org/wiki/Matra"
        ],
        [
         197,
         "brm-ford",
         "BRM-Ford",
         "British",
         "http://en.wikipedia.org/wiki/BRM"
        ],
        [
         198,
         "mclaren-alfa_romeo",
         "McLaren-Alfa Romeo",
         "British",
         "http://en.wikipedia.org/wiki/McLaren_(racing)"
        ],
        [
         199,
         "march-alfa_romeo",
         "March-Alfa Romeo",
         "British",
         "http://en.wikipedia.org/wiki/March_Engineering"
        ],
        [
         200,
         "march-ford",
         "March-Ford",
         "British",
         "http://en.wikipedia.org/wiki/March_Engineering"
        ],
        [
         201,
         "lotus-pw",
         "Lotus-Pratt &amp; Whitney",
         "British",
         "http://en.wikipedia.org/wiki/Team_Lotus"
        ],
        [
         202,
         "shadow-ford",
         "Shadow-Ford",
         "British",
         "http://en.wikipedia.org/wiki/Shadow_Racing_Cars"
        ],
        [
         203,
         "shadow-matra",
         "Shadow-Matra",
         "British",
         "http://en.wikipedia.org/wiki/Shadow_Racing_Cars"
        ],
        [
         204,
         "brabham-alfa_romeo",
         "Brabham-Alfa Romeo",
         "British",
         "http://en.wikipedia.org/wiki/Brabham"
        ],
        [
         205,
         "lotus_racing",
         "Lotus",
         "Malaysian",
         "http://en.wikipedia.org/wiki/Lotus_Racing"
        ],
        [
         206,
         "marussia",
         "Marussia",
         "Russian",
         "http://en.wikipedia.org/wiki/Marussia_F1"
        ],
        [
         207,
         "caterham",
         "Caterham",
         "Malaysian",
         "http://en.wikipedia.org/wiki/Caterham_F1"
        ],
        [
         208,
         "lotus_f1",
         "Lotus F1",
         "British",
         "http://en.wikipedia.org/wiki/Lotus_F1"
        ],
        [
         209,
         "manor",
         "Manor Marussia",
         "British",
         "http://en.wikipedia.org/wiki/Manor_Motorsport"
        ],
        [
         210,
         "haas",
         "Haas F1 Team",
         "American",
         "http://en.wikipedia.org/wiki/Haas_F1_Team"
        ],
        [
         211,
         "racing_point",
         "Racing Point",
         "British",
         "http://en.wikipedia.org/wiki/Racing_Point_F1_Team"
        ],
        [
         213,
         "alphatauri",
         "AlphaTauri",
         "Italian",
         "http://en.wikipedia.org/wiki/Scuderia_AlphaTauri"
        ],
        [
         214,
         "alpine",
         "Alpine F1 Team",
         "French",
         "http://en.wikipedia.org/wiki/Alpine_F1_Team"
        ]
       ],
       "datasetInfos": [],
       "dbfsResultPath": null,
       "isJsonSchema": true,
       "metadata": {},
       "overflow": false,
       "plotOptions": {
        "customPlotOptions": {},
        "displayType": "table",
        "pivotAggregation": null,
        "pivotColumns": null,
        "xColumns": null,
        "yColumns": null
       },
       "removedWidgets": [],
       "schema": [
        {
         "metadata": "{}",
         "name": "constructorId",
         "type": "\"integer\""
        },
        {
         "metadata": "{}",
         "name": "constructorRef",
         "type": "\"string\""
        },
        {
         "metadata": "{}",
         "name": "name",
         "type": "\"string\""
        },
        {
         "metadata": "{}",
         "name": "nationality",
         "type": "\"string\""
        },
        {
         "metadata": "{}",
         "name": "url",
         "type": "\"string\""
        }
       ],
       "type": "table"
      }
     },
     "output_type": "display_data"
    }
   ],
   "source": [
    "display(constructors_df)"
   ]
  },
  {
   "cell_type": "markdown",
   "metadata": {
    "application/vnd.databricks.v1+cell": {
     "cellMetadata": {},
     "inputWidgets": {},
     "nuid": "168ed347-4bcc-4c1a-9e54-48c971c28029",
     "showTitle": false,
     "tableResultSettingsMap": {},
     "title": ""
    }
   },
   "source": [
    "#### Further processing 1\n",
    "1. From the above dataframe we don't need URL, so either select only the required columns or drop the unwanted column url\n",
    "2. Rename the following columns\n",
    "  - constructorId ---> constructor_id\n",
    "  - constructorRef ---> constructor_ref\n",
    "3. Add the audit column ingestion_date"
   ]
  },
  {
   "cell_type": "code",
   "execution_count": 0,
   "metadata": {
    "application/vnd.databricks.v1+cell": {
     "cellMetadata": {
      "byteLimit": 2048000,
      "rowLimit": 10000
     },
     "inputWidgets": {},
     "nuid": "bcd0ad32-ac88-4e46-a663-bec0d4a414bf",
     "showTitle": false,
     "tableResultSettingsMap": {},
     "title": ""
    }
   },
   "outputs": [],
   "source": [
    "from pyspark.sql.functions import col, current_timestamp, lit"
   ]
  },
  {
   "cell_type": "code",
   "execution_count": 0,
   "metadata": {
    "application/vnd.databricks.v1+cell": {
     "cellMetadata": {
      "byteLimit": 2048000,
      "rowLimit": 10000
     },
     "inputWidgets": {},
     "nuid": "6b8a7bfc-491c-4894-8e7d-49017ef6a66a",
     "showTitle": false,
     "tableResultSettingsMap": {},
     "title": ""
    }
   },
   "outputs": [
    {
     "output_type": "display_data",
     "data": {
      "text/html": [
       "<style scoped>\n",
       "  .table-result-container {\n",
       "    max-height: 300px;\n",
       "    overflow: auto;\n",
       "  }\n",
       "  table, th, td {\n",
       "    border: 1px solid black;\n",
       "    border-collapse: collapse;\n",
       "  }\n",
       "  th, td {\n",
       "    padding: 5px;\n",
       "  }\n",
       "  th {\n",
       "    text-align: left;\n",
       "  }\n",
       "</style><div class='table-result-container'><table class='table-result'><thead style='background-color: white'><tr><th>constructorId</th><th>constructorRef</th><th>name</th><th>nationality</th></tr></thead><tbody><tr><td>1</td><td>mclaren</td><td>McLaren</td><td>British</td></tr><tr><td>2</td><td>bmw_sauber</td><td>BMW Sauber</td><td>German</td></tr><tr><td>3</td><td>williams</td><td>Williams</td><td>British</td></tr><tr><td>4</td><td>renault</td><td>Renault</td><td>French</td></tr><tr><td>5</td><td>toro_rosso</td><td>Toro Rosso</td><td>Italian</td></tr><tr><td>6</td><td>ferrari</td><td>Ferrari</td><td>Italian</td></tr><tr><td>7</td><td>toyota</td><td>Toyota</td><td>Japanese</td></tr><tr><td>8</td><td>super_aguri</td><td>Super Aguri</td><td>Japanese</td></tr><tr><td>9</td><td>red_bull</td><td>Red Bull</td><td>Austrian</td></tr><tr><td>10</td><td>force_india</td><td>Force India</td><td>Indian</td></tr><tr><td>11</td><td>honda</td><td>Honda</td><td>Japanese</td></tr><tr><td>12</td><td>spyker</td><td>Spyker</td><td>Dutch</td></tr><tr><td>13</td><td>mf1</td><td>MF1</td><td>Russian</td></tr><tr><td>14</td><td>spyker_mf1</td><td>Spyker MF1</td><td>Dutch</td></tr><tr><td>15</td><td>sauber</td><td>Sauber</td><td>Swiss</td></tr><tr><td>16</td><td>bar</td><td>BAR</td><td>British</td></tr><tr><td>17</td><td>jordan</td><td>Jordan</td><td>Irish</td></tr><tr><td>18</td><td>minardi</td><td>Minardi</td><td>Italian</td></tr><tr><td>19</td><td>jaguar</td><td>Jaguar</td><td>British</td></tr><tr><td>20</td><td>prost</td><td>Prost</td><td>French</td></tr><tr><td>21</td><td>arrows</td><td>Arrows</td><td>British</td></tr><tr><td>22</td><td>benetton</td><td>Benetton</td><td>Italian</td></tr><tr><td>23</td><td>brawn</td><td>Brawn</td><td>British</td></tr><tr><td>24</td><td>stewart</td><td>Stewart</td><td>British</td></tr><tr><td>25</td><td>tyrrell</td><td>Tyrrell</td><td>British</td></tr><tr><td>26</td><td>lola</td><td>Lola</td><td>British</td></tr><tr><td>27</td><td>ligier</td><td>Ligier</td><td>French</td></tr><tr><td>28</td><td>forti</td><td>Forti</td><td>Italian</td></tr><tr><td>29</td><td>footwork</td><td>Footwork</td><td>British</td></tr><tr><td>30</td><td>pacific</td><td>Pacific</td><td>British</td></tr><tr><td>31</td><td>simtek</td><td>Simtek</td><td>British</td></tr><tr><td>32</td><td>team_lotus</td><td>Team Lotus</td><td>British</td></tr><tr><td>33</td><td>larrousse</td><td>Larrousse</td><td>French</td></tr><tr><td>34</td><td>brabham</td><td>Brabham</td><td>British</td></tr><tr><td>35</td><td>dallara</td><td>Dallara</td><td>Italian</td></tr><tr><td>36</td><td>fondmetal</td><td>Fondmetal</td><td>Italian</td></tr><tr><td>37</td><td>march</td><td>March</td><td>British</td></tr><tr><td>38</td><td>moda</td><td>Andrea Moda</td><td>Italian</td></tr><tr><td>39</td><td>ags</td><td>AGS</td><td>French</td></tr><tr><td>40</td><td>lambo</td><td>Lambo</td><td>Italian</td></tr><tr><td>41</td><td>leyton</td><td>Leyton House</td><td>British</td></tr><tr><td>42</td><td>coloni</td><td>Coloni</td><td>Italian</td></tr><tr><td>44</td><td>eurobrun</td><td>Euro Brun</td><td>Italian</td></tr><tr><td>45</td><td>osella</td><td>Osella</td><td>Italian</td></tr><tr><td>46</td><td>onyx</td><td>Onyx</td><td>British</td></tr><tr><td>47</td><td>life</td><td>Life</td><td>Italian</td></tr><tr><td>48</td><td>rial</td><td>Rial</td><td>German</td></tr><tr><td>49</td><td>zakspeed</td><td>Zakspeed</td><td>German</td></tr><tr><td>50</td><td>ram</td><td>RAM</td><td>British</td></tr><tr><td>51</td><td>alfa</td><td>Alfa Romeo</td><td>Italian</td></tr><tr><td>52</td><td>spirit</td><td>Spirit</td><td>British</td></tr><tr><td>53</td><td>toleman</td><td>Toleman</td><td>British</td></tr><tr><td>54</td><td>ats</td><td>ATS</td><td>Italian</td></tr><tr><td>55</td><td>theodore</td><td>Theodore</td><td>Hong Kong</td></tr><tr><td>56</td><td>fittipaldi</td><td>Fittipaldi</td><td>Brazilian</td></tr><tr><td>57</td><td>ensign</td><td>Ensign</td><td>British</td></tr><tr><td>58</td><td>shadow</td><td>Shadow</td><td>British</td></tr><tr><td>59</td><td>wolf</td><td>Wolf</td><td>Canadian</td></tr><tr><td>60</td><td>merzario</td><td>Merzario</td><td>Italian</td></tr><tr><td>61</td><td>kauhsen</td><td>Kauhsen</td><td>German</td></tr><tr><td>62</td><td>rebaque</td><td>Rebaque</td><td>Mexican</td></tr><tr><td>63</td><td>surtees</td><td>Surtees</td><td>British</td></tr><tr><td>64</td><td>hesketh</td><td>Hesketh</td><td>British</td></tr><tr><td>65</td><td>martini</td><td>Martini</td><td>French</td></tr><tr><td>66</td><td>brm</td><td>BRM</td><td>British</td></tr><tr><td>67</td><td>penske</td><td>Penske</td><td>American</td></tr><tr><td>68</td><td>lec</td><td>LEC</td><td>British</td></tr><tr><td>69</td><td>mcguire</td><td>McGuire</td><td>Australian</td></tr><tr><td>70</td><td>boro</td><td>Boro</td><td>Dutch</td></tr><tr><td>71</td><td>apollon</td><td>Apollon</td><td>Swiss</td></tr><tr><td>72</td><td>kojima</td><td>Kojima</td><td>Japanese</td></tr><tr><td>73</td><td>parnelli</td><td>Parnelli</td><td>American</td></tr><tr><td>74</td><td>maki</td><td>Maki</td><td>Japanese</td></tr><tr><td>75</td><td>hill</td><td>Embassy Hill</td><td>British</td></tr><tr><td>76</td><td>lyncar</td><td>Lyncar</td><td>British</td></tr><tr><td>77</td><td>trojan</td><td>Trojan</td><td>British</td></tr><tr><td>78</td><td>amon</td><td>Amon</td><td>New Zealand</td></tr><tr><td>79</td><td>token</td><td>Token</td><td>British</td></tr><tr><td>80</td><td>iso_marlboro</td><td>Iso Marlboro</td><td>British</td></tr><tr><td>81</td><td>tecno</td><td>Tecno</td><td>Italian</td></tr><tr><td>82</td><td>matra</td><td>Matra</td><td>French</td></tr><tr><td>83</td><td>politoys</td><td>Politoys</td><td>British</td></tr><tr><td>84</td><td>connew</td><td>Connew</td><td>British</td></tr><tr><td>85</td><td>bellasi</td><td>Bellasi</td><td>Swiss</td></tr><tr><td>86</td><td>tomaso</td><td>De Tomaso</td><td>Italian</td></tr><tr><td>87</td><td>cooper</td><td>Cooper</td><td>British</td></tr><tr><td>88</td><td>eagle</td><td>Eagle</td><td>American</td></tr><tr><td>89</td><td>lds</td><td>LDS</td><td>South African</td></tr><tr><td>90</td><td>protos</td><td>Protos</td><td>British</td></tr><tr><td>91</td><td>shannon</td><td>Shannon</td><td>British</td></tr><tr><td>92</td><td>scirocco</td><td>Scirocco</td><td>British</td></tr><tr><td>93</td><td>re</td><td>RE</td><td>Rhodesian</td></tr><tr><td>94</td><td>brp</td><td>BRP</td><td>British</td></tr><tr><td>95</td><td>porsche</td><td>Porsche</td><td>German</td></tr><tr><td>96</td><td>derrington</td><td>Derrington</td><td>British</td></tr><tr><td>97</td><td>gilby</td><td>Gilby</td><td>British</td></tr><tr><td>98</td><td>stebro</td><td>Stebro</td><td>Canadian</td></tr><tr><td>99</td><td>emeryson</td><td>Emeryson</td><td>British</td></tr><tr><td>100</td><td>enb</td><td>ENB</td><td>Belgium</td></tr><tr><td>101</td><td>jbw</td><td>JBW</td><td>British</td></tr><tr><td>102</td><td>ferguson</td><td>Ferguson</td><td>British</td></tr><tr><td>103</td><td>mbm</td><td>MBM</td><td>Swiss</td></tr><tr><td>104</td><td>behra-porsche</td><td>Behra-Porsche</td><td>Italian</td></tr><tr><td>105</td><td>maserati</td><td>Maserati</td><td>Italian</td></tr><tr><td>106</td><td>scarab</td><td>Scarab</td><td>American</td></tr><tr><td>107</td><td>watson</td><td>Watson</td><td>American</td></tr><tr><td>108</td><td>epperly</td><td>Epperly</td><td>American</td></tr><tr><td>109</td><td>phillips</td><td>Phillips</td><td>American</td></tr><tr><td>110</td><td>lesovsky</td><td>Lesovsky</td><td>American</td></tr><tr><td>111</td><td>trevis</td><td>Trevis</td><td>American</td></tr><tr><td>112</td><td>meskowski</td><td>Meskowski</td><td>American</td></tr><tr><td>113</td><td>kurtis_kraft</td><td>Kurtis Kraft</td><td>American</td></tr><tr><td>114</td><td>kuzma</td><td>Kuzma</td><td>American</td></tr><tr><td>115</td><td>vhristensen</td><td>Christensen</td><td>American</td></tr><tr><td>116</td><td>ewing</td><td>Ewing</td><td>American</td></tr><tr><td>117</td><td>aston_martin</td><td>Aston Martin</td><td>British</td></tr><tr><td>118</td><td>vanwall</td><td>Vanwall</td><td>British</td></tr><tr><td>119</td><td>moore</td><td>Moore</td><td>American</td></tr><tr><td>120</td><td>dunn</td><td>Dunn</td><td>American</td></tr><tr><td>121</td><td>elder</td><td>Elder</td><td>American</td></tr><tr><td>122</td><td>sutton</td><td>Sutton</td><td>American</td></tr><tr><td>123</td><td>fry</td><td>Fry</td><td>British</td></tr><tr><td>124</td><td>tec-mec</td><td>Tec-Mec</td><td>Italian</td></tr><tr><td>125</td><td>connaught</td><td>Connaught</td><td>British</td></tr><tr><td>126</td><td>alta</td><td>Alta</td><td>British</td></tr><tr><td>127</td><td>osca</td><td>OSCA</td><td>Italian</td></tr><tr><td>128</td><td>gordini</td><td>Gordini</td><td>French</td></tr><tr><td>129</td><td>stevens</td><td>Stevens</td><td>American</td></tr><tr><td>130</td><td>bugatti</td><td>Bugatti</td><td>French</td></tr><tr><td>131</td><td>mercedes</td><td>Mercedes</td><td>German</td></tr><tr><td>132</td><td>lancia</td><td>Lancia</td><td>Italian</td></tr><tr><td>133</td><td>hwm</td><td>HWM</td><td>British</td></tr><tr><td>134</td><td>schroeder</td><td>Schroeder</td><td>American</td></tr><tr><td>135</td><td>pawl</td><td>Pawl</td><td>American</td></tr><tr><td>136</td><td>pankratz</td><td>Pankratz</td><td>American</td></tr><tr><td>137</td><td>arzani-volpini</td><td>Arzani-Volpini</td><td>Italian</td></tr><tr><td>138</td><td>nichels</td><td>Nichels</td><td>American</td></tr><tr><td>139</td><td>bromme</td><td>Bromme</td><td>American</td></tr><tr><td>140</td><td>klenk</td><td>Klenk</td><td>German</td></tr><tr><td>141</td><td>simca</td><td>Simca</td><td>French</td></tr><tr><td>142</td><td>turner</td><td>Turner</td><td>American</td></tr><tr><td>143</td><td>del_roy</td><td>Del Roy</td><td>American</td></tr><tr><td>144</td><td>veritas</td><td>Veritas</td><td>German</td></tr><tr><td>145</td><td>bmw</td><td>BMW</td><td>German</td></tr><tr><td>146</td><td>emw</td><td>EMW</td><td>East German</td></tr><tr><td>147</td><td>afm</td><td>AFM</td><td>German</td></tr><tr><td>148</td><td>frazer_nash</td><td>Frazer Nash</td><td>British</td></tr><tr><td>149</td><td>sherman</td><td>Sherman</td><td>American</td></tr><tr><td>150</td><td>deidt</td><td>Deidt</td><td>American</td></tr><tr><td>151</td><td>era</td><td>ERA</td><td>British</td></tr><tr><td>152</td><td>butterworth</td><td>Aston Butterworth</td><td>British</td></tr><tr><td>153</td><td>cisitalia</td><td>Cisitalia</td><td>Italian</td></tr><tr><td>154</td><td>lago</td><td>Talbot-Lago</td><td>French</td></tr><tr><td>155</td><td>hall</td><td>Hall</td><td>American</td></tr><tr><td>156</td><td>marchese</td><td>Marchese</td><td>American</td></tr><tr><td>157</td><td>langley</td><td>Langley</td><td>American</td></tr><tr><td>158</td><td>rae</td><td>Rae</td><td>American</td></tr><tr><td>159</td><td>olson</td><td>Olson</td><td>American</td></tr><tr><td>160</td><td>wetteroth</td><td>Wetteroth</td><td>American</td></tr><tr><td>161</td><td>adams</td><td>Adams</td><td>American</td></tr><tr><td>162</td><td>snowberger</td><td>Snowberger</td><td>American</td></tr><tr><td>163</td><td>milano</td><td>Milano</td><td>Italian</td></tr><tr><td>164</td><td>hrt</td><td>HRT</td><td>Spanish</td></tr><tr><td>167</td><td>cooper-maserati</td><td>Cooper-Maserati</td><td>British</td></tr><tr><td>166</td><td>virgin</td><td>Virgin</td><td>British</td></tr><tr><td>168</td><td>cooper-osca</td><td>Cooper-OSCA</td><td>British</td></tr><tr><td>169</td><td>cooper-borgward</td><td>Cooper-Borgward</td><td>British</td></tr><tr><td>170</td><td>cooper-climax</td><td>Cooper-Climax</td><td>British</td></tr><tr><td>171</td><td>cooper-castellotti</td><td>Cooper-Castellotti</td><td>British</td></tr><tr><td>172</td><td>lotus-climax</td><td>Lotus-Climax</td><td>British</td></tr><tr><td>173</td><td>lotus-maserati</td><td>Lotus-Maserati</td><td>British</td></tr><tr><td>174</td><td>de_tomaso-osca</td><td>De Tomaso-Osca</td><td>Italian</td></tr><tr><td>175</td><td>de_tomaso-alfa_romeo</td><td>De Tomaso-Alfa Romeo</td><td>Italian</td></tr><tr><td>176</td><td>lotus-brm</td><td>Lotus-BRM</td><td>British</td></tr><tr><td>177</td><td>lotus-borgward</td><td>Lotus-Borgward</td><td>British</td></tr><tr><td>178</td><td>cooper-alfa_romeo</td><td>Cooper-Alfa Romeo</td><td>British</td></tr><tr><td>179</td><td>de_tomaso-ferrari</td><td>De Tomaso-Ferrari</td><td>Italian</td></tr><tr><td>180</td><td>lotus-ford</td><td>Lotus-Ford</td><td>British</td></tr><tr><td>181</td><td>brabham-brm</td><td>Brabham-BRM</td><td>British</td></tr><tr><td>182</td><td>brabham-ford</td><td>Brabham-Ford</td><td>British</td></tr><tr><td>183</td><td>brabham-climax</td><td>Brabham-Climax</td><td>British</td></tr><tr><td>184</td><td>lds-climax</td><td>LDS-Climax</td><td>South African</td></tr><tr><td>185</td><td>lds-alfa_romeo</td><td>LDS-Alfa Romeo</td><td>South African</td></tr><tr><td>186</td><td>cooper-ford</td><td>Cooper-Ford</td><td>British</td></tr><tr><td>187</td><td>mclaren-ford</td><td>McLaren-Ford</td><td>British</td></tr><tr><td>188</td><td>mclaren-seren</td><td>McLaren-Serenissima</td><td>British</td></tr><tr><td>189</td><td>eagle-climax</td><td>Eagle-Climax</td><td>American</td></tr><tr><td>190</td><td>eagle-weslake</td><td>Eagle-Weslake</td><td>American</td></tr><tr><td>191</td><td>brabham-repco</td><td>Brabham-Repco</td><td>British</td></tr><tr><td>192</td><td>cooper-ferrari</td><td>Cooper-Ferrari</td><td>British</td></tr><tr><td>193</td><td>cooper-ats</td><td>Cooper-ATS</td><td>British</td></tr><tr><td>194</td><td>mclaren-brm</td><td>McLaren-BRM</td><td>British</td></tr><tr><td>195</td><td>cooper-brm</td><td>Cooper-BRM</td><td>British</td></tr><tr><td>196</td><td>matra-ford</td><td>Matra-Ford</td><td>French</td></tr><tr><td>197</td><td>brm-ford</td><td>BRM-Ford</td><td>British</td></tr><tr><td>198</td><td>mclaren-alfa_romeo</td><td>McLaren-Alfa Romeo</td><td>British</td></tr><tr><td>199</td><td>march-alfa_romeo</td><td>March-Alfa Romeo</td><td>British</td></tr><tr><td>200</td><td>march-ford</td><td>March-Ford</td><td>British</td></tr><tr><td>201</td><td>lotus-pw</td><td>Lotus-Pratt &amp; Whitney</td><td>British</td></tr><tr><td>202</td><td>shadow-ford</td><td>Shadow-Ford</td><td>British</td></tr><tr><td>203</td><td>shadow-matra</td><td>Shadow-Matra</td><td>British</td></tr><tr><td>204</td><td>brabham-alfa_romeo</td><td>Brabham-Alfa Romeo</td><td>British</td></tr><tr><td>205</td><td>lotus_racing</td><td>Lotus</td><td>Malaysian</td></tr><tr><td>206</td><td>marussia</td><td>Marussia</td><td>Russian</td></tr><tr><td>207</td><td>caterham</td><td>Caterham</td><td>Malaysian</td></tr><tr><td>208</td><td>lotus_f1</td><td>Lotus F1</td><td>British</td></tr><tr><td>209</td><td>manor</td><td>Manor Marussia</td><td>British</td></tr><tr><td>210</td><td>haas</td><td>Haas F1 Team</td><td>American</td></tr><tr><td>211</td><td>racing_point</td><td>Racing Point</td><td>British</td></tr><tr><td>213</td><td>alphatauri</td><td>AlphaTauri</td><td>Italian</td></tr><tr><td>214</td><td>alpine</td><td>Alpine F1 Team</td><td>French</td></tr></tbody></table></div>"
      ]
     },
     "metadata": {
      "application/vnd.databricks.v1+output": {
       "addedWidgets": {},
       "aggData": [],
       "aggError": "",
       "aggOverflow": false,
       "aggSchema": [],
       "aggSeriesLimitReached": false,
       "aggType": "",
       "arguments": {},
       "columnCustomDisplayInfos": {},
       "data": [
        [
         1,
         "mclaren",
         "McLaren",
         "British"
        ],
        [
         2,
         "bmw_sauber",
         "BMW Sauber",
         "German"
        ],
        [
         3,
         "williams",
         "Williams",
         "British"
        ],
        [
         4,
         "renault",
         "Renault",
         "French"
        ],
        [
         5,
         "toro_rosso",
         "Toro Rosso",
         "Italian"
        ],
        [
         6,
         "ferrari",
         "Ferrari",
         "Italian"
        ],
        [
         7,
         "toyota",
         "Toyota",
         "Japanese"
        ],
        [
         8,
         "super_aguri",
         "Super Aguri",
         "Japanese"
        ],
        [
         9,
         "red_bull",
         "Red Bull",
         "Austrian"
        ],
        [
         10,
         "force_india",
         "Force India",
         "Indian"
        ],
        [
         11,
         "honda",
         "Honda",
         "Japanese"
        ],
        [
         12,
         "spyker",
         "Spyker",
         "Dutch"
        ],
        [
         13,
         "mf1",
         "MF1",
         "Russian"
        ],
        [
         14,
         "spyker_mf1",
         "Spyker MF1",
         "Dutch"
        ],
        [
         15,
         "sauber",
         "Sauber",
         "Swiss"
        ],
        [
         16,
         "bar",
         "BAR",
         "British"
        ],
        [
         17,
         "jordan",
         "Jordan",
         "Irish"
        ],
        [
         18,
         "minardi",
         "Minardi",
         "Italian"
        ],
        [
         19,
         "jaguar",
         "Jaguar",
         "British"
        ],
        [
         20,
         "prost",
         "Prost",
         "French"
        ],
        [
         21,
         "arrows",
         "Arrows",
         "British"
        ],
        [
         22,
         "benetton",
         "Benetton",
         "Italian"
        ],
        [
         23,
         "brawn",
         "Brawn",
         "British"
        ],
        [
         24,
         "stewart",
         "Stewart",
         "British"
        ],
        [
         25,
         "tyrrell",
         "Tyrrell",
         "British"
        ],
        [
         26,
         "lola",
         "Lola",
         "British"
        ],
        [
         27,
         "ligier",
         "Ligier",
         "French"
        ],
        [
         28,
         "forti",
         "Forti",
         "Italian"
        ],
        [
         29,
         "footwork",
         "Footwork",
         "British"
        ],
        [
         30,
         "pacific",
         "Pacific",
         "British"
        ],
        [
         31,
         "simtek",
         "Simtek",
         "British"
        ],
        [
         32,
         "team_lotus",
         "Team Lotus",
         "British"
        ],
        [
         33,
         "larrousse",
         "Larrousse",
         "French"
        ],
        [
         34,
         "brabham",
         "Brabham",
         "British"
        ],
        [
         35,
         "dallara",
         "Dallara",
         "Italian"
        ],
        [
         36,
         "fondmetal",
         "Fondmetal",
         "Italian"
        ],
        [
         37,
         "march",
         "March",
         "British"
        ],
        [
         38,
         "moda",
         "Andrea Moda",
         "Italian"
        ],
        [
         39,
         "ags",
         "AGS",
         "French"
        ],
        [
         40,
         "lambo",
         "Lambo",
         "Italian"
        ],
        [
         41,
         "leyton",
         "Leyton House",
         "British"
        ],
        [
         42,
         "coloni",
         "Coloni",
         "Italian"
        ],
        [
         44,
         "eurobrun",
         "Euro Brun",
         "Italian"
        ],
        [
         45,
         "osella",
         "Osella",
         "Italian"
        ],
        [
         46,
         "onyx",
         "Onyx",
         "British"
        ],
        [
         47,
         "life",
         "Life",
         "Italian"
        ],
        [
         48,
         "rial",
         "Rial",
         "German"
        ],
        [
         49,
         "zakspeed",
         "Zakspeed",
         "German"
        ],
        [
         50,
         "ram",
         "RAM",
         "British"
        ],
        [
         51,
         "alfa",
         "Alfa Romeo",
         "Italian"
        ],
        [
         52,
         "spirit",
         "Spirit",
         "British"
        ],
        [
         53,
         "toleman",
         "Toleman",
         "British"
        ],
        [
         54,
         "ats",
         "ATS",
         "Italian"
        ],
        [
         55,
         "theodore",
         "Theodore",
         "Hong Kong"
        ],
        [
         56,
         "fittipaldi",
         "Fittipaldi",
         "Brazilian"
        ],
        [
         57,
         "ensign",
         "Ensign",
         "British"
        ],
        [
         58,
         "shadow",
         "Shadow",
         "British"
        ],
        [
         59,
         "wolf",
         "Wolf",
         "Canadian"
        ],
        [
         60,
         "merzario",
         "Merzario",
         "Italian"
        ],
        [
         61,
         "kauhsen",
         "Kauhsen",
         "German"
        ],
        [
         62,
         "rebaque",
         "Rebaque",
         "Mexican"
        ],
        [
         63,
         "surtees",
         "Surtees",
         "British"
        ],
        [
         64,
         "hesketh",
         "Hesketh",
         "British"
        ],
        [
         65,
         "martini",
         "Martini",
         "French"
        ],
        [
         66,
         "brm",
         "BRM",
         "British"
        ],
        [
         67,
         "penske",
         "Penske",
         "American"
        ],
        [
         68,
         "lec",
         "LEC",
         "British"
        ],
        [
         69,
         "mcguire",
         "McGuire",
         "Australian"
        ],
        [
         70,
         "boro",
         "Boro",
         "Dutch"
        ],
        [
         71,
         "apollon",
         "Apollon",
         "Swiss"
        ],
        [
         72,
         "kojima",
         "Kojima",
         "Japanese"
        ],
        [
         73,
         "parnelli",
         "Parnelli",
         "American"
        ],
        [
         74,
         "maki",
         "Maki",
         "Japanese"
        ],
        [
         75,
         "hill",
         "Embassy Hill",
         "British"
        ],
        [
         76,
         "lyncar",
         "Lyncar",
         "British"
        ],
        [
         77,
         "trojan",
         "Trojan",
         "British"
        ],
        [
         78,
         "amon",
         "Amon",
         "New Zealand"
        ],
        [
         79,
         "token",
         "Token",
         "British"
        ],
        [
         80,
         "iso_marlboro",
         "Iso Marlboro",
         "British"
        ],
        [
         81,
         "tecno",
         "Tecno",
         "Italian"
        ],
        [
         82,
         "matra",
         "Matra",
         "French"
        ],
        [
         83,
         "politoys",
         "Politoys",
         "British"
        ],
        [
         84,
         "connew",
         "Connew",
         "British"
        ],
        [
         85,
         "bellasi",
         "Bellasi",
         "Swiss"
        ],
        [
         86,
         "tomaso",
         "De Tomaso",
         "Italian"
        ],
        [
         87,
         "cooper",
         "Cooper",
         "British"
        ],
        [
         88,
         "eagle",
         "Eagle",
         "American"
        ],
        [
         89,
         "lds",
         "LDS",
         "South African"
        ],
        [
         90,
         "protos",
         "Protos",
         "British"
        ],
        [
         91,
         "shannon",
         "Shannon",
         "British"
        ],
        [
         92,
         "scirocco",
         "Scirocco",
         "British"
        ],
        [
         93,
         "re",
         "RE",
         "Rhodesian"
        ],
        [
         94,
         "brp",
         "BRP",
         "British"
        ],
        [
         95,
         "porsche",
         "Porsche",
         "German"
        ],
        [
         96,
         "derrington",
         "Derrington",
         "British"
        ],
        [
         97,
         "gilby",
         "Gilby",
         "British"
        ],
        [
         98,
         "stebro",
         "Stebro",
         "Canadian"
        ],
        [
         99,
         "emeryson",
         "Emeryson",
         "British"
        ],
        [
         100,
         "enb",
         "ENB",
         "Belgium"
        ],
        [
         101,
         "jbw",
         "JBW",
         "British"
        ],
        [
         102,
         "ferguson",
         "Ferguson",
         "British"
        ],
        [
         103,
         "mbm",
         "MBM",
         "Swiss"
        ],
        [
         104,
         "behra-porsche",
         "Behra-Porsche",
         "Italian"
        ],
        [
         105,
         "maserati",
         "Maserati",
         "Italian"
        ],
        [
         106,
         "scarab",
         "Scarab",
         "American"
        ],
        [
         107,
         "watson",
         "Watson",
         "American"
        ],
        [
         108,
         "epperly",
         "Epperly",
         "American"
        ],
        [
         109,
         "phillips",
         "Phillips",
         "American"
        ],
        [
         110,
         "lesovsky",
         "Lesovsky",
         "American"
        ],
        [
         111,
         "trevis",
         "Trevis",
         "American"
        ],
        [
         112,
         "meskowski",
         "Meskowski",
         "American"
        ],
        [
         113,
         "kurtis_kraft",
         "Kurtis Kraft",
         "American"
        ],
        [
         114,
         "kuzma",
         "Kuzma",
         "American"
        ],
        [
         115,
         "vhristensen",
         "Christensen",
         "American"
        ],
        [
         116,
         "ewing",
         "Ewing",
         "American"
        ],
        [
         117,
         "aston_martin",
         "Aston Martin",
         "British"
        ],
        [
         118,
         "vanwall",
         "Vanwall",
         "British"
        ],
        [
         119,
         "moore",
         "Moore",
         "American"
        ],
        [
         120,
         "dunn",
         "Dunn",
         "American"
        ],
        [
         121,
         "elder",
         "Elder",
         "American"
        ],
        [
         122,
         "sutton",
         "Sutton",
         "American"
        ],
        [
         123,
         "fry",
         "Fry",
         "British"
        ],
        [
         124,
         "tec-mec",
         "Tec-Mec",
         "Italian"
        ],
        [
         125,
         "connaught",
         "Connaught",
         "British"
        ],
        [
         126,
         "alta",
         "Alta",
         "British"
        ],
        [
         127,
         "osca",
         "OSCA",
         "Italian"
        ],
        [
         128,
         "gordini",
         "Gordini",
         "French"
        ],
        [
         129,
         "stevens",
         "Stevens",
         "American"
        ],
        [
         130,
         "bugatti",
         "Bugatti",
         "French"
        ],
        [
         131,
         "mercedes",
         "Mercedes",
         "German"
        ],
        [
         132,
         "lancia",
         "Lancia",
         "Italian"
        ],
        [
         133,
         "hwm",
         "HWM",
         "British"
        ],
        [
         134,
         "schroeder",
         "Schroeder",
         "American"
        ],
        [
         135,
         "pawl",
         "Pawl",
         "American"
        ],
        [
         136,
         "pankratz",
         "Pankratz",
         "American"
        ],
        [
         137,
         "arzani-volpini",
         "Arzani-Volpini",
         "Italian"
        ],
        [
         138,
         "nichels",
         "Nichels",
         "American"
        ],
        [
         139,
         "bromme",
         "Bromme",
         "American"
        ],
        [
         140,
         "klenk",
         "Klenk",
         "German"
        ],
        [
         141,
         "simca",
         "Simca",
         "French"
        ],
        [
         142,
         "turner",
         "Turner",
         "American"
        ],
        [
         143,
         "del_roy",
         "Del Roy",
         "American"
        ],
        [
         144,
         "veritas",
         "Veritas",
         "German"
        ],
        [
         145,
         "bmw",
         "BMW",
         "German"
        ],
        [
         146,
         "emw",
         "EMW",
         "East German"
        ],
        [
         147,
         "afm",
         "AFM",
         "German"
        ],
        [
         148,
         "frazer_nash",
         "Frazer Nash",
         "British"
        ],
        [
         149,
         "sherman",
         "Sherman",
         "American"
        ],
        [
         150,
         "deidt",
         "Deidt",
         "American"
        ],
        [
         151,
         "era",
         "ERA",
         "British"
        ],
        [
         152,
         "butterworth",
         "Aston Butterworth",
         "British"
        ],
        [
         153,
         "cisitalia",
         "Cisitalia",
         "Italian"
        ],
        [
         154,
         "lago",
         "Talbot-Lago",
         "French"
        ],
        [
         155,
         "hall",
         "Hall",
         "American"
        ],
        [
         156,
         "marchese",
         "Marchese",
         "American"
        ],
        [
         157,
         "langley",
         "Langley",
         "American"
        ],
        [
         158,
         "rae",
         "Rae",
         "American"
        ],
        [
         159,
         "olson",
         "Olson",
         "American"
        ],
        [
         160,
         "wetteroth",
         "Wetteroth",
         "American"
        ],
        [
         161,
         "adams",
         "Adams",
         "American"
        ],
        [
         162,
         "snowberger",
         "Snowberger",
         "American"
        ],
        [
         163,
         "milano",
         "Milano",
         "Italian"
        ],
        [
         164,
         "hrt",
         "HRT",
         "Spanish"
        ],
        [
         167,
         "cooper-maserati",
         "Cooper-Maserati",
         "British"
        ],
        [
         166,
         "virgin",
         "Virgin",
         "British"
        ],
        [
         168,
         "cooper-osca",
         "Cooper-OSCA",
         "British"
        ],
        [
         169,
         "cooper-borgward",
         "Cooper-Borgward",
         "British"
        ],
        [
         170,
         "cooper-climax",
         "Cooper-Climax",
         "British"
        ],
        [
         171,
         "cooper-castellotti",
         "Cooper-Castellotti",
         "British"
        ],
        [
         172,
         "lotus-climax",
         "Lotus-Climax",
         "British"
        ],
        [
         173,
         "lotus-maserati",
         "Lotus-Maserati",
         "British"
        ],
        [
         174,
         "de_tomaso-osca",
         "De Tomaso-Osca",
         "Italian"
        ],
        [
         175,
         "de_tomaso-alfa_romeo",
         "De Tomaso-Alfa Romeo",
         "Italian"
        ],
        [
         176,
         "lotus-brm",
         "Lotus-BRM",
         "British"
        ],
        [
         177,
         "lotus-borgward",
         "Lotus-Borgward",
         "British"
        ],
        [
         178,
         "cooper-alfa_romeo",
         "Cooper-Alfa Romeo",
         "British"
        ],
        [
         179,
         "de_tomaso-ferrari",
         "De Tomaso-Ferrari",
         "Italian"
        ],
        [
         180,
         "lotus-ford",
         "Lotus-Ford",
         "British"
        ],
        [
         181,
         "brabham-brm",
         "Brabham-BRM",
         "British"
        ],
        [
         182,
         "brabham-ford",
         "Brabham-Ford",
         "British"
        ],
        [
         183,
         "brabham-climax",
         "Brabham-Climax",
         "British"
        ],
        [
         184,
         "lds-climax",
         "LDS-Climax",
         "South African"
        ],
        [
         185,
         "lds-alfa_romeo",
         "LDS-Alfa Romeo",
         "South African"
        ],
        [
         186,
         "cooper-ford",
         "Cooper-Ford",
         "British"
        ],
        [
         187,
         "mclaren-ford",
         "McLaren-Ford",
         "British"
        ],
        [
         188,
         "mclaren-seren",
         "McLaren-Serenissima",
         "British"
        ],
        [
         189,
         "eagle-climax",
         "Eagle-Climax",
         "American"
        ],
        [
         190,
         "eagle-weslake",
         "Eagle-Weslake",
         "American"
        ],
        [
         191,
         "brabham-repco",
         "Brabham-Repco",
         "British"
        ],
        [
         192,
         "cooper-ferrari",
         "Cooper-Ferrari",
         "British"
        ],
        [
         193,
         "cooper-ats",
         "Cooper-ATS",
         "British"
        ],
        [
         194,
         "mclaren-brm",
         "McLaren-BRM",
         "British"
        ],
        [
         195,
         "cooper-brm",
         "Cooper-BRM",
         "British"
        ],
        [
         196,
         "matra-ford",
         "Matra-Ford",
         "French"
        ],
        [
         197,
         "brm-ford",
         "BRM-Ford",
         "British"
        ],
        [
         198,
         "mclaren-alfa_romeo",
         "McLaren-Alfa Romeo",
         "British"
        ],
        [
         199,
         "march-alfa_romeo",
         "March-Alfa Romeo",
         "British"
        ],
        [
         200,
         "march-ford",
         "March-Ford",
         "British"
        ],
        [
         201,
         "lotus-pw",
         "Lotus-Pratt &amp; Whitney",
         "British"
        ],
        [
         202,
         "shadow-ford",
         "Shadow-Ford",
         "British"
        ],
        [
         203,
         "shadow-matra",
         "Shadow-Matra",
         "British"
        ],
        [
         204,
         "brabham-alfa_romeo",
         "Brabham-Alfa Romeo",
         "British"
        ],
        [
         205,
         "lotus_racing",
         "Lotus",
         "Malaysian"
        ],
        [
         206,
         "marussia",
         "Marussia",
         "Russian"
        ],
        [
         207,
         "caterham",
         "Caterham",
         "Malaysian"
        ],
        [
         208,
         "lotus_f1",
         "Lotus F1",
         "British"
        ],
        [
         209,
         "manor",
         "Manor Marussia",
         "British"
        ],
        [
         210,
         "haas",
         "Haas F1 Team",
         "American"
        ],
        [
         211,
         "racing_point",
         "Racing Point",
         "British"
        ],
        [
         213,
         "alphatauri",
         "AlphaTauri",
         "Italian"
        ],
        [
         214,
         "alpine",
         "Alpine F1 Team",
         "French"
        ]
       ],
       "datasetInfos": [],
       "dbfsResultPath": null,
       "isJsonSchema": true,
       "metadata": {},
       "overflow": false,
       "plotOptions": {
        "customPlotOptions": {},
        "displayType": "table",
        "pivotAggregation": null,
        "pivotColumns": null,
        "xColumns": null,
        "yColumns": null
       },
       "removedWidgets": [],
       "schema": [
        {
         "metadata": "{}",
         "name": "constructorId",
         "type": "\"integer\""
        },
        {
         "metadata": "{}",
         "name": "constructorRef",
         "type": "\"string\""
        },
        {
         "metadata": "{}",
         "name": "name",
         "type": "\"string\""
        },
        {
         "metadata": "{}",
         "name": "nationality",
         "type": "\"string\""
        }
       ],
       "type": "table"
      }
     },
     "output_type": "display_data"
    }
   ],
   "source": [
    "# Dropping the unwanted URL column using dataframe.drop() function. Alternately you can select the only required columns ignoring the column that is not required and get the dataframe out of it\n",
    "constructors_df = constructors_df.drop(col(\"url\"))\n",
    "display(constructors_df)"
   ]
  },
  {
   "cell_type": "code",
   "execution_count": 0,
   "metadata": {
    "application/vnd.databricks.v1+cell": {
     "cellMetadata": {
      "byteLimit": 2048000,
      "rowLimit": 10000
     },
     "inputWidgets": {},
     "nuid": "5c82d274-2f6e-4811-a2a8-268e16143b91",
     "showTitle": false,
     "tableResultSettingsMap": {},
     "title": ""
    }
   },
   "outputs": [],
   "source": [
    "\n",
    "constructors_df_final = constructors_df.withColumnRenamed(\"constructorId\", \"constructor_id\") \\\n",
    "                                       .withColumnRenamed(\"constructorRef\", \"constructor_ref\") \\\n",
    "                                       .withColumn(\"file_date\", lit(v_file_date))"
   ]
  },
  {
   "cell_type": "code",
   "execution_count": 0,
   "metadata": {
    "application/vnd.databricks.v1+cell": {
     "cellMetadata": {
      "byteLimit": 2048000,
      "rowLimit": 10000
     },
     "inputWidgets": {},
     "nuid": "c9eb9e75-994e-41aa-8bfc-da7113d4d3f6",
     "showTitle": false,
     "tableResultSettingsMap": {},
     "title": ""
    }
   },
   "outputs": [],
   "source": [
    "constructors_df_final = ingest_current_timestamp(constructors_df_final)"
   ]
  },
  {
   "cell_type": "code",
   "execution_count": 0,
   "metadata": {
    "application/vnd.databricks.v1+cell": {
     "cellMetadata": {
      "byteLimit": 2048000,
      "rowLimit": 10000
     },
     "inputWidgets": {},
     "nuid": "9037e776-fe3c-4904-942e-0da981540c0e",
     "showTitle": false,
     "tableResultSettingsMap": {},
     "title": ""
    }
   },
   "outputs": [
    {
     "output_type": "display_data",
     "data": {
      "text/html": [
       "<style scoped>\n",
       "  .table-result-container {\n",
       "    max-height: 300px;\n",
       "    overflow: auto;\n",
       "  }\n",
       "  table, th, td {\n",
       "    border: 1px solid black;\n",
       "    border-collapse: collapse;\n",
       "  }\n",
       "  th, td {\n",
       "    padding: 5px;\n",
       "  }\n",
       "  th {\n",
       "    text-align: left;\n",
       "  }\n",
       "</style><div class='table-result-container'><table class='table-result'><thead style='background-color: white'><tr><th>constructor_id</th><th>constructor_ref</th><th>name</th><th>nationality</th><th>file_date</th><th>ingest_date</th></tr></thead><tbody><tr><td>1</td><td>mclaren</td><td>McLaren</td><td>British</td><td>2021-03-21</td><td>2025-04-18T12:34:10.081Z</td></tr><tr><td>2</td><td>bmw_sauber</td><td>BMW Sauber</td><td>German</td><td>2021-03-21</td><td>2025-04-18T12:34:10.081Z</td></tr><tr><td>3</td><td>williams</td><td>Williams</td><td>British</td><td>2021-03-21</td><td>2025-04-18T12:34:10.081Z</td></tr><tr><td>4</td><td>renault</td><td>Renault</td><td>French</td><td>2021-03-21</td><td>2025-04-18T12:34:10.081Z</td></tr><tr><td>5</td><td>toro_rosso</td><td>Toro Rosso</td><td>Italian</td><td>2021-03-21</td><td>2025-04-18T12:34:10.081Z</td></tr><tr><td>6</td><td>ferrari</td><td>Ferrari</td><td>Italian</td><td>2021-03-21</td><td>2025-04-18T12:34:10.081Z</td></tr><tr><td>7</td><td>toyota</td><td>Toyota</td><td>Japanese</td><td>2021-03-21</td><td>2025-04-18T12:34:10.081Z</td></tr><tr><td>8</td><td>super_aguri</td><td>Super Aguri</td><td>Japanese</td><td>2021-03-21</td><td>2025-04-18T12:34:10.081Z</td></tr><tr><td>9</td><td>red_bull</td><td>Red Bull</td><td>Austrian</td><td>2021-03-21</td><td>2025-04-18T12:34:10.081Z</td></tr><tr><td>10</td><td>force_india</td><td>Force India</td><td>Indian</td><td>2021-03-21</td><td>2025-04-18T12:34:10.081Z</td></tr><tr><td>11</td><td>honda</td><td>Honda</td><td>Japanese</td><td>2021-03-21</td><td>2025-04-18T12:34:10.081Z</td></tr><tr><td>12</td><td>spyker</td><td>Spyker</td><td>Dutch</td><td>2021-03-21</td><td>2025-04-18T12:34:10.081Z</td></tr><tr><td>13</td><td>mf1</td><td>MF1</td><td>Russian</td><td>2021-03-21</td><td>2025-04-18T12:34:10.081Z</td></tr><tr><td>14</td><td>spyker_mf1</td><td>Spyker MF1</td><td>Dutch</td><td>2021-03-21</td><td>2025-04-18T12:34:10.081Z</td></tr><tr><td>15</td><td>sauber</td><td>Sauber</td><td>Swiss</td><td>2021-03-21</td><td>2025-04-18T12:34:10.081Z</td></tr><tr><td>16</td><td>bar</td><td>BAR</td><td>British</td><td>2021-03-21</td><td>2025-04-18T12:34:10.081Z</td></tr><tr><td>17</td><td>jordan</td><td>Jordan</td><td>Irish</td><td>2021-03-21</td><td>2025-04-18T12:34:10.081Z</td></tr><tr><td>18</td><td>minardi</td><td>Minardi</td><td>Italian</td><td>2021-03-21</td><td>2025-04-18T12:34:10.081Z</td></tr><tr><td>19</td><td>jaguar</td><td>Jaguar</td><td>British</td><td>2021-03-21</td><td>2025-04-18T12:34:10.081Z</td></tr><tr><td>20</td><td>prost</td><td>Prost</td><td>French</td><td>2021-03-21</td><td>2025-04-18T12:34:10.081Z</td></tr><tr><td>21</td><td>arrows</td><td>Arrows</td><td>British</td><td>2021-03-21</td><td>2025-04-18T12:34:10.081Z</td></tr><tr><td>22</td><td>benetton</td><td>Benetton</td><td>Italian</td><td>2021-03-21</td><td>2025-04-18T12:34:10.081Z</td></tr><tr><td>23</td><td>brawn</td><td>Brawn</td><td>British</td><td>2021-03-21</td><td>2025-04-18T12:34:10.081Z</td></tr><tr><td>24</td><td>stewart</td><td>Stewart</td><td>British</td><td>2021-03-21</td><td>2025-04-18T12:34:10.081Z</td></tr><tr><td>25</td><td>tyrrell</td><td>Tyrrell</td><td>British</td><td>2021-03-21</td><td>2025-04-18T12:34:10.081Z</td></tr><tr><td>26</td><td>lola</td><td>Lola</td><td>British</td><td>2021-03-21</td><td>2025-04-18T12:34:10.081Z</td></tr><tr><td>27</td><td>ligier</td><td>Ligier</td><td>French</td><td>2021-03-21</td><td>2025-04-18T12:34:10.081Z</td></tr><tr><td>28</td><td>forti</td><td>Forti</td><td>Italian</td><td>2021-03-21</td><td>2025-04-18T12:34:10.081Z</td></tr><tr><td>29</td><td>footwork</td><td>Footwork</td><td>British</td><td>2021-03-21</td><td>2025-04-18T12:34:10.081Z</td></tr><tr><td>30</td><td>pacific</td><td>Pacific</td><td>British</td><td>2021-03-21</td><td>2025-04-18T12:34:10.081Z</td></tr><tr><td>31</td><td>simtek</td><td>Simtek</td><td>British</td><td>2021-03-21</td><td>2025-04-18T12:34:10.081Z</td></tr><tr><td>32</td><td>team_lotus</td><td>Team Lotus</td><td>British</td><td>2021-03-21</td><td>2025-04-18T12:34:10.081Z</td></tr><tr><td>33</td><td>larrousse</td><td>Larrousse</td><td>French</td><td>2021-03-21</td><td>2025-04-18T12:34:10.081Z</td></tr><tr><td>34</td><td>brabham</td><td>Brabham</td><td>British</td><td>2021-03-21</td><td>2025-04-18T12:34:10.081Z</td></tr><tr><td>35</td><td>dallara</td><td>Dallara</td><td>Italian</td><td>2021-03-21</td><td>2025-04-18T12:34:10.081Z</td></tr><tr><td>36</td><td>fondmetal</td><td>Fondmetal</td><td>Italian</td><td>2021-03-21</td><td>2025-04-18T12:34:10.081Z</td></tr><tr><td>37</td><td>march</td><td>March</td><td>British</td><td>2021-03-21</td><td>2025-04-18T12:34:10.081Z</td></tr><tr><td>38</td><td>moda</td><td>Andrea Moda</td><td>Italian</td><td>2021-03-21</td><td>2025-04-18T12:34:10.081Z</td></tr><tr><td>39</td><td>ags</td><td>AGS</td><td>French</td><td>2021-03-21</td><td>2025-04-18T12:34:10.081Z</td></tr><tr><td>40</td><td>lambo</td><td>Lambo</td><td>Italian</td><td>2021-03-21</td><td>2025-04-18T12:34:10.081Z</td></tr><tr><td>41</td><td>leyton</td><td>Leyton House</td><td>British</td><td>2021-03-21</td><td>2025-04-18T12:34:10.081Z</td></tr><tr><td>42</td><td>coloni</td><td>Coloni</td><td>Italian</td><td>2021-03-21</td><td>2025-04-18T12:34:10.081Z</td></tr><tr><td>44</td><td>eurobrun</td><td>Euro Brun</td><td>Italian</td><td>2021-03-21</td><td>2025-04-18T12:34:10.081Z</td></tr><tr><td>45</td><td>osella</td><td>Osella</td><td>Italian</td><td>2021-03-21</td><td>2025-04-18T12:34:10.081Z</td></tr><tr><td>46</td><td>onyx</td><td>Onyx</td><td>British</td><td>2021-03-21</td><td>2025-04-18T12:34:10.081Z</td></tr><tr><td>47</td><td>life</td><td>Life</td><td>Italian</td><td>2021-03-21</td><td>2025-04-18T12:34:10.081Z</td></tr><tr><td>48</td><td>rial</td><td>Rial</td><td>German</td><td>2021-03-21</td><td>2025-04-18T12:34:10.081Z</td></tr><tr><td>49</td><td>zakspeed</td><td>Zakspeed</td><td>German</td><td>2021-03-21</td><td>2025-04-18T12:34:10.081Z</td></tr><tr><td>50</td><td>ram</td><td>RAM</td><td>British</td><td>2021-03-21</td><td>2025-04-18T12:34:10.081Z</td></tr><tr><td>51</td><td>alfa</td><td>Alfa Romeo</td><td>Italian</td><td>2021-03-21</td><td>2025-04-18T12:34:10.081Z</td></tr><tr><td>52</td><td>spirit</td><td>Spirit</td><td>British</td><td>2021-03-21</td><td>2025-04-18T12:34:10.081Z</td></tr><tr><td>53</td><td>toleman</td><td>Toleman</td><td>British</td><td>2021-03-21</td><td>2025-04-18T12:34:10.081Z</td></tr><tr><td>54</td><td>ats</td><td>ATS</td><td>Italian</td><td>2021-03-21</td><td>2025-04-18T12:34:10.081Z</td></tr><tr><td>55</td><td>theodore</td><td>Theodore</td><td>Hong Kong</td><td>2021-03-21</td><td>2025-04-18T12:34:10.081Z</td></tr><tr><td>56</td><td>fittipaldi</td><td>Fittipaldi</td><td>Brazilian</td><td>2021-03-21</td><td>2025-04-18T12:34:10.081Z</td></tr><tr><td>57</td><td>ensign</td><td>Ensign</td><td>British</td><td>2021-03-21</td><td>2025-04-18T12:34:10.081Z</td></tr><tr><td>58</td><td>shadow</td><td>Shadow</td><td>British</td><td>2021-03-21</td><td>2025-04-18T12:34:10.081Z</td></tr><tr><td>59</td><td>wolf</td><td>Wolf</td><td>Canadian</td><td>2021-03-21</td><td>2025-04-18T12:34:10.081Z</td></tr><tr><td>60</td><td>merzario</td><td>Merzario</td><td>Italian</td><td>2021-03-21</td><td>2025-04-18T12:34:10.081Z</td></tr><tr><td>61</td><td>kauhsen</td><td>Kauhsen</td><td>German</td><td>2021-03-21</td><td>2025-04-18T12:34:10.081Z</td></tr><tr><td>62</td><td>rebaque</td><td>Rebaque</td><td>Mexican</td><td>2021-03-21</td><td>2025-04-18T12:34:10.081Z</td></tr><tr><td>63</td><td>surtees</td><td>Surtees</td><td>British</td><td>2021-03-21</td><td>2025-04-18T12:34:10.081Z</td></tr><tr><td>64</td><td>hesketh</td><td>Hesketh</td><td>British</td><td>2021-03-21</td><td>2025-04-18T12:34:10.081Z</td></tr><tr><td>65</td><td>martini</td><td>Martini</td><td>French</td><td>2021-03-21</td><td>2025-04-18T12:34:10.081Z</td></tr><tr><td>66</td><td>brm</td><td>BRM</td><td>British</td><td>2021-03-21</td><td>2025-04-18T12:34:10.081Z</td></tr><tr><td>67</td><td>penske</td><td>Penske</td><td>American</td><td>2021-03-21</td><td>2025-04-18T12:34:10.081Z</td></tr><tr><td>68</td><td>lec</td><td>LEC</td><td>British</td><td>2021-03-21</td><td>2025-04-18T12:34:10.081Z</td></tr><tr><td>69</td><td>mcguire</td><td>McGuire</td><td>Australian</td><td>2021-03-21</td><td>2025-04-18T12:34:10.081Z</td></tr><tr><td>70</td><td>boro</td><td>Boro</td><td>Dutch</td><td>2021-03-21</td><td>2025-04-18T12:34:10.081Z</td></tr><tr><td>71</td><td>apollon</td><td>Apollon</td><td>Swiss</td><td>2021-03-21</td><td>2025-04-18T12:34:10.081Z</td></tr><tr><td>72</td><td>kojima</td><td>Kojima</td><td>Japanese</td><td>2021-03-21</td><td>2025-04-18T12:34:10.081Z</td></tr><tr><td>73</td><td>parnelli</td><td>Parnelli</td><td>American</td><td>2021-03-21</td><td>2025-04-18T12:34:10.081Z</td></tr><tr><td>74</td><td>maki</td><td>Maki</td><td>Japanese</td><td>2021-03-21</td><td>2025-04-18T12:34:10.081Z</td></tr><tr><td>75</td><td>hill</td><td>Embassy Hill</td><td>British</td><td>2021-03-21</td><td>2025-04-18T12:34:10.081Z</td></tr><tr><td>76</td><td>lyncar</td><td>Lyncar</td><td>British</td><td>2021-03-21</td><td>2025-04-18T12:34:10.081Z</td></tr><tr><td>77</td><td>trojan</td><td>Trojan</td><td>British</td><td>2021-03-21</td><td>2025-04-18T12:34:10.081Z</td></tr><tr><td>78</td><td>amon</td><td>Amon</td><td>New Zealand</td><td>2021-03-21</td><td>2025-04-18T12:34:10.081Z</td></tr><tr><td>79</td><td>token</td><td>Token</td><td>British</td><td>2021-03-21</td><td>2025-04-18T12:34:10.081Z</td></tr><tr><td>80</td><td>iso_marlboro</td><td>Iso Marlboro</td><td>British</td><td>2021-03-21</td><td>2025-04-18T12:34:10.081Z</td></tr><tr><td>81</td><td>tecno</td><td>Tecno</td><td>Italian</td><td>2021-03-21</td><td>2025-04-18T12:34:10.081Z</td></tr><tr><td>82</td><td>matra</td><td>Matra</td><td>French</td><td>2021-03-21</td><td>2025-04-18T12:34:10.081Z</td></tr><tr><td>83</td><td>politoys</td><td>Politoys</td><td>British</td><td>2021-03-21</td><td>2025-04-18T12:34:10.081Z</td></tr><tr><td>84</td><td>connew</td><td>Connew</td><td>British</td><td>2021-03-21</td><td>2025-04-18T12:34:10.081Z</td></tr><tr><td>85</td><td>bellasi</td><td>Bellasi</td><td>Swiss</td><td>2021-03-21</td><td>2025-04-18T12:34:10.081Z</td></tr><tr><td>86</td><td>tomaso</td><td>De Tomaso</td><td>Italian</td><td>2021-03-21</td><td>2025-04-18T12:34:10.081Z</td></tr><tr><td>87</td><td>cooper</td><td>Cooper</td><td>British</td><td>2021-03-21</td><td>2025-04-18T12:34:10.081Z</td></tr><tr><td>88</td><td>eagle</td><td>Eagle</td><td>American</td><td>2021-03-21</td><td>2025-04-18T12:34:10.081Z</td></tr><tr><td>89</td><td>lds</td><td>LDS</td><td>South African</td><td>2021-03-21</td><td>2025-04-18T12:34:10.081Z</td></tr><tr><td>90</td><td>protos</td><td>Protos</td><td>British</td><td>2021-03-21</td><td>2025-04-18T12:34:10.081Z</td></tr><tr><td>91</td><td>shannon</td><td>Shannon</td><td>British</td><td>2021-03-21</td><td>2025-04-18T12:34:10.081Z</td></tr><tr><td>92</td><td>scirocco</td><td>Scirocco</td><td>British</td><td>2021-03-21</td><td>2025-04-18T12:34:10.081Z</td></tr><tr><td>93</td><td>re</td><td>RE</td><td>Rhodesian</td><td>2021-03-21</td><td>2025-04-18T12:34:10.081Z</td></tr><tr><td>94</td><td>brp</td><td>BRP</td><td>British</td><td>2021-03-21</td><td>2025-04-18T12:34:10.081Z</td></tr><tr><td>95</td><td>porsche</td><td>Porsche</td><td>German</td><td>2021-03-21</td><td>2025-04-18T12:34:10.081Z</td></tr><tr><td>96</td><td>derrington</td><td>Derrington</td><td>British</td><td>2021-03-21</td><td>2025-04-18T12:34:10.081Z</td></tr><tr><td>97</td><td>gilby</td><td>Gilby</td><td>British</td><td>2021-03-21</td><td>2025-04-18T12:34:10.081Z</td></tr><tr><td>98</td><td>stebro</td><td>Stebro</td><td>Canadian</td><td>2021-03-21</td><td>2025-04-18T12:34:10.081Z</td></tr><tr><td>99</td><td>emeryson</td><td>Emeryson</td><td>British</td><td>2021-03-21</td><td>2025-04-18T12:34:10.081Z</td></tr><tr><td>100</td><td>enb</td><td>ENB</td><td>Belgium</td><td>2021-03-21</td><td>2025-04-18T12:34:10.081Z</td></tr><tr><td>101</td><td>jbw</td><td>JBW</td><td>British</td><td>2021-03-21</td><td>2025-04-18T12:34:10.081Z</td></tr><tr><td>102</td><td>ferguson</td><td>Ferguson</td><td>British</td><td>2021-03-21</td><td>2025-04-18T12:34:10.081Z</td></tr><tr><td>103</td><td>mbm</td><td>MBM</td><td>Swiss</td><td>2021-03-21</td><td>2025-04-18T12:34:10.081Z</td></tr><tr><td>104</td><td>behra-porsche</td><td>Behra-Porsche</td><td>Italian</td><td>2021-03-21</td><td>2025-04-18T12:34:10.081Z</td></tr><tr><td>105</td><td>maserati</td><td>Maserati</td><td>Italian</td><td>2021-03-21</td><td>2025-04-18T12:34:10.081Z</td></tr><tr><td>106</td><td>scarab</td><td>Scarab</td><td>American</td><td>2021-03-21</td><td>2025-04-18T12:34:10.081Z</td></tr><tr><td>107</td><td>watson</td><td>Watson</td><td>American</td><td>2021-03-21</td><td>2025-04-18T12:34:10.081Z</td></tr><tr><td>108</td><td>epperly</td><td>Epperly</td><td>American</td><td>2021-03-21</td><td>2025-04-18T12:34:10.081Z</td></tr><tr><td>109</td><td>phillips</td><td>Phillips</td><td>American</td><td>2021-03-21</td><td>2025-04-18T12:34:10.081Z</td></tr><tr><td>110</td><td>lesovsky</td><td>Lesovsky</td><td>American</td><td>2021-03-21</td><td>2025-04-18T12:34:10.081Z</td></tr><tr><td>111</td><td>trevis</td><td>Trevis</td><td>American</td><td>2021-03-21</td><td>2025-04-18T12:34:10.081Z</td></tr><tr><td>112</td><td>meskowski</td><td>Meskowski</td><td>American</td><td>2021-03-21</td><td>2025-04-18T12:34:10.081Z</td></tr><tr><td>113</td><td>kurtis_kraft</td><td>Kurtis Kraft</td><td>American</td><td>2021-03-21</td><td>2025-04-18T12:34:10.081Z</td></tr><tr><td>114</td><td>kuzma</td><td>Kuzma</td><td>American</td><td>2021-03-21</td><td>2025-04-18T12:34:10.081Z</td></tr><tr><td>115</td><td>vhristensen</td><td>Christensen</td><td>American</td><td>2021-03-21</td><td>2025-04-18T12:34:10.081Z</td></tr><tr><td>116</td><td>ewing</td><td>Ewing</td><td>American</td><td>2021-03-21</td><td>2025-04-18T12:34:10.081Z</td></tr><tr><td>117</td><td>aston_martin</td><td>Aston Martin</td><td>British</td><td>2021-03-21</td><td>2025-04-18T12:34:10.081Z</td></tr><tr><td>118</td><td>vanwall</td><td>Vanwall</td><td>British</td><td>2021-03-21</td><td>2025-04-18T12:34:10.081Z</td></tr><tr><td>119</td><td>moore</td><td>Moore</td><td>American</td><td>2021-03-21</td><td>2025-04-18T12:34:10.081Z</td></tr><tr><td>120</td><td>dunn</td><td>Dunn</td><td>American</td><td>2021-03-21</td><td>2025-04-18T12:34:10.081Z</td></tr><tr><td>121</td><td>elder</td><td>Elder</td><td>American</td><td>2021-03-21</td><td>2025-04-18T12:34:10.081Z</td></tr><tr><td>122</td><td>sutton</td><td>Sutton</td><td>American</td><td>2021-03-21</td><td>2025-04-18T12:34:10.081Z</td></tr><tr><td>123</td><td>fry</td><td>Fry</td><td>British</td><td>2021-03-21</td><td>2025-04-18T12:34:10.081Z</td></tr><tr><td>124</td><td>tec-mec</td><td>Tec-Mec</td><td>Italian</td><td>2021-03-21</td><td>2025-04-18T12:34:10.081Z</td></tr><tr><td>125</td><td>connaught</td><td>Connaught</td><td>British</td><td>2021-03-21</td><td>2025-04-18T12:34:10.081Z</td></tr><tr><td>126</td><td>alta</td><td>Alta</td><td>British</td><td>2021-03-21</td><td>2025-04-18T12:34:10.081Z</td></tr><tr><td>127</td><td>osca</td><td>OSCA</td><td>Italian</td><td>2021-03-21</td><td>2025-04-18T12:34:10.081Z</td></tr><tr><td>128</td><td>gordini</td><td>Gordini</td><td>French</td><td>2021-03-21</td><td>2025-04-18T12:34:10.081Z</td></tr><tr><td>129</td><td>stevens</td><td>Stevens</td><td>American</td><td>2021-03-21</td><td>2025-04-18T12:34:10.081Z</td></tr><tr><td>130</td><td>bugatti</td><td>Bugatti</td><td>French</td><td>2021-03-21</td><td>2025-04-18T12:34:10.081Z</td></tr><tr><td>131</td><td>mercedes</td><td>Mercedes</td><td>German</td><td>2021-03-21</td><td>2025-04-18T12:34:10.081Z</td></tr><tr><td>132</td><td>lancia</td><td>Lancia</td><td>Italian</td><td>2021-03-21</td><td>2025-04-18T12:34:10.081Z</td></tr><tr><td>133</td><td>hwm</td><td>HWM</td><td>British</td><td>2021-03-21</td><td>2025-04-18T12:34:10.081Z</td></tr><tr><td>134</td><td>schroeder</td><td>Schroeder</td><td>American</td><td>2021-03-21</td><td>2025-04-18T12:34:10.081Z</td></tr><tr><td>135</td><td>pawl</td><td>Pawl</td><td>American</td><td>2021-03-21</td><td>2025-04-18T12:34:10.081Z</td></tr><tr><td>136</td><td>pankratz</td><td>Pankratz</td><td>American</td><td>2021-03-21</td><td>2025-04-18T12:34:10.081Z</td></tr><tr><td>137</td><td>arzani-volpini</td><td>Arzani-Volpini</td><td>Italian</td><td>2021-03-21</td><td>2025-04-18T12:34:10.081Z</td></tr><tr><td>138</td><td>nichels</td><td>Nichels</td><td>American</td><td>2021-03-21</td><td>2025-04-18T12:34:10.081Z</td></tr><tr><td>139</td><td>bromme</td><td>Bromme</td><td>American</td><td>2021-03-21</td><td>2025-04-18T12:34:10.081Z</td></tr><tr><td>140</td><td>klenk</td><td>Klenk</td><td>German</td><td>2021-03-21</td><td>2025-04-18T12:34:10.081Z</td></tr><tr><td>141</td><td>simca</td><td>Simca</td><td>French</td><td>2021-03-21</td><td>2025-04-18T12:34:10.081Z</td></tr><tr><td>142</td><td>turner</td><td>Turner</td><td>American</td><td>2021-03-21</td><td>2025-04-18T12:34:10.081Z</td></tr><tr><td>143</td><td>del_roy</td><td>Del Roy</td><td>American</td><td>2021-03-21</td><td>2025-04-18T12:34:10.081Z</td></tr><tr><td>144</td><td>veritas</td><td>Veritas</td><td>German</td><td>2021-03-21</td><td>2025-04-18T12:34:10.081Z</td></tr><tr><td>145</td><td>bmw</td><td>BMW</td><td>German</td><td>2021-03-21</td><td>2025-04-18T12:34:10.081Z</td></tr><tr><td>146</td><td>emw</td><td>EMW</td><td>East German</td><td>2021-03-21</td><td>2025-04-18T12:34:10.081Z</td></tr><tr><td>147</td><td>afm</td><td>AFM</td><td>German</td><td>2021-03-21</td><td>2025-04-18T12:34:10.081Z</td></tr><tr><td>148</td><td>frazer_nash</td><td>Frazer Nash</td><td>British</td><td>2021-03-21</td><td>2025-04-18T12:34:10.081Z</td></tr><tr><td>149</td><td>sherman</td><td>Sherman</td><td>American</td><td>2021-03-21</td><td>2025-04-18T12:34:10.081Z</td></tr><tr><td>150</td><td>deidt</td><td>Deidt</td><td>American</td><td>2021-03-21</td><td>2025-04-18T12:34:10.081Z</td></tr><tr><td>151</td><td>era</td><td>ERA</td><td>British</td><td>2021-03-21</td><td>2025-04-18T12:34:10.081Z</td></tr><tr><td>152</td><td>butterworth</td><td>Aston Butterworth</td><td>British</td><td>2021-03-21</td><td>2025-04-18T12:34:10.081Z</td></tr><tr><td>153</td><td>cisitalia</td><td>Cisitalia</td><td>Italian</td><td>2021-03-21</td><td>2025-04-18T12:34:10.081Z</td></tr><tr><td>154</td><td>lago</td><td>Talbot-Lago</td><td>French</td><td>2021-03-21</td><td>2025-04-18T12:34:10.081Z</td></tr><tr><td>155</td><td>hall</td><td>Hall</td><td>American</td><td>2021-03-21</td><td>2025-04-18T12:34:10.081Z</td></tr><tr><td>156</td><td>marchese</td><td>Marchese</td><td>American</td><td>2021-03-21</td><td>2025-04-18T12:34:10.081Z</td></tr><tr><td>157</td><td>langley</td><td>Langley</td><td>American</td><td>2021-03-21</td><td>2025-04-18T12:34:10.081Z</td></tr><tr><td>158</td><td>rae</td><td>Rae</td><td>American</td><td>2021-03-21</td><td>2025-04-18T12:34:10.081Z</td></tr><tr><td>159</td><td>olson</td><td>Olson</td><td>American</td><td>2021-03-21</td><td>2025-04-18T12:34:10.081Z</td></tr><tr><td>160</td><td>wetteroth</td><td>Wetteroth</td><td>American</td><td>2021-03-21</td><td>2025-04-18T12:34:10.081Z</td></tr><tr><td>161</td><td>adams</td><td>Adams</td><td>American</td><td>2021-03-21</td><td>2025-04-18T12:34:10.081Z</td></tr><tr><td>162</td><td>snowberger</td><td>Snowberger</td><td>American</td><td>2021-03-21</td><td>2025-04-18T12:34:10.081Z</td></tr><tr><td>163</td><td>milano</td><td>Milano</td><td>Italian</td><td>2021-03-21</td><td>2025-04-18T12:34:10.081Z</td></tr><tr><td>164</td><td>hrt</td><td>HRT</td><td>Spanish</td><td>2021-03-21</td><td>2025-04-18T12:34:10.081Z</td></tr><tr><td>167</td><td>cooper-maserati</td><td>Cooper-Maserati</td><td>British</td><td>2021-03-21</td><td>2025-04-18T12:34:10.081Z</td></tr><tr><td>166</td><td>virgin</td><td>Virgin</td><td>British</td><td>2021-03-21</td><td>2025-04-18T12:34:10.081Z</td></tr><tr><td>168</td><td>cooper-osca</td><td>Cooper-OSCA</td><td>British</td><td>2021-03-21</td><td>2025-04-18T12:34:10.081Z</td></tr><tr><td>169</td><td>cooper-borgward</td><td>Cooper-Borgward</td><td>British</td><td>2021-03-21</td><td>2025-04-18T12:34:10.081Z</td></tr><tr><td>170</td><td>cooper-climax</td><td>Cooper-Climax</td><td>British</td><td>2021-03-21</td><td>2025-04-18T12:34:10.081Z</td></tr><tr><td>171</td><td>cooper-castellotti</td><td>Cooper-Castellotti</td><td>British</td><td>2021-03-21</td><td>2025-04-18T12:34:10.081Z</td></tr><tr><td>172</td><td>lotus-climax</td><td>Lotus-Climax</td><td>British</td><td>2021-03-21</td><td>2025-04-18T12:34:10.081Z</td></tr><tr><td>173</td><td>lotus-maserati</td><td>Lotus-Maserati</td><td>British</td><td>2021-03-21</td><td>2025-04-18T12:34:10.081Z</td></tr><tr><td>174</td><td>de_tomaso-osca</td><td>De Tomaso-Osca</td><td>Italian</td><td>2021-03-21</td><td>2025-04-18T12:34:10.081Z</td></tr><tr><td>175</td><td>de_tomaso-alfa_romeo</td><td>De Tomaso-Alfa Romeo</td><td>Italian</td><td>2021-03-21</td><td>2025-04-18T12:34:10.081Z</td></tr><tr><td>176</td><td>lotus-brm</td><td>Lotus-BRM</td><td>British</td><td>2021-03-21</td><td>2025-04-18T12:34:10.081Z</td></tr><tr><td>177</td><td>lotus-borgward</td><td>Lotus-Borgward</td><td>British</td><td>2021-03-21</td><td>2025-04-18T12:34:10.081Z</td></tr><tr><td>178</td><td>cooper-alfa_romeo</td><td>Cooper-Alfa Romeo</td><td>British</td><td>2021-03-21</td><td>2025-04-18T12:34:10.081Z</td></tr><tr><td>179</td><td>de_tomaso-ferrari</td><td>De Tomaso-Ferrari</td><td>Italian</td><td>2021-03-21</td><td>2025-04-18T12:34:10.081Z</td></tr><tr><td>180</td><td>lotus-ford</td><td>Lotus-Ford</td><td>British</td><td>2021-03-21</td><td>2025-04-18T12:34:10.081Z</td></tr><tr><td>181</td><td>brabham-brm</td><td>Brabham-BRM</td><td>British</td><td>2021-03-21</td><td>2025-04-18T12:34:10.081Z</td></tr><tr><td>182</td><td>brabham-ford</td><td>Brabham-Ford</td><td>British</td><td>2021-03-21</td><td>2025-04-18T12:34:10.081Z</td></tr><tr><td>183</td><td>brabham-climax</td><td>Brabham-Climax</td><td>British</td><td>2021-03-21</td><td>2025-04-18T12:34:10.081Z</td></tr><tr><td>184</td><td>lds-climax</td><td>LDS-Climax</td><td>South African</td><td>2021-03-21</td><td>2025-04-18T12:34:10.081Z</td></tr><tr><td>185</td><td>lds-alfa_romeo</td><td>LDS-Alfa Romeo</td><td>South African</td><td>2021-03-21</td><td>2025-04-18T12:34:10.081Z</td></tr><tr><td>186</td><td>cooper-ford</td><td>Cooper-Ford</td><td>British</td><td>2021-03-21</td><td>2025-04-18T12:34:10.081Z</td></tr><tr><td>187</td><td>mclaren-ford</td><td>McLaren-Ford</td><td>British</td><td>2021-03-21</td><td>2025-04-18T12:34:10.081Z</td></tr><tr><td>188</td><td>mclaren-seren</td><td>McLaren-Serenissima</td><td>British</td><td>2021-03-21</td><td>2025-04-18T12:34:10.081Z</td></tr><tr><td>189</td><td>eagle-climax</td><td>Eagle-Climax</td><td>American</td><td>2021-03-21</td><td>2025-04-18T12:34:10.081Z</td></tr><tr><td>190</td><td>eagle-weslake</td><td>Eagle-Weslake</td><td>American</td><td>2021-03-21</td><td>2025-04-18T12:34:10.081Z</td></tr><tr><td>191</td><td>brabham-repco</td><td>Brabham-Repco</td><td>British</td><td>2021-03-21</td><td>2025-04-18T12:34:10.081Z</td></tr><tr><td>192</td><td>cooper-ferrari</td><td>Cooper-Ferrari</td><td>British</td><td>2021-03-21</td><td>2025-04-18T12:34:10.081Z</td></tr><tr><td>193</td><td>cooper-ats</td><td>Cooper-ATS</td><td>British</td><td>2021-03-21</td><td>2025-04-18T12:34:10.081Z</td></tr><tr><td>194</td><td>mclaren-brm</td><td>McLaren-BRM</td><td>British</td><td>2021-03-21</td><td>2025-04-18T12:34:10.081Z</td></tr><tr><td>195</td><td>cooper-brm</td><td>Cooper-BRM</td><td>British</td><td>2021-03-21</td><td>2025-04-18T12:34:10.081Z</td></tr><tr><td>196</td><td>matra-ford</td><td>Matra-Ford</td><td>French</td><td>2021-03-21</td><td>2025-04-18T12:34:10.081Z</td></tr><tr><td>197</td><td>brm-ford</td><td>BRM-Ford</td><td>British</td><td>2021-03-21</td><td>2025-04-18T12:34:10.081Z</td></tr><tr><td>198</td><td>mclaren-alfa_romeo</td><td>McLaren-Alfa Romeo</td><td>British</td><td>2021-03-21</td><td>2025-04-18T12:34:10.081Z</td></tr><tr><td>199</td><td>march-alfa_romeo</td><td>March-Alfa Romeo</td><td>British</td><td>2021-03-21</td><td>2025-04-18T12:34:10.081Z</td></tr><tr><td>200</td><td>march-ford</td><td>March-Ford</td><td>British</td><td>2021-03-21</td><td>2025-04-18T12:34:10.081Z</td></tr><tr><td>201</td><td>lotus-pw</td><td>Lotus-Pratt &amp; Whitney</td><td>British</td><td>2021-03-21</td><td>2025-04-18T12:34:10.081Z</td></tr><tr><td>202</td><td>shadow-ford</td><td>Shadow-Ford</td><td>British</td><td>2021-03-21</td><td>2025-04-18T12:34:10.081Z</td></tr><tr><td>203</td><td>shadow-matra</td><td>Shadow-Matra</td><td>British</td><td>2021-03-21</td><td>2025-04-18T12:34:10.081Z</td></tr><tr><td>204</td><td>brabham-alfa_romeo</td><td>Brabham-Alfa Romeo</td><td>British</td><td>2021-03-21</td><td>2025-04-18T12:34:10.081Z</td></tr><tr><td>205</td><td>lotus_racing</td><td>Lotus</td><td>Malaysian</td><td>2021-03-21</td><td>2025-04-18T12:34:10.081Z</td></tr><tr><td>206</td><td>marussia</td><td>Marussia</td><td>Russian</td><td>2021-03-21</td><td>2025-04-18T12:34:10.081Z</td></tr><tr><td>207</td><td>caterham</td><td>Caterham</td><td>Malaysian</td><td>2021-03-21</td><td>2025-04-18T12:34:10.081Z</td></tr><tr><td>208</td><td>lotus_f1</td><td>Lotus F1</td><td>British</td><td>2021-03-21</td><td>2025-04-18T12:34:10.081Z</td></tr><tr><td>209</td><td>manor</td><td>Manor Marussia</td><td>British</td><td>2021-03-21</td><td>2025-04-18T12:34:10.081Z</td></tr><tr><td>210</td><td>haas</td><td>Haas F1 Team</td><td>American</td><td>2021-03-21</td><td>2025-04-18T12:34:10.081Z</td></tr><tr><td>211</td><td>racing_point</td><td>Racing Point</td><td>British</td><td>2021-03-21</td><td>2025-04-18T12:34:10.081Z</td></tr><tr><td>213</td><td>alphatauri</td><td>AlphaTauri</td><td>Italian</td><td>2021-03-21</td><td>2025-04-18T12:34:10.081Z</td></tr><tr><td>214</td><td>alpine</td><td>Alpine F1 Team</td><td>French</td><td>2021-03-21</td><td>2025-04-18T12:34:10.081Z</td></tr></tbody></table></div>"
      ]
     },
     "metadata": {
      "application/vnd.databricks.v1+output": {
       "addedWidgets": {},
       "aggData": [],
       "aggError": "",
       "aggOverflow": false,
       "aggSchema": [],
       "aggSeriesLimitReached": false,
       "aggType": "",
       "arguments": {},
       "columnCustomDisplayInfos": {},
       "data": [
        [
         1,
         "mclaren",
         "McLaren",
         "British",
         "2021-03-21",
         "2025-04-18T12:34:10.081Z"
        ],
        [
         2,
         "bmw_sauber",
         "BMW Sauber",
         "German",
         "2021-03-21",
         "2025-04-18T12:34:10.081Z"
        ],
        [
         3,
         "williams",
         "Williams",
         "British",
         "2021-03-21",
         "2025-04-18T12:34:10.081Z"
        ],
        [
         4,
         "renault",
         "Renault",
         "French",
         "2021-03-21",
         "2025-04-18T12:34:10.081Z"
        ],
        [
         5,
         "toro_rosso",
         "Toro Rosso",
         "Italian",
         "2021-03-21",
         "2025-04-18T12:34:10.081Z"
        ],
        [
         6,
         "ferrari",
         "Ferrari",
         "Italian",
         "2021-03-21",
         "2025-04-18T12:34:10.081Z"
        ],
        [
         7,
         "toyota",
         "Toyota",
         "Japanese",
         "2021-03-21",
         "2025-04-18T12:34:10.081Z"
        ],
        [
         8,
         "super_aguri",
         "Super Aguri",
         "Japanese",
         "2021-03-21",
         "2025-04-18T12:34:10.081Z"
        ],
        [
         9,
         "red_bull",
         "Red Bull",
         "Austrian",
         "2021-03-21",
         "2025-04-18T12:34:10.081Z"
        ],
        [
         10,
         "force_india",
         "Force India",
         "Indian",
         "2021-03-21",
         "2025-04-18T12:34:10.081Z"
        ],
        [
         11,
         "honda",
         "Honda",
         "Japanese",
         "2021-03-21",
         "2025-04-18T12:34:10.081Z"
        ],
        [
         12,
         "spyker",
         "Spyker",
         "Dutch",
         "2021-03-21",
         "2025-04-18T12:34:10.081Z"
        ],
        [
         13,
         "mf1",
         "MF1",
         "Russian",
         "2021-03-21",
         "2025-04-18T12:34:10.081Z"
        ],
        [
         14,
         "spyker_mf1",
         "Spyker MF1",
         "Dutch",
         "2021-03-21",
         "2025-04-18T12:34:10.081Z"
        ],
        [
         15,
         "sauber",
         "Sauber",
         "Swiss",
         "2021-03-21",
         "2025-04-18T12:34:10.081Z"
        ],
        [
         16,
         "bar",
         "BAR",
         "British",
         "2021-03-21",
         "2025-04-18T12:34:10.081Z"
        ],
        [
         17,
         "jordan",
         "Jordan",
         "Irish",
         "2021-03-21",
         "2025-04-18T12:34:10.081Z"
        ],
        [
         18,
         "minardi",
         "Minardi",
         "Italian",
         "2021-03-21",
         "2025-04-18T12:34:10.081Z"
        ],
        [
         19,
         "jaguar",
         "Jaguar",
         "British",
         "2021-03-21",
         "2025-04-18T12:34:10.081Z"
        ],
        [
         20,
         "prost",
         "Prost",
         "French",
         "2021-03-21",
         "2025-04-18T12:34:10.081Z"
        ],
        [
         21,
         "arrows",
         "Arrows",
         "British",
         "2021-03-21",
         "2025-04-18T12:34:10.081Z"
        ],
        [
         22,
         "benetton",
         "Benetton",
         "Italian",
         "2021-03-21",
         "2025-04-18T12:34:10.081Z"
        ],
        [
         23,
         "brawn",
         "Brawn",
         "British",
         "2021-03-21",
         "2025-04-18T12:34:10.081Z"
        ],
        [
         24,
         "stewart",
         "Stewart",
         "British",
         "2021-03-21",
         "2025-04-18T12:34:10.081Z"
        ],
        [
         25,
         "tyrrell",
         "Tyrrell",
         "British",
         "2021-03-21",
         "2025-04-18T12:34:10.081Z"
        ],
        [
         26,
         "lola",
         "Lola",
         "British",
         "2021-03-21",
         "2025-04-18T12:34:10.081Z"
        ],
        [
         27,
         "ligier",
         "Ligier",
         "French",
         "2021-03-21",
         "2025-04-18T12:34:10.081Z"
        ],
        [
         28,
         "forti",
         "Forti",
         "Italian",
         "2021-03-21",
         "2025-04-18T12:34:10.081Z"
        ],
        [
         29,
         "footwork",
         "Footwork",
         "British",
         "2021-03-21",
         "2025-04-18T12:34:10.081Z"
        ],
        [
         30,
         "pacific",
         "Pacific",
         "British",
         "2021-03-21",
         "2025-04-18T12:34:10.081Z"
        ],
        [
         31,
         "simtek",
         "Simtek",
         "British",
         "2021-03-21",
         "2025-04-18T12:34:10.081Z"
        ],
        [
         32,
         "team_lotus",
         "Team Lotus",
         "British",
         "2021-03-21",
         "2025-04-18T12:34:10.081Z"
        ],
        [
         33,
         "larrousse",
         "Larrousse",
         "French",
         "2021-03-21",
         "2025-04-18T12:34:10.081Z"
        ],
        [
         34,
         "brabham",
         "Brabham",
         "British",
         "2021-03-21",
         "2025-04-18T12:34:10.081Z"
        ],
        [
         35,
         "dallara",
         "Dallara",
         "Italian",
         "2021-03-21",
         "2025-04-18T12:34:10.081Z"
        ],
        [
         36,
         "fondmetal",
         "Fondmetal",
         "Italian",
         "2021-03-21",
         "2025-04-18T12:34:10.081Z"
        ],
        [
         37,
         "march",
         "March",
         "British",
         "2021-03-21",
         "2025-04-18T12:34:10.081Z"
        ],
        [
         38,
         "moda",
         "Andrea Moda",
         "Italian",
         "2021-03-21",
         "2025-04-18T12:34:10.081Z"
        ],
        [
         39,
         "ags",
         "AGS",
         "French",
         "2021-03-21",
         "2025-04-18T12:34:10.081Z"
        ],
        [
         40,
         "lambo",
         "Lambo",
         "Italian",
         "2021-03-21",
         "2025-04-18T12:34:10.081Z"
        ],
        [
         41,
         "leyton",
         "Leyton House",
         "British",
         "2021-03-21",
         "2025-04-18T12:34:10.081Z"
        ],
        [
         42,
         "coloni",
         "Coloni",
         "Italian",
         "2021-03-21",
         "2025-04-18T12:34:10.081Z"
        ],
        [
         44,
         "eurobrun",
         "Euro Brun",
         "Italian",
         "2021-03-21",
         "2025-04-18T12:34:10.081Z"
        ],
        [
         45,
         "osella",
         "Osella",
         "Italian",
         "2021-03-21",
         "2025-04-18T12:34:10.081Z"
        ],
        [
         46,
         "onyx",
         "Onyx",
         "British",
         "2021-03-21",
         "2025-04-18T12:34:10.081Z"
        ],
        [
         47,
         "life",
         "Life",
         "Italian",
         "2021-03-21",
         "2025-04-18T12:34:10.081Z"
        ],
        [
         48,
         "rial",
         "Rial",
         "German",
         "2021-03-21",
         "2025-04-18T12:34:10.081Z"
        ],
        [
         49,
         "zakspeed",
         "Zakspeed",
         "German",
         "2021-03-21",
         "2025-04-18T12:34:10.081Z"
        ],
        [
         50,
         "ram",
         "RAM",
         "British",
         "2021-03-21",
         "2025-04-18T12:34:10.081Z"
        ],
        [
         51,
         "alfa",
         "Alfa Romeo",
         "Italian",
         "2021-03-21",
         "2025-04-18T12:34:10.081Z"
        ],
        [
         52,
         "spirit",
         "Spirit",
         "British",
         "2021-03-21",
         "2025-04-18T12:34:10.081Z"
        ],
        [
         53,
         "toleman",
         "Toleman",
         "British",
         "2021-03-21",
         "2025-04-18T12:34:10.081Z"
        ],
        [
         54,
         "ats",
         "ATS",
         "Italian",
         "2021-03-21",
         "2025-04-18T12:34:10.081Z"
        ],
        [
         55,
         "theodore",
         "Theodore",
         "Hong Kong",
         "2021-03-21",
         "2025-04-18T12:34:10.081Z"
        ],
        [
         56,
         "fittipaldi",
         "Fittipaldi",
         "Brazilian",
         "2021-03-21",
         "2025-04-18T12:34:10.081Z"
        ],
        [
         57,
         "ensign",
         "Ensign",
         "British",
         "2021-03-21",
         "2025-04-18T12:34:10.081Z"
        ],
        [
         58,
         "shadow",
         "Shadow",
         "British",
         "2021-03-21",
         "2025-04-18T12:34:10.081Z"
        ],
        [
         59,
         "wolf",
         "Wolf",
         "Canadian",
         "2021-03-21",
         "2025-04-18T12:34:10.081Z"
        ],
        [
         60,
         "merzario",
         "Merzario",
         "Italian",
         "2021-03-21",
         "2025-04-18T12:34:10.081Z"
        ],
        [
         61,
         "kauhsen",
         "Kauhsen",
         "German",
         "2021-03-21",
         "2025-04-18T12:34:10.081Z"
        ],
        [
         62,
         "rebaque",
         "Rebaque",
         "Mexican",
         "2021-03-21",
         "2025-04-18T12:34:10.081Z"
        ],
        [
         63,
         "surtees",
         "Surtees",
         "British",
         "2021-03-21",
         "2025-04-18T12:34:10.081Z"
        ],
        [
         64,
         "hesketh",
         "Hesketh",
         "British",
         "2021-03-21",
         "2025-04-18T12:34:10.081Z"
        ],
        [
         65,
         "martini",
         "Martini",
         "French",
         "2021-03-21",
         "2025-04-18T12:34:10.081Z"
        ],
        [
         66,
         "brm",
         "BRM",
         "British",
         "2021-03-21",
         "2025-04-18T12:34:10.081Z"
        ],
        [
         67,
         "penske",
         "Penske",
         "American",
         "2021-03-21",
         "2025-04-18T12:34:10.081Z"
        ],
        [
         68,
         "lec",
         "LEC",
         "British",
         "2021-03-21",
         "2025-04-18T12:34:10.081Z"
        ],
        [
         69,
         "mcguire",
         "McGuire",
         "Australian",
         "2021-03-21",
         "2025-04-18T12:34:10.081Z"
        ],
        [
         70,
         "boro",
         "Boro",
         "Dutch",
         "2021-03-21",
         "2025-04-18T12:34:10.081Z"
        ],
        [
         71,
         "apollon",
         "Apollon",
         "Swiss",
         "2021-03-21",
         "2025-04-18T12:34:10.081Z"
        ],
        [
         72,
         "kojima",
         "Kojima",
         "Japanese",
         "2021-03-21",
         "2025-04-18T12:34:10.081Z"
        ],
        [
         73,
         "parnelli",
         "Parnelli",
         "American",
         "2021-03-21",
         "2025-04-18T12:34:10.081Z"
        ],
        [
         74,
         "maki",
         "Maki",
         "Japanese",
         "2021-03-21",
         "2025-04-18T12:34:10.081Z"
        ],
        [
         75,
         "hill",
         "Embassy Hill",
         "British",
         "2021-03-21",
         "2025-04-18T12:34:10.081Z"
        ],
        [
         76,
         "lyncar",
         "Lyncar",
         "British",
         "2021-03-21",
         "2025-04-18T12:34:10.081Z"
        ],
        [
         77,
         "trojan",
         "Trojan",
         "British",
         "2021-03-21",
         "2025-04-18T12:34:10.081Z"
        ],
        [
         78,
         "amon",
         "Amon",
         "New Zealand",
         "2021-03-21",
         "2025-04-18T12:34:10.081Z"
        ],
        [
         79,
         "token",
         "Token",
         "British",
         "2021-03-21",
         "2025-04-18T12:34:10.081Z"
        ],
        [
         80,
         "iso_marlboro",
         "Iso Marlboro",
         "British",
         "2021-03-21",
         "2025-04-18T12:34:10.081Z"
        ],
        [
         81,
         "tecno",
         "Tecno",
         "Italian",
         "2021-03-21",
         "2025-04-18T12:34:10.081Z"
        ],
        [
         82,
         "matra",
         "Matra",
         "French",
         "2021-03-21",
         "2025-04-18T12:34:10.081Z"
        ],
        [
         83,
         "politoys",
         "Politoys",
         "British",
         "2021-03-21",
         "2025-04-18T12:34:10.081Z"
        ],
        [
         84,
         "connew",
         "Connew",
         "British",
         "2021-03-21",
         "2025-04-18T12:34:10.081Z"
        ],
        [
         85,
         "bellasi",
         "Bellasi",
         "Swiss",
         "2021-03-21",
         "2025-04-18T12:34:10.081Z"
        ],
        [
         86,
         "tomaso",
         "De Tomaso",
         "Italian",
         "2021-03-21",
         "2025-04-18T12:34:10.081Z"
        ],
        [
         87,
         "cooper",
         "Cooper",
         "British",
         "2021-03-21",
         "2025-04-18T12:34:10.081Z"
        ],
        [
         88,
         "eagle",
         "Eagle",
         "American",
         "2021-03-21",
         "2025-04-18T12:34:10.081Z"
        ],
        [
         89,
         "lds",
         "LDS",
         "South African",
         "2021-03-21",
         "2025-04-18T12:34:10.081Z"
        ],
        [
         90,
         "protos",
         "Protos",
         "British",
         "2021-03-21",
         "2025-04-18T12:34:10.081Z"
        ],
        [
         91,
         "shannon",
         "Shannon",
         "British",
         "2021-03-21",
         "2025-04-18T12:34:10.081Z"
        ],
        [
         92,
         "scirocco",
         "Scirocco",
         "British",
         "2021-03-21",
         "2025-04-18T12:34:10.081Z"
        ],
        [
         93,
         "re",
         "RE",
         "Rhodesian",
         "2021-03-21",
         "2025-04-18T12:34:10.081Z"
        ],
        [
         94,
         "brp",
         "BRP",
         "British",
         "2021-03-21",
         "2025-04-18T12:34:10.081Z"
        ],
        [
         95,
         "porsche",
         "Porsche",
         "German",
         "2021-03-21",
         "2025-04-18T12:34:10.081Z"
        ],
        [
         96,
         "derrington",
         "Derrington",
         "British",
         "2021-03-21",
         "2025-04-18T12:34:10.081Z"
        ],
        [
         97,
         "gilby",
         "Gilby",
         "British",
         "2021-03-21",
         "2025-04-18T12:34:10.081Z"
        ],
        [
         98,
         "stebro",
         "Stebro",
         "Canadian",
         "2021-03-21",
         "2025-04-18T12:34:10.081Z"
        ],
        [
         99,
         "emeryson",
         "Emeryson",
         "British",
         "2021-03-21",
         "2025-04-18T12:34:10.081Z"
        ],
        [
         100,
         "enb",
         "ENB",
         "Belgium",
         "2021-03-21",
         "2025-04-18T12:34:10.081Z"
        ],
        [
         101,
         "jbw",
         "JBW",
         "British",
         "2021-03-21",
         "2025-04-18T12:34:10.081Z"
        ],
        [
         102,
         "ferguson",
         "Ferguson",
         "British",
         "2021-03-21",
         "2025-04-18T12:34:10.081Z"
        ],
        [
         103,
         "mbm",
         "MBM",
         "Swiss",
         "2021-03-21",
         "2025-04-18T12:34:10.081Z"
        ],
        [
         104,
         "behra-porsche",
         "Behra-Porsche",
         "Italian",
         "2021-03-21",
         "2025-04-18T12:34:10.081Z"
        ],
        [
         105,
         "maserati",
         "Maserati",
         "Italian",
         "2021-03-21",
         "2025-04-18T12:34:10.081Z"
        ],
        [
         106,
         "scarab",
         "Scarab",
         "American",
         "2021-03-21",
         "2025-04-18T12:34:10.081Z"
        ],
        [
         107,
         "watson",
         "Watson",
         "American",
         "2021-03-21",
         "2025-04-18T12:34:10.081Z"
        ],
        [
         108,
         "epperly",
         "Epperly",
         "American",
         "2021-03-21",
         "2025-04-18T12:34:10.081Z"
        ],
        [
         109,
         "phillips",
         "Phillips",
         "American",
         "2021-03-21",
         "2025-04-18T12:34:10.081Z"
        ],
        [
         110,
         "lesovsky",
         "Lesovsky",
         "American",
         "2021-03-21",
         "2025-04-18T12:34:10.081Z"
        ],
        [
         111,
         "trevis",
         "Trevis",
         "American",
         "2021-03-21",
         "2025-04-18T12:34:10.081Z"
        ],
        [
         112,
         "meskowski",
         "Meskowski",
         "American",
         "2021-03-21",
         "2025-04-18T12:34:10.081Z"
        ],
        [
         113,
         "kurtis_kraft",
         "Kurtis Kraft",
         "American",
         "2021-03-21",
         "2025-04-18T12:34:10.081Z"
        ],
        [
         114,
         "kuzma",
         "Kuzma",
         "American",
         "2021-03-21",
         "2025-04-18T12:34:10.081Z"
        ],
        [
         115,
         "vhristensen",
         "Christensen",
         "American",
         "2021-03-21",
         "2025-04-18T12:34:10.081Z"
        ],
        [
         116,
         "ewing",
         "Ewing",
         "American",
         "2021-03-21",
         "2025-04-18T12:34:10.081Z"
        ],
        [
         117,
         "aston_martin",
         "Aston Martin",
         "British",
         "2021-03-21",
         "2025-04-18T12:34:10.081Z"
        ],
        [
         118,
         "vanwall",
         "Vanwall",
         "British",
         "2021-03-21",
         "2025-04-18T12:34:10.081Z"
        ],
        [
         119,
         "moore",
         "Moore",
         "American",
         "2021-03-21",
         "2025-04-18T12:34:10.081Z"
        ],
        [
         120,
         "dunn",
         "Dunn",
         "American",
         "2021-03-21",
         "2025-04-18T12:34:10.081Z"
        ],
        [
         121,
         "elder",
         "Elder",
         "American",
         "2021-03-21",
         "2025-04-18T12:34:10.081Z"
        ],
        [
         122,
         "sutton",
         "Sutton",
         "American",
         "2021-03-21",
         "2025-04-18T12:34:10.081Z"
        ],
        [
         123,
         "fry",
         "Fry",
         "British",
         "2021-03-21",
         "2025-04-18T12:34:10.081Z"
        ],
        [
         124,
         "tec-mec",
         "Tec-Mec",
         "Italian",
         "2021-03-21",
         "2025-04-18T12:34:10.081Z"
        ],
        [
         125,
         "connaught",
         "Connaught",
         "British",
         "2021-03-21",
         "2025-04-18T12:34:10.081Z"
        ],
        [
         126,
         "alta",
         "Alta",
         "British",
         "2021-03-21",
         "2025-04-18T12:34:10.081Z"
        ],
        [
         127,
         "osca",
         "OSCA",
         "Italian",
         "2021-03-21",
         "2025-04-18T12:34:10.081Z"
        ],
        [
         128,
         "gordini",
         "Gordini",
         "French",
         "2021-03-21",
         "2025-04-18T12:34:10.081Z"
        ],
        [
         129,
         "stevens",
         "Stevens",
         "American",
         "2021-03-21",
         "2025-04-18T12:34:10.081Z"
        ],
        [
         130,
         "bugatti",
         "Bugatti",
         "French",
         "2021-03-21",
         "2025-04-18T12:34:10.081Z"
        ],
        [
         131,
         "mercedes",
         "Mercedes",
         "German",
         "2021-03-21",
         "2025-04-18T12:34:10.081Z"
        ],
        [
         132,
         "lancia",
         "Lancia",
         "Italian",
         "2021-03-21",
         "2025-04-18T12:34:10.081Z"
        ],
        [
         133,
         "hwm",
         "HWM",
         "British",
         "2021-03-21",
         "2025-04-18T12:34:10.081Z"
        ],
        [
         134,
         "schroeder",
         "Schroeder",
         "American",
         "2021-03-21",
         "2025-04-18T12:34:10.081Z"
        ],
        [
         135,
         "pawl",
         "Pawl",
         "American",
         "2021-03-21",
         "2025-04-18T12:34:10.081Z"
        ],
        [
         136,
         "pankratz",
         "Pankratz",
         "American",
         "2021-03-21",
         "2025-04-18T12:34:10.081Z"
        ],
        [
         137,
         "arzani-volpini",
         "Arzani-Volpini",
         "Italian",
         "2021-03-21",
         "2025-04-18T12:34:10.081Z"
        ],
        [
         138,
         "nichels",
         "Nichels",
         "American",
         "2021-03-21",
         "2025-04-18T12:34:10.081Z"
        ],
        [
         139,
         "bromme",
         "Bromme",
         "American",
         "2021-03-21",
         "2025-04-18T12:34:10.081Z"
        ],
        [
         140,
         "klenk",
         "Klenk",
         "German",
         "2021-03-21",
         "2025-04-18T12:34:10.081Z"
        ],
        [
         141,
         "simca",
         "Simca",
         "French",
         "2021-03-21",
         "2025-04-18T12:34:10.081Z"
        ],
        [
         142,
         "turner",
         "Turner",
         "American",
         "2021-03-21",
         "2025-04-18T12:34:10.081Z"
        ],
        [
         143,
         "del_roy",
         "Del Roy",
         "American",
         "2021-03-21",
         "2025-04-18T12:34:10.081Z"
        ],
        [
         144,
         "veritas",
         "Veritas",
         "German",
         "2021-03-21",
         "2025-04-18T12:34:10.081Z"
        ],
        [
         145,
         "bmw",
         "BMW",
         "German",
         "2021-03-21",
         "2025-04-18T12:34:10.081Z"
        ],
        [
         146,
         "emw",
         "EMW",
         "East German",
         "2021-03-21",
         "2025-04-18T12:34:10.081Z"
        ],
        [
         147,
         "afm",
         "AFM",
         "German",
         "2021-03-21",
         "2025-04-18T12:34:10.081Z"
        ],
        [
         148,
         "frazer_nash",
         "Frazer Nash",
         "British",
         "2021-03-21",
         "2025-04-18T12:34:10.081Z"
        ],
        [
         149,
         "sherman",
         "Sherman",
         "American",
         "2021-03-21",
         "2025-04-18T12:34:10.081Z"
        ],
        [
         150,
         "deidt",
         "Deidt",
         "American",
         "2021-03-21",
         "2025-04-18T12:34:10.081Z"
        ],
        [
         151,
         "era",
         "ERA",
         "British",
         "2021-03-21",
         "2025-04-18T12:34:10.081Z"
        ],
        [
         152,
         "butterworth",
         "Aston Butterworth",
         "British",
         "2021-03-21",
         "2025-04-18T12:34:10.081Z"
        ],
        [
         153,
         "cisitalia",
         "Cisitalia",
         "Italian",
         "2021-03-21",
         "2025-04-18T12:34:10.081Z"
        ],
        [
         154,
         "lago",
         "Talbot-Lago",
         "French",
         "2021-03-21",
         "2025-04-18T12:34:10.081Z"
        ],
        [
         155,
         "hall",
         "Hall",
         "American",
         "2021-03-21",
         "2025-04-18T12:34:10.081Z"
        ],
        [
         156,
         "marchese",
         "Marchese",
         "American",
         "2021-03-21",
         "2025-04-18T12:34:10.081Z"
        ],
        [
         157,
         "langley",
         "Langley",
         "American",
         "2021-03-21",
         "2025-04-18T12:34:10.081Z"
        ],
        [
         158,
         "rae",
         "Rae",
         "American",
         "2021-03-21",
         "2025-04-18T12:34:10.081Z"
        ],
        [
         159,
         "olson",
         "Olson",
         "American",
         "2021-03-21",
         "2025-04-18T12:34:10.081Z"
        ],
        [
         160,
         "wetteroth",
         "Wetteroth",
         "American",
         "2021-03-21",
         "2025-04-18T12:34:10.081Z"
        ],
        [
         161,
         "adams",
         "Adams",
         "American",
         "2021-03-21",
         "2025-04-18T12:34:10.081Z"
        ],
        [
         162,
         "snowberger",
         "Snowberger",
         "American",
         "2021-03-21",
         "2025-04-18T12:34:10.081Z"
        ],
        [
         163,
         "milano",
         "Milano",
         "Italian",
         "2021-03-21",
         "2025-04-18T12:34:10.081Z"
        ],
        [
         164,
         "hrt",
         "HRT",
         "Spanish",
         "2021-03-21",
         "2025-04-18T12:34:10.081Z"
        ],
        [
         167,
         "cooper-maserati",
         "Cooper-Maserati",
         "British",
         "2021-03-21",
         "2025-04-18T12:34:10.081Z"
        ],
        [
         166,
         "virgin",
         "Virgin",
         "British",
         "2021-03-21",
         "2025-04-18T12:34:10.081Z"
        ],
        [
         168,
         "cooper-osca",
         "Cooper-OSCA",
         "British",
         "2021-03-21",
         "2025-04-18T12:34:10.081Z"
        ],
        [
         169,
         "cooper-borgward",
         "Cooper-Borgward",
         "British",
         "2021-03-21",
         "2025-04-18T12:34:10.081Z"
        ],
        [
         170,
         "cooper-climax",
         "Cooper-Climax",
         "British",
         "2021-03-21",
         "2025-04-18T12:34:10.081Z"
        ],
        [
         171,
         "cooper-castellotti",
         "Cooper-Castellotti",
         "British",
         "2021-03-21",
         "2025-04-18T12:34:10.081Z"
        ],
        [
         172,
         "lotus-climax",
         "Lotus-Climax",
         "British",
         "2021-03-21",
         "2025-04-18T12:34:10.081Z"
        ],
        [
         173,
         "lotus-maserati",
         "Lotus-Maserati",
         "British",
         "2021-03-21",
         "2025-04-18T12:34:10.081Z"
        ],
        [
         174,
         "de_tomaso-osca",
         "De Tomaso-Osca",
         "Italian",
         "2021-03-21",
         "2025-04-18T12:34:10.081Z"
        ],
        [
         175,
         "de_tomaso-alfa_romeo",
         "De Tomaso-Alfa Romeo",
         "Italian",
         "2021-03-21",
         "2025-04-18T12:34:10.081Z"
        ],
        [
         176,
         "lotus-brm",
         "Lotus-BRM",
         "British",
         "2021-03-21",
         "2025-04-18T12:34:10.081Z"
        ],
        [
         177,
         "lotus-borgward",
         "Lotus-Borgward",
         "British",
         "2021-03-21",
         "2025-04-18T12:34:10.081Z"
        ],
        [
         178,
         "cooper-alfa_romeo",
         "Cooper-Alfa Romeo",
         "British",
         "2021-03-21",
         "2025-04-18T12:34:10.081Z"
        ],
        [
         179,
         "de_tomaso-ferrari",
         "De Tomaso-Ferrari",
         "Italian",
         "2021-03-21",
         "2025-04-18T12:34:10.081Z"
        ],
        [
         180,
         "lotus-ford",
         "Lotus-Ford",
         "British",
         "2021-03-21",
         "2025-04-18T12:34:10.081Z"
        ],
        [
         181,
         "brabham-brm",
         "Brabham-BRM",
         "British",
         "2021-03-21",
         "2025-04-18T12:34:10.081Z"
        ],
        [
         182,
         "brabham-ford",
         "Brabham-Ford",
         "British",
         "2021-03-21",
         "2025-04-18T12:34:10.081Z"
        ],
        [
         183,
         "brabham-climax",
         "Brabham-Climax",
         "British",
         "2021-03-21",
         "2025-04-18T12:34:10.081Z"
        ],
        [
         184,
         "lds-climax",
         "LDS-Climax",
         "South African",
         "2021-03-21",
         "2025-04-18T12:34:10.081Z"
        ],
        [
         185,
         "lds-alfa_romeo",
         "LDS-Alfa Romeo",
         "South African",
         "2021-03-21",
         "2025-04-18T12:34:10.081Z"
        ],
        [
         186,
         "cooper-ford",
         "Cooper-Ford",
         "British",
         "2021-03-21",
         "2025-04-18T12:34:10.081Z"
        ],
        [
         187,
         "mclaren-ford",
         "McLaren-Ford",
         "British",
         "2021-03-21",
         "2025-04-18T12:34:10.081Z"
        ],
        [
         188,
         "mclaren-seren",
         "McLaren-Serenissima",
         "British",
         "2021-03-21",
         "2025-04-18T12:34:10.081Z"
        ],
        [
         189,
         "eagle-climax",
         "Eagle-Climax",
         "American",
         "2021-03-21",
         "2025-04-18T12:34:10.081Z"
        ],
        [
         190,
         "eagle-weslake",
         "Eagle-Weslake",
         "American",
         "2021-03-21",
         "2025-04-18T12:34:10.081Z"
        ],
        [
         191,
         "brabham-repco",
         "Brabham-Repco",
         "British",
         "2021-03-21",
         "2025-04-18T12:34:10.081Z"
        ],
        [
         192,
         "cooper-ferrari",
         "Cooper-Ferrari",
         "British",
         "2021-03-21",
         "2025-04-18T12:34:10.081Z"
        ],
        [
         193,
         "cooper-ats",
         "Cooper-ATS",
         "British",
         "2021-03-21",
         "2025-04-18T12:34:10.081Z"
        ],
        [
         194,
         "mclaren-brm",
         "McLaren-BRM",
         "British",
         "2021-03-21",
         "2025-04-18T12:34:10.081Z"
        ],
        [
         195,
         "cooper-brm",
         "Cooper-BRM",
         "British",
         "2021-03-21",
         "2025-04-18T12:34:10.081Z"
        ],
        [
         196,
         "matra-ford",
         "Matra-Ford",
         "French",
         "2021-03-21",
         "2025-04-18T12:34:10.081Z"
        ],
        [
         197,
         "brm-ford",
         "BRM-Ford",
         "British",
         "2021-03-21",
         "2025-04-18T12:34:10.081Z"
        ],
        [
         198,
         "mclaren-alfa_romeo",
         "McLaren-Alfa Romeo",
         "British",
         "2021-03-21",
         "2025-04-18T12:34:10.081Z"
        ],
        [
         199,
         "march-alfa_romeo",
         "March-Alfa Romeo",
         "British",
         "2021-03-21",
         "2025-04-18T12:34:10.081Z"
        ],
        [
         200,
         "march-ford",
         "March-Ford",
         "British",
         "2021-03-21",
         "2025-04-18T12:34:10.081Z"
        ],
        [
         201,
         "lotus-pw",
         "Lotus-Pratt &amp; Whitney",
         "British",
         "2021-03-21",
         "2025-04-18T12:34:10.081Z"
        ],
        [
         202,
         "shadow-ford",
         "Shadow-Ford",
         "British",
         "2021-03-21",
         "2025-04-18T12:34:10.081Z"
        ],
        [
         203,
         "shadow-matra",
         "Shadow-Matra",
         "British",
         "2021-03-21",
         "2025-04-18T12:34:10.081Z"
        ],
        [
         204,
         "brabham-alfa_romeo",
         "Brabham-Alfa Romeo",
         "British",
         "2021-03-21",
         "2025-04-18T12:34:10.081Z"
        ],
        [
         205,
         "lotus_racing",
         "Lotus",
         "Malaysian",
         "2021-03-21",
         "2025-04-18T12:34:10.081Z"
        ],
        [
         206,
         "marussia",
         "Marussia",
         "Russian",
         "2021-03-21",
         "2025-04-18T12:34:10.081Z"
        ],
        [
         207,
         "caterham",
         "Caterham",
         "Malaysian",
         "2021-03-21",
         "2025-04-18T12:34:10.081Z"
        ],
        [
         208,
         "lotus_f1",
         "Lotus F1",
         "British",
         "2021-03-21",
         "2025-04-18T12:34:10.081Z"
        ],
        [
         209,
         "manor",
         "Manor Marussia",
         "British",
         "2021-03-21",
         "2025-04-18T12:34:10.081Z"
        ],
        [
         210,
         "haas",
         "Haas F1 Team",
         "American",
         "2021-03-21",
         "2025-04-18T12:34:10.081Z"
        ],
        [
         211,
         "racing_point",
         "Racing Point",
         "British",
         "2021-03-21",
         "2025-04-18T12:34:10.081Z"
        ],
        [
         213,
         "alphatauri",
         "AlphaTauri",
         "Italian",
         "2021-03-21",
         "2025-04-18T12:34:10.081Z"
        ],
        [
         214,
         "alpine",
         "Alpine F1 Team",
         "French",
         "2021-03-21",
         "2025-04-18T12:34:10.081Z"
        ]
       ],
       "datasetInfos": [],
       "dbfsResultPath": null,
       "isJsonSchema": true,
       "metadata": {},
       "overflow": false,
       "plotOptions": {
        "customPlotOptions": {},
        "displayType": "table",
        "pivotAggregation": null,
        "pivotColumns": null,
        "xColumns": null,
        "yColumns": null
       },
       "removedWidgets": [],
       "schema": [
        {
         "metadata": "{}",
         "name": "constructor_id",
         "type": "\"integer\""
        },
        {
         "metadata": "{}",
         "name": "constructor_ref",
         "type": "\"string\""
        },
        {
         "metadata": "{}",
         "name": "name",
         "type": "\"string\""
        },
        {
         "metadata": "{}",
         "name": "nationality",
         "type": "\"string\""
        },
        {
         "metadata": "{}",
         "name": "file_date",
         "type": "\"string\""
        },
        {
         "metadata": "{}",
         "name": "ingest_date",
         "type": "\"timestamp\""
        }
       ],
       "type": "table"
      }
     },
     "output_type": "display_data"
    }
   ],
   "source": [
    "display(constructors_df_final)"
   ]
  },
  {
   "cell_type": "code",
   "execution_count": 0,
   "metadata": {
    "application/vnd.databricks.v1+cell": {
     "cellMetadata": {
      "byteLimit": 2048000,
      "rowLimit": 10000
     },
     "inputWidgets": {},
     "nuid": "8ed6145a-66ab-482c-b6d7-1cbbee7dd1c5",
     "showTitle": false,
     "tableResultSettingsMap": {},
     "title": ""
    }
   },
   "outputs": [],
   "source": [
    "# Write the final dataframe into processed folder in the delta format\n",
    "constructors_df_final.write.mode(\"overwrite\").format(\"delta\").saveAsTable(\"f1_processed.constructors\")"
   ]
  },
  {
   "cell_type": "code",
   "execution_count": 0,
   "metadata": {
    "application/vnd.databricks.v1+cell": {
     "cellMetadata": {
      "byteLimit": 2048000,
      "rowLimit": 10000
     },
     "inputWidgets": {},
     "nuid": "2240328d-4f15-4917-aed0-75f8c9ce957e",
     "showTitle": false,
     "tableResultSettingsMap": {},
     "title": ""
    }
   },
   "outputs": [
    {
     "output_type": "display_data",
     "data": {
      "text/html": [
       "<style scoped>\n",
       "  .table-result-container {\n",
       "    max-height: 300px;\n",
       "    overflow: auto;\n",
       "  }\n",
       "  table, th, td {\n",
       "    border: 1px solid black;\n",
       "    border-collapse: collapse;\n",
       "  }\n",
       "  th, td {\n",
       "    padding: 5px;\n",
       "  }\n",
       "  th {\n",
       "    text-align: left;\n",
       "  }\n",
       "</style><div class='table-result-container'><table class='table-result'><thead style='background-color: white'><tr><th>constructor_id</th><th>constructor_ref</th><th>name</th><th>nationality</th><th>file_date</th><th>ingest_date</th></tr></thead><tbody><tr><td>1</td><td>mclaren</td><td>McLaren</td><td>British</td><td>2021-03-21</td><td>2025-04-18T12:35:07.445Z</td></tr><tr><td>2</td><td>bmw_sauber</td><td>BMW Sauber</td><td>German</td><td>2021-03-21</td><td>2025-04-18T12:35:07.445Z</td></tr><tr><td>3</td><td>williams</td><td>Williams</td><td>British</td><td>2021-03-21</td><td>2025-04-18T12:35:07.445Z</td></tr><tr><td>4</td><td>renault</td><td>Renault</td><td>French</td><td>2021-03-21</td><td>2025-04-18T12:35:07.445Z</td></tr><tr><td>5</td><td>toro_rosso</td><td>Toro Rosso</td><td>Italian</td><td>2021-03-21</td><td>2025-04-18T12:35:07.445Z</td></tr><tr><td>6</td><td>ferrari</td><td>Ferrari</td><td>Italian</td><td>2021-03-21</td><td>2025-04-18T12:35:07.445Z</td></tr><tr><td>7</td><td>toyota</td><td>Toyota</td><td>Japanese</td><td>2021-03-21</td><td>2025-04-18T12:35:07.445Z</td></tr><tr><td>8</td><td>super_aguri</td><td>Super Aguri</td><td>Japanese</td><td>2021-03-21</td><td>2025-04-18T12:35:07.445Z</td></tr><tr><td>9</td><td>red_bull</td><td>Red Bull</td><td>Austrian</td><td>2021-03-21</td><td>2025-04-18T12:35:07.445Z</td></tr><tr><td>10</td><td>force_india</td><td>Force India</td><td>Indian</td><td>2021-03-21</td><td>2025-04-18T12:35:07.445Z</td></tr><tr><td>11</td><td>honda</td><td>Honda</td><td>Japanese</td><td>2021-03-21</td><td>2025-04-18T12:35:07.445Z</td></tr><tr><td>12</td><td>spyker</td><td>Spyker</td><td>Dutch</td><td>2021-03-21</td><td>2025-04-18T12:35:07.445Z</td></tr><tr><td>13</td><td>mf1</td><td>MF1</td><td>Russian</td><td>2021-03-21</td><td>2025-04-18T12:35:07.445Z</td></tr><tr><td>14</td><td>spyker_mf1</td><td>Spyker MF1</td><td>Dutch</td><td>2021-03-21</td><td>2025-04-18T12:35:07.445Z</td></tr><tr><td>15</td><td>sauber</td><td>Sauber</td><td>Swiss</td><td>2021-03-21</td><td>2025-04-18T12:35:07.445Z</td></tr><tr><td>16</td><td>bar</td><td>BAR</td><td>British</td><td>2021-03-21</td><td>2025-04-18T12:35:07.445Z</td></tr><tr><td>17</td><td>jordan</td><td>Jordan</td><td>Irish</td><td>2021-03-21</td><td>2025-04-18T12:35:07.445Z</td></tr><tr><td>18</td><td>minardi</td><td>Minardi</td><td>Italian</td><td>2021-03-21</td><td>2025-04-18T12:35:07.445Z</td></tr><tr><td>19</td><td>jaguar</td><td>Jaguar</td><td>British</td><td>2021-03-21</td><td>2025-04-18T12:35:07.445Z</td></tr><tr><td>20</td><td>prost</td><td>Prost</td><td>French</td><td>2021-03-21</td><td>2025-04-18T12:35:07.445Z</td></tr><tr><td>21</td><td>arrows</td><td>Arrows</td><td>British</td><td>2021-03-21</td><td>2025-04-18T12:35:07.445Z</td></tr><tr><td>22</td><td>benetton</td><td>Benetton</td><td>Italian</td><td>2021-03-21</td><td>2025-04-18T12:35:07.445Z</td></tr><tr><td>23</td><td>brawn</td><td>Brawn</td><td>British</td><td>2021-03-21</td><td>2025-04-18T12:35:07.445Z</td></tr><tr><td>24</td><td>stewart</td><td>Stewart</td><td>British</td><td>2021-03-21</td><td>2025-04-18T12:35:07.445Z</td></tr><tr><td>25</td><td>tyrrell</td><td>Tyrrell</td><td>British</td><td>2021-03-21</td><td>2025-04-18T12:35:07.445Z</td></tr><tr><td>26</td><td>lola</td><td>Lola</td><td>British</td><td>2021-03-21</td><td>2025-04-18T12:35:07.445Z</td></tr><tr><td>27</td><td>ligier</td><td>Ligier</td><td>French</td><td>2021-03-21</td><td>2025-04-18T12:35:07.445Z</td></tr><tr><td>28</td><td>forti</td><td>Forti</td><td>Italian</td><td>2021-03-21</td><td>2025-04-18T12:35:07.445Z</td></tr><tr><td>29</td><td>footwork</td><td>Footwork</td><td>British</td><td>2021-03-21</td><td>2025-04-18T12:35:07.445Z</td></tr><tr><td>30</td><td>pacific</td><td>Pacific</td><td>British</td><td>2021-03-21</td><td>2025-04-18T12:35:07.445Z</td></tr><tr><td>31</td><td>simtek</td><td>Simtek</td><td>British</td><td>2021-03-21</td><td>2025-04-18T12:35:07.445Z</td></tr><tr><td>32</td><td>team_lotus</td><td>Team Lotus</td><td>British</td><td>2021-03-21</td><td>2025-04-18T12:35:07.445Z</td></tr><tr><td>33</td><td>larrousse</td><td>Larrousse</td><td>French</td><td>2021-03-21</td><td>2025-04-18T12:35:07.445Z</td></tr><tr><td>34</td><td>brabham</td><td>Brabham</td><td>British</td><td>2021-03-21</td><td>2025-04-18T12:35:07.445Z</td></tr><tr><td>35</td><td>dallara</td><td>Dallara</td><td>Italian</td><td>2021-03-21</td><td>2025-04-18T12:35:07.445Z</td></tr><tr><td>36</td><td>fondmetal</td><td>Fondmetal</td><td>Italian</td><td>2021-03-21</td><td>2025-04-18T12:35:07.445Z</td></tr><tr><td>37</td><td>march</td><td>March</td><td>British</td><td>2021-03-21</td><td>2025-04-18T12:35:07.445Z</td></tr><tr><td>38</td><td>moda</td><td>Andrea Moda</td><td>Italian</td><td>2021-03-21</td><td>2025-04-18T12:35:07.445Z</td></tr><tr><td>39</td><td>ags</td><td>AGS</td><td>French</td><td>2021-03-21</td><td>2025-04-18T12:35:07.445Z</td></tr><tr><td>40</td><td>lambo</td><td>Lambo</td><td>Italian</td><td>2021-03-21</td><td>2025-04-18T12:35:07.445Z</td></tr><tr><td>41</td><td>leyton</td><td>Leyton House</td><td>British</td><td>2021-03-21</td><td>2025-04-18T12:35:07.445Z</td></tr><tr><td>42</td><td>coloni</td><td>Coloni</td><td>Italian</td><td>2021-03-21</td><td>2025-04-18T12:35:07.445Z</td></tr><tr><td>44</td><td>eurobrun</td><td>Euro Brun</td><td>Italian</td><td>2021-03-21</td><td>2025-04-18T12:35:07.445Z</td></tr><tr><td>45</td><td>osella</td><td>Osella</td><td>Italian</td><td>2021-03-21</td><td>2025-04-18T12:35:07.445Z</td></tr><tr><td>46</td><td>onyx</td><td>Onyx</td><td>British</td><td>2021-03-21</td><td>2025-04-18T12:35:07.445Z</td></tr><tr><td>47</td><td>life</td><td>Life</td><td>Italian</td><td>2021-03-21</td><td>2025-04-18T12:35:07.445Z</td></tr><tr><td>48</td><td>rial</td><td>Rial</td><td>German</td><td>2021-03-21</td><td>2025-04-18T12:35:07.445Z</td></tr><tr><td>49</td><td>zakspeed</td><td>Zakspeed</td><td>German</td><td>2021-03-21</td><td>2025-04-18T12:35:07.445Z</td></tr><tr><td>50</td><td>ram</td><td>RAM</td><td>British</td><td>2021-03-21</td><td>2025-04-18T12:35:07.445Z</td></tr><tr><td>51</td><td>alfa</td><td>Alfa Romeo</td><td>Italian</td><td>2021-03-21</td><td>2025-04-18T12:35:07.445Z</td></tr><tr><td>52</td><td>spirit</td><td>Spirit</td><td>British</td><td>2021-03-21</td><td>2025-04-18T12:35:07.445Z</td></tr><tr><td>53</td><td>toleman</td><td>Toleman</td><td>British</td><td>2021-03-21</td><td>2025-04-18T12:35:07.445Z</td></tr><tr><td>54</td><td>ats</td><td>ATS</td><td>Italian</td><td>2021-03-21</td><td>2025-04-18T12:35:07.445Z</td></tr><tr><td>55</td><td>theodore</td><td>Theodore</td><td>Hong Kong</td><td>2021-03-21</td><td>2025-04-18T12:35:07.445Z</td></tr><tr><td>56</td><td>fittipaldi</td><td>Fittipaldi</td><td>Brazilian</td><td>2021-03-21</td><td>2025-04-18T12:35:07.445Z</td></tr><tr><td>57</td><td>ensign</td><td>Ensign</td><td>British</td><td>2021-03-21</td><td>2025-04-18T12:35:07.445Z</td></tr><tr><td>58</td><td>shadow</td><td>Shadow</td><td>British</td><td>2021-03-21</td><td>2025-04-18T12:35:07.445Z</td></tr><tr><td>59</td><td>wolf</td><td>Wolf</td><td>Canadian</td><td>2021-03-21</td><td>2025-04-18T12:35:07.445Z</td></tr><tr><td>60</td><td>merzario</td><td>Merzario</td><td>Italian</td><td>2021-03-21</td><td>2025-04-18T12:35:07.445Z</td></tr><tr><td>61</td><td>kauhsen</td><td>Kauhsen</td><td>German</td><td>2021-03-21</td><td>2025-04-18T12:35:07.445Z</td></tr><tr><td>62</td><td>rebaque</td><td>Rebaque</td><td>Mexican</td><td>2021-03-21</td><td>2025-04-18T12:35:07.445Z</td></tr><tr><td>63</td><td>surtees</td><td>Surtees</td><td>British</td><td>2021-03-21</td><td>2025-04-18T12:35:07.445Z</td></tr><tr><td>64</td><td>hesketh</td><td>Hesketh</td><td>British</td><td>2021-03-21</td><td>2025-04-18T12:35:07.445Z</td></tr><tr><td>65</td><td>martini</td><td>Martini</td><td>French</td><td>2021-03-21</td><td>2025-04-18T12:35:07.445Z</td></tr><tr><td>66</td><td>brm</td><td>BRM</td><td>British</td><td>2021-03-21</td><td>2025-04-18T12:35:07.445Z</td></tr><tr><td>67</td><td>penske</td><td>Penske</td><td>American</td><td>2021-03-21</td><td>2025-04-18T12:35:07.445Z</td></tr><tr><td>68</td><td>lec</td><td>LEC</td><td>British</td><td>2021-03-21</td><td>2025-04-18T12:35:07.445Z</td></tr><tr><td>69</td><td>mcguire</td><td>McGuire</td><td>Australian</td><td>2021-03-21</td><td>2025-04-18T12:35:07.445Z</td></tr><tr><td>70</td><td>boro</td><td>Boro</td><td>Dutch</td><td>2021-03-21</td><td>2025-04-18T12:35:07.445Z</td></tr><tr><td>71</td><td>apollon</td><td>Apollon</td><td>Swiss</td><td>2021-03-21</td><td>2025-04-18T12:35:07.445Z</td></tr><tr><td>72</td><td>kojima</td><td>Kojima</td><td>Japanese</td><td>2021-03-21</td><td>2025-04-18T12:35:07.445Z</td></tr><tr><td>73</td><td>parnelli</td><td>Parnelli</td><td>American</td><td>2021-03-21</td><td>2025-04-18T12:35:07.445Z</td></tr><tr><td>74</td><td>maki</td><td>Maki</td><td>Japanese</td><td>2021-03-21</td><td>2025-04-18T12:35:07.445Z</td></tr><tr><td>75</td><td>hill</td><td>Embassy Hill</td><td>British</td><td>2021-03-21</td><td>2025-04-18T12:35:07.445Z</td></tr><tr><td>76</td><td>lyncar</td><td>Lyncar</td><td>British</td><td>2021-03-21</td><td>2025-04-18T12:35:07.445Z</td></tr><tr><td>77</td><td>trojan</td><td>Trojan</td><td>British</td><td>2021-03-21</td><td>2025-04-18T12:35:07.445Z</td></tr><tr><td>78</td><td>amon</td><td>Amon</td><td>New Zealand</td><td>2021-03-21</td><td>2025-04-18T12:35:07.445Z</td></tr><tr><td>79</td><td>token</td><td>Token</td><td>British</td><td>2021-03-21</td><td>2025-04-18T12:35:07.445Z</td></tr><tr><td>80</td><td>iso_marlboro</td><td>Iso Marlboro</td><td>British</td><td>2021-03-21</td><td>2025-04-18T12:35:07.445Z</td></tr><tr><td>81</td><td>tecno</td><td>Tecno</td><td>Italian</td><td>2021-03-21</td><td>2025-04-18T12:35:07.445Z</td></tr><tr><td>82</td><td>matra</td><td>Matra</td><td>French</td><td>2021-03-21</td><td>2025-04-18T12:35:07.445Z</td></tr><tr><td>83</td><td>politoys</td><td>Politoys</td><td>British</td><td>2021-03-21</td><td>2025-04-18T12:35:07.445Z</td></tr><tr><td>84</td><td>connew</td><td>Connew</td><td>British</td><td>2021-03-21</td><td>2025-04-18T12:35:07.445Z</td></tr><tr><td>85</td><td>bellasi</td><td>Bellasi</td><td>Swiss</td><td>2021-03-21</td><td>2025-04-18T12:35:07.445Z</td></tr><tr><td>86</td><td>tomaso</td><td>De Tomaso</td><td>Italian</td><td>2021-03-21</td><td>2025-04-18T12:35:07.445Z</td></tr><tr><td>87</td><td>cooper</td><td>Cooper</td><td>British</td><td>2021-03-21</td><td>2025-04-18T12:35:07.445Z</td></tr><tr><td>88</td><td>eagle</td><td>Eagle</td><td>American</td><td>2021-03-21</td><td>2025-04-18T12:35:07.445Z</td></tr><tr><td>89</td><td>lds</td><td>LDS</td><td>South African</td><td>2021-03-21</td><td>2025-04-18T12:35:07.445Z</td></tr><tr><td>90</td><td>protos</td><td>Protos</td><td>British</td><td>2021-03-21</td><td>2025-04-18T12:35:07.445Z</td></tr><tr><td>91</td><td>shannon</td><td>Shannon</td><td>British</td><td>2021-03-21</td><td>2025-04-18T12:35:07.445Z</td></tr><tr><td>92</td><td>scirocco</td><td>Scirocco</td><td>British</td><td>2021-03-21</td><td>2025-04-18T12:35:07.445Z</td></tr><tr><td>93</td><td>re</td><td>RE</td><td>Rhodesian</td><td>2021-03-21</td><td>2025-04-18T12:35:07.445Z</td></tr><tr><td>94</td><td>brp</td><td>BRP</td><td>British</td><td>2021-03-21</td><td>2025-04-18T12:35:07.445Z</td></tr><tr><td>95</td><td>porsche</td><td>Porsche</td><td>German</td><td>2021-03-21</td><td>2025-04-18T12:35:07.445Z</td></tr><tr><td>96</td><td>derrington</td><td>Derrington</td><td>British</td><td>2021-03-21</td><td>2025-04-18T12:35:07.445Z</td></tr><tr><td>97</td><td>gilby</td><td>Gilby</td><td>British</td><td>2021-03-21</td><td>2025-04-18T12:35:07.445Z</td></tr><tr><td>98</td><td>stebro</td><td>Stebro</td><td>Canadian</td><td>2021-03-21</td><td>2025-04-18T12:35:07.445Z</td></tr><tr><td>99</td><td>emeryson</td><td>Emeryson</td><td>British</td><td>2021-03-21</td><td>2025-04-18T12:35:07.445Z</td></tr><tr><td>100</td><td>enb</td><td>ENB</td><td>Belgium</td><td>2021-03-21</td><td>2025-04-18T12:35:07.445Z</td></tr><tr><td>101</td><td>jbw</td><td>JBW</td><td>British</td><td>2021-03-21</td><td>2025-04-18T12:35:07.445Z</td></tr><tr><td>102</td><td>ferguson</td><td>Ferguson</td><td>British</td><td>2021-03-21</td><td>2025-04-18T12:35:07.445Z</td></tr><tr><td>103</td><td>mbm</td><td>MBM</td><td>Swiss</td><td>2021-03-21</td><td>2025-04-18T12:35:07.445Z</td></tr><tr><td>104</td><td>behra-porsche</td><td>Behra-Porsche</td><td>Italian</td><td>2021-03-21</td><td>2025-04-18T12:35:07.445Z</td></tr><tr><td>105</td><td>maserati</td><td>Maserati</td><td>Italian</td><td>2021-03-21</td><td>2025-04-18T12:35:07.445Z</td></tr><tr><td>106</td><td>scarab</td><td>Scarab</td><td>American</td><td>2021-03-21</td><td>2025-04-18T12:35:07.445Z</td></tr><tr><td>107</td><td>watson</td><td>Watson</td><td>American</td><td>2021-03-21</td><td>2025-04-18T12:35:07.445Z</td></tr><tr><td>108</td><td>epperly</td><td>Epperly</td><td>American</td><td>2021-03-21</td><td>2025-04-18T12:35:07.445Z</td></tr><tr><td>109</td><td>phillips</td><td>Phillips</td><td>American</td><td>2021-03-21</td><td>2025-04-18T12:35:07.445Z</td></tr><tr><td>110</td><td>lesovsky</td><td>Lesovsky</td><td>American</td><td>2021-03-21</td><td>2025-04-18T12:35:07.445Z</td></tr><tr><td>111</td><td>trevis</td><td>Trevis</td><td>American</td><td>2021-03-21</td><td>2025-04-18T12:35:07.445Z</td></tr><tr><td>112</td><td>meskowski</td><td>Meskowski</td><td>American</td><td>2021-03-21</td><td>2025-04-18T12:35:07.445Z</td></tr><tr><td>113</td><td>kurtis_kraft</td><td>Kurtis Kraft</td><td>American</td><td>2021-03-21</td><td>2025-04-18T12:35:07.445Z</td></tr><tr><td>114</td><td>kuzma</td><td>Kuzma</td><td>American</td><td>2021-03-21</td><td>2025-04-18T12:35:07.445Z</td></tr><tr><td>115</td><td>vhristensen</td><td>Christensen</td><td>American</td><td>2021-03-21</td><td>2025-04-18T12:35:07.445Z</td></tr><tr><td>116</td><td>ewing</td><td>Ewing</td><td>American</td><td>2021-03-21</td><td>2025-04-18T12:35:07.445Z</td></tr><tr><td>117</td><td>aston_martin</td><td>Aston Martin</td><td>British</td><td>2021-03-21</td><td>2025-04-18T12:35:07.445Z</td></tr><tr><td>118</td><td>vanwall</td><td>Vanwall</td><td>British</td><td>2021-03-21</td><td>2025-04-18T12:35:07.445Z</td></tr><tr><td>119</td><td>moore</td><td>Moore</td><td>American</td><td>2021-03-21</td><td>2025-04-18T12:35:07.445Z</td></tr><tr><td>120</td><td>dunn</td><td>Dunn</td><td>American</td><td>2021-03-21</td><td>2025-04-18T12:35:07.445Z</td></tr><tr><td>121</td><td>elder</td><td>Elder</td><td>American</td><td>2021-03-21</td><td>2025-04-18T12:35:07.445Z</td></tr><tr><td>122</td><td>sutton</td><td>Sutton</td><td>American</td><td>2021-03-21</td><td>2025-04-18T12:35:07.445Z</td></tr><tr><td>123</td><td>fry</td><td>Fry</td><td>British</td><td>2021-03-21</td><td>2025-04-18T12:35:07.445Z</td></tr><tr><td>124</td><td>tec-mec</td><td>Tec-Mec</td><td>Italian</td><td>2021-03-21</td><td>2025-04-18T12:35:07.445Z</td></tr><tr><td>125</td><td>connaught</td><td>Connaught</td><td>British</td><td>2021-03-21</td><td>2025-04-18T12:35:07.445Z</td></tr><tr><td>126</td><td>alta</td><td>Alta</td><td>British</td><td>2021-03-21</td><td>2025-04-18T12:35:07.445Z</td></tr><tr><td>127</td><td>osca</td><td>OSCA</td><td>Italian</td><td>2021-03-21</td><td>2025-04-18T12:35:07.445Z</td></tr><tr><td>128</td><td>gordini</td><td>Gordini</td><td>French</td><td>2021-03-21</td><td>2025-04-18T12:35:07.445Z</td></tr><tr><td>129</td><td>stevens</td><td>Stevens</td><td>American</td><td>2021-03-21</td><td>2025-04-18T12:35:07.445Z</td></tr><tr><td>130</td><td>bugatti</td><td>Bugatti</td><td>French</td><td>2021-03-21</td><td>2025-04-18T12:35:07.445Z</td></tr><tr><td>131</td><td>mercedes</td><td>Mercedes</td><td>German</td><td>2021-03-21</td><td>2025-04-18T12:35:07.445Z</td></tr><tr><td>132</td><td>lancia</td><td>Lancia</td><td>Italian</td><td>2021-03-21</td><td>2025-04-18T12:35:07.445Z</td></tr><tr><td>133</td><td>hwm</td><td>HWM</td><td>British</td><td>2021-03-21</td><td>2025-04-18T12:35:07.445Z</td></tr><tr><td>134</td><td>schroeder</td><td>Schroeder</td><td>American</td><td>2021-03-21</td><td>2025-04-18T12:35:07.445Z</td></tr><tr><td>135</td><td>pawl</td><td>Pawl</td><td>American</td><td>2021-03-21</td><td>2025-04-18T12:35:07.445Z</td></tr><tr><td>136</td><td>pankratz</td><td>Pankratz</td><td>American</td><td>2021-03-21</td><td>2025-04-18T12:35:07.445Z</td></tr><tr><td>137</td><td>arzani-volpini</td><td>Arzani-Volpini</td><td>Italian</td><td>2021-03-21</td><td>2025-04-18T12:35:07.445Z</td></tr><tr><td>138</td><td>nichels</td><td>Nichels</td><td>American</td><td>2021-03-21</td><td>2025-04-18T12:35:07.445Z</td></tr><tr><td>139</td><td>bromme</td><td>Bromme</td><td>American</td><td>2021-03-21</td><td>2025-04-18T12:35:07.445Z</td></tr><tr><td>140</td><td>klenk</td><td>Klenk</td><td>German</td><td>2021-03-21</td><td>2025-04-18T12:35:07.445Z</td></tr><tr><td>141</td><td>simca</td><td>Simca</td><td>French</td><td>2021-03-21</td><td>2025-04-18T12:35:07.445Z</td></tr><tr><td>142</td><td>turner</td><td>Turner</td><td>American</td><td>2021-03-21</td><td>2025-04-18T12:35:07.445Z</td></tr><tr><td>143</td><td>del_roy</td><td>Del Roy</td><td>American</td><td>2021-03-21</td><td>2025-04-18T12:35:07.445Z</td></tr><tr><td>144</td><td>veritas</td><td>Veritas</td><td>German</td><td>2021-03-21</td><td>2025-04-18T12:35:07.445Z</td></tr><tr><td>145</td><td>bmw</td><td>BMW</td><td>German</td><td>2021-03-21</td><td>2025-04-18T12:35:07.445Z</td></tr><tr><td>146</td><td>emw</td><td>EMW</td><td>East German</td><td>2021-03-21</td><td>2025-04-18T12:35:07.445Z</td></tr><tr><td>147</td><td>afm</td><td>AFM</td><td>German</td><td>2021-03-21</td><td>2025-04-18T12:35:07.445Z</td></tr><tr><td>148</td><td>frazer_nash</td><td>Frazer Nash</td><td>British</td><td>2021-03-21</td><td>2025-04-18T12:35:07.445Z</td></tr><tr><td>149</td><td>sherman</td><td>Sherman</td><td>American</td><td>2021-03-21</td><td>2025-04-18T12:35:07.445Z</td></tr><tr><td>150</td><td>deidt</td><td>Deidt</td><td>American</td><td>2021-03-21</td><td>2025-04-18T12:35:07.445Z</td></tr><tr><td>151</td><td>era</td><td>ERA</td><td>British</td><td>2021-03-21</td><td>2025-04-18T12:35:07.445Z</td></tr><tr><td>152</td><td>butterworth</td><td>Aston Butterworth</td><td>British</td><td>2021-03-21</td><td>2025-04-18T12:35:07.445Z</td></tr><tr><td>153</td><td>cisitalia</td><td>Cisitalia</td><td>Italian</td><td>2021-03-21</td><td>2025-04-18T12:35:07.445Z</td></tr><tr><td>154</td><td>lago</td><td>Talbot-Lago</td><td>French</td><td>2021-03-21</td><td>2025-04-18T12:35:07.445Z</td></tr><tr><td>155</td><td>hall</td><td>Hall</td><td>American</td><td>2021-03-21</td><td>2025-04-18T12:35:07.445Z</td></tr><tr><td>156</td><td>marchese</td><td>Marchese</td><td>American</td><td>2021-03-21</td><td>2025-04-18T12:35:07.445Z</td></tr><tr><td>157</td><td>langley</td><td>Langley</td><td>American</td><td>2021-03-21</td><td>2025-04-18T12:35:07.445Z</td></tr><tr><td>158</td><td>rae</td><td>Rae</td><td>American</td><td>2021-03-21</td><td>2025-04-18T12:35:07.445Z</td></tr><tr><td>159</td><td>olson</td><td>Olson</td><td>American</td><td>2021-03-21</td><td>2025-04-18T12:35:07.445Z</td></tr><tr><td>160</td><td>wetteroth</td><td>Wetteroth</td><td>American</td><td>2021-03-21</td><td>2025-04-18T12:35:07.445Z</td></tr><tr><td>161</td><td>adams</td><td>Adams</td><td>American</td><td>2021-03-21</td><td>2025-04-18T12:35:07.445Z</td></tr><tr><td>162</td><td>snowberger</td><td>Snowberger</td><td>American</td><td>2021-03-21</td><td>2025-04-18T12:35:07.445Z</td></tr><tr><td>163</td><td>milano</td><td>Milano</td><td>Italian</td><td>2021-03-21</td><td>2025-04-18T12:35:07.445Z</td></tr><tr><td>164</td><td>hrt</td><td>HRT</td><td>Spanish</td><td>2021-03-21</td><td>2025-04-18T12:35:07.445Z</td></tr><tr><td>167</td><td>cooper-maserati</td><td>Cooper-Maserati</td><td>British</td><td>2021-03-21</td><td>2025-04-18T12:35:07.445Z</td></tr><tr><td>166</td><td>virgin</td><td>Virgin</td><td>British</td><td>2021-03-21</td><td>2025-04-18T12:35:07.445Z</td></tr><tr><td>168</td><td>cooper-osca</td><td>Cooper-OSCA</td><td>British</td><td>2021-03-21</td><td>2025-04-18T12:35:07.445Z</td></tr><tr><td>169</td><td>cooper-borgward</td><td>Cooper-Borgward</td><td>British</td><td>2021-03-21</td><td>2025-04-18T12:35:07.445Z</td></tr><tr><td>170</td><td>cooper-climax</td><td>Cooper-Climax</td><td>British</td><td>2021-03-21</td><td>2025-04-18T12:35:07.445Z</td></tr><tr><td>171</td><td>cooper-castellotti</td><td>Cooper-Castellotti</td><td>British</td><td>2021-03-21</td><td>2025-04-18T12:35:07.445Z</td></tr><tr><td>172</td><td>lotus-climax</td><td>Lotus-Climax</td><td>British</td><td>2021-03-21</td><td>2025-04-18T12:35:07.445Z</td></tr><tr><td>173</td><td>lotus-maserati</td><td>Lotus-Maserati</td><td>British</td><td>2021-03-21</td><td>2025-04-18T12:35:07.445Z</td></tr><tr><td>174</td><td>de_tomaso-osca</td><td>De Tomaso-Osca</td><td>Italian</td><td>2021-03-21</td><td>2025-04-18T12:35:07.445Z</td></tr><tr><td>175</td><td>de_tomaso-alfa_romeo</td><td>De Tomaso-Alfa Romeo</td><td>Italian</td><td>2021-03-21</td><td>2025-04-18T12:35:07.445Z</td></tr><tr><td>176</td><td>lotus-brm</td><td>Lotus-BRM</td><td>British</td><td>2021-03-21</td><td>2025-04-18T12:35:07.445Z</td></tr><tr><td>177</td><td>lotus-borgward</td><td>Lotus-Borgward</td><td>British</td><td>2021-03-21</td><td>2025-04-18T12:35:07.445Z</td></tr><tr><td>178</td><td>cooper-alfa_romeo</td><td>Cooper-Alfa Romeo</td><td>British</td><td>2021-03-21</td><td>2025-04-18T12:35:07.445Z</td></tr><tr><td>179</td><td>de_tomaso-ferrari</td><td>De Tomaso-Ferrari</td><td>Italian</td><td>2021-03-21</td><td>2025-04-18T12:35:07.445Z</td></tr><tr><td>180</td><td>lotus-ford</td><td>Lotus-Ford</td><td>British</td><td>2021-03-21</td><td>2025-04-18T12:35:07.445Z</td></tr><tr><td>181</td><td>brabham-brm</td><td>Brabham-BRM</td><td>British</td><td>2021-03-21</td><td>2025-04-18T12:35:07.445Z</td></tr><tr><td>182</td><td>brabham-ford</td><td>Brabham-Ford</td><td>British</td><td>2021-03-21</td><td>2025-04-18T12:35:07.445Z</td></tr><tr><td>183</td><td>brabham-climax</td><td>Brabham-Climax</td><td>British</td><td>2021-03-21</td><td>2025-04-18T12:35:07.445Z</td></tr><tr><td>184</td><td>lds-climax</td><td>LDS-Climax</td><td>South African</td><td>2021-03-21</td><td>2025-04-18T12:35:07.445Z</td></tr><tr><td>185</td><td>lds-alfa_romeo</td><td>LDS-Alfa Romeo</td><td>South African</td><td>2021-03-21</td><td>2025-04-18T12:35:07.445Z</td></tr><tr><td>186</td><td>cooper-ford</td><td>Cooper-Ford</td><td>British</td><td>2021-03-21</td><td>2025-04-18T12:35:07.445Z</td></tr><tr><td>187</td><td>mclaren-ford</td><td>McLaren-Ford</td><td>British</td><td>2021-03-21</td><td>2025-04-18T12:35:07.445Z</td></tr><tr><td>188</td><td>mclaren-seren</td><td>McLaren-Serenissima</td><td>British</td><td>2021-03-21</td><td>2025-04-18T12:35:07.445Z</td></tr><tr><td>189</td><td>eagle-climax</td><td>Eagle-Climax</td><td>American</td><td>2021-03-21</td><td>2025-04-18T12:35:07.445Z</td></tr><tr><td>190</td><td>eagle-weslake</td><td>Eagle-Weslake</td><td>American</td><td>2021-03-21</td><td>2025-04-18T12:35:07.445Z</td></tr><tr><td>191</td><td>brabham-repco</td><td>Brabham-Repco</td><td>British</td><td>2021-03-21</td><td>2025-04-18T12:35:07.445Z</td></tr><tr><td>192</td><td>cooper-ferrari</td><td>Cooper-Ferrari</td><td>British</td><td>2021-03-21</td><td>2025-04-18T12:35:07.445Z</td></tr><tr><td>193</td><td>cooper-ats</td><td>Cooper-ATS</td><td>British</td><td>2021-03-21</td><td>2025-04-18T12:35:07.445Z</td></tr><tr><td>194</td><td>mclaren-brm</td><td>McLaren-BRM</td><td>British</td><td>2021-03-21</td><td>2025-04-18T12:35:07.445Z</td></tr><tr><td>195</td><td>cooper-brm</td><td>Cooper-BRM</td><td>British</td><td>2021-03-21</td><td>2025-04-18T12:35:07.445Z</td></tr><tr><td>196</td><td>matra-ford</td><td>Matra-Ford</td><td>French</td><td>2021-03-21</td><td>2025-04-18T12:35:07.445Z</td></tr><tr><td>197</td><td>brm-ford</td><td>BRM-Ford</td><td>British</td><td>2021-03-21</td><td>2025-04-18T12:35:07.445Z</td></tr><tr><td>198</td><td>mclaren-alfa_romeo</td><td>McLaren-Alfa Romeo</td><td>British</td><td>2021-03-21</td><td>2025-04-18T12:35:07.445Z</td></tr><tr><td>199</td><td>march-alfa_romeo</td><td>March-Alfa Romeo</td><td>British</td><td>2021-03-21</td><td>2025-04-18T12:35:07.445Z</td></tr><tr><td>200</td><td>march-ford</td><td>March-Ford</td><td>British</td><td>2021-03-21</td><td>2025-04-18T12:35:07.445Z</td></tr><tr><td>201</td><td>lotus-pw</td><td>Lotus-Pratt &amp; Whitney</td><td>British</td><td>2021-03-21</td><td>2025-04-18T12:35:07.445Z</td></tr><tr><td>202</td><td>shadow-ford</td><td>Shadow-Ford</td><td>British</td><td>2021-03-21</td><td>2025-04-18T12:35:07.445Z</td></tr><tr><td>203</td><td>shadow-matra</td><td>Shadow-Matra</td><td>British</td><td>2021-03-21</td><td>2025-04-18T12:35:07.445Z</td></tr><tr><td>204</td><td>brabham-alfa_romeo</td><td>Brabham-Alfa Romeo</td><td>British</td><td>2021-03-21</td><td>2025-04-18T12:35:07.445Z</td></tr><tr><td>205</td><td>lotus_racing</td><td>Lotus</td><td>Malaysian</td><td>2021-03-21</td><td>2025-04-18T12:35:07.445Z</td></tr><tr><td>206</td><td>marussia</td><td>Marussia</td><td>Russian</td><td>2021-03-21</td><td>2025-04-18T12:35:07.445Z</td></tr><tr><td>207</td><td>caterham</td><td>Caterham</td><td>Malaysian</td><td>2021-03-21</td><td>2025-04-18T12:35:07.445Z</td></tr><tr><td>208</td><td>lotus_f1</td><td>Lotus F1</td><td>British</td><td>2021-03-21</td><td>2025-04-18T12:35:07.445Z</td></tr><tr><td>209</td><td>manor</td><td>Manor Marussia</td><td>British</td><td>2021-03-21</td><td>2025-04-18T12:35:07.445Z</td></tr><tr><td>210</td><td>haas</td><td>Haas F1 Team</td><td>American</td><td>2021-03-21</td><td>2025-04-18T12:35:07.445Z</td></tr><tr><td>211</td><td>racing_point</td><td>Racing Point</td><td>British</td><td>2021-03-21</td><td>2025-04-18T12:35:07.445Z</td></tr><tr><td>213</td><td>alphatauri</td><td>AlphaTauri</td><td>Italian</td><td>2021-03-21</td><td>2025-04-18T12:35:07.445Z</td></tr><tr><td>214</td><td>alpine</td><td>Alpine F1 Team</td><td>French</td><td>2021-03-21</td><td>2025-04-18T12:35:07.445Z</td></tr></tbody></table></div>"
      ]
     },
     "metadata": {
      "application/vnd.databricks.v1+output": {
       "addedWidgets": {},
       "aggData": [],
       "aggError": "",
       "aggOverflow": false,
       "aggSchema": [],
       "aggSeriesLimitReached": false,
       "aggType": "",
       "arguments": {},
       "columnCustomDisplayInfos": {},
       "data": [
        [
         1,
         "mclaren",
         "McLaren",
         "British",
         "2021-03-21",
         "2025-04-18T12:35:07.445Z"
        ],
        [
         2,
         "bmw_sauber",
         "BMW Sauber",
         "German",
         "2021-03-21",
         "2025-04-18T12:35:07.445Z"
        ],
        [
         3,
         "williams",
         "Williams",
         "British",
         "2021-03-21",
         "2025-04-18T12:35:07.445Z"
        ],
        [
         4,
         "renault",
         "Renault",
         "French",
         "2021-03-21",
         "2025-04-18T12:35:07.445Z"
        ],
        [
         5,
         "toro_rosso",
         "Toro Rosso",
         "Italian",
         "2021-03-21",
         "2025-04-18T12:35:07.445Z"
        ],
        [
         6,
         "ferrari",
         "Ferrari",
         "Italian",
         "2021-03-21",
         "2025-04-18T12:35:07.445Z"
        ],
        [
         7,
         "toyota",
         "Toyota",
         "Japanese",
         "2021-03-21",
         "2025-04-18T12:35:07.445Z"
        ],
        [
         8,
         "super_aguri",
         "Super Aguri",
         "Japanese",
         "2021-03-21",
         "2025-04-18T12:35:07.445Z"
        ],
        [
         9,
         "red_bull",
         "Red Bull",
         "Austrian",
         "2021-03-21",
         "2025-04-18T12:35:07.445Z"
        ],
        [
         10,
         "force_india",
         "Force India",
         "Indian",
         "2021-03-21",
         "2025-04-18T12:35:07.445Z"
        ],
        [
         11,
         "honda",
         "Honda",
         "Japanese",
         "2021-03-21",
         "2025-04-18T12:35:07.445Z"
        ],
        [
         12,
         "spyker",
         "Spyker",
         "Dutch",
         "2021-03-21",
         "2025-04-18T12:35:07.445Z"
        ],
        [
         13,
         "mf1",
         "MF1",
         "Russian",
         "2021-03-21",
         "2025-04-18T12:35:07.445Z"
        ],
        [
         14,
         "spyker_mf1",
         "Spyker MF1",
         "Dutch",
         "2021-03-21",
         "2025-04-18T12:35:07.445Z"
        ],
        [
         15,
         "sauber",
         "Sauber",
         "Swiss",
         "2021-03-21",
         "2025-04-18T12:35:07.445Z"
        ],
        [
         16,
         "bar",
         "BAR",
         "British",
         "2021-03-21",
         "2025-04-18T12:35:07.445Z"
        ],
        [
         17,
         "jordan",
         "Jordan",
         "Irish",
         "2021-03-21",
         "2025-04-18T12:35:07.445Z"
        ],
        [
         18,
         "minardi",
         "Minardi",
         "Italian",
         "2021-03-21",
         "2025-04-18T12:35:07.445Z"
        ],
        [
         19,
         "jaguar",
         "Jaguar",
         "British",
         "2021-03-21",
         "2025-04-18T12:35:07.445Z"
        ],
        [
         20,
         "prost",
         "Prost",
         "French",
         "2021-03-21",
         "2025-04-18T12:35:07.445Z"
        ],
        [
         21,
         "arrows",
         "Arrows",
         "British",
         "2021-03-21",
         "2025-04-18T12:35:07.445Z"
        ],
        [
         22,
         "benetton",
         "Benetton",
         "Italian",
         "2021-03-21",
         "2025-04-18T12:35:07.445Z"
        ],
        [
         23,
         "brawn",
         "Brawn",
         "British",
         "2021-03-21",
         "2025-04-18T12:35:07.445Z"
        ],
        [
         24,
         "stewart",
         "Stewart",
         "British",
         "2021-03-21",
         "2025-04-18T12:35:07.445Z"
        ],
        [
         25,
         "tyrrell",
         "Tyrrell",
         "British",
         "2021-03-21",
         "2025-04-18T12:35:07.445Z"
        ],
        [
         26,
         "lola",
         "Lola",
         "British",
         "2021-03-21",
         "2025-04-18T12:35:07.445Z"
        ],
        [
         27,
         "ligier",
         "Ligier",
         "French",
         "2021-03-21",
         "2025-04-18T12:35:07.445Z"
        ],
        [
         28,
         "forti",
         "Forti",
         "Italian",
         "2021-03-21",
         "2025-04-18T12:35:07.445Z"
        ],
        [
         29,
         "footwork",
         "Footwork",
         "British",
         "2021-03-21",
         "2025-04-18T12:35:07.445Z"
        ],
        [
         30,
         "pacific",
         "Pacific",
         "British",
         "2021-03-21",
         "2025-04-18T12:35:07.445Z"
        ],
        [
         31,
         "simtek",
         "Simtek",
         "British",
         "2021-03-21",
         "2025-04-18T12:35:07.445Z"
        ],
        [
         32,
         "team_lotus",
         "Team Lotus",
         "British",
         "2021-03-21",
         "2025-04-18T12:35:07.445Z"
        ],
        [
         33,
         "larrousse",
         "Larrousse",
         "French",
         "2021-03-21",
         "2025-04-18T12:35:07.445Z"
        ],
        [
         34,
         "brabham",
         "Brabham",
         "British",
         "2021-03-21",
         "2025-04-18T12:35:07.445Z"
        ],
        [
         35,
         "dallara",
         "Dallara",
         "Italian",
         "2021-03-21",
         "2025-04-18T12:35:07.445Z"
        ],
        [
         36,
         "fondmetal",
         "Fondmetal",
         "Italian",
         "2021-03-21",
         "2025-04-18T12:35:07.445Z"
        ],
        [
         37,
         "march",
         "March",
         "British",
         "2021-03-21",
         "2025-04-18T12:35:07.445Z"
        ],
        [
         38,
         "moda",
         "Andrea Moda",
         "Italian",
         "2021-03-21",
         "2025-04-18T12:35:07.445Z"
        ],
        [
         39,
         "ags",
         "AGS",
         "French",
         "2021-03-21",
         "2025-04-18T12:35:07.445Z"
        ],
        [
         40,
         "lambo",
         "Lambo",
         "Italian",
         "2021-03-21",
         "2025-04-18T12:35:07.445Z"
        ],
        [
         41,
         "leyton",
         "Leyton House",
         "British",
         "2021-03-21",
         "2025-04-18T12:35:07.445Z"
        ],
        [
         42,
         "coloni",
         "Coloni",
         "Italian",
         "2021-03-21",
         "2025-04-18T12:35:07.445Z"
        ],
        [
         44,
         "eurobrun",
         "Euro Brun",
         "Italian",
         "2021-03-21",
         "2025-04-18T12:35:07.445Z"
        ],
        [
         45,
         "osella",
         "Osella",
         "Italian",
         "2021-03-21",
         "2025-04-18T12:35:07.445Z"
        ],
        [
         46,
         "onyx",
         "Onyx",
         "British",
         "2021-03-21",
         "2025-04-18T12:35:07.445Z"
        ],
        [
         47,
         "life",
         "Life",
         "Italian",
         "2021-03-21",
         "2025-04-18T12:35:07.445Z"
        ],
        [
         48,
         "rial",
         "Rial",
         "German",
         "2021-03-21",
         "2025-04-18T12:35:07.445Z"
        ],
        [
         49,
         "zakspeed",
         "Zakspeed",
         "German",
         "2021-03-21",
         "2025-04-18T12:35:07.445Z"
        ],
        [
         50,
         "ram",
         "RAM",
         "British",
         "2021-03-21",
         "2025-04-18T12:35:07.445Z"
        ],
        [
         51,
         "alfa",
         "Alfa Romeo",
         "Italian",
         "2021-03-21",
         "2025-04-18T12:35:07.445Z"
        ],
        [
         52,
         "spirit",
         "Spirit",
         "British",
         "2021-03-21",
         "2025-04-18T12:35:07.445Z"
        ],
        [
         53,
         "toleman",
         "Toleman",
         "British",
         "2021-03-21",
         "2025-04-18T12:35:07.445Z"
        ],
        [
         54,
         "ats",
         "ATS",
         "Italian",
         "2021-03-21",
         "2025-04-18T12:35:07.445Z"
        ],
        [
         55,
         "theodore",
         "Theodore",
         "Hong Kong",
         "2021-03-21",
         "2025-04-18T12:35:07.445Z"
        ],
        [
         56,
         "fittipaldi",
         "Fittipaldi",
         "Brazilian",
         "2021-03-21",
         "2025-04-18T12:35:07.445Z"
        ],
        [
         57,
         "ensign",
         "Ensign",
         "British",
         "2021-03-21",
         "2025-04-18T12:35:07.445Z"
        ],
        [
         58,
         "shadow",
         "Shadow",
         "British",
         "2021-03-21",
         "2025-04-18T12:35:07.445Z"
        ],
        [
         59,
         "wolf",
         "Wolf",
         "Canadian",
         "2021-03-21",
         "2025-04-18T12:35:07.445Z"
        ],
        [
         60,
         "merzario",
         "Merzario",
         "Italian",
         "2021-03-21",
         "2025-04-18T12:35:07.445Z"
        ],
        [
         61,
         "kauhsen",
         "Kauhsen",
         "German",
         "2021-03-21",
         "2025-04-18T12:35:07.445Z"
        ],
        [
         62,
         "rebaque",
         "Rebaque",
         "Mexican",
         "2021-03-21",
         "2025-04-18T12:35:07.445Z"
        ],
        [
         63,
         "surtees",
         "Surtees",
         "British",
         "2021-03-21",
         "2025-04-18T12:35:07.445Z"
        ],
        [
         64,
         "hesketh",
         "Hesketh",
         "British",
         "2021-03-21",
         "2025-04-18T12:35:07.445Z"
        ],
        [
         65,
         "martini",
         "Martini",
         "French",
         "2021-03-21",
         "2025-04-18T12:35:07.445Z"
        ],
        [
         66,
         "brm",
         "BRM",
         "British",
         "2021-03-21",
         "2025-04-18T12:35:07.445Z"
        ],
        [
         67,
         "penske",
         "Penske",
         "American",
         "2021-03-21",
         "2025-04-18T12:35:07.445Z"
        ],
        [
         68,
         "lec",
         "LEC",
         "British",
         "2021-03-21",
         "2025-04-18T12:35:07.445Z"
        ],
        [
         69,
         "mcguire",
         "McGuire",
         "Australian",
         "2021-03-21",
         "2025-04-18T12:35:07.445Z"
        ],
        [
         70,
         "boro",
         "Boro",
         "Dutch",
         "2021-03-21",
         "2025-04-18T12:35:07.445Z"
        ],
        [
         71,
         "apollon",
         "Apollon",
         "Swiss",
         "2021-03-21",
         "2025-04-18T12:35:07.445Z"
        ],
        [
         72,
         "kojima",
         "Kojima",
         "Japanese",
         "2021-03-21",
         "2025-04-18T12:35:07.445Z"
        ],
        [
         73,
         "parnelli",
         "Parnelli",
         "American",
         "2021-03-21",
         "2025-04-18T12:35:07.445Z"
        ],
        [
         74,
         "maki",
         "Maki",
         "Japanese",
         "2021-03-21",
         "2025-04-18T12:35:07.445Z"
        ],
        [
         75,
         "hill",
         "Embassy Hill",
         "British",
         "2021-03-21",
         "2025-04-18T12:35:07.445Z"
        ],
        [
         76,
         "lyncar",
         "Lyncar",
         "British",
         "2021-03-21",
         "2025-04-18T12:35:07.445Z"
        ],
        [
         77,
         "trojan",
         "Trojan",
         "British",
         "2021-03-21",
         "2025-04-18T12:35:07.445Z"
        ],
        [
         78,
         "amon",
         "Amon",
         "New Zealand",
         "2021-03-21",
         "2025-04-18T12:35:07.445Z"
        ],
        [
         79,
         "token",
         "Token",
         "British",
         "2021-03-21",
         "2025-04-18T12:35:07.445Z"
        ],
        [
         80,
         "iso_marlboro",
         "Iso Marlboro",
         "British",
         "2021-03-21",
         "2025-04-18T12:35:07.445Z"
        ],
        [
         81,
         "tecno",
         "Tecno",
         "Italian",
         "2021-03-21",
         "2025-04-18T12:35:07.445Z"
        ],
        [
         82,
         "matra",
         "Matra",
         "French",
         "2021-03-21",
         "2025-04-18T12:35:07.445Z"
        ],
        [
         83,
         "politoys",
         "Politoys",
         "British",
         "2021-03-21",
         "2025-04-18T12:35:07.445Z"
        ],
        [
         84,
         "connew",
         "Connew",
         "British",
         "2021-03-21",
         "2025-04-18T12:35:07.445Z"
        ],
        [
         85,
         "bellasi",
         "Bellasi",
         "Swiss",
         "2021-03-21",
         "2025-04-18T12:35:07.445Z"
        ],
        [
         86,
         "tomaso",
         "De Tomaso",
         "Italian",
         "2021-03-21",
         "2025-04-18T12:35:07.445Z"
        ],
        [
         87,
         "cooper",
         "Cooper",
         "British",
         "2021-03-21",
         "2025-04-18T12:35:07.445Z"
        ],
        [
         88,
         "eagle",
         "Eagle",
         "American",
         "2021-03-21",
         "2025-04-18T12:35:07.445Z"
        ],
        [
         89,
         "lds",
         "LDS",
         "South African",
         "2021-03-21",
         "2025-04-18T12:35:07.445Z"
        ],
        [
         90,
         "protos",
         "Protos",
         "British",
         "2021-03-21",
         "2025-04-18T12:35:07.445Z"
        ],
        [
         91,
         "shannon",
         "Shannon",
         "British",
         "2021-03-21",
         "2025-04-18T12:35:07.445Z"
        ],
        [
         92,
         "scirocco",
         "Scirocco",
         "British",
         "2021-03-21",
         "2025-04-18T12:35:07.445Z"
        ],
        [
         93,
         "re",
         "RE",
         "Rhodesian",
         "2021-03-21",
         "2025-04-18T12:35:07.445Z"
        ],
        [
         94,
         "brp",
         "BRP",
         "British",
         "2021-03-21",
         "2025-04-18T12:35:07.445Z"
        ],
        [
         95,
         "porsche",
         "Porsche",
         "German",
         "2021-03-21",
         "2025-04-18T12:35:07.445Z"
        ],
        [
         96,
         "derrington",
         "Derrington",
         "British",
         "2021-03-21",
         "2025-04-18T12:35:07.445Z"
        ],
        [
         97,
         "gilby",
         "Gilby",
         "British",
         "2021-03-21",
         "2025-04-18T12:35:07.445Z"
        ],
        [
         98,
         "stebro",
         "Stebro",
         "Canadian",
         "2021-03-21",
         "2025-04-18T12:35:07.445Z"
        ],
        [
         99,
         "emeryson",
         "Emeryson",
         "British",
         "2021-03-21",
         "2025-04-18T12:35:07.445Z"
        ],
        [
         100,
         "enb",
         "ENB",
         "Belgium",
         "2021-03-21",
         "2025-04-18T12:35:07.445Z"
        ],
        [
         101,
         "jbw",
         "JBW",
         "British",
         "2021-03-21",
         "2025-04-18T12:35:07.445Z"
        ],
        [
         102,
         "ferguson",
         "Ferguson",
         "British",
         "2021-03-21",
         "2025-04-18T12:35:07.445Z"
        ],
        [
         103,
         "mbm",
         "MBM",
         "Swiss",
         "2021-03-21",
         "2025-04-18T12:35:07.445Z"
        ],
        [
         104,
         "behra-porsche",
         "Behra-Porsche",
         "Italian",
         "2021-03-21",
         "2025-04-18T12:35:07.445Z"
        ],
        [
         105,
         "maserati",
         "Maserati",
         "Italian",
         "2021-03-21",
         "2025-04-18T12:35:07.445Z"
        ],
        [
         106,
         "scarab",
         "Scarab",
         "American",
         "2021-03-21",
         "2025-04-18T12:35:07.445Z"
        ],
        [
         107,
         "watson",
         "Watson",
         "American",
         "2021-03-21",
         "2025-04-18T12:35:07.445Z"
        ],
        [
         108,
         "epperly",
         "Epperly",
         "American",
         "2021-03-21",
         "2025-04-18T12:35:07.445Z"
        ],
        [
         109,
         "phillips",
         "Phillips",
         "American",
         "2021-03-21",
         "2025-04-18T12:35:07.445Z"
        ],
        [
         110,
         "lesovsky",
         "Lesovsky",
         "American",
         "2021-03-21",
         "2025-04-18T12:35:07.445Z"
        ],
        [
         111,
         "trevis",
         "Trevis",
         "American",
         "2021-03-21",
         "2025-04-18T12:35:07.445Z"
        ],
        [
         112,
         "meskowski",
         "Meskowski",
         "American",
         "2021-03-21",
         "2025-04-18T12:35:07.445Z"
        ],
        [
         113,
         "kurtis_kraft",
         "Kurtis Kraft",
         "American",
         "2021-03-21",
         "2025-04-18T12:35:07.445Z"
        ],
        [
         114,
         "kuzma",
         "Kuzma",
         "American",
         "2021-03-21",
         "2025-04-18T12:35:07.445Z"
        ],
        [
         115,
         "vhristensen",
         "Christensen",
         "American",
         "2021-03-21",
         "2025-04-18T12:35:07.445Z"
        ],
        [
         116,
         "ewing",
         "Ewing",
         "American",
         "2021-03-21",
         "2025-04-18T12:35:07.445Z"
        ],
        [
         117,
         "aston_martin",
         "Aston Martin",
         "British",
         "2021-03-21",
         "2025-04-18T12:35:07.445Z"
        ],
        [
         118,
         "vanwall",
         "Vanwall",
         "British",
         "2021-03-21",
         "2025-04-18T12:35:07.445Z"
        ],
        [
         119,
         "moore",
         "Moore",
         "American",
         "2021-03-21",
         "2025-04-18T12:35:07.445Z"
        ],
        [
         120,
         "dunn",
         "Dunn",
         "American",
         "2021-03-21",
         "2025-04-18T12:35:07.445Z"
        ],
        [
         121,
         "elder",
         "Elder",
         "American",
         "2021-03-21",
         "2025-04-18T12:35:07.445Z"
        ],
        [
         122,
         "sutton",
         "Sutton",
         "American",
         "2021-03-21",
         "2025-04-18T12:35:07.445Z"
        ],
        [
         123,
         "fry",
         "Fry",
         "British",
         "2021-03-21",
         "2025-04-18T12:35:07.445Z"
        ],
        [
         124,
         "tec-mec",
         "Tec-Mec",
         "Italian",
         "2021-03-21",
         "2025-04-18T12:35:07.445Z"
        ],
        [
         125,
         "connaught",
         "Connaught",
         "British",
         "2021-03-21",
         "2025-04-18T12:35:07.445Z"
        ],
        [
         126,
         "alta",
         "Alta",
         "British",
         "2021-03-21",
         "2025-04-18T12:35:07.445Z"
        ],
        [
         127,
         "osca",
         "OSCA",
         "Italian",
         "2021-03-21",
         "2025-04-18T12:35:07.445Z"
        ],
        [
         128,
         "gordini",
         "Gordini",
         "French",
         "2021-03-21",
         "2025-04-18T12:35:07.445Z"
        ],
        [
         129,
         "stevens",
         "Stevens",
         "American",
         "2021-03-21",
         "2025-04-18T12:35:07.445Z"
        ],
        [
         130,
         "bugatti",
         "Bugatti",
         "French",
         "2021-03-21",
         "2025-04-18T12:35:07.445Z"
        ],
        [
         131,
         "mercedes",
         "Mercedes",
         "German",
         "2021-03-21",
         "2025-04-18T12:35:07.445Z"
        ],
        [
         132,
         "lancia",
         "Lancia",
         "Italian",
         "2021-03-21",
         "2025-04-18T12:35:07.445Z"
        ],
        [
         133,
         "hwm",
         "HWM",
         "British",
         "2021-03-21",
         "2025-04-18T12:35:07.445Z"
        ],
        [
         134,
         "schroeder",
         "Schroeder",
         "American",
         "2021-03-21",
         "2025-04-18T12:35:07.445Z"
        ],
        [
         135,
         "pawl",
         "Pawl",
         "American",
         "2021-03-21",
         "2025-04-18T12:35:07.445Z"
        ],
        [
         136,
         "pankratz",
         "Pankratz",
         "American",
         "2021-03-21",
         "2025-04-18T12:35:07.445Z"
        ],
        [
         137,
         "arzani-volpini",
         "Arzani-Volpini",
         "Italian",
         "2021-03-21",
         "2025-04-18T12:35:07.445Z"
        ],
        [
         138,
         "nichels",
         "Nichels",
         "American",
         "2021-03-21",
         "2025-04-18T12:35:07.445Z"
        ],
        [
         139,
         "bromme",
         "Bromme",
         "American",
         "2021-03-21",
         "2025-04-18T12:35:07.445Z"
        ],
        [
         140,
         "klenk",
         "Klenk",
         "German",
         "2021-03-21",
         "2025-04-18T12:35:07.445Z"
        ],
        [
         141,
         "simca",
         "Simca",
         "French",
         "2021-03-21",
         "2025-04-18T12:35:07.445Z"
        ],
        [
         142,
         "turner",
         "Turner",
         "American",
         "2021-03-21",
         "2025-04-18T12:35:07.445Z"
        ],
        [
         143,
         "del_roy",
         "Del Roy",
         "American",
         "2021-03-21",
         "2025-04-18T12:35:07.445Z"
        ],
        [
         144,
         "veritas",
         "Veritas",
         "German",
         "2021-03-21",
         "2025-04-18T12:35:07.445Z"
        ],
        [
         145,
         "bmw",
         "BMW",
         "German",
         "2021-03-21",
         "2025-04-18T12:35:07.445Z"
        ],
        [
         146,
         "emw",
         "EMW",
         "East German",
         "2021-03-21",
         "2025-04-18T12:35:07.445Z"
        ],
        [
         147,
         "afm",
         "AFM",
         "German",
         "2021-03-21",
         "2025-04-18T12:35:07.445Z"
        ],
        [
         148,
         "frazer_nash",
         "Frazer Nash",
         "British",
         "2021-03-21",
         "2025-04-18T12:35:07.445Z"
        ],
        [
         149,
         "sherman",
         "Sherman",
         "American",
         "2021-03-21",
         "2025-04-18T12:35:07.445Z"
        ],
        [
         150,
         "deidt",
         "Deidt",
         "American",
         "2021-03-21",
         "2025-04-18T12:35:07.445Z"
        ],
        [
         151,
         "era",
         "ERA",
         "British",
         "2021-03-21",
         "2025-04-18T12:35:07.445Z"
        ],
        [
         152,
         "butterworth",
         "Aston Butterworth",
         "British",
         "2021-03-21",
         "2025-04-18T12:35:07.445Z"
        ],
        [
         153,
         "cisitalia",
         "Cisitalia",
         "Italian",
         "2021-03-21",
         "2025-04-18T12:35:07.445Z"
        ],
        [
         154,
         "lago",
         "Talbot-Lago",
         "French",
         "2021-03-21",
         "2025-04-18T12:35:07.445Z"
        ],
        [
         155,
         "hall",
         "Hall",
         "American",
         "2021-03-21",
         "2025-04-18T12:35:07.445Z"
        ],
        [
         156,
         "marchese",
         "Marchese",
         "American",
         "2021-03-21",
         "2025-04-18T12:35:07.445Z"
        ],
        [
         157,
         "langley",
         "Langley",
         "American",
         "2021-03-21",
         "2025-04-18T12:35:07.445Z"
        ],
        [
         158,
         "rae",
         "Rae",
         "American",
         "2021-03-21",
         "2025-04-18T12:35:07.445Z"
        ],
        [
         159,
         "olson",
         "Olson",
         "American",
         "2021-03-21",
         "2025-04-18T12:35:07.445Z"
        ],
        [
         160,
         "wetteroth",
         "Wetteroth",
         "American",
         "2021-03-21",
         "2025-04-18T12:35:07.445Z"
        ],
        [
         161,
         "adams",
         "Adams",
         "American",
         "2021-03-21",
         "2025-04-18T12:35:07.445Z"
        ],
        [
         162,
         "snowberger",
         "Snowberger",
         "American",
         "2021-03-21",
         "2025-04-18T12:35:07.445Z"
        ],
        [
         163,
         "milano",
         "Milano",
         "Italian",
         "2021-03-21",
         "2025-04-18T12:35:07.445Z"
        ],
        [
         164,
         "hrt",
         "HRT",
         "Spanish",
         "2021-03-21",
         "2025-04-18T12:35:07.445Z"
        ],
        [
         167,
         "cooper-maserati",
         "Cooper-Maserati",
         "British",
         "2021-03-21",
         "2025-04-18T12:35:07.445Z"
        ],
        [
         166,
         "virgin",
         "Virgin",
         "British",
         "2021-03-21",
         "2025-04-18T12:35:07.445Z"
        ],
        [
         168,
         "cooper-osca",
         "Cooper-OSCA",
         "British",
         "2021-03-21",
         "2025-04-18T12:35:07.445Z"
        ],
        [
         169,
         "cooper-borgward",
         "Cooper-Borgward",
         "British",
         "2021-03-21",
         "2025-04-18T12:35:07.445Z"
        ],
        [
         170,
         "cooper-climax",
         "Cooper-Climax",
         "British",
         "2021-03-21",
         "2025-04-18T12:35:07.445Z"
        ],
        [
         171,
         "cooper-castellotti",
         "Cooper-Castellotti",
         "British",
         "2021-03-21",
         "2025-04-18T12:35:07.445Z"
        ],
        [
         172,
         "lotus-climax",
         "Lotus-Climax",
         "British",
         "2021-03-21",
         "2025-04-18T12:35:07.445Z"
        ],
        [
         173,
         "lotus-maserati",
         "Lotus-Maserati",
         "British",
         "2021-03-21",
         "2025-04-18T12:35:07.445Z"
        ],
        [
         174,
         "de_tomaso-osca",
         "De Tomaso-Osca",
         "Italian",
         "2021-03-21",
         "2025-04-18T12:35:07.445Z"
        ],
        [
         175,
         "de_tomaso-alfa_romeo",
         "De Tomaso-Alfa Romeo",
         "Italian",
         "2021-03-21",
         "2025-04-18T12:35:07.445Z"
        ],
        [
         176,
         "lotus-brm",
         "Lotus-BRM",
         "British",
         "2021-03-21",
         "2025-04-18T12:35:07.445Z"
        ],
        [
         177,
         "lotus-borgward",
         "Lotus-Borgward",
         "British",
         "2021-03-21",
         "2025-04-18T12:35:07.445Z"
        ],
        [
         178,
         "cooper-alfa_romeo",
         "Cooper-Alfa Romeo",
         "British",
         "2021-03-21",
         "2025-04-18T12:35:07.445Z"
        ],
        [
         179,
         "de_tomaso-ferrari",
         "De Tomaso-Ferrari",
         "Italian",
         "2021-03-21",
         "2025-04-18T12:35:07.445Z"
        ],
        [
         180,
         "lotus-ford",
         "Lotus-Ford",
         "British",
         "2021-03-21",
         "2025-04-18T12:35:07.445Z"
        ],
        [
         181,
         "brabham-brm",
         "Brabham-BRM",
         "British",
         "2021-03-21",
         "2025-04-18T12:35:07.445Z"
        ],
        [
         182,
         "brabham-ford",
         "Brabham-Ford",
         "British",
         "2021-03-21",
         "2025-04-18T12:35:07.445Z"
        ],
        [
         183,
         "brabham-climax",
         "Brabham-Climax",
         "British",
         "2021-03-21",
         "2025-04-18T12:35:07.445Z"
        ],
        [
         184,
         "lds-climax",
         "LDS-Climax",
         "South African",
         "2021-03-21",
         "2025-04-18T12:35:07.445Z"
        ],
        [
         185,
         "lds-alfa_romeo",
         "LDS-Alfa Romeo",
         "South African",
         "2021-03-21",
         "2025-04-18T12:35:07.445Z"
        ],
        [
         186,
         "cooper-ford",
         "Cooper-Ford",
         "British",
         "2021-03-21",
         "2025-04-18T12:35:07.445Z"
        ],
        [
         187,
         "mclaren-ford",
         "McLaren-Ford",
         "British",
         "2021-03-21",
         "2025-04-18T12:35:07.445Z"
        ],
        [
         188,
         "mclaren-seren",
         "McLaren-Serenissima",
         "British",
         "2021-03-21",
         "2025-04-18T12:35:07.445Z"
        ],
        [
         189,
         "eagle-climax",
         "Eagle-Climax",
         "American",
         "2021-03-21",
         "2025-04-18T12:35:07.445Z"
        ],
        [
         190,
         "eagle-weslake",
         "Eagle-Weslake",
         "American",
         "2021-03-21",
         "2025-04-18T12:35:07.445Z"
        ],
        [
         191,
         "brabham-repco",
         "Brabham-Repco",
         "British",
         "2021-03-21",
         "2025-04-18T12:35:07.445Z"
        ],
        [
         192,
         "cooper-ferrari",
         "Cooper-Ferrari",
         "British",
         "2021-03-21",
         "2025-04-18T12:35:07.445Z"
        ],
        [
         193,
         "cooper-ats",
         "Cooper-ATS",
         "British",
         "2021-03-21",
         "2025-04-18T12:35:07.445Z"
        ],
        [
         194,
         "mclaren-brm",
         "McLaren-BRM",
         "British",
         "2021-03-21",
         "2025-04-18T12:35:07.445Z"
        ],
        [
         195,
         "cooper-brm",
         "Cooper-BRM",
         "British",
         "2021-03-21",
         "2025-04-18T12:35:07.445Z"
        ],
        [
         196,
         "matra-ford",
         "Matra-Ford",
         "French",
         "2021-03-21",
         "2025-04-18T12:35:07.445Z"
        ],
        [
         197,
         "brm-ford",
         "BRM-Ford",
         "British",
         "2021-03-21",
         "2025-04-18T12:35:07.445Z"
        ],
        [
         198,
         "mclaren-alfa_romeo",
         "McLaren-Alfa Romeo",
         "British",
         "2021-03-21",
         "2025-04-18T12:35:07.445Z"
        ],
        [
         199,
         "march-alfa_romeo",
         "March-Alfa Romeo",
         "British",
         "2021-03-21",
         "2025-04-18T12:35:07.445Z"
        ],
        [
         200,
         "march-ford",
         "March-Ford",
         "British",
         "2021-03-21",
         "2025-04-18T12:35:07.445Z"
        ],
        [
         201,
         "lotus-pw",
         "Lotus-Pratt &amp; Whitney",
         "British",
         "2021-03-21",
         "2025-04-18T12:35:07.445Z"
        ],
        [
         202,
         "shadow-ford",
         "Shadow-Ford",
         "British",
         "2021-03-21",
         "2025-04-18T12:35:07.445Z"
        ],
        [
         203,
         "shadow-matra",
         "Shadow-Matra",
         "British",
         "2021-03-21",
         "2025-04-18T12:35:07.445Z"
        ],
        [
         204,
         "brabham-alfa_romeo",
         "Brabham-Alfa Romeo",
         "British",
         "2021-03-21",
         "2025-04-18T12:35:07.445Z"
        ],
        [
         205,
         "lotus_racing",
         "Lotus",
         "Malaysian",
         "2021-03-21",
         "2025-04-18T12:35:07.445Z"
        ],
        [
         206,
         "marussia",
         "Marussia",
         "Russian",
         "2021-03-21",
         "2025-04-18T12:35:07.445Z"
        ],
        [
         207,
         "caterham",
         "Caterham",
         "Malaysian",
         "2021-03-21",
         "2025-04-18T12:35:07.445Z"
        ],
        [
         208,
         "lotus_f1",
         "Lotus F1",
         "British",
         "2021-03-21",
         "2025-04-18T12:35:07.445Z"
        ],
        [
         209,
         "manor",
         "Manor Marussia",
         "British",
         "2021-03-21",
         "2025-04-18T12:35:07.445Z"
        ],
        [
         210,
         "haas",
         "Haas F1 Team",
         "American",
         "2021-03-21",
         "2025-04-18T12:35:07.445Z"
        ],
        [
         211,
         "racing_point",
         "Racing Point",
         "British",
         "2021-03-21",
         "2025-04-18T12:35:07.445Z"
        ],
        [
         213,
         "alphatauri",
         "AlphaTauri",
         "Italian",
         "2021-03-21",
         "2025-04-18T12:35:07.445Z"
        ],
        [
         214,
         "alpine",
         "Alpine F1 Team",
         "French",
         "2021-03-21",
         "2025-04-18T12:35:07.445Z"
        ]
       ],
       "datasetInfos": [],
       "dbfsResultPath": null,
       "isJsonSchema": true,
       "metadata": {},
       "overflow": false,
       "plotOptions": {
        "customPlotOptions": {},
        "displayType": "table",
        "pivotAggregation": null,
        "pivotColumns": null,
        "xColumns": null,
        "yColumns": null
       },
       "removedWidgets": [],
       "schema": [
        {
         "metadata": "{}",
         "name": "constructor_id",
         "type": "\"integer\""
        },
        {
         "metadata": "{}",
         "name": "constructor_ref",
         "type": "\"string\""
        },
        {
         "metadata": "{}",
         "name": "name",
         "type": "\"string\""
        },
        {
         "metadata": "{}",
         "name": "nationality",
         "type": "\"string\""
        },
        {
         "metadata": "{}",
         "name": "file_date",
         "type": "\"string\""
        },
        {
         "metadata": "{}",
         "name": "ingest_date",
         "type": "\"timestamp\""
        }
       ],
       "type": "table"
      }
     },
     "output_type": "display_data"
    }
   ],
   "source": [
    "# verifying if the data is written properly or not\n",
    "df = spark.read.format(\"delta\").load(f\"{processed_container_path}/constructors\")\n",
    "display(df)"
   ]
  },
  {
   "cell_type": "code",
   "execution_count": 0,
   "metadata": {
    "application/vnd.databricks.v1+cell": {
     "cellMetadata": {
      "byteLimit": 2048000,
      "rowLimit": 10000
     },
     "inputWidgets": {},
     "nuid": "f877fe21-fefa-4859-ae25-81231243b1d7",
     "showTitle": false,
     "tableResultSettingsMap": {},
     "title": ""
    }
   },
   "outputs": [],
   "source": [
    "dbutils.notebook.exit(\"success...\")"
   ]
  },
  {
   "cell_type": "code",
   "execution_count": 0,
   "metadata": {
    "application/vnd.databricks.v1+cell": {
     "cellMetadata": {},
     "inputWidgets": {},
     "nuid": "31465fc2-a26e-4cc5-9965-d4bc7d0e97bb",
     "showTitle": false,
     "tableResultSettingsMap": {},
     "title": ""
    }
   },
   "outputs": [],
   "source": []
  }
 ],
 "metadata": {
  "application/vnd.databricks.v1+notebook": {
   "computePreferences": null,
   "dashboards": [],
   "environmentMetadata": {
    "base_environment": "",
    "environment_version": "2"
   },
   "inputWidgetPreferences": null,
   "language": "python",
   "notebookMetadata": {
    "mostRecentlyExecutedCommandWithImplicitDF": {
     "commandId": 8988975962801026,
     "dataframes": [
      "_sqldf"
     ]
    },
    "pythonIndentUnit": 4
   },
   "notebookName": "3. Data_ingestion_constructors_file",
   "widgets": {
    "v_file_date": {
     "currentValue": "2021-03-21",
     "nuid": "37f856b1-9f94-4b49-9d79-043ead2588ba",
     "typedWidgetInfo": {
      "autoCreated": false,
      "defaultValue": "2021-03-21",
      "label": null,
      "name": "v_file_date",
      "options": {
       "widgetDisplayType": "Text",
       "validationRegex": null
      },
      "parameterDataType": "String"
     },
     "widgetInfo": {
      "widgetType": "text",
      "defaultValue": "2021-03-21",
      "label": null,
      "name": "v_file_date",
      "options": {
       "widgetType": "text",
       "autoCreated": null,
       "validationRegex": null
      }
     }
    }
   }
  },
  "language_info": {
   "name": "python"
  }
 },
 "nbformat": 4,
 "nbformat_minor": 0
}
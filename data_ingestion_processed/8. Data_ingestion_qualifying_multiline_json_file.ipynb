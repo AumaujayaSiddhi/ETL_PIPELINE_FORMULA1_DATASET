{
 "cells": [
  {
   "cell_type": "code",
   "execution_count": 0,
   "metadata": {
    "application/vnd.databricks.v1+cell": {
     "cellMetadata": {
      "byteLimit": 2048000,
      "rowLimit": 10000
     },
     "inputWidgets": {},
     "nuid": "d4adf31b-bb57-412d-b1b8-b158ae9962ab",
     "showTitle": false,
     "tableResultSettingsMap": {},
     "title": ""
    }
   },
   "outputs": [],
   "source": [
    "dbutils.widgets.text(\"v_file_date\", \"2021-03-21\")\n",
    "v_file_date = dbutils.widgets.get(\"v_file_date\")"
   ]
  },
  {
   "cell_type": "code",
   "execution_count": 0,
   "metadata": {
    "application/vnd.databricks.v1+cell": {
     "cellMetadata": {
      "byteLimit": 2048000,
      "rowLimit": 10000
     },
     "inputWidgets": {},
     "nuid": "4518e9b5-14f9-4bc9-b4d0-179a44d18b60",
     "showTitle": false,
     "tableResultSettingsMap": {},
     "title": ""
    }
   },
   "outputs": [],
   "source": [
    "%run \"../includes/common_code\""
   ]
  },
  {
   "cell_type": "markdown",
   "metadata": {
    "application/vnd.databricks.v1+cell": {
     "cellMetadata": {
      "byteLimit": 2048000,
      "rowLimit": 10000
     },
     "inputWidgets": {},
     "nuid": "ef28ca78-71e9-4ce6-a137-5eed85df6058",
     "showTitle": false,
     "tableResultSettingsMap": {},
     "title": ""
    }
   },
   "source": [
    "### Ingestion qualifying/qualifying_split*.json\n",
    "1. Read qualifying/qualifying_split*.json file from raw container using Dataframe reader API\n",
    "2. Select only the required columns or drop the unwanted columns\n",
    "3. Rename few columns to the suitable name\n",
    "4. Add audit column which specifies the ingestion date/time/timestamp"
   ]
  },
  {
   "cell_type": "code",
   "execution_count": 0,
   "metadata": {
    "application/vnd.databricks.v1+cell": {
     "cellMetadata": {
      "byteLimit": 2048000,
      "rowLimit": 10000
     },
     "inputWidgets": {},
     "nuid": "c873a4ed-8d9d-4bfc-9d93-9c3166049500",
     "showTitle": false,
     "tableResultSettingsMap": {},
     "title": ""
    }
   },
   "outputs": [
    {
     "output_type": "display_data",
     "data": {
      "text/html": [
       "<style scoped>\n",
       "  .table-result-container {\n",
       "    max-height: 300px;\n",
       "    overflow: auto;\n",
       "  }\n",
       "  table, th, td {\n",
       "    border: 1px solid black;\n",
       "    border-collapse: collapse;\n",
       "  }\n",
       "  th, td {\n",
       "    padding: 5px;\n",
       "  }\n",
       "  th {\n",
       "    text-align: left;\n",
       "  }\n",
       "</style><div class='table-result-container'><table class='table-result'><thead style='background-color: white'><tr><th>mountPoint</th><th>source</th><th>encryptionType</th></tr></thead><tbody><tr><td>/databricks-datasets</td><td>databricks-datasets</td><td></td></tr><tr><td>/mnt/formula1dl-demo</td><td>abfss://demo@formula1dlsiddhi.dfs.core.windows.net/</td><td></td></tr><tr><td>/mnt/formula1dlsiddhi/processed</td><td>abfss://processed@formula1dlsiddhi.dfs.core.windows.net/</td><td></td></tr><tr><td>/Volumes</td><td>UnityCatalogVolumes</td><td></td></tr><tr><td>/mnt/formula1dlsiddhi/demo</td><td>abfss://demo@formula1dlsiddhi.dfs.core.windows.net/</td><td></td></tr><tr><td>/databricks/mlflow-tracking</td><td>databricks/mlflow-tracking</td><td></td></tr><tr><td>/databricks-results</td><td>databricks-results</td><td></td></tr><tr><td>/mnt/formula1dlsiddhi/raw</td><td>abfss://raw@formula1dlsiddhi.dfs.core.windows.net/</td><td></td></tr><tr><td>/databricks/mlflow-registry</td><td>databricks/mlflow-registry</td><td></td></tr><tr><td>/Volume</td><td>DbfsReserved</td><td></td></tr><tr><td>/mnt/formula1dlsiddhi/presentation</td><td>abfss://presentation@formula1dlsiddhi.dfs.core.windows.net/</td><td></td></tr><tr><td>/volumes</td><td>DbfsReserved</td><td></td></tr><tr><td>/</td><td>DatabricksRoot</td><td></td></tr><tr><td>/volume</td><td>DbfsReserved</td><td></td></tr></tbody></table></div>"
      ]
     },
     "metadata": {
      "application/vnd.databricks.v1+output": {
       "addedWidgets": {},
       "aggData": [],
       "aggError": "",
       "aggOverflow": false,
       "aggSchema": [],
       "aggSeriesLimitReached": false,
       "aggType": "",
       "arguments": {},
       "columnCustomDisplayInfos": {},
       "data": [
        [
         "/databricks-datasets",
         "databricks-datasets",
         ""
        ],
        [
         "/mnt/formula1dl-demo",
         "abfss://demo@formula1dlsiddhi.dfs.core.windows.net/",
         ""
        ],
        [
         "/mnt/formula1dlsiddhi/processed",
         "abfss://processed@formula1dlsiddhi.dfs.core.windows.net/",
         ""
        ],
        [
         "/Volumes",
         "UnityCatalogVolumes",
         ""
        ],
        [
         "/mnt/formula1dlsiddhi/demo",
         "abfss://demo@formula1dlsiddhi.dfs.core.windows.net/",
         ""
        ],
        [
         "/databricks/mlflow-tracking",
         "databricks/mlflow-tracking",
         ""
        ],
        [
         "/databricks-results",
         "databricks-results",
         ""
        ],
        [
         "/mnt/formula1dlsiddhi/raw",
         "abfss://raw@formula1dlsiddhi.dfs.core.windows.net/",
         ""
        ],
        [
         "/databricks/mlflow-registry",
         "databricks/mlflow-registry",
         ""
        ],
        [
         "/Volume",
         "DbfsReserved",
         ""
        ],
        [
         "/mnt/formula1dlsiddhi/presentation",
         "abfss://presentation@formula1dlsiddhi.dfs.core.windows.net/",
         ""
        ],
        [
         "/volumes",
         "DbfsReserved",
         ""
        ],
        [
         "/",
         "DatabricksRoot",
         ""
        ],
        [
         "/volume",
         "DbfsReserved",
         ""
        ]
       ],
       "datasetInfos": [],
       "dbfsResultPath": null,
       "isJsonSchema": true,
       "metadata": {},
       "overflow": false,
       "plotOptions": {
        "customPlotOptions": {},
        "displayType": "table",
        "pivotAggregation": null,
        "pivotColumns": null,
        "xColumns": null,
        "yColumns": null
       },
       "removedWidgets": [],
       "schema": [
        {
         "metadata": "{}",
         "name": "mountPoint",
         "type": "\"string\""
        },
        {
         "metadata": "{}",
         "name": "source",
         "type": "\"string\""
        },
        {
         "metadata": "{}",
         "name": "encryptionType",
         "type": "\"string\""
        }
       ],
       "type": "table"
      }
     },
     "output_type": "display_data"
    }
   ],
   "source": [
    "# listing all the mounts\n",
    "display(dbutils.fs.mounts())"
   ]
  },
  {
   "cell_type": "code",
   "execution_count": 0,
   "metadata": {
    "application/vnd.databricks.v1+cell": {
     "cellMetadata": {
      "byteLimit": 2048000,
      "rowLimit": 10000
     },
     "inputWidgets": {},
     "nuid": "94fba9f3-1c67-4a0e-a71d-82da6711f019",
     "showTitle": false,
     "tableResultSettingsMap": {},
     "title": ""
    }
   },
   "outputs": [
    {
     "output_type": "display_data",
     "data": {
      "text/html": [
       "<style scoped>\n",
       "  .table-result-container {\n",
       "    max-height: 300px;\n",
       "    overflow: auto;\n",
       "  }\n",
       "  table, th, td {\n",
       "    border: 1px solid black;\n",
       "    border-collapse: collapse;\n",
       "  }\n",
       "  th, td {\n",
       "    padding: 5px;\n",
       "  }\n",
       "  th {\n",
       "    text-align: left;\n",
       "  }\n",
       "</style><div class='table-result-container'><table class='table-result'><thead style='background-color: white'><tr><th>path</th><th>name</th><th>size</th><th>modificationTime</th></tr></thead><tbody><tr><td>dbfs:/mnt/formula1dlsiddhi/raw/2021-03-21/</td><td>2021-03-21/</td><td>0</td><td>1744679356000</td></tr><tr><td>dbfs:/mnt/formula1dlsiddhi/raw/2021-03-28/</td><td>2021-03-28/</td><td>0</td><td>1744679367000</td></tr><tr><td>dbfs:/mnt/formula1dlsiddhi/raw/2021-04-18/</td><td>2021-04-18/</td><td>0</td><td>1744679375000</td></tr></tbody></table></div>"
      ]
     },
     "metadata": {
      "application/vnd.databricks.v1+output": {
       "addedWidgets": {},
       "aggData": [],
       "aggError": "",
       "aggOverflow": false,
       "aggSchema": [],
       "aggSeriesLimitReached": false,
       "aggType": "",
       "arguments": {},
       "columnCustomDisplayInfos": {},
       "data": [
        [
         "dbfs:/mnt/formula1dlsiddhi/raw/2021-03-21/",
         "2021-03-21/",
         0,
         1744679356000
        ],
        [
         "dbfs:/mnt/formula1dlsiddhi/raw/2021-03-28/",
         "2021-03-28/",
         0,
         1744679367000
        ],
        [
         "dbfs:/mnt/formula1dlsiddhi/raw/2021-04-18/",
         "2021-04-18/",
         0,
         1744679375000
        ]
       ],
       "datasetInfos": [],
       "dbfsResultPath": null,
       "isJsonSchema": true,
       "metadata": {},
       "overflow": false,
       "plotOptions": {
        "customPlotOptions": {},
        "displayType": "table",
        "pivotAggregation": null,
        "pivotColumns": null,
        "xColumns": null,
        "yColumns": null
       },
       "removedWidgets": [],
       "schema": [
        {
         "metadata": "{}",
         "name": "path",
         "type": "\"string\""
        },
        {
         "metadata": "{}",
         "name": "name",
         "type": "\"string\""
        },
        {
         "metadata": "{}",
         "name": "size",
         "type": "\"long\""
        },
        {
         "metadata": "{}",
         "name": "modificationTime",
         "type": "\"long\""
        }
       ],
       "type": "table"
      }
     },
     "output_type": "display_data"
    }
   ],
   "source": [
    "# listing all the files in raw container\n",
    "display(dbutils.fs.ls(raw_container_path))"
   ]
  },
  {
   "cell_type": "markdown",
   "metadata": {
    "application/vnd.databricks.v1+cell": {
     "cellMetadata": {
      "byteLimit": 2048000,
      "rowLimit": 10000
     },
     "inputWidgets": {},
     "nuid": "62cbb58b-a3f6-4ad8-90d3-f4c27f0be90d",
     "showTitle": false,
     "tableResultSettingsMap": {},
     "title": ""
    }
   },
   "source": [
    "Visit [spark_documentation](https://spark.apache.org/docs/latest/api/python/reference/pyspark.sql/api/pyspark.sql.DataFrameReader.json.html) for read_json()"
   ]
  },
  {
   "cell_type": "code",
   "execution_count": 0,
   "metadata": {
    "application/vnd.databricks.v1+cell": {
     "cellMetadata": {
      "byteLimit": 2048000,
      "rowLimit": 10000
     },
     "inputWidgets": {},
     "nuid": "72f72af4-18ef-4a5c-83ae-c35a0a987895",
     "showTitle": false,
     "tableResultSettingsMap": {},
     "title": ""
    }
   },
   "outputs": [],
   "source": [
    "from pyspark.sql.types import StructType, StructField, StringType, DoubleType, TimestampType, IntegerType, FloatType"
   ]
  },
  {
   "cell_type": "markdown",
   "metadata": {
    "application/vnd.databricks.v1+cell": {
     "cellMetadata": {
      "byteLimit": 2048000,
      "rowLimit": 10000
     },
     "inputWidgets": {},
     "nuid": "85ac222d-c161-47cd-b093-daf4375f876c",
     "showTitle": false,
     "tableResultSettingsMap": {},
     "title": ""
    }
   },
   "source": [
    "#### Defining the schema manually\n",
    "1. Visit [spark documentation](https://spark.apache.org/docs/latest/api/python/reference/pyspark.sql/api/pyspark.sql.types.StructType.html) for Struct_Type"
   ]
  },
  {
   "cell_type": "code",
   "execution_count": 0,
   "metadata": {
    "application/vnd.databricks.v1+cell": {
     "cellMetadata": {
      "byteLimit": 2048000,
      "rowLimit": 10000
     },
     "inputWidgets": {},
     "nuid": "0a8e01e0-5803-4ead-88c0-52424720bae7",
     "showTitle": false,
     "tableResultSettingsMap": {},
     "title": ""
    }
   },
   "outputs": [],
   "source": [
    "qualifying_schema = StructType([ StructField(\"qualifyingId\", IntegerType(), False),\n",
    "                                StructField(\"raceId\", IntegerType(), True),\n",
    "                                StructField(\"driverId\", IntegerType(), True),\n",
    "                                StructField(\"constructorId\", IntegerType(), True),\n",
    "                                StructField(\"number\", IntegerType(), True),\n",
    "                                StructField(\"position\", IntegerType(), True),\n",
    "                                StructField(\"q1\", StringType(), True),\n",
    "                                StructField(\"q2\", StringType(), True),\n",
    "                                StructField(\"q3\", StringType(), True)\n",
    "                            ])"
   ]
  },
  {
   "cell_type": "code",
   "execution_count": 0,
   "metadata": {
    "application/vnd.databricks.v1+cell": {
     "cellMetadata": {
      "byteLimit": 2048000,
      "rowLimit": 10000
     },
     "inputWidgets": {},
     "nuid": "40364350-e993-4ffd-923c-8643fce24125",
     "showTitle": false,
     "tableResultSettingsMap": {},
     "title": ""
    }
   },
   "outputs": [],
   "source": [
    "qualifying_df = spark.read.schema(qualifying_schema) \\\n",
    "                        .option(\"header\", \"true\") \\\n",
    "                        .option(\"multiLine\", \"true\") \\\n",
    "                        .json(f\"{raw_container_path}/{v_file_date}/qualifying/\")"
   ]
  },
  {
   "cell_type": "code",
   "execution_count": 0,
   "metadata": {
    "application/vnd.databricks.v1+cell": {
     "cellMetadata": {
      "byteLimit": 2048000,
      "rowLimit": 10000
     },
     "inputWidgets": {},
     "nuid": "92d80f4b-5c93-4400-b911-9f0de0ccd900",
     "showTitle": false,
     "tableResultSettingsMap": {},
     "title": ""
    }
   },
   "outputs": [
    {
     "output_type": "stream",
     "name": "stdout",
     "output_type": "stream",
     "text": [
      "root\n |-- qualifyingId: integer (nullable = true)\n |-- raceId: integer (nullable = true)\n |-- driverId: integer (nullable = true)\n |-- constructorId: integer (nullable = true)\n |-- number: integer (nullable = true)\n |-- position: integer (nullable = true)\n |-- q1: string (nullable = true)\n |-- q2: string (nullable = true)\n |-- q3: string (nullable = true)\n\n"
     ]
    }
   ],
   "source": [
    "# pit_stops schema\n",
    "qualifying_df.printSchema()"
   ]
  },
  {
   "cell_type": "code",
   "execution_count": 0,
   "metadata": {
    "application/vnd.databricks.v1+cell": {
     "cellMetadata": {
      "byteLimit": 2048000,
      "rowLimit": 10000
     },
     "inputWidgets": {},
     "nuid": "91b14896-bb1c-4bfe-99bd-f5de09bed5a6",
     "showTitle": false,
     "tableResultSettingsMap": {},
     "title": ""
    }
   },
   "outputs": [
    {
     "output_type": "display_data",
     "data": {
      "text/html": [
       "<style scoped>\n",
       "  .table-result-container {\n",
       "    max-height: 300px;\n",
       "    overflow: auto;\n",
       "  }\n",
       "  table, th, td {\n",
       "    border: 1px solid black;\n",
       "    border-collapse: collapse;\n",
       "  }\n",
       "  th, td {\n",
       "    padding: 5px;\n",
       "  }\n",
       "  th {\n",
       "    text-align: left;\n",
       "  }\n",
       "</style><div class='table-result-container'><table class='table-result'><thead style='background-color: white'><tr><th>qualifyingId</th><th>raceId</th><th>driverId</th><th>constructorId</th><th>number</th><th>position</th><th>q1</th><th>q2</th><th>q3</th></tr></thead><tbody><tr><td>null</td><td>1053</td><td>1</td><td>131</td><td>44</td><td>1</td><td>1:14.823</td><td>1:14.817</td><td>1:14.411</td></tr><tr><td>null</td><td>1053</td><td>815</td><td>9</td><td>11</td><td>2</td><td>1:15.395</td><td>1:14.716</td><td>1:14.446</td></tr><tr><td>null</td><td>1053</td><td>830</td><td>9</td><td>33</td><td>3</td><td>1:15.109</td><td>1:14.884</td><td>1:14.498</td></tr><tr><td>null</td><td>1053</td><td>844</td><td>6</td><td>16</td><td>4</td><td>1:15.413</td><td>1:14.808</td><td>1:14.740</td></tr><tr><td>null</td><td>1053</td><td>842</td><td>213</td><td>10</td><td>5</td><td>1:15.548</td><td>1:14.927</td><td>1:14.790</td></tr><tr><td>null</td><td>1053</td><td>817</td><td>1</td><td>3</td><td>6</td><td>1:15.669</td><td>1:15.033</td><td>1:14.826</td></tr><tr><td>null</td><td>1053</td><td>846</td><td>1</td><td>4</td><td>7</td><td>1:15.009</td><td>1:14.718</td><td>1:14.875</td></tr><tr><td>null</td><td>1053</td><td>822</td><td>131</td><td>77</td><td>8</td><td>1:14.672</td><td>1:14.905</td><td>1:14.898</td></tr><tr><td>null</td><td>1053</td><td>839</td><td>214</td><td>31</td><td>9</td><td>1:15.385</td><td>1:15.117</td><td>1:15.210</td></tr><tr><td>null</td><td>1053</td><td>840</td><td>117</td><td>18</td><td>10</td><td>1:15.522</td><td>1:15.138</td><td>\\N</td></tr><tr><td>null</td><td>1053</td><td>832</td><td>6</td><td>55</td><td>11</td><td>1:15.406</td><td>1:15.199</td><td>\\N</td></tr><tr><td>null</td><td>1053</td><td>847</td><td>3</td><td>63</td><td>12</td><td>1:15.826</td><td>1:15.261</td><td>\\N</td></tr><tr><td>null</td><td>1053</td><td>20</td><td>117</td><td>5</td><td>13</td><td>1:15.459</td><td>1:15.394</td><td>\\N</td></tr><tr><td>null</td><td>1053</td><td>849</td><td>3</td><td>6</td><td>14</td><td>1:15.653</td><td>1:15.593</td><td>\\N</td></tr><tr><td>null</td><td>1053</td><td>4</td><td>214</td><td>14</td><td>15</td><td>1:15.832</td><td>1:15.593</td><td>\\N</td></tr><tr><td>null</td><td>1053</td><td>8</td><td>51</td><td>7</td><td>16</td><td>1:15.974</td><td>\\N</td><td>\\N</td></tr><tr><td>null</td><td>1053</td><td>841</td><td>51</td><td>99</td><td>17</td><td>1:16.122</td><td>\\N</td><td>\\N</td></tr><tr><td>null</td><td>1053</td><td>854</td><td>210</td><td>47</td><td>18</td><td>1:16.279</td><td>\\N</td><td>\\N</td></tr><tr><td>null</td><td>1053</td><td>853</td><td>210</td><td>9</td><td>19</td><td>1:16.797</td><td>\\N</td><td>\\N</td></tr><tr><td>null</td><td>1053</td><td>852</td><td>213</td><td>22</td><td>20</td><td>\\N</td><td>\\N</td><td>\\N</td></tr></tbody></table></div>"
      ]
     },
     "metadata": {
      "application/vnd.databricks.v1+output": {
       "addedWidgets": {},
       "aggData": [],
       "aggError": "",
       "aggOverflow": false,
       "aggSchema": [],
       "aggSeriesLimitReached": false,
       "aggType": "",
       "arguments": {},
       "columnCustomDisplayInfos": {},
       "data": [
        [
         null,
         1053,
         1,
         131,
         44,
         1,
         "1:14.823",
         "1:14.817",
         "1:14.411"
        ],
        [
         null,
         1053,
         815,
         9,
         11,
         2,
         "1:15.395",
         "1:14.716",
         "1:14.446"
        ],
        [
         null,
         1053,
         830,
         9,
         33,
         3,
         "1:15.109",
         "1:14.884",
         "1:14.498"
        ],
        [
         null,
         1053,
         844,
         6,
         16,
         4,
         "1:15.413",
         "1:14.808",
         "1:14.740"
        ],
        [
         null,
         1053,
         842,
         213,
         10,
         5,
         "1:15.548",
         "1:14.927",
         "1:14.790"
        ],
        [
         null,
         1053,
         817,
         1,
         3,
         6,
         "1:15.669",
         "1:15.033",
         "1:14.826"
        ],
        [
         null,
         1053,
         846,
         1,
         4,
         7,
         "1:15.009",
         "1:14.718",
         "1:14.875"
        ],
        [
         null,
         1053,
         822,
         131,
         77,
         8,
         "1:14.672",
         "1:14.905",
         "1:14.898"
        ],
        [
         null,
         1053,
         839,
         214,
         31,
         9,
         "1:15.385",
         "1:15.117",
         "1:15.210"
        ],
        [
         null,
         1053,
         840,
         117,
         18,
         10,
         "1:15.522",
         "1:15.138",
         "\\N"
        ],
        [
         null,
         1053,
         832,
         6,
         55,
         11,
         "1:15.406",
         "1:15.199",
         "\\N"
        ],
        [
         null,
         1053,
         847,
         3,
         63,
         12,
         "1:15.826",
         "1:15.261",
         "\\N"
        ],
        [
         null,
         1053,
         20,
         117,
         5,
         13,
         "1:15.459",
         "1:15.394",
         "\\N"
        ],
        [
         null,
         1053,
         849,
         3,
         6,
         14,
         "1:15.653",
         "1:15.593",
         "\\N"
        ],
        [
         null,
         1053,
         4,
         214,
         14,
         15,
         "1:15.832",
         "1:15.593",
         "\\N"
        ],
        [
         null,
         1053,
         8,
         51,
         7,
         16,
         "1:15.974",
         "\\N",
         "\\N"
        ],
        [
         null,
         1053,
         841,
         51,
         99,
         17,
         "1:16.122",
         "\\N",
         "\\N"
        ],
        [
         null,
         1053,
         854,
         210,
         47,
         18,
         "1:16.279",
         "\\N",
         "\\N"
        ],
        [
         null,
         1053,
         853,
         210,
         9,
         19,
         "1:16.797",
         "\\N",
         "\\N"
        ],
        [
         null,
         1053,
         852,
         213,
         22,
         20,
         "\\N",
         "\\N",
         "\\N"
        ]
       ],
       "datasetInfos": [],
       "dbfsResultPath": null,
       "isJsonSchema": true,
       "metadata": {},
       "overflow": false,
       "plotOptions": {
        "customPlotOptions": {},
        "displayType": "table",
        "pivotAggregation": null,
        "pivotColumns": null,
        "xColumns": null,
        "yColumns": null
       },
       "removedWidgets": [],
       "schema": [
        {
         "metadata": "{}",
         "name": "qualifyingId",
         "type": "\"integer\""
        },
        {
         "metadata": "{}",
         "name": "raceId",
         "type": "\"integer\""
        },
        {
         "metadata": "{}",
         "name": "driverId",
         "type": "\"integer\""
        },
        {
         "metadata": "{}",
         "name": "constructorId",
         "type": "\"integer\""
        },
        {
         "metadata": "{}",
         "name": "number",
         "type": "\"integer\""
        },
        {
         "metadata": "{}",
         "name": "position",
         "type": "\"integer\""
        },
        {
         "metadata": "{}",
         "name": "q1",
         "type": "\"string\""
        },
        {
         "metadata": "{}",
         "name": "q2",
         "type": "\"string\""
        },
        {
         "metadata": "{}",
         "name": "q3",
         "type": "\"string\""
        }
       ],
       "type": "table"
      }
     },
     "output_type": "display_data"
    }
   ],
   "source": [
    "display(qualifying_df)"
   ]
  },
  {
   "cell_type": "markdown",
   "metadata": {
    "application/vnd.databricks.v1+cell": {
     "cellMetadata": {
      "byteLimit": 2048000,
      "rowLimit": 10000
     },
     "inputWidgets": {},
     "nuid": "190f5e8e-8015-4261-95f8-de1fc7ad9ffb",
     "showTitle": false,
     "tableResultSettingsMap": {},
     "title": ""
    }
   },
   "source": [
    "#### Further processing 1\n",
    "1. Rename the following columns\n",
    "  - qualifyingId ---> qualifying_id\n",
    "  - driverId ---> driver_id\n",
    "  - raceId ---> race_id\n",
    "  - constructorId ---> constructor_id\n",
    "3. Add the audit column ingestion_date"
   ]
  },
  {
   "cell_type": "code",
   "execution_count": 0,
   "metadata": {
    "application/vnd.databricks.v1+cell": {
     "cellMetadata": {
      "byteLimit": 2048000,
      "rowLimit": 10000
     },
     "inputWidgets": {},
     "nuid": "845a3ccd-b8dc-4bcf-b7b0-196a6d2db9ec",
     "showTitle": false,
     "tableResultSettingsMap": {},
     "title": ""
    }
   },
   "outputs": [],
   "source": [
    "from pyspark.sql.functions import col, concat, lit, current_timestamp"
   ]
  },
  {
   "cell_type": "code",
   "execution_count": 0,
   "metadata": {
    "application/vnd.databricks.v1+cell": {
     "cellMetadata": {
      "byteLimit": 2048000,
      "rowLimit": 10000
     },
     "inputWidgets": {},
     "nuid": "1df6c40d-ea3f-4f87-b17c-b6cb41a7cbf4",
     "showTitle": false,
     "tableResultSettingsMap": {},
     "title": ""
    }
   },
   "outputs": [],
   "source": [
    "qualifying_df_final = qualifying_df.withColumnRenamed(\"raceId\", \"race_id\") \\\n",
    "                                   .withColumnRenamed(\"driverId\", \"driver_id\") \\\n",
    "                                   .withColumnRenamed(\"constructorId\", \"constructor_id\") \\\n",
    "                                   .withColumnRenamed(\"qualifyingId\", \"qualifying_id\") \\\n",
    "                                   .withColumn(\"file_date\", lit(v_file_date))\n"
   ]
  },
  {
   "cell_type": "code",
   "execution_count": 0,
   "metadata": {
    "application/vnd.databricks.v1+cell": {
     "cellMetadata": {
      "byteLimit": 2048000,
      "rowLimit": 10000
     },
     "inputWidgets": {},
     "nuid": "1d71985d-3df6-4cd8-b280-0c6f9c89f0c4",
     "showTitle": false,
     "tableResultSettingsMap": {},
     "title": ""
    }
   },
   "outputs": [],
   "source": [
    "qualifying_df_final = ingest_current_timestamp(qualifying_df_final)"
   ]
  },
  {
   "cell_type": "code",
   "execution_count": 0,
   "metadata": {
    "application/vnd.databricks.v1+cell": {
     "cellMetadata": {
      "byteLimit": 2048000,
      "rowLimit": 10000
     },
     "inputWidgets": {},
     "nuid": "7a0ebf4f-2fe2-4e7c-9bae-72d3cc62e401",
     "showTitle": false,
     "tableResultSettingsMap": {},
     "title": ""
    }
   },
   "outputs": [
    {
     "output_type": "display_data",
     "data": {
      "text/html": [
       "<style scoped>\n",
       "  .table-result-container {\n",
       "    max-height: 300px;\n",
       "    overflow: auto;\n",
       "  }\n",
       "  table, th, td {\n",
       "    border: 1px solid black;\n",
       "    border-collapse: collapse;\n",
       "  }\n",
       "  th, td {\n",
       "    padding: 5px;\n",
       "  }\n",
       "  th {\n",
       "    text-align: left;\n",
       "  }\n",
       "</style><div class='table-result-container'><table class='table-result'><thead style='background-color: white'><tr><th>qualifying_id</th><th>race_id</th><th>driver_id</th><th>constructor_id</th><th>number</th><th>position</th><th>q1</th><th>q2</th><th>q3</th><th>file_date</th><th>ingest_date</th></tr></thead><tbody><tr><td>null</td><td>1053</td><td>1</td><td>131</td><td>44</td><td>1</td><td>1:14.823</td><td>1:14.817</td><td>1:14.411</td><td>2021-04-18</td><td>2025-04-18T13:24:40.857Z</td></tr><tr><td>null</td><td>1053</td><td>815</td><td>9</td><td>11</td><td>2</td><td>1:15.395</td><td>1:14.716</td><td>1:14.446</td><td>2021-04-18</td><td>2025-04-18T13:24:40.857Z</td></tr><tr><td>null</td><td>1053</td><td>830</td><td>9</td><td>33</td><td>3</td><td>1:15.109</td><td>1:14.884</td><td>1:14.498</td><td>2021-04-18</td><td>2025-04-18T13:24:40.857Z</td></tr><tr><td>null</td><td>1053</td><td>844</td><td>6</td><td>16</td><td>4</td><td>1:15.413</td><td>1:14.808</td><td>1:14.740</td><td>2021-04-18</td><td>2025-04-18T13:24:40.857Z</td></tr><tr><td>null</td><td>1053</td><td>842</td><td>213</td><td>10</td><td>5</td><td>1:15.548</td><td>1:14.927</td><td>1:14.790</td><td>2021-04-18</td><td>2025-04-18T13:24:40.857Z</td></tr><tr><td>null</td><td>1053</td><td>817</td><td>1</td><td>3</td><td>6</td><td>1:15.669</td><td>1:15.033</td><td>1:14.826</td><td>2021-04-18</td><td>2025-04-18T13:24:40.857Z</td></tr><tr><td>null</td><td>1053</td><td>846</td><td>1</td><td>4</td><td>7</td><td>1:15.009</td><td>1:14.718</td><td>1:14.875</td><td>2021-04-18</td><td>2025-04-18T13:24:40.857Z</td></tr><tr><td>null</td><td>1053</td><td>822</td><td>131</td><td>77</td><td>8</td><td>1:14.672</td><td>1:14.905</td><td>1:14.898</td><td>2021-04-18</td><td>2025-04-18T13:24:40.857Z</td></tr><tr><td>null</td><td>1053</td><td>839</td><td>214</td><td>31</td><td>9</td><td>1:15.385</td><td>1:15.117</td><td>1:15.210</td><td>2021-04-18</td><td>2025-04-18T13:24:40.857Z</td></tr><tr><td>null</td><td>1053</td><td>840</td><td>117</td><td>18</td><td>10</td><td>1:15.522</td><td>1:15.138</td><td>\\N</td><td>2021-04-18</td><td>2025-04-18T13:24:40.857Z</td></tr><tr><td>null</td><td>1053</td><td>832</td><td>6</td><td>55</td><td>11</td><td>1:15.406</td><td>1:15.199</td><td>\\N</td><td>2021-04-18</td><td>2025-04-18T13:24:40.857Z</td></tr><tr><td>null</td><td>1053</td><td>847</td><td>3</td><td>63</td><td>12</td><td>1:15.826</td><td>1:15.261</td><td>\\N</td><td>2021-04-18</td><td>2025-04-18T13:24:40.857Z</td></tr><tr><td>null</td><td>1053</td><td>20</td><td>117</td><td>5</td><td>13</td><td>1:15.459</td><td>1:15.394</td><td>\\N</td><td>2021-04-18</td><td>2025-04-18T13:24:40.857Z</td></tr><tr><td>null</td><td>1053</td><td>849</td><td>3</td><td>6</td><td>14</td><td>1:15.653</td><td>1:15.593</td><td>\\N</td><td>2021-04-18</td><td>2025-04-18T13:24:40.857Z</td></tr><tr><td>null</td><td>1053</td><td>4</td><td>214</td><td>14</td><td>15</td><td>1:15.832</td><td>1:15.593</td><td>\\N</td><td>2021-04-18</td><td>2025-04-18T13:24:40.857Z</td></tr><tr><td>null</td><td>1053</td><td>8</td><td>51</td><td>7</td><td>16</td><td>1:15.974</td><td>\\N</td><td>\\N</td><td>2021-04-18</td><td>2025-04-18T13:24:40.857Z</td></tr><tr><td>null</td><td>1053</td><td>841</td><td>51</td><td>99</td><td>17</td><td>1:16.122</td><td>\\N</td><td>\\N</td><td>2021-04-18</td><td>2025-04-18T13:24:40.857Z</td></tr><tr><td>null</td><td>1053</td><td>854</td><td>210</td><td>47</td><td>18</td><td>1:16.279</td><td>\\N</td><td>\\N</td><td>2021-04-18</td><td>2025-04-18T13:24:40.857Z</td></tr><tr><td>null</td><td>1053</td><td>853</td><td>210</td><td>9</td><td>19</td><td>1:16.797</td><td>\\N</td><td>\\N</td><td>2021-04-18</td><td>2025-04-18T13:24:40.857Z</td></tr><tr><td>null</td><td>1053</td><td>852</td><td>213</td><td>22</td><td>20</td><td>\\N</td><td>\\N</td><td>\\N</td><td>2021-04-18</td><td>2025-04-18T13:24:40.857Z</td></tr></tbody></table></div>"
      ]
     },
     "metadata": {
      "application/vnd.databricks.v1+output": {
       "addedWidgets": {},
       "aggData": [],
       "aggError": "",
       "aggOverflow": false,
       "aggSchema": [],
       "aggSeriesLimitReached": false,
       "aggType": "",
       "arguments": {},
       "columnCustomDisplayInfos": {},
       "data": [
        [
         null,
         1053,
         1,
         131,
         44,
         1,
         "1:14.823",
         "1:14.817",
         "1:14.411",
         "2021-04-18",
         "2025-04-18T13:24:40.857Z"
        ],
        [
         null,
         1053,
         815,
         9,
         11,
         2,
         "1:15.395",
         "1:14.716",
         "1:14.446",
         "2021-04-18",
         "2025-04-18T13:24:40.857Z"
        ],
        [
         null,
         1053,
         830,
         9,
         33,
         3,
         "1:15.109",
         "1:14.884",
         "1:14.498",
         "2021-04-18",
         "2025-04-18T13:24:40.857Z"
        ],
        [
         null,
         1053,
         844,
         6,
         16,
         4,
         "1:15.413",
         "1:14.808",
         "1:14.740",
         "2021-04-18",
         "2025-04-18T13:24:40.857Z"
        ],
        [
         null,
         1053,
         842,
         213,
         10,
         5,
         "1:15.548",
         "1:14.927",
         "1:14.790",
         "2021-04-18",
         "2025-04-18T13:24:40.857Z"
        ],
        [
         null,
         1053,
         817,
         1,
         3,
         6,
         "1:15.669",
         "1:15.033",
         "1:14.826",
         "2021-04-18",
         "2025-04-18T13:24:40.857Z"
        ],
        [
         null,
         1053,
         846,
         1,
         4,
         7,
         "1:15.009",
         "1:14.718",
         "1:14.875",
         "2021-04-18",
         "2025-04-18T13:24:40.857Z"
        ],
        [
         null,
         1053,
         822,
         131,
         77,
         8,
         "1:14.672",
         "1:14.905",
         "1:14.898",
         "2021-04-18",
         "2025-04-18T13:24:40.857Z"
        ],
        [
         null,
         1053,
         839,
         214,
         31,
         9,
         "1:15.385",
         "1:15.117",
         "1:15.210",
         "2021-04-18",
         "2025-04-18T13:24:40.857Z"
        ],
        [
         null,
         1053,
         840,
         117,
         18,
         10,
         "1:15.522",
         "1:15.138",
         "\\N",
         "2021-04-18",
         "2025-04-18T13:24:40.857Z"
        ],
        [
         null,
         1053,
         832,
         6,
         55,
         11,
         "1:15.406",
         "1:15.199",
         "\\N",
         "2021-04-18",
         "2025-04-18T13:24:40.857Z"
        ],
        [
         null,
         1053,
         847,
         3,
         63,
         12,
         "1:15.826",
         "1:15.261",
         "\\N",
         "2021-04-18",
         "2025-04-18T13:24:40.857Z"
        ],
        [
         null,
         1053,
         20,
         117,
         5,
         13,
         "1:15.459",
         "1:15.394",
         "\\N",
         "2021-04-18",
         "2025-04-18T13:24:40.857Z"
        ],
        [
         null,
         1053,
         849,
         3,
         6,
         14,
         "1:15.653",
         "1:15.593",
         "\\N",
         "2021-04-18",
         "2025-04-18T13:24:40.857Z"
        ],
        [
         null,
         1053,
         4,
         214,
         14,
         15,
         "1:15.832",
         "1:15.593",
         "\\N",
         "2021-04-18",
         "2025-04-18T13:24:40.857Z"
        ],
        [
         null,
         1053,
         8,
         51,
         7,
         16,
         "1:15.974",
         "\\N",
         "\\N",
         "2021-04-18",
         "2025-04-18T13:24:40.857Z"
        ],
        [
         null,
         1053,
         841,
         51,
         99,
         17,
         "1:16.122",
         "\\N",
         "\\N",
         "2021-04-18",
         "2025-04-18T13:24:40.857Z"
        ],
        [
         null,
         1053,
         854,
         210,
         47,
         18,
         "1:16.279",
         "\\N",
         "\\N",
         "2021-04-18",
         "2025-04-18T13:24:40.857Z"
        ],
        [
         null,
         1053,
         853,
         210,
         9,
         19,
         "1:16.797",
         "\\N",
         "\\N",
         "2021-04-18",
         "2025-04-18T13:24:40.857Z"
        ],
        [
         null,
         1053,
         852,
         213,
         22,
         20,
         "\\N",
         "\\N",
         "\\N",
         "2021-04-18",
         "2025-04-18T13:24:40.857Z"
        ]
       ],
       "datasetInfos": [],
       "dbfsResultPath": null,
       "isJsonSchema": true,
       "metadata": {},
       "overflow": false,
       "plotOptions": {
        "customPlotOptions": {},
        "displayType": "table",
        "pivotAggregation": null,
        "pivotColumns": null,
        "xColumns": null,
        "yColumns": null
       },
       "removedWidgets": [],
       "schema": [
        {
         "metadata": "{}",
         "name": "qualifying_id",
         "type": "\"integer\""
        },
        {
         "metadata": "{}",
         "name": "race_id",
         "type": "\"integer\""
        },
        {
         "metadata": "{}",
         "name": "driver_id",
         "type": "\"integer\""
        },
        {
         "metadata": "{}",
         "name": "constructor_id",
         "type": "\"integer\""
        },
        {
         "metadata": "{}",
         "name": "number",
         "type": "\"integer\""
        },
        {
         "metadata": "{}",
         "name": "position",
         "type": "\"integer\""
        },
        {
         "metadata": "{}",
         "name": "q1",
         "type": "\"string\""
        },
        {
         "metadata": "{}",
         "name": "q2",
         "type": "\"string\""
        },
        {
         "metadata": "{}",
         "name": "q3",
         "type": "\"string\""
        },
        {
         "metadata": "{}",
         "name": "file_date",
         "type": "\"string\""
        },
        {
         "metadata": "{}",
         "name": "ingest_date",
         "type": "\"timestamp\""
        }
       ],
       "type": "table"
      }
     },
     "output_type": "display_data"
    }
   ],
   "source": [
    "display(qualifying_df_final)"
   ]
  },
  {
   "cell_type": "markdown",
   "metadata": {
    "application/vnd.databricks.v1+cell": {
     "cellMetadata": {
      "byteLimit": 2048000,
      "rowLimit": 10000
     },
     "inputWidgets": {},
     "nuid": "abec69ea-690a-47db-8aa8-61dbfae66f40",
     "showTitle": false,
     "tableResultSettingsMap": {},
     "title": ""
    }
   },
   "source": [
    "#### Write the final data into processed folder\n",
    "1. Visit [spark documentation](https://spark.apache.org/docs/latest/api/python/reference/pyspark.sql/api/pyspark.sql.DataFrame.write.html?highlight=write) for write()"
   ]
  },
  {
   "cell_type": "code",
   "execution_count": 0,
   "metadata": {
    "application/vnd.databricks.v1+cell": {
     "cellMetadata": {
      "byteLimit": 2048000,
      "rowLimit": 10000
     },
     "inputWidgets": {},
     "nuid": "783254d1-2549-4abd-9624-6d3fa755de2f",
     "showTitle": false,
     "tableResultSettingsMap": {},
     "title": ""
    }
   },
   "outputs": [],
   "source": [
    "merge_condition = \"target.qualifying_id = source.qualifying_id AND target.race_id = source.race_id\"\n",
    "mergeTable(qualifying_df_final, 'f1_processed', 'qualifying', merge_condition, 'race_id')"
   ]
  },
  {
   "cell_type": "code",
   "execution_count": 0,
   "metadata": {
    "application/vnd.databricks.v1+cell": {
     "cellMetadata": {
      "byteLimit": 2048000,
      "rowLimit": 10000
     },
     "inputWidgets": {},
     "nuid": "986c838f-441b-4d7a-9985-97a243d8ed70",
     "showTitle": false,
     "tableResultSettingsMap": {},
     "title": ""
    }
   },
   "outputs": [],
   "source": [
    "# overwrite_partition(qualifying_df_final, \"f1_processed\", \"qualifying\", \"race_id\")"
   ]
  },
  {
   "cell_type": "code",
   "execution_count": 0,
   "metadata": {
    "application/vnd.databricks.v1+cell": {
     "cellMetadata": {
      "byteLimit": 2048000,
      "rowLimit": 10000
     },
     "inputWidgets": {},
     "nuid": "9d7a8c97-4819-40bc-8735-a2fd60cb9ece",
     "showTitle": false,
     "tableResultSettingsMap": {},
     "title": ""
    }
   },
   "outputs": [
    {
     "output_type": "display_data",
     "data": {
      "text/html": [
       "<style scoped>\n",
       "  .table-result-container {\n",
       "    max-height: 300px;\n",
       "    overflow: auto;\n",
       "  }\n",
       "  table, th, td {\n",
       "    border: 1px solid black;\n",
       "    border-collapse: collapse;\n",
       "  }\n",
       "  th, td {\n",
       "    padding: 5px;\n",
       "  }\n",
       "  th {\n",
       "    text-align: left;\n",
       "  }\n",
       "</style><div class='table-result-container'><table class='table-result'><thead style='background-color: white'><tr><th>qualifying_id</th><th>race_id</th><th>driver_id</th><th>constructor_id</th><th>number</th><th>position</th><th>q1</th><th>q2</th><th>q3</th><th>file_date</th><th>ingest_date</th></tr></thead><tbody><tr><td>null</td><td>1053</td><td>1</td><td>131</td><td>44</td><td>1</td><td>1:14.823</td><td>1:14.817</td><td>1:14.411</td><td>2021-04-18</td><td>2025-04-18T13:24:41.505Z</td></tr><tr><td>null</td><td>1053</td><td>815</td><td>9</td><td>11</td><td>2</td><td>1:15.395</td><td>1:14.716</td><td>1:14.446</td><td>2021-04-18</td><td>2025-04-18T13:24:41.505Z</td></tr><tr><td>null</td><td>1053</td><td>830</td><td>9</td><td>33</td><td>3</td><td>1:15.109</td><td>1:14.884</td><td>1:14.498</td><td>2021-04-18</td><td>2025-04-18T13:24:41.505Z</td></tr><tr><td>null</td><td>1053</td><td>844</td><td>6</td><td>16</td><td>4</td><td>1:15.413</td><td>1:14.808</td><td>1:14.740</td><td>2021-04-18</td><td>2025-04-18T13:24:41.505Z</td></tr><tr><td>null</td><td>1053</td><td>842</td><td>213</td><td>10</td><td>5</td><td>1:15.548</td><td>1:14.927</td><td>1:14.790</td><td>2021-04-18</td><td>2025-04-18T13:24:41.505Z</td></tr><tr><td>null</td><td>1053</td><td>817</td><td>1</td><td>3</td><td>6</td><td>1:15.669</td><td>1:15.033</td><td>1:14.826</td><td>2021-04-18</td><td>2025-04-18T13:24:41.505Z</td></tr><tr><td>null</td><td>1053</td><td>846</td><td>1</td><td>4</td><td>7</td><td>1:15.009</td><td>1:14.718</td><td>1:14.875</td><td>2021-04-18</td><td>2025-04-18T13:24:41.505Z</td></tr><tr><td>null</td><td>1053</td><td>822</td><td>131</td><td>77</td><td>8</td><td>1:14.672</td><td>1:14.905</td><td>1:14.898</td><td>2021-04-18</td><td>2025-04-18T13:24:41.505Z</td></tr><tr><td>null</td><td>1053</td><td>839</td><td>214</td><td>31</td><td>9</td><td>1:15.385</td><td>1:15.117</td><td>1:15.210</td><td>2021-04-18</td><td>2025-04-18T13:24:41.505Z</td></tr><tr><td>null</td><td>1053</td><td>840</td><td>117</td><td>18</td><td>10</td><td>1:15.522</td><td>1:15.138</td><td>\\N</td><td>2021-04-18</td><td>2025-04-18T13:24:41.505Z</td></tr><tr><td>null</td><td>1053</td><td>832</td><td>6</td><td>55</td><td>11</td><td>1:15.406</td><td>1:15.199</td><td>\\N</td><td>2021-04-18</td><td>2025-04-18T13:24:41.505Z</td></tr><tr><td>null</td><td>1053</td><td>847</td><td>3</td><td>63</td><td>12</td><td>1:15.826</td><td>1:15.261</td><td>\\N</td><td>2021-04-18</td><td>2025-04-18T13:24:41.505Z</td></tr><tr><td>null</td><td>1053</td><td>20</td><td>117</td><td>5</td><td>13</td><td>1:15.459</td><td>1:15.394</td><td>\\N</td><td>2021-04-18</td><td>2025-04-18T13:24:41.505Z</td></tr><tr><td>null</td><td>1053</td><td>849</td><td>3</td><td>6</td><td>14</td><td>1:15.653</td><td>1:15.593</td><td>\\N</td><td>2021-04-18</td><td>2025-04-18T13:24:41.505Z</td></tr><tr><td>null</td><td>1053</td><td>4</td><td>214</td><td>14</td><td>15</td><td>1:15.832</td><td>1:15.593</td><td>\\N</td><td>2021-04-18</td><td>2025-04-18T13:24:41.505Z</td></tr><tr><td>null</td><td>1053</td><td>8</td><td>51</td><td>7</td><td>16</td><td>1:15.974</td><td>\\N</td><td>\\N</td><td>2021-04-18</td><td>2025-04-18T13:24:41.505Z</td></tr><tr><td>null</td><td>1053</td><td>841</td><td>51</td><td>99</td><td>17</td><td>1:16.122</td><td>\\N</td><td>\\N</td><td>2021-04-18</td><td>2025-04-18T13:24:41.505Z</td></tr><tr><td>null</td><td>1053</td><td>854</td><td>210</td><td>47</td><td>18</td><td>1:16.279</td><td>\\N</td><td>\\N</td><td>2021-04-18</td><td>2025-04-18T13:24:41.505Z</td></tr><tr><td>null</td><td>1053</td><td>853</td><td>210</td><td>9</td><td>19</td><td>1:16.797</td><td>\\N</td><td>\\N</td><td>2021-04-18</td><td>2025-04-18T13:24:41.505Z</td></tr><tr><td>null</td><td>1053</td><td>852</td><td>213</td><td>22</td><td>20</td><td>\\N</td><td>\\N</td><td>\\N</td><td>2021-04-18</td><td>2025-04-18T13:24:41.505Z</td></tr></tbody></table></div>"
      ]
     },
     "metadata": {
      "application/vnd.databricks.v1+output": {
       "addedWidgets": {},
       "aggData": [],
       "aggError": "",
       "aggOverflow": false,
       "aggSchema": [],
       "aggSeriesLimitReached": false,
       "aggType": "",
       "arguments": {},
       "columnCustomDisplayInfos": {},
       "data": [
        [
         null,
         1053,
         1,
         131,
         44,
         1,
         "1:14.823",
         "1:14.817",
         "1:14.411",
         "2021-04-18",
         "2025-04-18T13:24:41.505Z"
        ],
        [
         null,
         1053,
         815,
         9,
         11,
         2,
         "1:15.395",
         "1:14.716",
         "1:14.446",
         "2021-04-18",
         "2025-04-18T13:24:41.505Z"
        ],
        [
         null,
         1053,
         830,
         9,
         33,
         3,
         "1:15.109",
         "1:14.884",
         "1:14.498",
         "2021-04-18",
         "2025-04-18T13:24:41.505Z"
        ],
        [
         null,
         1053,
         844,
         6,
         16,
         4,
         "1:15.413",
         "1:14.808",
         "1:14.740",
         "2021-04-18",
         "2025-04-18T13:24:41.505Z"
        ],
        [
         null,
         1053,
         842,
         213,
         10,
         5,
         "1:15.548",
         "1:14.927",
         "1:14.790",
         "2021-04-18",
         "2025-04-18T13:24:41.505Z"
        ],
        [
         null,
         1053,
         817,
         1,
         3,
         6,
         "1:15.669",
         "1:15.033",
         "1:14.826",
         "2021-04-18",
         "2025-04-18T13:24:41.505Z"
        ],
        [
         null,
         1053,
         846,
         1,
         4,
         7,
         "1:15.009",
         "1:14.718",
         "1:14.875",
         "2021-04-18",
         "2025-04-18T13:24:41.505Z"
        ],
        [
         null,
         1053,
         822,
         131,
         77,
         8,
         "1:14.672",
         "1:14.905",
         "1:14.898",
         "2021-04-18",
         "2025-04-18T13:24:41.505Z"
        ],
        [
         null,
         1053,
         839,
         214,
         31,
         9,
         "1:15.385",
         "1:15.117",
         "1:15.210",
         "2021-04-18",
         "2025-04-18T13:24:41.505Z"
        ],
        [
         null,
         1053,
         840,
         117,
         18,
         10,
         "1:15.522",
         "1:15.138",
         "\\N",
         "2021-04-18",
         "2025-04-18T13:24:41.505Z"
        ],
        [
         null,
         1053,
         832,
         6,
         55,
         11,
         "1:15.406",
         "1:15.199",
         "\\N",
         "2021-04-18",
         "2025-04-18T13:24:41.505Z"
        ],
        [
         null,
         1053,
         847,
         3,
         63,
         12,
         "1:15.826",
         "1:15.261",
         "\\N",
         "2021-04-18",
         "2025-04-18T13:24:41.505Z"
        ],
        [
         null,
         1053,
         20,
         117,
         5,
         13,
         "1:15.459",
         "1:15.394",
         "\\N",
         "2021-04-18",
         "2025-04-18T13:24:41.505Z"
        ],
        [
         null,
         1053,
         849,
         3,
         6,
         14,
         "1:15.653",
         "1:15.593",
         "\\N",
         "2021-04-18",
         "2025-04-18T13:24:41.505Z"
        ],
        [
         null,
         1053,
         4,
         214,
         14,
         15,
         "1:15.832",
         "1:15.593",
         "\\N",
         "2021-04-18",
         "2025-04-18T13:24:41.505Z"
        ],
        [
         null,
         1053,
         8,
         51,
         7,
         16,
         "1:15.974",
         "\\N",
         "\\N",
         "2021-04-18",
         "2025-04-18T13:24:41.505Z"
        ],
        [
         null,
         1053,
         841,
         51,
         99,
         17,
         "1:16.122",
         "\\N",
         "\\N",
         "2021-04-18",
         "2025-04-18T13:24:41.505Z"
        ],
        [
         null,
         1053,
         854,
         210,
         47,
         18,
         "1:16.279",
         "\\N",
         "\\N",
         "2021-04-18",
         "2025-04-18T13:24:41.505Z"
        ],
        [
         null,
         1053,
         853,
         210,
         9,
         19,
         "1:16.797",
         "\\N",
         "\\N",
         "2021-04-18",
         "2025-04-18T13:24:41.505Z"
        ],
        [
         null,
         1053,
         852,
         213,
         22,
         20,
         "\\N",
         "\\N",
         "\\N",
         "2021-04-18",
         "2025-04-18T13:24:41.505Z"
        ]
       ],
       "datasetInfos": [],
       "dbfsResultPath": null,
       "isJsonSchema": true,
       "metadata": {},
       "overflow": false,
       "plotOptions": {
        "customPlotOptions": {},
        "displayType": "table",
        "pivotAggregation": null,
        "pivotColumns": null,
        "xColumns": null,
        "yColumns": null
       },
       "removedWidgets": [],
       "schema": [
        {
         "metadata": "{}",
         "name": "qualifying_id",
         "type": "\"integer\""
        },
        {
         "metadata": "{}",
         "name": "race_id",
         "type": "\"integer\""
        },
        {
         "metadata": "{}",
         "name": "driver_id",
         "type": "\"integer\""
        },
        {
         "metadata": "{}",
         "name": "constructor_id",
         "type": "\"integer\""
        },
        {
         "metadata": "{}",
         "name": "number",
         "type": "\"integer\""
        },
        {
         "metadata": "{}",
         "name": "position",
         "type": "\"integer\""
        },
        {
         "metadata": "{}",
         "name": "q1",
         "type": "\"string\""
        },
        {
         "metadata": "{}",
         "name": "q2",
         "type": "\"string\""
        },
        {
         "metadata": "{}",
         "name": "q3",
         "type": "\"string\""
        },
        {
         "metadata": "{}",
         "name": "file_date",
         "type": "\"string\""
        },
        {
         "metadata": "{}",
         "name": "ingest_date",
         "type": "\"timestamp\""
        }
       ],
       "type": "table"
      }
     },
     "output_type": "display_data"
    }
   ],
   "source": [
    "# Verify that the data was written to the parquet file\n",
    "df = spark.read.format(\"delta\").load(f\"{processed_container_path}/qualifying\").filter(\"race_id = 1053\")\n",
    "display(df)"
   ]
  },
  {
   "cell_type": "code",
   "execution_count": 0,
   "metadata": {
    "application/vnd.databricks.v1+cell": {
     "cellMetadata": {
      "byteLimit": 2048000,
      "rowLimit": 10000
     },
     "inputWidgets": {},
     "nuid": "5609a02b-f4c5-4424-bfc3-08e1e0ae1db9",
     "showTitle": false,
     "tableResultSettingsMap": {},
     "title": ""
    }
   },
   "outputs": [],
   "source": [
    "dbutils.notebook.exit(\"Success...\")"
   ]
  },
  {
   "cell_type": "code",
   "execution_count": 0,
   "metadata": {
    "application/vnd.databricks.v1+cell": {
     "cellMetadata": {},
     "inputWidgets": {},
     "nuid": "61d28b1c-1bdd-46bd-9732-358a1ead6075",
     "showTitle": false,
     "tableResultSettingsMap": {},
     "title": ""
    }
   },
   "outputs": [],
   "source": []
  }
 ],
 "metadata": {
  "application/vnd.databricks.v1+notebook": {
   "computePreferences": null,
   "dashboards": [],
   "environmentMetadata": {
    "base_environment": "",
    "environment_version": "2"
   },
   "inputWidgetPreferences": null,
   "language": "python",
   "notebookMetadata": {
    "mostRecentlyExecutedCommandWithImplicitDF": {
     "commandId": 8988975962801117,
     "dataframes": [
      "_sqldf"
     ]
    },
    "pythonIndentUnit": 4
   },
   "notebookName": "8. Data_ingestion_qualifying_multiline_json_file",
   "widgets": {
    "v_file_date": {
     "currentValue": "2021-04-18",
     "nuid": "60362462-e64c-4ec0-a8b4-94f4b4322a73",
     "typedWidgetInfo": {
      "autoCreated": false,
      "defaultValue": "2021-03-21",
      "label": null,
      "name": "v_file_date",
      "options": {
       "widgetDisplayType": "Text",
       "validationRegex": null
      },
      "parameterDataType": "String"
     },
     "widgetInfo": {
      "widgetType": "text",
      "defaultValue": "2021-03-21",
      "label": null,
      "name": "v_file_date",
      "options": {
       "widgetType": "text",
       "autoCreated": null,
       "validationRegex": null
      }
     }
    }
   }
  },
  "language_info": {
   "name": "python"
  }
 },
 "nbformat": 4,
 "nbformat_minor": 0
}